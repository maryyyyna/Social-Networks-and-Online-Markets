{
  "cells": [
    {
      "cell_type": "markdown",
      "metadata": {
        "id": "NMaFrA9Cde_G"
      },
      "source": [
        "# Social Networks Final Project: Protein-Protein Interactions (PPI)\n",
        "\n",
        "**Group members:**\n",
        "\n",
        "Marina Iuliana Aur, *1809715* <br>\n",
        "Cristiana Di Tullio, *1803880*"
      ]
    },
    {
      "cell_type": "markdown",
      "metadata": {
        "id": "ngVvnZAyd1l2"
      },
      "source": [
        "## Import libraries and dependencies"
      ]
    },
    {
      "cell_type": "code",
      "execution_count": null,
      "metadata": {
        "id": "uHyGNCa-d1H4",
        "colab": {
          "base_uri": "https://localhost:8080/"
        },
        "outputId": "bc551b54-f732-43cd-d049-0d92db488420"
      },
      "outputs": [
        {
          "output_type": "stream",
          "name": "stdout",
          "text": [
            "Successfully installed igraph-0.11.6 texttable-1.7.0\n"
          ]
        }
      ],
      "source": [
        "# Run if needed\n",
        "# %pip install torch-geometric\n",
        "# %pip install markov-clustering\n",
        "# %pip install plotly\n",
        "# %pip install igraph"
      ]
    },
    {
      "cell_type": "code",
      "execution_count": 100,
      "metadata": {
        "id": "T3of24qodyl9"
      },
      "outputs": [],
      "source": [
        "# Import libraries\n",
        "import pandas as pd\n",
        "import numpy as np\n",
        "import random\n",
        "import networkx as nx\n",
        "from matplotlib import pyplot as plt\n",
        "from collections import Counter\n",
        "import plotly.express as px\n",
        "import plotly.colors as pc\n",
        "import plotly.graph_objects as go\n",
        "from plotly.subplots import make_subplots\n",
        "import seaborn as sns\n",
        "import itertools\n",
        "import pprint\n",
        "import torch\n",
        "from torch.cuda import is_available\n",
        "from torch_geometric.utils import to_networkx, negative_sampling\n",
        "import markov_clustering as mc\n",
        "from scipy.sparse import csr_matrix\n",
        "\n",
        "import plotly as py\n",
        "import plotly.graph_objs as go\n",
        "import igraph"
      ]
    },
    {
      "cell_type": "code",
      "execution_count": null,
      "metadata": {
        "colab": {
          "base_uri": "https://localhost:8080/"
        },
        "id": "LUeBYUwkd6mb",
        "outputId": "b026cb16-b36d-40fb-f1d1-dd3f27aa8191"
      },
      "outputs": [
        {
          "output_type": "stream",
          "name": "stdout",
          "text": [
            "Using device cpu\n"
          ]
        }
      ],
      "source": [
        "# CPU/GPU\n",
        "device = 'cpu'\n",
        "if torch.cuda.is_available():\n",
        "\tdevice = 'gpu'\n",
        "\n",
        "print(f'Using device {device}')"
      ]
    },
    {
      "cell_type": "markdown",
      "metadata": {
        "id": "mqyPqCQbd-Jv"
      },
      "source": [
        "## Utility functions"
      ]
    },
    {
      "cell_type": "code",
      "execution_count": null,
      "metadata": {
        "id": "lunz77lGeA1H"
      },
      "outputs": [],
      "source": [
        "# Graph visualization functions from the SNOM Lab\n",
        "# NOTE: the original input object was not a normal networkx graph\n",
        "def convert_to_networkx(graph):\n",
        "\tg = to_networkx(graph, node_attrs = ['x'])\n",
        "\ty = graph.y.numpy()\n",
        "\treturn g, y\n",
        "\n",
        "def plot_graph(g, y):\n",
        "\tplt.figure(figsize = (9, 7))\n",
        "\tnx.draw_spring(g, node_size = 30, arrows = False, node_color = y)\n",
        "\tplt.show()"
      ]
    },
    {
      "cell_type": "code",
      "execution_count": null,
      "metadata": {
        "id": "jm7uohZMn26z"
      },
      "outputs": [],
      "source": [
        "def print_dict(string, dictionary, n = 5):\n",
        "    \"\"\"\n",
        "    Utility function to display only the first n elements\n",
        "    of a dictionary.\n",
        "    \"\"\"\n",
        "    dictionary = dict(dictionary)\n",
        "\n",
        "    out = dict(itertools.islice(dictionary.items(), n))\n",
        "    print(string)\n",
        "    print(\"-\" * len(string))\n",
        "    pprint.pprint(out)\n",
        "    print(\"\")"
      ]
    },
    {
      "cell_type": "markdown",
      "metadata": {
        "id": "pk_qgrzyeE_t"
      },
      "source": [
        "## 1) Introduction\n"
      ]
    },
    {
      "cell_type": "markdown",
      "metadata": {
        "id": "7sBB3gYmeHTV"
      },
      "source": [
        " ### 1.1) Dataset description and investigation\n",
        "\n",
        "We downloaded protein-protein interaction (PPI) data from **BioGRID Project COVID-19** [[¹]](https://downloads.thebiogrid.org/File/BioGRID/Latest-Release/BIOGRID-PROJECT-covid19_coronavirus_project-LATEST.zip) dataset. In response to the COVID-19 pandemic, intensive efforts by the international research community have generated a vast amount of new data on Severe Acute Respiratory Syndrome Coronavirus 2 (SARS-CoV-2), the causal agent of COVID-19. This includes data on related coronaviruses such as SARS-CoV and MERS-CoV, which cause Severe Acute Respiratory Syndrome (SARS) and Middle East Respiratory Syndrome (MERS), respectively.\n",
        "\n",
        "Each row in the dataset represents a unique interaction between two proteins, allowing us to better understand the biology of the pathogen and facilitating the development of new therapeutic approaches. Specifically, the dataset includes information on all direct interactions between virally-encoded proteins and host cell proteins, as well as post-translational modifications and chemical interactions of viral proteins [[²]](https://thebiogrid.org/project/3/covid-19-coronavirus.html).\n"
      ]
    },
    {
      "cell_type": "code",
      "execution_count": 14,
      "metadata": {
        "colab": {
          "base_uri": "https://localhost:8080/",
          "height": 741
        },
        "id": "Qpt4H-wudsCm",
        "outputId": "e581c30d-5735-43c2-b41f-af6ce4a4e539"
      },
      "outputs": [
        {
          "output_type": "execute_result",
          "data": {
            "text/plain": [
              "   #BioGRID Interaction ID Entrez Gene Interactor A Entrez Gene Interactor B  \\\n",
              "0                  2652341                 43740570                     8546   \n",
              "1                  2652342                 43740570                    23476   \n",
              "2                  2652343                 43740570                     6046   \n",
              "3                  2652344                 43740570                    10283   \n",
              "4                  2652345                 43740570                   124245   \n",
              "\n",
              "   BioGRID ID Interactor A  BioGRID ID Interactor B  \\\n",
              "0                  4383845                   114116   \n",
              "1                  4383845                   117036   \n",
              "2                  4383845                   111973   \n",
              "3                  4383845                   115572   \n",
              "4                  4383845                   125858   \n",
              "\n",
              "  Systematic Name Interactor A Systematic Name Interactor B  \\\n",
              "0                   GU280_gp04                            -   \n",
              "1                   GU280_gp04                            -   \n",
              "2                   GU280_gp04                  DADB-17J1.3   \n",
              "3                   GU280_gp04                UNQ438/PRO871   \n",
              "4                   GU280_gp04                            -   \n",
              "\n",
              "  Official Symbol Interactor A Official Symbol Interactor B  \\\n",
              "0                            E                        AP3B1   \n",
              "1                            E                         BRD4   \n",
              "2                            E                         BRD2   \n",
              "3                            E                        CWC27   \n",
              "4                            E                       ZC3H18   \n",
              "\n",
              "                               Synonyms Interactor A  ...  \\\n",
              "0  env|envelope|SARS-CoV2 E|E protein|emp|SARS-Co...  ...   \n",
              "1  env|envelope|SARS-CoV2 E|E protein|emp|SARS-Co...  ...   \n",
              "2  env|envelope|SARS-CoV2 E|E protein|emp|SARS-Co...  ...   \n",
              "3  env|envelope|SARS-CoV2 E|E protein|emp|SARS-Co...  ...   \n",
              "4  env|envelope|SARS-CoV2 E|E protein|emp|SARS-Co...  ...   \n",
              "\n",
              "  TREMBL Accessions Interactor B  \\\n",
              "0                              -   \n",
              "1                              -   \n",
              "2              X5CF57|A0A024RCR5   \n",
              "3                         D6REK3   \n",
              "4                  B4DTK7|E7ERS3   \n",
              "\n",
              "                      REFSEQ Accessions Interactor B Ontology Term IDs  \\\n",
              "0                             NP_001258698|NP_003655                 -   \n",
              "1  NP_001317313|NP_490597|NP_001366221|NP_0013662...                 -   \n",
              "2  NP_001186384|NP_005095|NP_001278915|NP_0011066...                 -   \n",
              "3  NP_001284574|NP_005860|NP_001351407|NP_0013049...                 -   \n",
              "4                             NP_653205|NP_001281269                 -   \n",
              "\n",
              "  Ontology Term Names Ontology Term Categories  Ontology Term Qualifier IDs  \\\n",
              "0                   -                        -                            -   \n",
              "1                   -                        -                            -   \n",
              "2                   -                        -                            -   \n",
              "3                   -                        -                            -   \n",
              "4                   -                        -                            -   \n",
              "\n",
              "   Ontology Term Qualifier Names Ontology Term Types  \\\n",
              "0                              -                   -   \n",
              "1                              -                   -   \n",
              "2                              -                   -   \n",
              "3                              -                   -   \n",
              "4                              -                   -   \n",
              "\n",
              "                        Organism Name Interactor A Organism Name Interactor B  \n",
              "0  Severe acute respiratory syndrome coronavirus 2               Homo sapiens  \n",
              "1  Severe acute respiratory syndrome coronavirus 2               Homo sapiens  \n",
              "2  Severe acute respiratory syndrome coronavirus 2               Homo sapiens  \n",
              "3  Severe acute respiratory syndrome coronavirus 2               Homo sapiens  \n",
              "4  Severe acute respiratory syndrome coronavirus 2               Homo sapiens  \n",
              "\n",
              "[5 rows x 37 columns]"
            ],
            "text/html": [
              "\n",
              "  <div id=\"df-15e78ab6-51c2-430f-a188-3a23502790aa\" class=\"colab-df-container\">\n",
              "    <div>\n",
              "<style scoped>\n",
              "    .dataframe tbody tr th:only-of-type {\n",
              "        vertical-align: middle;\n",
              "    }\n",
              "\n",
              "    .dataframe tbody tr th {\n",
              "        vertical-align: top;\n",
              "    }\n",
              "\n",
              "    .dataframe thead th {\n",
              "        text-align: right;\n",
              "    }\n",
              "</style>\n",
              "<table border=\"1\" class=\"dataframe\">\n",
              "  <thead>\n",
              "    <tr style=\"text-align: right;\">\n",
              "      <th></th>\n",
              "      <th>#BioGRID Interaction ID</th>\n",
              "      <th>Entrez Gene Interactor A</th>\n",
              "      <th>Entrez Gene Interactor B</th>\n",
              "      <th>BioGRID ID Interactor A</th>\n",
              "      <th>BioGRID ID Interactor B</th>\n",
              "      <th>Systematic Name Interactor A</th>\n",
              "      <th>Systematic Name Interactor B</th>\n",
              "      <th>Official Symbol Interactor A</th>\n",
              "      <th>Official Symbol Interactor B</th>\n",
              "      <th>Synonyms Interactor A</th>\n",
              "      <th>...</th>\n",
              "      <th>TREMBL Accessions Interactor B</th>\n",
              "      <th>REFSEQ Accessions Interactor B</th>\n",
              "      <th>Ontology Term IDs</th>\n",
              "      <th>Ontology Term Names</th>\n",
              "      <th>Ontology Term Categories</th>\n",
              "      <th>Ontology Term Qualifier IDs</th>\n",
              "      <th>Ontology Term Qualifier Names</th>\n",
              "      <th>Ontology Term Types</th>\n",
              "      <th>Organism Name Interactor A</th>\n",
              "      <th>Organism Name Interactor B</th>\n",
              "    </tr>\n",
              "  </thead>\n",
              "  <tbody>\n",
              "    <tr>\n",
              "      <th>0</th>\n",
              "      <td>2652341</td>\n",
              "      <td>43740570</td>\n",
              "      <td>8546</td>\n",
              "      <td>4383845</td>\n",
              "      <td>114116</td>\n",
              "      <td>GU280_gp04</td>\n",
              "      <td>-</td>\n",
              "      <td>E</td>\n",
              "      <td>AP3B1</td>\n",
              "      <td>env|envelope|SARS-CoV2 E|E protein|emp|SARS-Co...</td>\n",
              "      <td>...</td>\n",
              "      <td>-</td>\n",
              "      <td>NP_001258698|NP_003655</td>\n",
              "      <td>-</td>\n",
              "      <td>-</td>\n",
              "      <td>-</td>\n",
              "      <td>-</td>\n",
              "      <td>-</td>\n",
              "      <td>-</td>\n",
              "      <td>Severe acute respiratory syndrome coronavirus 2</td>\n",
              "      <td>Homo sapiens</td>\n",
              "    </tr>\n",
              "    <tr>\n",
              "      <th>1</th>\n",
              "      <td>2652342</td>\n",
              "      <td>43740570</td>\n",
              "      <td>23476</td>\n",
              "      <td>4383845</td>\n",
              "      <td>117036</td>\n",
              "      <td>GU280_gp04</td>\n",
              "      <td>-</td>\n",
              "      <td>E</td>\n",
              "      <td>BRD4</td>\n",
              "      <td>env|envelope|SARS-CoV2 E|E protein|emp|SARS-Co...</td>\n",
              "      <td>...</td>\n",
              "      <td>-</td>\n",
              "      <td>NP_001317313|NP_490597|NP_001366221|NP_0013662...</td>\n",
              "      <td>-</td>\n",
              "      <td>-</td>\n",
              "      <td>-</td>\n",
              "      <td>-</td>\n",
              "      <td>-</td>\n",
              "      <td>-</td>\n",
              "      <td>Severe acute respiratory syndrome coronavirus 2</td>\n",
              "      <td>Homo sapiens</td>\n",
              "    </tr>\n",
              "    <tr>\n",
              "      <th>2</th>\n",
              "      <td>2652343</td>\n",
              "      <td>43740570</td>\n",
              "      <td>6046</td>\n",
              "      <td>4383845</td>\n",
              "      <td>111973</td>\n",
              "      <td>GU280_gp04</td>\n",
              "      <td>DADB-17J1.3</td>\n",
              "      <td>E</td>\n",
              "      <td>BRD2</td>\n",
              "      <td>env|envelope|SARS-CoV2 E|E protein|emp|SARS-Co...</td>\n",
              "      <td>...</td>\n",
              "      <td>X5CF57|A0A024RCR5</td>\n",
              "      <td>NP_001186384|NP_005095|NP_001278915|NP_0011066...</td>\n",
              "      <td>-</td>\n",
              "      <td>-</td>\n",
              "      <td>-</td>\n",
              "      <td>-</td>\n",
              "      <td>-</td>\n",
              "      <td>-</td>\n",
              "      <td>Severe acute respiratory syndrome coronavirus 2</td>\n",
              "      <td>Homo sapiens</td>\n",
              "    </tr>\n",
              "    <tr>\n",
              "      <th>3</th>\n",
              "      <td>2652344</td>\n",
              "      <td>43740570</td>\n",
              "      <td>10283</td>\n",
              "      <td>4383845</td>\n",
              "      <td>115572</td>\n",
              "      <td>GU280_gp04</td>\n",
              "      <td>UNQ438/PRO871</td>\n",
              "      <td>E</td>\n",
              "      <td>CWC27</td>\n",
              "      <td>env|envelope|SARS-CoV2 E|E protein|emp|SARS-Co...</td>\n",
              "      <td>...</td>\n",
              "      <td>D6REK3</td>\n",
              "      <td>NP_001284574|NP_005860|NP_001351407|NP_0013049...</td>\n",
              "      <td>-</td>\n",
              "      <td>-</td>\n",
              "      <td>-</td>\n",
              "      <td>-</td>\n",
              "      <td>-</td>\n",
              "      <td>-</td>\n",
              "      <td>Severe acute respiratory syndrome coronavirus 2</td>\n",
              "      <td>Homo sapiens</td>\n",
              "    </tr>\n",
              "    <tr>\n",
              "      <th>4</th>\n",
              "      <td>2652345</td>\n",
              "      <td>43740570</td>\n",
              "      <td>124245</td>\n",
              "      <td>4383845</td>\n",
              "      <td>125858</td>\n",
              "      <td>GU280_gp04</td>\n",
              "      <td>-</td>\n",
              "      <td>E</td>\n",
              "      <td>ZC3H18</td>\n",
              "      <td>env|envelope|SARS-CoV2 E|E protein|emp|SARS-Co...</td>\n",
              "      <td>...</td>\n",
              "      <td>B4DTK7|E7ERS3</td>\n",
              "      <td>NP_653205|NP_001281269</td>\n",
              "      <td>-</td>\n",
              "      <td>-</td>\n",
              "      <td>-</td>\n",
              "      <td>-</td>\n",
              "      <td>-</td>\n",
              "      <td>-</td>\n",
              "      <td>Severe acute respiratory syndrome coronavirus 2</td>\n",
              "      <td>Homo sapiens</td>\n",
              "    </tr>\n",
              "  </tbody>\n",
              "</table>\n",
              "<p>5 rows × 37 columns</p>\n",
              "</div>\n",
              "    <div class=\"colab-df-buttons\">\n",
              "\n",
              "  <div class=\"colab-df-container\">\n",
              "    <button class=\"colab-df-convert\" onclick=\"convertToInteractive('df-15e78ab6-51c2-430f-a188-3a23502790aa')\"\n",
              "            title=\"Convert this dataframe to an interactive table.\"\n",
              "            style=\"display:none;\">\n",
              "\n",
              "  <svg xmlns=\"http://www.w3.org/2000/svg\" height=\"24px\" viewBox=\"0 -960 960 960\">\n",
              "    <path d=\"M120-120v-720h720v720H120Zm60-500h600v-160H180v160Zm220 220h160v-160H400v160Zm0 220h160v-160H400v160ZM180-400h160v-160H180v160Zm440 0h160v-160H620v160ZM180-180h160v-160H180v160Zm440 0h160v-160H620v160Z\"/>\n",
              "  </svg>\n",
              "    </button>\n",
              "\n",
              "  <style>\n",
              "    .colab-df-container {\n",
              "      display:flex;\n",
              "      gap: 12px;\n",
              "    }\n",
              "\n",
              "    .colab-df-convert {\n",
              "      background-color: #E8F0FE;\n",
              "      border: none;\n",
              "      border-radius: 50%;\n",
              "      cursor: pointer;\n",
              "      display: none;\n",
              "      fill: #1967D2;\n",
              "      height: 32px;\n",
              "      padding: 0 0 0 0;\n",
              "      width: 32px;\n",
              "    }\n",
              "\n",
              "    .colab-df-convert:hover {\n",
              "      background-color: #E2EBFA;\n",
              "      box-shadow: 0px 1px 2px rgba(60, 64, 67, 0.3), 0px 1px 3px 1px rgba(60, 64, 67, 0.15);\n",
              "      fill: #174EA6;\n",
              "    }\n",
              "\n",
              "    .colab-df-buttons div {\n",
              "      margin-bottom: 4px;\n",
              "    }\n",
              "\n",
              "    [theme=dark] .colab-df-convert {\n",
              "      background-color: #3B4455;\n",
              "      fill: #D2E3FC;\n",
              "    }\n",
              "\n",
              "    [theme=dark] .colab-df-convert:hover {\n",
              "      background-color: #434B5C;\n",
              "      box-shadow: 0px 1px 3px 1px rgba(0, 0, 0, 0.15);\n",
              "      filter: drop-shadow(0px 1px 2px rgba(0, 0, 0, 0.3));\n",
              "      fill: #FFFFFF;\n",
              "    }\n",
              "  </style>\n",
              "\n",
              "    <script>\n",
              "      const buttonEl =\n",
              "        document.querySelector('#df-15e78ab6-51c2-430f-a188-3a23502790aa button.colab-df-convert');\n",
              "      buttonEl.style.display =\n",
              "        google.colab.kernel.accessAllowed ? 'block' : 'none';\n",
              "\n",
              "      async function convertToInteractive(key) {\n",
              "        const element = document.querySelector('#df-15e78ab6-51c2-430f-a188-3a23502790aa');\n",
              "        const dataTable =\n",
              "          await google.colab.kernel.invokeFunction('convertToInteractive',\n",
              "                                                    [key], {});\n",
              "        if (!dataTable) return;\n",
              "\n",
              "        const docLinkHtml = 'Like what you see? Visit the ' +\n",
              "          '<a target=\"_blank\" href=https://colab.research.google.com/notebooks/data_table.ipynb>data table notebook</a>'\n",
              "          + ' to learn more about interactive tables.';\n",
              "        element.innerHTML = '';\n",
              "        dataTable['output_type'] = 'display_data';\n",
              "        await google.colab.output.renderOutput(dataTable, element);\n",
              "        const docLink = document.createElement('div');\n",
              "        docLink.innerHTML = docLinkHtml;\n",
              "        element.appendChild(docLink);\n",
              "      }\n",
              "    </script>\n",
              "  </div>\n",
              "\n",
              "\n",
              "<div id=\"df-1d339914-9ba3-49cb-b531-a7c10b42c4a1\">\n",
              "  <button class=\"colab-df-quickchart\" onclick=\"quickchart('df-1d339914-9ba3-49cb-b531-a7c10b42c4a1')\"\n",
              "            title=\"Suggest charts\"\n",
              "            style=\"display:none;\">\n",
              "\n",
              "<svg xmlns=\"http://www.w3.org/2000/svg\" height=\"24px\"viewBox=\"0 0 24 24\"\n",
              "     width=\"24px\">\n",
              "    <g>\n",
              "        <path d=\"M19 3H5c-1.1 0-2 .9-2 2v14c0 1.1.9 2 2 2h14c1.1 0 2-.9 2-2V5c0-1.1-.9-2-2-2zM9 17H7v-7h2v7zm4 0h-2V7h2v10zm4 0h-2v-4h2v4z\"/>\n",
              "    </g>\n",
              "</svg>\n",
              "  </button>\n",
              "\n",
              "<style>\n",
              "  .colab-df-quickchart {\n",
              "      --bg-color: #E8F0FE;\n",
              "      --fill-color: #1967D2;\n",
              "      --hover-bg-color: #E2EBFA;\n",
              "      --hover-fill-color: #174EA6;\n",
              "      --disabled-fill-color: #AAA;\n",
              "      --disabled-bg-color: #DDD;\n",
              "  }\n",
              "\n",
              "  [theme=dark] .colab-df-quickchart {\n",
              "      --bg-color: #3B4455;\n",
              "      --fill-color: #D2E3FC;\n",
              "      --hover-bg-color: #434B5C;\n",
              "      --hover-fill-color: #FFFFFF;\n",
              "      --disabled-bg-color: #3B4455;\n",
              "      --disabled-fill-color: #666;\n",
              "  }\n",
              "\n",
              "  .colab-df-quickchart {\n",
              "    background-color: var(--bg-color);\n",
              "    border: none;\n",
              "    border-radius: 50%;\n",
              "    cursor: pointer;\n",
              "    display: none;\n",
              "    fill: var(--fill-color);\n",
              "    height: 32px;\n",
              "    padding: 0;\n",
              "    width: 32px;\n",
              "  }\n",
              "\n",
              "  .colab-df-quickchart:hover {\n",
              "    background-color: var(--hover-bg-color);\n",
              "    box-shadow: 0 1px 2px rgba(60, 64, 67, 0.3), 0 1px 3px 1px rgba(60, 64, 67, 0.15);\n",
              "    fill: var(--button-hover-fill-color);\n",
              "  }\n",
              "\n",
              "  .colab-df-quickchart-complete:disabled,\n",
              "  .colab-df-quickchart-complete:disabled:hover {\n",
              "    background-color: var(--disabled-bg-color);\n",
              "    fill: var(--disabled-fill-color);\n",
              "    box-shadow: none;\n",
              "  }\n",
              "\n",
              "  .colab-df-spinner {\n",
              "    border: 2px solid var(--fill-color);\n",
              "    border-color: transparent;\n",
              "    border-bottom-color: var(--fill-color);\n",
              "    animation:\n",
              "      spin 1s steps(1) infinite;\n",
              "  }\n",
              "\n",
              "  @keyframes spin {\n",
              "    0% {\n",
              "      border-color: transparent;\n",
              "      border-bottom-color: var(--fill-color);\n",
              "      border-left-color: var(--fill-color);\n",
              "    }\n",
              "    20% {\n",
              "      border-color: transparent;\n",
              "      border-left-color: var(--fill-color);\n",
              "      border-top-color: var(--fill-color);\n",
              "    }\n",
              "    30% {\n",
              "      border-color: transparent;\n",
              "      border-left-color: var(--fill-color);\n",
              "      border-top-color: var(--fill-color);\n",
              "      border-right-color: var(--fill-color);\n",
              "    }\n",
              "    40% {\n",
              "      border-color: transparent;\n",
              "      border-right-color: var(--fill-color);\n",
              "      border-top-color: var(--fill-color);\n",
              "    }\n",
              "    60% {\n",
              "      border-color: transparent;\n",
              "      border-right-color: var(--fill-color);\n",
              "    }\n",
              "    80% {\n",
              "      border-color: transparent;\n",
              "      border-right-color: var(--fill-color);\n",
              "      border-bottom-color: var(--fill-color);\n",
              "    }\n",
              "    90% {\n",
              "      border-color: transparent;\n",
              "      border-bottom-color: var(--fill-color);\n",
              "    }\n",
              "  }\n",
              "</style>\n",
              "\n",
              "  <script>\n",
              "    async function quickchart(key) {\n",
              "      const quickchartButtonEl =\n",
              "        document.querySelector('#' + key + ' button');\n",
              "      quickchartButtonEl.disabled = true;  // To prevent multiple clicks.\n",
              "      quickchartButtonEl.classList.add('colab-df-spinner');\n",
              "      try {\n",
              "        const charts = await google.colab.kernel.invokeFunction(\n",
              "            'suggestCharts', [key], {});\n",
              "      } catch (error) {\n",
              "        console.error('Error during call to suggestCharts:', error);\n",
              "      }\n",
              "      quickchartButtonEl.classList.remove('colab-df-spinner');\n",
              "      quickchartButtonEl.classList.add('colab-df-quickchart-complete');\n",
              "    }\n",
              "    (() => {\n",
              "      let quickchartButtonEl =\n",
              "        document.querySelector('#df-1d339914-9ba3-49cb-b531-a7c10b42c4a1 button');\n",
              "      quickchartButtonEl.style.display =\n",
              "        google.colab.kernel.accessAllowed ? 'block' : 'none';\n",
              "    })();\n",
              "  </script>\n",
              "</div>\n",
              "\n",
              "    </div>\n",
              "  </div>\n"
            ],
            "application/vnd.google.colaboratory.intrinsic+json": {
              "type": "dataframe",
              "variable_name": "covid_df"
            }
          },
          "metadata": {},
          "execution_count": 14
        }
      ],
      "source": [
        "# Load PPI dataset\n",
        "covid_df = pd.read_csv('BIOGRID-PROJECT-covid19_coronavirus_project-INTERACTIONS-4.4.237.tab3.txt', sep = '\\t')\n",
        "covid_df.head()"
      ]
    },
    {
      "cell_type": "code",
      "execution_count": 15,
      "metadata": {
        "colab": {
          "base_uri": "https://localhost:8080/"
        },
        "id": "vEY2rD8neNIh",
        "outputId": "e4262d90-a56d-46bc-a8f1-5199430caab5"
      },
      "outputs": [
        {
          "output_type": "stream",
          "name": "stdout",
          "text": [
            "<class 'pandas.core.frame.DataFrame'>\n",
            "RangeIndex: 44805 entries, 0 to 44804\n",
            "Data columns (total 37 columns):\n",
            " #   Column                              Non-Null Count  Dtype \n",
            "---  ------                              --------------  ----- \n",
            " 0   #BioGRID Interaction ID             44805 non-null  int64 \n",
            " 1   Entrez Gene Interactor A            44805 non-null  object\n",
            " 2   Entrez Gene Interactor B            44805 non-null  object\n",
            " 3   BioGRID ID Interactor A             44805 non-null  int64 \n",
            " 4   BioGRID ID Interactor B             44805 non-null  int64 \n",
            " 5   Systematic Name Interactor A        44805 non-null  object\n",
            " 6   Systematic Name Interactor B        44805 non-null  object\n",
            " 7   Official Symbol Interactor A        44805 non-null  object\n",
            " 8   Official Symbol Interactor B        44805 non-null  object\n",
            " 9   Synonyms Interactor A               44805 non-null  object\n",
            " 10  Synonyms Interactor B               44805 non-null  object\n",
            " 11  Experimental System                 44805 non-null  object\n",
            " 12  Experimental System Type            44805 non-null  object\n",
            " 13  Author                              44805 non-null  object\n",
            " 14  Publication Source                  44805 non-null  object\n",
            " 15  Organism ID Interactor A            44805 non-null  int64 \n",
            " 16  Organism ID Interactor B            44805 non-null  int64 \n",
            " 17  Throughput                          44805 non-null  object\n",
            " 18  Score                               44805 non-null  object\n",
            " 19  Modification                        44805 non-null  object\n",
            " 20  Qualifications                      44805 non-null  object\n",
            " 21  Tags                                44805 non-null  object\n",
            " 22  Source Database                     44805 non-null  object\n",
            " 23  SWISS-PROT Accessions Interactor A  44805 non-null  object\n",
            " 24  TREMBL Accessions Interactor A      44805 non-null  object\n",
            " 25  REFSEQ Accessions Interactor A      44800 non-null  object\n",
            " 26  SWISS-PROT Accessions Interactor B  44805 non-null  object\n",
            " 27  TREMBL Accessions Interactor B      44805 non-null  object\n",
            " 28  REFSEQ Accessions Interactor B      44780 non-null  object\n",
            " 29  Ontology Term IDs                   44805 non-null  object\n",
            " 30  Ontology Term Names                 44805 non-null  object\n",
            " 31  Ontology Term Categories            44805 non-null  object\n",
            " 32  Ontology Term Qualifier IDs         44805 non-null  object\n",
            " 33  Ontology Term Qualifier Names       44805 non-null  object\n",
            " 34  Ontology Term Types                 44805 non-null  object\n",
            " 35  Organism Name Interactor A          44805 non-null  object\n",
            " 36  Organism Name Interactor B          44805 non-null  object\n",
            "dtypes: int64(5), object(32)\n",
            "memory usage: 12.6+ MB\n"
          ]
        }
      ],
      "source": [
        "# Display features overview\n",
        "covid_df.info()"
      ]
    },
    {
      "cell_type": "code",
      "execution_count": 18,
      "metadata": {
        "id": "S40cOqafwozX",
        "outputId": "5ad8849a-b0d9-49a9-e987-95e0484d6e3f",
        "colab": {
          "base_uri": "https://localhost:8080/",
          "height": 1000
        }
      },
      "outputs": [
        {
          "output_type": "execute_result",
          "data": {
            "text/plain": [
              "#BioGRID Interaction ID               0\n",
              "Entrez Gene Interactor A              0\n",
              "Entrez Gene Interactor B              0\n",
              "BioGRID ID Interactor A               0\n",
              "BioGRID ID Interactor B               0\n",
              "Systematic Name Interactor A          0\n",
              "Systematic Name Interactor B          0\n",
              "Official Symbol Interactor A          0\n",
              "Official Symbol Interactor B          0\n",
              "Synonyms Interactor A                 0\n",
              "Synonyms Interactor B                 0\n",
              "Experimental System                   0\n",
              "Experimental System Type              0\n",
              "Author                                0\n",
              "Publication Source                    0\n",
              "Organism ID Interactor A              0\n",
              "Organism ID Interactor B              0\n",
              "Throughput                            0\n",
              "Score                                 0\n",
              "Modification                          0\n",
              "Qualifications                        0\n",
              "Tags                                  0\n",
              "Source Database                       0\n",
              "SWISS-PROT Accessions Interactor A    0\n",
              "TREMBL Accessions Interactor A        0\n",
              "REFSEQ Accessions Interactor A        0\n",
              "SWISS-PROT Accessions Interactor B    0\n",
              "TREMBL Accessions Interactor B        0\n",
              "REFSEQ Accessions Interactor B        0\n",
              "Ontology Term IDs                     0\n",
              "Ontology Term Names                   0\n",
              "Ontology Term Categories              0\n",
              "Ontology Term Qualifier IDs           0\n",
              "Ontology Term Qualifier Names         0\n",
              "Ontology Term Types                   0\n",
              "Organism Name Interactor A            0\n",
              "Organism Name Interactor B            0\n",
              "dtype: int64"
            ],
            "text/html": [
              "<div>\n",
              "<style scoped>\n",
              "    .dataframe tbody tr th:only-of-type {\n",
              "        vertical-align: middle;\n",
              "    }\n",
              "\n",
              "    .dataframe tbody tr th {\n",
              "        vertical-align: top;\n",
              "    }\n",
              "\n",
              "    .dataframe thead th {\n",
              "        text-align: right;\n",
              "    }\n",
              "</style>\n",
              "<table border=\"1\" class=\"dataframe\">\n",
              "  <thead>\n",
              "    <tr style=\"text-align: right;\">\n",
              "      <th></th>\n",
              "      <th>0</th>\n",
              "    </tr>\n",
              "  </thead>\n",
              "  <tbody>\n",
              "    <tr>\n",
              "      <th>#BioGRID Interaction ID</th>\n",
              "      <td>0</td>\n",
              "    </tr>\n",
              "    <tr>\n",
              "      <th>Entrez Gene Interactor A</th>\n",
              "      <td>0</td>\n",
              "    </tr>\n",
              "    <tr>\n",
              "      <th>Entrez Gene Interactor B</th>\n",
              "      <td>0</td>\n",
              "    </tr>\n",
              "    <tr>\n",
              "      <th>BioGRID ID Interactor A</th>\n",
              "      <td>0</td>\n",
              "    </tr>\n",
              "    <tr>\n",
              "      <th>BioGRID ID Interactor B</th>\n",
              "      <td>0</td>\n",
              "    </tr>\n",
              "    <tr>\n",
              "      <th>Systematic Name Interactor A</th>\n",
              "      <td>0</td>\n",
              "    </tr>\n",
              "    <tr>\n",
              "      <th>Systematic Name Interactor B</th>\n",
              "      <td>0</td>\n",
              "    </tr>\n",
              "    <tr>\n",
              "      <th>Official Symbol Interactor A</th>\n",
              "      <td>0</td>\n",
              "    </tr>\n",
              "    <tr>\n",
              "      <th>Official Symbol Interactor B</th>\n",
              "      <td>0</td>\n",
              "    </tr>\n",
              "    <tr>\n",
              "      <th>Synonyms Interactor A</th>\n",
              "      <td>0</td>\n",
              "    </tr>\n",
              "    <tr>\n",
              "      <th>Synonyms Interactor B</th>\n",
              "      <td>0</td>\n",
              "    </tr>\n",
              "    <tr>\n",
              "      <th>Experimental System</th>\n",
              "      <td>0</td>\n",
              "    </tr>\n",
              "    <tr>\n",
              "      <th>Experimental System Type</th>\n",
              "      <td>0</td>\n",
              "    </tr>\n",
              "    <tr>\n",
              "      <th>Author</th>\n",
              "      <td>0</td>\n",
              "    </tr>\n",
              "    <tr>\n",
              "      <th>Publication Source</th>\n",
              "      <td>0</td>\n",
              "    </tr>\n",
              "    <tr>\n",
              "      <th>Organism ID Interactor A</th>\n",
              "      <td>0</td>\n",
              "    </tr>\n",
              "    <tr>\n",
              "      <th>Organism ID Interactor B</th>\n",
              "      <td>0</td>\n",
              "    </tr>\n",
              "    <tr>\n",
              "      <th>Throughput</th>\n",
              "      <td>0</td>\n",
              "    </tr>\n",
              "    <tr>\n",
              "      <th>Score</th>\n",
              "      <td>0</td>\n",
              "    </tr>\n",
              "    <tr>\n",
              "      <th>Modification</th>\n",
              "      <td>0</td>\n",
              "    </tr>\n",
              "    <tr>\n",
              "      <th>Qualifications</th>\n",
              "      <td>0</td>\n",
              "    </tr>\n",
              "    <tr>\n",
              "      <th>Tags</th>\n",
              "      <td>0</td>\n",
              "    </tr>\n",
              "    <tr>\n",
              "      <th>Source Database</th>\n",
              "      <td>0</td>\n",
              "    </tr>\n",
              "    <tr>\n",
              "      <th>SWISS-PROT Accessions Interactor A</th>\n",
              "      <td>0</td>\n",
              "    </tr>\n",
              "    <tr>\n",
              "      <th>TREMBL Accessions Interactor A</th>\n",
              "      <td>0</td>\n",
              "    </tr>\n",
              "    <tr>\n",
              "      <th>REFSEQ Accessions Interactor A</th>\n",
              "      <td>0</td>\n",
              "    </tr>\n",
              "    <tr>\n",
              "      <th>SWISS-PROT Accessions Interactor B</th>\n",
              "      <td>0</td>\n",
              "    </tr>\n",
              "    <tr>\n",
              "      <th>TREMBL Accessions Interactor B</th>\n",
              "      <td>0</td>\n",
              "    </tr>\n",
              "    <tr>\n",
              "      <th>REFSEQ Accessions Interactor B</th>\n",
              "      <td>0</td>\n",
              "    </tr>\n",
              "    <tr>\n",
              "      <th>Ontology Term IDs</th>\n",
              "      <td>0</td>\n",
              "    </tr>\n",
              "    <tr>\n",
              "      <th>Ontology Term Names</th>\n",
              "      <td>0</td>\n",
              "    </tr>\n",
              "    <tr>\n",
              "      <th>Ontology Term Categories</th>\n",
              "      <td>0</td>\n",
              "    </tr>\n",
              "    <tr>\n",
              "      <th>Ontology Term Qualifier IDs</th>\n",
              "      <td>0</td>\n",
              "    </tr>\n",
              "    <tr>\n",
              "      <th>Ontology Term Qualifier Names</th>\n",
              "      <td>0</td>\n",
              "    </tr>\n",
              "    <tr>\n",
              "      <th>Ontology Term Types</th>\n",
              "      <td>0</td>\n",
              "    </tr>\n",
              "    <tr>\n",
              "      <th>Organism Name Interactor A</th>\n",
              "      <td>0</td>\n",
              "    </tr>\n",
              "    <tr>\n",
              "      <th>Organism Name Interactor B</th>\n",
              "      <td>0</td>\n",
              "    </tr>\n",
              "  </tbody>\n",
              "</table>\n",
              "</div><br><label><b>dtype:</b> int64</label>"
            ]
          },
          "metadata": {},
          "execution_count": 18
        }
      ],
      "source": [
        "# Check for missing values\n",
        "covid_df.isna().sum()"
      ]
    },
    {
      "cell_type": "code",
      "execution_count": 19,
      "metadata": {
        "id": "xYPVCBDbwozY"
      },
      "outputs": [],
      "source": [
        "# Handling missing values\n",
        "covid_df.dropna(inplace = True)"
      ]
    },
    {
      "cell_type": "code",
      "execution_count": 20,
      "metadata": {
        "id": "8lwdpXL9wozZ",
        "outputId": "f44ba98a-46c5-4d85-e3d5-3ae41b406b25",
        "colab": {
          "base_uri": "https://localhost:8080/",
          "height": 1000
        }
      },
      "outputs": [
        {
          "output_type": "display_data",
          "data": {
            "text/html": [
              "<html>\n",
              "<head><meta charset=\"utf-8\" /></head>\n",
              "<body>\n",
              "    <div>            <script src=\"https://cdnjs.cloudflare.com/ajax/libs/mathjax/2.7.5/MathJax.js?config=TeX-AMS-MML_SVG\"></script><script type=\"text/javascript\">if (window.MathJax && window.MathJax.Hub && window.MathJax.Hub.Config) {window.MathJax.Hub.Config({SVG: {font: \"STIX-Web\"}});}</script>                <script type=\"text/javascript\">window.PlotlyConfig = {MathJaxConfig: 'local'};</script>\n",
              "        <script charset=\"utf-8\" src=\"https://cdn.plot.ly/plotly-2.24.1.min.js\"></script>                <div id=\"298f08f8-1a50-4a93-8ce5-50e09deb3b08\" class=\"plotly-graph-div\" style=\"height:1000px; width:100%;\"></div>            <script type=\"text/javascript\">                                    window.PLOTLYENV=window.PLOTLYENV || {};                                    if (document.getElementById(\"298f08f8-1a50-4a93-8ce5-50e09deb3b08\")) {                    Plotly.newPlot(                        \"298f08f8-1a50-4a93-8ce5-50e09deb3b08\",                        [{\"marker\":{\"color\":[\"rgb(68, 1, 84)\",\"rgb(71, 33, 113)\",\"rgb(66, 61, 131)\",\"rgb(56, 87, 139)\",\"rgb(46, 111, 142)\",\"rgb(37, 133, 142)\",\"rgb(32, 155, 137)\",\"rgb(47, 176, 125)\",\"rgb(84, 196, 103)\",\"rgb(136, 212, 72)\",\"rgb(194, 224, 42)\",\"rgb(253, 231, 37)\"]},\"orientation\":\"v\",\"showlegend\":false,\"x\":[\"Severe acute respiratory syndrome coronavirus 2\",\"Severe acute respiratory syndrome-related coronavirus\",\"Homo sapiens\",\"Middle-East Respiratory Syndrome-related Coronavirus\",\"Mus musculus\",\"Bos taurus\",\"Sus scrofa\",\"Canis familiaris\",\"Macaca mulatta\",\"Danio rerio\",\"Rattus norvegicus\",\"Felis Catus\"],\"y\":[40081,2384,1188,1094,18,2,2,2,1,1,1,1],\"type\":\"bar\",\"xaxis\":\"x\",\"yaxis\":\"y\"},{\"marker\":{\"color\":[\"rgb(68, 1, 84)\",\"rgb(71, 28, 109)\",\"rgb(68, 53, 127)\",\"rgb(61, 75, 137)\",\"rgb(52, 97, 141)\",\"rgb(44, 116, 142)\",\"rgb(37, 134, 141)\",\"rgb(32, 154, 138)\",\"rgb(43, 171, 128)\",\"rgb(66, 188, 113)\",\"rgb(106, 204, 91)\",\"rgb(154, 216, 60)\",\"rgb(203, 225, 41)\",\"rgb(253, 231, 37)\"]},\"orientation\":\"v\",\"showlegend\":false,\"x\":[\"Homo sapiens\",\"Severe acute respiratory syndrome coronavirus 2\",\"Severe acute respiratory syndrome-related coronavirus\",\"Middle-East Respiratory Syndrome-related Coronavirus\",\"Mus musculus\",\"Felis Catus\",\"Canis familiaris\",\"Macaca mulatta\",\"Bos taurus\",\"Sus scrofa\",\"Saccharomyces cerevisiae (S288c)\",\"Schizosaccharomyces pombe (972h)\",\"Human Immunodeficiency Virus 1\",\"Gallus gallus\"],\"y\":[41707,2305,645,85,18,4,2,2,2,1,1,1,1,1],\"type\":\"bar\",\"xaxis\":\"x2\",\"yaxis\":\"y2\"}],                        {\"template\":{\"data\":{\"histogram2dcontour\":[{\"type\":\"histogram2dcontour\",\"colorbar\":{\"outlinewidth\":0,\"ticks\":\"\"},\"colorscale\":[[0.0,\"#0d0887\"],[0.1111111111111111,\"#46039f\"],[0.2222222222222222,\"#7201a8\"],[0.3333333333333333,\"#9c179e\"],[0.4444444444444444,\"#bd3786\"],[0.5555555555555556,\"#d8576b\"],[0.6666666666666666,\"#ed7953\"],[0.7777777777777778,\"#fb9f3a\"],[0.8888888888888888,\"#fdca26\"],[1.0,\"#f0f921\"]]}],\"choropleth\":[{\"type\":\"choropleth\",\"colorbar\":{\"outlinewidth\":0,\"ticks\":\"\"}}],\"histogram2d\":[{\"type\":\"histogram2d\",\"colorbar\":{\"outlinewidth\":0,\"ticks\":\"\"},\"colorscale\":[[0.0,\"#0d0887\"],[0.1111111111111111,\"#46039f\"],[0.2222222222222222,\"#7201a8\"],[0.3333333333333333,\"#9c179e\"],[0.4444444444444444,\"#bd3786\"],[0.5555555555555556,\"#d8576b\"],[0.6666666666666666,\"#ed7953\"],[0.7777777777777778,\"#fb9f3a\"],[0.8888888888888888,\"#fdca26\"],[1.0,\"#f0f921\"]]}],\"heatmap\":[{\"type\":\"heatmap\",\"colorbar\":{\"outlinewidth\":0,\"ticks\":\"\"},\"colorscale\":[[0.0,\"#0d0887\"],[0.1111111111111111,\"#46039f\"],[0.2222222222222222,\"#7201a8\"],[0.3333333333333333,\"#9c179e\"],[0.4444444444444444,\"#bd3786\"],[0.5555555555555556,\"#d8576b\"],[0.6666666666666666,\"#ed7953\"],[0.7777777777777778,\"#fb9f3a\"],[0.8888888888888888,\"#fdca26\"],[1.0,\"#f0f921\"]]}],\"heatmapgl\":[{\"type\":\"heatmapgl\",\"colorbar\":{\"outlinewidth\":0,\"ticks\":\"\"},\"colorscale\":[[0.0,\"#0d0887\"],[0.1111111111111111,\"#46039f\"],[0.2222222222222222,\"#7201a8\"],[0.3333333333333333,\"#9c179e\"],[0.4444444444444444,\"#bd3786\"],[0.5555555555555556,\"#d8576b\"],[0.6666666666666666,\"#ed7953\"],[0.7777777777777778,\"#fb9f3a\"],[0.8888888888888888,\"#fdca26\"],[1.0,\"#f0f921\"]]}],\"contourcarpet\":[{\"type\":\"contourcarpet\",\"colorbar\":{\"outlinewidth\":0,\"ticks\":\"\"}}],\"contour\":[{\"type\":\"contour\",\"colorbar\":{\"outlinewidth\":0,\"ticks\":\"\"},\"colorscale\":[[0.0,\"#0d0887\"],[0.1111111111111111,\"#46039f\"],[0.2222222222222222,\"#7201a8\"],[0.3333333333333333,\"#9c179e\"],[0.4444444444444444,\"#bd3786\"],[0.5555555555555556,\"#d8576b\"],[0.6666666666666666,\"#ed7953\"],[0.7777777777777778,\"#fb9f3a\"],[0.8888888888888888,\"#fdca26\"],[1.0,\"#f0f921\"]]}],\"surface\":[{\"type\":\"surface\",\"colorbar\":{\"outlinewidth\":0,\"ticks\":\"\"},\"colorscale\":[[0.0,\"#0d0887\"],[0.1111111111111111,\"#46039f\"],[0.2222222222222222,\"#7201a8\"],[0.3333333333333333,\"#9c179e\"],[0.4444444444444444,\"#bd3786\"],[0.5555555555555556,\"#d8576b\"],[0.6666666666666666,\"#ed7953\"],[0.7777777777777778,\"#fb9f3a\"],[0.8888888888888888,\"#fdca26\"],[1.0,\"#f0f921\"]]}],\"mesh3d\":[{\"type\":\"mesh3d\",\"colorbar\":{\"outlinewidth\":0,\"ticks\":\"\"}}],\"scatter\":[{\"fillpattern\":{\"fillmode\":\"overlay\",\"size\":10,\"solidity\":0.2},\"type\":\"scatter\"}],\"parcoords\":[{\"type\":\"parcoords\",\"line\":{\"colorbar\":{\"outlinewidth\":0,\"ticks\":\"\"}}}],\"scatterpolargl\":[{\"type\":\"scatterpolargl\",\"marker\":{\"colorbar\":{\"outlinewidth\":0,\"ticks\":\"\"}}}],\"bar\":[{\"error_x\":{\"color\":\"#2a3f5f\"},\"error_y\":{\"color\":\"#2a3f5f\"},\"marker\":{\"line\":{\"color\":\"#E5ECF6\",\"width\":0.5},\"pattern\":{\"fillmode\":\"overlay\",\"size\":10,\"solidity\":0.2}},\"type\":\"bar\"}],\"scattergeo\":[{\"type\":\"scattergeo\",\"marker\":{\"colorbar\":{\"outlinewidth\":0,\"ticks\":\"\"}}}],\"scatterpolar\":[{\"type\":\"scatterpolar\",\"marker\":{\"colorbar\":{\"outlinewidth\":0,\"ticks\":\"\"}}}],\"histogram\":[{\"marker\":{\"pattern\":{\"fillmode\":\"overlay\",\"size\":10,\"solidity\":0.2}},\"type\":\"histogram\"}],\"scattergl\":[{\"type\":\"scattergl\",\"marker\":{\"colorbar\":{\"outlinewidth\":0,\"ticks\":\"\"}}}],\"scatter3d\":[{\"type\":\"scatter3d\",\"line\":{\"colorbar\":{\"outlinewidth\":0,\"ticks\":\"\"}},\"marker\":{\"colorbar\":{\"outlinewidth\":0,\"ticks\":\"\"}}}],\"scattermapbox\":[{\"type\":\"scattermapbox\",\"marker\":{\"colorbar\":{\"outlinewidth\":0,\"ticks\":\"\"}}}],\"scatterternary\":[{\"type\":\"scatterternary\",\"marker\":{\"colorbar\":{\"outlinewidth\":0,\"ticks\":\"\"}}}],\"scattercarpet\":[{\"type\":\"scattercarpet\",\"marker\":{\"colorbar\":{\"outlinewidth\":0,\"ticks\":\"\"}}}],\"carpet\":[{\"aaxis\":{\"endlinecolor\":\"#2a3f5f\",\"gridcolor\":\"white\",\"linecolor\":\"white\",\"minorgridcolor\":\"white\",\"startlinecolor\":\"#2a3f5f\"},\"baxis\":{\"endlinecolor\":\"#2a3f5f\",\"gridcolor\":\"white\",\"linecolor\":\"white\",\"minorgridcolor\":\"white\",\"startlinecolor\":\"#2a3f5f\"},\"type\":\"carpet\"}],\"table\":[{\"cells\":{\"fill\":{\"color\":\"#EBF0F8\"},\"line\":{\"color\":\"white\"}},\"header\":{\"fill\":{\"color\":\"#C8D4E3\"},\"line\":{\"color\":\"white\"}},\"type\":\"table\"}],\"barpolar\":[{\"marker\":{\"line\":{\"color\":\"#E5ECF6\",\"width\":0.5},\"pattern\":{\"fillmode\":\"overlay\",\"size\":10,\"solidity\":0.2}},\"type\":\"barpolar\"}],\"pie\":[{\"automargin\":true,\"type\":\"pie\"}]},\"layout\":{\"autotypenumbers\":\"strict\",\"colorway\":[\"#636efa\",\"#EF553B\",\"#00cc96\",\"#ab63fa\",\"#FFA15A\",\"#19d3f3\",\"#FF6692\",\"#B6E880\",\"#FF97FF\",\"#FECB52\"],\"font\":{\"color\":\"#2a3f5f\"},\"hovermode\":\"closest\",\"hoverlabel\":{\"align\":\"left\"},\"paper_bgcolor\":\"white\",\"plot_bgcolor\":\"#E5ECF6\",\"polar\":{\"bgcolor\":\"#E5ECF6\",\"angularaxis\":{\"gridcolor\":\"white\",\"linecolor\":\"white\",\"ticks\":\"\"},\"radialaxis\":{\"gridcolor\":\"white\",\"linecolor\":\"white\",\"ticks\":\"\"}},\"ternary\":{\"bgcolor\":\"#E5ECF6\",\"aaxis\":{\"gridcolor\":\"white\",\"linecolor\":\"white\",\"ticks\":\"\"},\"baxis\":{\"gridcolor\":\"white\",\"linecolor\":\"white\",\"ticks\":\"\"},\"caxis\":{\"gridcolor\":\"white\",\"linecolor\":\"white\",\"ticks\":\"\"}},\"coloraxis\":{\"colorbar\":{\"outlinewidth\":0,\"ticks\":\"\"}},\"colorscale\":{\"sequential\":[[0.0,\"#0d0887\"],[0.1111111111111111,\"#46039f\"],[0.2222222222222222,\"#7201a8\"],[0.3333333333333333,\"#9c179e\"],[0.4444444444444444,\"#bd3786\"],[0.5555555555555556,\"#d8576b\"],[0.6666666666666666,\"#ed7953\"],[0.7777777777777778,\"#fb9f3a\"],[0.8888888888888888,\"#fdca26\"],[1.0,\"#f0f921\"]],\"sequentialminus\":[[0.0,\"#0d0887\"],[0.1111111111111111,\"#46039f\"],[0.2222222222222222,\"#7201a8\"],[0.3333333333333333,\"#9c179e\"],[0.4444444444444444,\"#bd3786\"],[0.5555555555555556,\"#d8576b\"],[0.6666666666666666,\"#ed7953\"],[0.7777777777777778,\"#fb9f3a\"],[0.8888888888888888,\"#fdca26\"],[1.0,\"#f0f921\"]],\"diverging\":[[0,\"#8e0152\"],[0.1,\"#c51b7d\"],[0.2,\"#de77ae\"],[0.3,\"#f1b6da\"],[0.4,\"#fde0ef\"],[0.5,\"#f7f7f7\"],[0.6,\"#e6f5d0\"],[0.7,\"#b8e186\"],[0.8,\"#7fbc41\"],[0.9,\"#4d9221\"],[1,\"#276419\"]]},\"xaxis\":{\"gridcolor\":\"white\",\"linecolor\":\"white\",\"ticks\":\"\",\"title\":{\"standoff\":15},\"zerolinecolor\":\"white\",\"automargin\":true,\"zerolinewidth\":2},\"yaxis\":{\"gridcolor\":\"white\",\"linecolor\":\"white\",\"ticks\":\"\",\"title\":{\"standoff\":15},\"zerolinecolor\":\"white\",\"automargin\":true,\"zerolinewidth\":2},\"scene\":{\"xaxis\":{\"backgroundcolor\":\"#E5ECF6\",\"gridcolor\":\"white\",\"linecolor\":\"white\",\"showbackground\":true,\"ticks\":\"\",\"zerolinecolor\":\"white\",\"gridwidth\":2},\"yaxis\":{\"backgroundcolor\":\"#E5ECF6\",\"gridcolor\":\"white\",\"linecolor\":\"white\",\"showbackground\":true,\"ticks\":\"\",\"zerolinecolor\":\"white\",\"gridwidth\":2},\"zaxis\":{\"backgroundcolor\":\"#E5ECF6\",\"gridcolor\":\"white\",\"linecolor\":\"white\",\"showbackground\":true,\"ticks\":\"\",\"zerolinecolor\":\"white\",\"gridwidth\":2}},\"shapedefaults\":{\"line\":{\"color\":\"#2a3f5f\"}},\"annotationdefaults\":{\"arrowcolor\":\"#2a3f5f\",\"arrowhead\":0,\"arrowwidth\":1},\"geo\":{\"bgcolor\":\"white\",\"landcolor\":\"#E5ECF6\",\"subunitcolor\":\"white\",\"showland\":true,\"showlakes\":true,\"lakecolor\":\"white\"},\"title\":{\"x\":0.05},\"mapbox\":{\"style\":\"light\"}}},\"xaxis\":{\"anchor\":\"y\",\"domain\":[0.0,1.0],\"title\":{\"text\":\"organism\"}},\"yaxis\":{\"anchor\":\"x\",\"domain\":[0.7,1.0],\"title\":{\"text\":\"count (log scale)\"},\"type\":\"log\"},\"xaxis2\":{\"anchor\":\"y2\",\"domain\":[0.0,1.0],\"title\":{\"text\":\"organism\"}},\"yaxis2\":{\"anchor\":\"x2\",\"domain\":[0.0,0.3],\"title\":{\"text\":\"count (log scale)\"},\"type\":\"log\"},\"annotations\":[{\"font\":{\"size\":16},\"showarrow\":false,\"text\":\"Organism Name Interactor A\",\"x\":0.5,\"xanchor\":\"center\",\"xref\":\"paper\",\"y\":1.0,\"yanchor\":\"bottom\",\"yref\":\"paper\"},{\"font\":{\"size\":16},\"showarrow\":false,\"text\":\"Organism Name Interactor B\",\"x\":0.5,\"xanchor\":\"center\",\"xref\":\"paper\",\"y\":0.3,\"yanchor\":\"bottom\",\"yref\":\"paper\"}],\"title\":{\"text\":\"Distribution of Organism Name Interactor A e B\"},\"height\":1000,\"showlegend\":false},                        {\"responsive\": true}                    ).then(function(){\n",
              "                            \n",
              "var gd = document.getElementById('298f08f8-1a50-4a93-8ce5-50e09deb3b08');\n",
              "var x = new MutationObserver(function (mutations, observer) {{\n",
              "        var display = window.getComputedStyle(gd).display;\n",
              "        if (!display || display === 'none') {{\n",
              "            console.log([gd, 'removed!']);\n",
              "            Plotly.purge(gd);\n",
              "            observer.disconnect();\n",
              "        }}\n",
              "}});\n",
              "\n",
              "// Listen for the removal of the full notebook cells\n",
              "var notebookContainer = gd.closest('#notebook-container');\n",
              "if (notebookContainer) {{\n",
              "    x.observe(notebookContainer, {childList: true});\n",
              "}}\n",
              "\n",
              "// Listen for the clearing of the current output cell\n",
              "var outputEl = gd.closest('.output');\n",
              "if (outputEl) {{\n",
              "    x.observe(outputEl, {childList: true});\n",
              "}}\n",
              "\n",
              "                        })                };                            </script>        </div>\n",
              "</body>\n",
              "</html>"
            ]
          },
          "metadata": {}
        }
      ],
      "source": [
        "### Exploring interactions ###\n",
        "\n",
        "organism_a_counts = covid_df['Organism Name Interactor A'].value_counts().reset_index()\n",
        "organism_a_counts.columns = ['Organism', 'Count']\n",
        "\n",
        "organism_b_counts = covid_df['Organism Name Interactor B'].value_counts().reset_index()\n",
        "organism_b_counts.columns = ['Organism', 'Count']\n",
        "\n",
        "num_colors_a = len(organism_a_counts)\n",
        "num_colors_b = len(organism_b_counts)\n",
        "colors_a = pc.sample_colorscale('Viridis', [n/(num_colors_a-1) for n in range(num_colors_a)])\n",
        "colors_b = pc.sample_colorscale('Viridis', [n/(num_colors_b-1) for n in range(num_colors_b)])\n",
        "\n",
        "# Plot\n",
        "fig = make_subplots(rows = 2, cols = 1, subplot_titles = ('Organism Name Interactor A',\n",
        "                                                          'Organism Name Interactor B'), vertical_spacing = 0.4)\n",
        "\n",
        "fig.add_trace(go.Bar(x = organism_a_counts['Organism'],\n",
        "                     y = organism_a_counts['Count'],\n",
        "                     orientation = 'v',\n",
        "                     marker = dict(color = colors_a),\n",
        "                     showlegend = False),\n",
        "              row = 1, col = 1)\n",
        "\n",
        "fig.add_trace(go.Bar(x = organism_b_counts['Organism'],\n",
        "                     y = organism_b_counts['Count'],\n",
        "                     orientation = 'v',\n",
        "                     marker = dict(color = colors_b),\n",
        "                     showlegend = False),\n",
        "              row = 2, col = 1)\n",
        "\n",
        "fig.update_yaxes(type = 'log', title_text = \"count (log scale)\", row = 1, col = 1)\n",
        "fig.update_yaxes(type = 'log', title_text = \"count (log scale)\", row = 2, col = 1)\n",
        "fig.update_xaxes(title_text = \"organism\", row = 1, col = 1)\n",
        "fig.update_xaxes(title_text = \"organism\", row = 2, col = 1)\n",
        "fig.update_layout(height = 1000,\n",
        "                  title_text = \"Distribution of Organism Name Interactor A e B\",\n",
        "                  showlegend = False)\n",
        "\n",
        "fig.show()"
      ]
    },
    {
      "cell_type": "code",
      "execution_count": 21,
      "metadata": {
        "id": "viMnCJsMwoza",
        "outputId": "85236e7f-22d0-4617-ca4d-3cb400a315d8",
        "colab": {
          "base_uri": "https://localhost:8080/",
          "height": 669
        }
      },
      "outputs": [
        {
          "output_type": "stream",
          "name": "stdout",
          "text": [
            "\n",
            "'BioGRID ID' corresponds to only one 'Organism Name' ---> It's a valid identifier for interactors!\n",
            "\n"
          ]
        },
        {
          "output_type": "display_data",
          "data": {
            "text/html": [
              "<html>\n",
              "<head><meta charset=\"utf-8\" /></head>\n",
              "<body>\n",
              "    <div>            <script src=\"https://cdnjs.cloudflare.com/ajax/libs/mathjax/2.7.5/MathJax.js?config=TeX-AMS-MML_SVG\"></script><script type=\"text/javascript\">if (window.MathJax && window.MathJax.Hub && window.MathJax.Hub.Config) {window.MathJax.Hub.Config({SVG: {font: \"STIX-Web\"}});}</script>                <script type=\"text/javascript\">window.PlotlyConfig = {MathJaxConfig: 'local'};</script>\n",
              "        <script charset=\"utf-8\" src=\"https://cdn.plot.ly/plotly-2.24.1.min.js\"></script>                <div id=\"03e0e6cf-9b44-42e5-abf8-fdc537c320b8\" class=\"plotly-graph-div\" style=\"height:600px; width:100%;\"></div>            <script type=\"text/javascript\">                                    window.PLOTLYENV=window.PLOTLYENV || {};                                    if (document.getElementById(\"03e0e6cf-9b44-42e5-abf8-fdc537c320b8\")) {                    Plotly.newPlot(                        \"03e0e6cf-9b44-42e5-abf8-fdc537c320b8\",                        [{\"alignmentgroup\":\"True\",\"hovertemplate\":\"Organism=%{x}\\u003cbr\\u003eCount=%{y}\\u003cextra\\u003e\\u003c\\u002fextra\\u003e\",\"legendgroup\":\"Homo sapiens\",\"marker\":{\"color\":\"rgb(13, 8, 135)\",\"pattern\":{\"shape\":\"\"}},\"name\":\"Homo sapiens\",\"offsetgroup\":\"Homo sapiens\",\"orientation\":\"v\",\"showlegend\":true,\"textposition\":\"auto\",\"x\":[\"Homo sapiens\"],\"xaxis\":\"x\",\"y\":[7238],\"yaxis\":\"y\",\"type\":\"bar\"},{\"alignmentgroup\":\"True\",\"hovertemplate\":\"Organism=%{x}\\u003cbr\\u003eCount=%{y}\\u003cextra\\u003e\\u003c\\u002fextra\\u003e\",\"legendgroup\":\"Severe acute respiratory syndrome-related coronavirus\",\"marker\":{\"color\":\"rgb(47, 5, 149)\",\"pattern\":{\"shape\":\"\"}},\"name\":\"Severe acute respiratory syndrome-related coronavirus\",\"offsetgroup\":\"Severe acute respiratory syndrome-related coronavirus\",\"orientation\":\"v\",\"showlegend\":true,\"textposition\":\"auto\",\"x\":[\"Severe acute respiratory syndrome-related coronavirus\"],\"xaxis\":\"x\",\"y\":[35],\"yaxis\":\"y\",\"type\":\"bar\"},{\"alignmentgroup\":\"True\",\"hovertemplate\":\"Organism=%{x}\\u003cbr\\u003eCount=%{y}\\u003cextra\\u003e\\u003c\\u002fextra\\u003e\",\"legendgroup\":\"Severe acute respiratory syndrome coronavirus 2\",\"marker\":{\"color\":\"rgb(79, 3, 161)\",\"pattern\":{\"shape\":\"\"}},\"name\":\"Severe acute respiratory syndrome coronavirus 2\",\"offsetgroup\":\"Severe acute respiratory syndrome coronavirus 2\",\"orientation\":\"v\",\"showlegend\":true,\"textposition\":\"auto\",\"x\":[\"Severe acute respiratory syndrome coronavirus 2\"],\"xaxis\":\"x\",\"y\":[32],\"yaxis\":\"y\",\"type\":\"bar\"},{\"alignmentgroup\":\"True\",\"hovertemplate\":\"Organism=%{x}\\u003cbr\\u003eCount=%{y}\\u003cextra\\u003e\\u003c\\u002fextra\\u003e\",\"legendgroup\":\"Middle-East Respiratory Syndrome-related Coronavirus\",\"marker\":{\"color\":\"rgb(105, 1, 166)\",\"pattern\":{\"shape\":\"\"}},\"name\":\"Middle-East Respiratory Syndrome-related Coronavirus\",\"offsetgroup\":\"Middle-East Respiratory Syndrome-related Coronavirus\",\"orientation\":\"v\",\"showlegend\":true,\"textposition\":\"auto\",\"x\":[\"Middle-East Respiratory Syndrome-related Coronavirus\"],\"xaxis\":\"x\",\"y\":[24],\"yaxis\":\"y\",\"type\":\"bar\"},{\"alignmentgroup\":\"True\",\"hovertemplate\":\"Organism=%{x}\\u003cbr\\u003eCount=%{y}\\u003cextra\\u003e\\u003c\\u002fextra\\u003e\",\"legendgroup\":\"Mus musculus\",\"marker\":{\"color\":\"rgb(131, 10, 164)\",\"pattern\":{\"shape\":\"\"}},\"name\":\"Mus musculus\",\"offsetgroup\":\"Mus musculus\",\"orientation\":\"v\",\"showlegend\":true,\"textposition\":\"auto\",\"x\":[\"Mus musculus\"],\"xaxis\":\"x\",\"y\":[18],\"yaxis\":\"y\",\"type\":\"bar\"},{\"alignmentgroup\":\"True\",\"hovertemplate\":\"Organism=%{x}\\u003cbr\\u003eCount=%{y}\\u003cextra\\u003e\\u003c\\u002fextra\\u003e\",\"legendgroup\":\"Bos taurus\",\"marker\":{\"color\":\"rgb(156, 23, 158)\",\"pattern\":{\"shape\":\"\"}},\"name\":\"Bos taurus\",\"offsetgroup\":\"Bos taurus\",\"orientation\":\"v\",\"showlegend\":true,\"textposition\":\"auto\",\"x\":[\"Bos taurus\"],\"xaxis\":\"x\",\"y\":[2],\"yaxis\":\"y\",\"type\":\"bar\"},{\"alignmentgroup\":\"True\",\"hovertemplate\":\"Organism=%{x}\\u003cbr\\u003eCount=%{y}\\u003cextra\\u003e\\u003c\\u002fextra\\u003e\",\"legendgroup\":\"Macaca mulatta\",\"marker\":{\"color\":\"rgb(176, 42, 144)\",\"pattern\":{\"shape\":\"\"}},\"name\":\"Macaca mulatta\",\"offsetgroup\":\"Macaca mulatta\",\"orientation\":\"v\",\"showlegend\":true,\"textposition\":\"auto\",\"x\":[\"Macaca mulatta\"],\"xaxis\":\"x\",\"y\":[1],\"yaxis\":\"y\",\"type\":\"bar\"},{\"alignmentgroup\":\"True\",\"hovertemplate\":\"Organism=%{x}\\u003cbr\\u003eCount=%{y}\\u003cextra\\u003e\\u003c\\u002fextra\\u003e\",\"legendgroup\":\"Sus scrofa\",\"marker\":{\"color\":\"rgb(194, 61, 129)\",\"pattern\":{\"shape\":\"\"}},\"name\":\"Sus scrofa\",\"offsetgroup\":\"Sus scrofa\",\"orientation\":\"v\",\"showlegend\":true,\"textposition\":\"auto\",\"x\":[\"Sus scrofa\"],\"xaxis\":\"x\",\"y\":[1],\"yaxis\":\"y\",\"type\":\"bar\"},{\"alignmentgroup\":\"True\",\"hovertemplate\":\"Organism=%{x}\\u003cbr\\u003eCount=%{y}\\u003cextra\\u003e\\u003c\\u002fextra\\u003e\",\"legendgroup\":\"Danio rerio\",\"marker\":{\"color\":\"rgb(211, 81, 112)\",\"pattern\":{\"shape\":\"\"}},\"name\":\"Danio rerio\",\"offsetgroup\":\"Danio rerio\",\"orientation\":\"v\",\"showlegend\":true,\"textposition\":\"auto\",\"x\":[\"Danio rerio\"],\"xaxis\":\"x\",\"y\":[1],\"yaxis\":\"y\",\"type\":\"bar\"},{\"alignmentgroup\":\"True\",\"hovertemplate\":\"Organism=%{x}\\u003cbr\\u003eCount=%{y}\\u003cextra\\u003e\\u003c\\u002fextra\\u003e\",\"legendgroup\":\"Rattus norvegicus\",\"marker\":{\"color\":\"rgb(224, 101, 97)\",\"pattern\":{\"shape\":\"\"}},\"name\":\"Rattus norvegicus\",\"offsetgroup\":\"Rattus norvegicus\",\"orientation\":\"v\",\"showlegend\":true,\"textposition\":\"auto\",\"x\":[\"Rattus norvegicus\"],\"xaxis\":\"x\",\"y\":[1],\"yaxis\":\"y\",\"type\":\"bar\"},{\"alignmentgroup\":\"True\",\"hovertemplate\":\"Organism=%{x}\\u003cbr\\u003eCount=%{y}\\u003cextra\\u003e\\u003c\\u002fextra\\u003e\",\"legendgroup\":\"Canis familiaris\",\"marker\":{\"color\":\"rgb(237, 121, 83)\",\"pattern\":{\"shape\":\"\"}},\"name\":\"Canis familiaris\",\"offsetgroup\":\"Canis familiaris\",\"orientation\":\"v\",\"showlegend\":true,\"textposition\":\"auto\",\"x\":[\"Canis familiaris\"],\"xaxis\":\"x\",\"y\":[1],\"yaxis\":\"y\",\"type\":\"bar\"},{\"alignmentgroup\":\"True\",\"hovertemplate\":\"Organism=%{x}\\u003cbr\\u003eCount=%{y}\\u003cextra\\u003e\\u003c\\u002fextra\\u003e\",\"legendgroup\":\"Felis Catus\",\"marker\":{\"color\":\"rgb(245, 144, 68)\",\"pattern\":{\"shape\":\"\"}},\"name\":\"Felis Catus\",\"offsetgroup\":\"Felis Catus\",\"orientation\":\"v\",\"showlegend\":true,\"textposition\":\"auto\",\"x\":[\"Felis Catus\"],\"xaxis\":\"x\",\"y\":[1],\"yaxis\":\"y\",\"type\":\"bar\"},{\"alignmentgroup\":\"True\",\"hovertemplate\":\"Organism=%{x}\\u003cbr\\u003eCount=%{y}\\u003cextra\\u003e\\u003c\\u002fextra\\u003e\",\"legendgroup\":\"Saccharomyces cerevisiae (S288c)\",\"marker\":{\"color\":\"rgb(251, 168, 54)\",\"pattern\":{\"shape\":\"\"}},\"name\":\"Saccharomyces cerevisiae (S288c)\",\"offsetgroup\":\"Saccharomyces cerevisiae (S288c)\",\"orientation\":\"v\",\"showlegend\":true,\"textposition\":\"auto\",\"x\":[\"Saccharomyces cerevisiae (S288c)\"],\"xaxis\":\"x\",\"y\":[1],\"yaxis\":\"y\",\"type\":\"bar\"},{\"alignmentgroup\":\"True\",\"hovertemplate\":\"Organism=%{x}\\u003cbr\\u003eCount=%{y}\\u003cextra\\u003e\\u003c\\u002fextra\\u003e\",\"legendgroup\":\"Schizosaccharomyces pombe (972h)\",\"marker\":{\"color\":\"rgb(253, 193, 42)\",\"pattern\":{\"shape\":\"\"}},\"name\":\"Schizosaccharomyces pombe (972h)\",\"offsetgroup\":\"Schizosaccharomyces pombe (972h)\",\"orientation\":\"v\",\"showlegend\":true,\"textposition\":\"auto\",\"x\":[\"Schizosaccharomyces pombe (972h)\"],\"xaxis\":\"x\",\"y\":[1],\"yaxis\":\"y\",\"type\":\"bar\"},{\"alignmentgroup\":\"True\",\"hovertemplate\":\"Organism=%{x}\\u003cbr\\u003eCount=%{y}\\u003cextra\\u003e\\u003c\\u002fextra\\u003e\",\"legendgroup\":\"Human Immunodeficiency Virus 1\",\"marker\":{\"color\":\"rgb(248, 221, 36)\",\"pattern\":{\"shape\":\"\"}},\"name\":\"Human Immunodeficiency Virus 1\",\"offsetgroup\":\"Human Immunodeficiency Virus 1\",\"orientation\":\"v\",\"showlegend\":true,\"textposition\":\"auto\",\"x\":[\"Human Immunodeficiency Virus 1\"],\"xaxis\":\"x\",\"y\":[1],\"yaxis\":\"y\",\"type\":\"bar\"},{\"alignmentgroup\":\"True\",\"hovertemplate\":\"Organism=%{x}\\u003cbr\\u003eCount=%{y}\\u003cextra\\u003e\\u003c\\u002fextra\\u003e\",\"legendgroup\":\"Gallus gallus\",\"marker\":{\"color\":\"rgb(240, 249, 33)\",\"pattern\":{\"shape\":\"\"}},\"name\":\"Gallus gallus\",\"offsetgroup\":\"Gallus gallus\",\"orientation\":\"v\",\"showlegend\":true,\"textposition\":\"auto\",\"x\":[\"Gallus gallus\"],\"xaxis\":\"x\",\"y\":[1],\"yaxis\":\"y\",\"type\":\"bar\"}],                        {\"template\":{\"data\":{\"histogram2dcontour\":[{\"type\":\"histogram2dcontour\",\"colorbar\":{\"outlinewidth\":0,\"ticks\":\"\"},\"colorscale\":[[0.0,\"#0d0887\"],[0.1111111111111111,\"#46039f\"],[0.2222222222222222,\"#7201a8\"],[0.3333333333333333,\"#9c179e\"],[0.4444444444444444,\"#bd3786\"],[0.5555555555555556,\"#d8576b\"],[0.6666666666666666,\"#ed7953\"],[0.7777777777777778,\"#fb9f3a\"],[0.8888888888888888,\"#fdca26\"],[1.0,\"#f0f921\"]]}],\"choropleth\":[{\"type\":\"choropleth\",\"colorbar\":{\"outlinewidth\":0,\"ticks\":\"\"}}],\"histogram2d\":[{\"type\":\"histogram2d\",\"colorbar\":{\"outlinewidth\":0,\"ticks\":\"\"},\"colorscale\":[[0.0,\"#0d0887\"],[0.1111111111111111,\"#46039f\"],[0.2222222222222222,\"#7201a8\"],[0.3333333333333333,\"#9c179e\"],[0.4444444444444444,\"#bd3786\"],[0.5555555555555556,\"#d8576b\"],[0.6666666666666666,\"#ed7953\"],[0.7777777777777778,\"#fb9f3a\"],[0.8888888888888888,\"#fdca26\"],[1.0,\"#f0f921\"]]}],\"heatmap\":[{\"type\":\"heatmap\",\"colorbar\":{\"outlinewidth\":0,\"ticks\":\"\"},\"colorscale\":[[0.0,\"#0d0887\"],[0.1111111111111111,\"#46039f\"],[0.2222222222222222,\"#7201a8\"],[0.3333333333333333,\"#9c179e\"],[0.4444444444444444,\"#bd3786\"],[0.5555555555555556,\"#d8576b\"],[0.6666666666666666,\"#ed7953\"],[0.7777777777777778,\"#fb9f3a\"],[0.8888888888888888,\"#fdca26\"],[1.0,\"#f0f921\"]]}],\"heatmapgl\":[{\"type\":\"heatmapgl\",\"colorbar\":{\"outlinewidth\":0,\"ticks\":\"\"},\"colorscale\":[[0.0,\"#0d0887\"],[0.1111111111111111,\"#46039f\"],[0.2222222222222222,\"#7201a8\"],[0.3333333333333333,\"#9c179e\"],[0.4444444444444444,\"#bd3786\"],[0.5555555555555556,\"#d8576b\"],[0.6666666666666666,\"#ed7953\"],[0.7777777777777778,\"#fb9f3a\"],[0.8888888888888888,\"#fdca26\"],[1.0,\"#f0f921\"]]}],\"contourcarpet\":[{\"type\":\"contourcarpet\",\"colorbar\":{\"outlinewidth\":0,\"ticks\":\"\"}}],\"contour\":[{\"type\":\"contour\",\"colorbar\":{\"outlinewidth\":0,\"ticks\":\"\"},\"colorscale\":[[0.0,\"#0d0887\"],[0.1111111111111111,\"#46039f\"],[0.2222222222222222,\"#7201a8\"],[0.3333333333333333,\"#9c179e\"],[0.4444444444444444,\"#bd3786\"],[0.5555555555555556,\"#d8576b\"],[0.6666666666666666,\"#ed7953\"],[0.7777777777777778,\"#fb9f3a\"],[0.8888888888888888,\"#fdca26\"],[1.0,\"#f0f921\"]]}],\"surface\":[{\"type\":\"surface\",\"colorbar\":{\"outlinewidth\":0,\"ticks\":\"\"},\"colorscale\":[[0.0,\"#0d0887\"],[0.1111111111111111,\"#46039f\"],[0.2222222222222222,\"#7201a8\"],[0.3333333333333333,\"#9c179e\"],[0.4444444444444444,\"#bd3786\"],[0.5555555555555556,\"#d8576b\"],[0.6666666666666666,\"#ed7953\"],[0.7777777777777778,\"#fb9f3a\"],[0.8888888888888888,\"#fdca26\"],[1.0,\"#f0f921\"]]}],\"mesh3d\":[{\"type\":\"mesh3d\",\"colorbar\":{\"outlinewidth\":0,\"ticks\":\"\"}}],\"scatter\":[{\"fillpattern\":{\"fillmode\":\"overlay\",\"size\":10,\"solidity\":0.2},\"type\":\"scatter\"}],\"parcoords\":[{\"type\":\"parcoords\",\"line\":{\"colorbar\":{\"outlinewidth\":0,\"ticks\":\"\"}}}],\"scatterpolargl\":[{\"type\":\"scatterpolargl\",\"marker\":{\"colorbar\":{\"outlinewidth\":0,\"ticks\":\"\"}}}],\"bar\":[{\"error_x\":{\"color\":\"#2a3f5f\"},\"error_y\":{\"color\":\"#2a3f5f\"},\"marker\":{\"line\":{\"color\":\"#E5ECF6\",\"width\":0.5},\"pattern\":{\"fillmode\":\"overlay\",\"size\":10,\"solidity\":0.2}},\"type\":\"bar\"}],\"scattergeo\":[{\"type\":\"scattergeo\",\"marker\":{\"colorbar\":{\"outlinewidth\":0,\"ticks\":\"\"}}}],\"scatterpolar\":[{\"type\":\"scatterpolar\",\"marker\":{\"colorbar\":{\"outlinewidth\":0,\"ticks\":\"\"}}}],\"histogram\":[{\"marker\":{\"pattern\":{\"fillmode\":\"overlay\",\"size\":10,\"solidity\":0.2}},\"type\":\"histogram\"}],\"scattergl\":[{\"type\":\"scattergl\",\"marker\":{\"colorbar\":{\"outlinewidth\":0,\"ticks\":\"\"}}}],\"scatter3d\":[{\"type\":\"scatter3d\",\"line\":{\"colorbar\":{\"outlinewidth\":0,\"ticks\":\"\"}},\"marker\":{\"colorbar\":{\"outlinewidth\":0,\"ticks\":\"\"}}}],\"scattermapbox\":[{\"type\":\"scattermapbox\",\"marker\":{\"colorbar\":{\"outlinewidth\":0,\"ticks\":\"\"}}}],\"scatterternary\":[{\"type\":\"scatterternary\",\"marker\":{\"colorbar\":{\"outlinewidth\":0,\"ticks\":\"\"}}}],\"scattercarpet\":[{\"type\":\"scattercarpet\",\"marker\":{\"colorbar\":{\"outlinewidth\":0,\"ticks\":\"\"}}}],\"carpet\":[{\"aaxis\":{\"endlinecolor\":\"#2a3f5f\",\"gridcolor\":\"white\",\"linecolor\":\"white\",\"minorgridcolor\":\"white\",\"startlinecolor\":\"#2a3f5f\"},\"baxis\":{\"endlinecolor\":\"#2a3f5f\",\"gridcolor\":\"white\",\"linecolor\":\"white\",\"minorgridcolor\":\"white\",\"startlinecolor\":\"#2a3f5f\"},\"type\":\"carpet\"}],\"table\":[{\"cells\":{\"fill\":{\"color\":\"#EBF0F8\"},\"line\":{\"color\":\"white\"}},\"header\":{\"fill\":{\"color\":\"#C8D4E3\"},\"line\":{\"color\":\"white\"}},\"type\":\"table\"}],\"barpolar\":[{\"marker\":{\"line\":{\"color\":\"#E5ECF6\",\"width\":0.5},\"pattern\":{\"fillmode\":\"overlay\",\"size\":10,\"solidity\":0.2}},\"type\":\"barpolar\"}],\"pie\":[{\"automargin\":true,\"type\":\"pie\"}]},\"layout\":{\"autotypenumbers\":\"strict\",\"colorway\":[\"#636efa\",\"#EF553B\",\"#00cc96\",\"#ab63fa\",\"#FFA15A\",\"#19d3f3\",\"#FF6692\",\"#B6E880\",\"#FF97FF\",\"#FECB52\"],\"font\":{\"color\":\"#2a3f5f\"},\"hovermode\":\"closest\",\"hoverlabel\":{\"align\":\"left\"},\"paper_bgcolor\":\"white\",\"plot_bgcolor\":\"#E5ECF6\",\"polar\":{\"bgcolor\":\"#E5ECF6\",\"angularaxis\":{\"gridcolor\":\"white\",\"linecolor\":\"white\",\"ticks\":\"\"},\"radialaxis\":{\"gridcolor\":\"white\",\"linecolor\":\"white\",\"ticks\":\"\"}},\"ternary\":{\"bgcolor\":\"#E5ECF6\",\"aaxis\":{\"gridcolor\":\"white\",\"linecolor\":\"white\",\"ticks\":\"\"},\"baxis\":{\"gridcolor\":\"white\",\"linecolor\":\"white\",\"ticks\":\"\"},\"caxis\":{\"gridcolor\":\"white\",\"linecolor\":\"white\",\"ticks\":\"\"}},\"coloraxis\":{\"colorbar\":{\"outlinewidth\":0,\"ticks\":\"\"}},\"colorscale\":{\"sequential\":[[0.0,\"#0d0887\"],[0.1111111111111111,\"#46039f\"],[0.2222222222222222,\"#7201a8\"],[0.3333333333333333,\"#9c179e\"],[0.4444444444444444,\"#bd3786\"],[0.5555555555555556,\"#d8576b\"],[0.6666666666666666,\"#ed7953\"],[0.7777777777777778,\"#fb9f3a\"],[0.8888888888888888,\"#fdca26\"],[1.0,\"#f0f921\"]],\"sequentialminus\":[[0.0,\"#0d0887\"],[0.1111111111111111,\"#46039f\"],[0.2222222222222222,\"#7201a8\"],[0.3333333333333333,\"#9c179e\"],[0.4444444444444444,\"#bd3786\"],[0.5555555555555556,\"#d8576b\"],[0.6666666666666666,\"#ed7953\"],[0.7777777777777778,\"#fb9f3a\"],[0.8888888888888888,\"#fdca26\"],[1.0,\"#f0f921\"]],\"diverging\":[[0,\"#8e0152\"],[0.1,\"#c51b7d\"],[0.2,\"#de77ae\"],[0.3,\"#f1b6da\"],[0.4,\"#fde0ef\"],[0.5,\"#f7f7f7\"],[0.6,\"#e6f5d0\"],[0.7,\"#b8e186\"],[0.8,\"#7fbc41\"],[0.9,\"#4d9221\"],[1,\"#276419\"]]},\"xaxis\":{\"gridcolor\":\"white\",\"linecolor\":\"white\",\"ticks\":\"\",\"title\":{\"standoff\":15},\"zerolinecolor\":\"white\",\"automargin\":true,\"zerolinewidth\":2},\"yaxis\":{\"gridcolor\":\"white\",\"linecolor\":\"white\",\"ticks\":\"\",\"title\":{\"standoff\":15},\"zerolinecolor\":\"white\",\"automargin\":true,\"zerolinewidth\":2},\"scene\":{\"xaxis\":{\"backgroundcolor\":\"#E5ECF6\",\"gridcolor\":\"white\",\"linecolor\":\"white\",\"showbackground\":true,\"ticks\":\"\",\"zerolinecolor\":\"white\",\"gridwidth\":2},\"yaxis\":{\"backgroundcolor\":\"#E5ECF6\",\"gridcolor\":\"white\",\"linecolor\":\"white\",\"showbackground\":true,\"ticks\":\"\",\"zerolinecolor\":\"white\",\"gridwidth\":2},\"zaxis\":{\"backgroundcolor\":\"#E5ECF6\",\"gridcolor\":\"white\",\"linecolor\":\"white\",\"showbackground\":true,\"ticks\":\"\",\"zerolinecolor\":\"white\",\"gridwidth\":2}},\"shapedefaults\":{\"line\":{\"color\":\"#2a3f5f\"}},\"annotationdefaults\":{\"arrowcolor\":\"#2a3f5f\",\"arrowhead\":0,\"arrowwidth\":1},\"geo\":{\"bgcolor\":\"white\",\"landcolor\":\"#E5ECF6\",\"subunitcolor\":\"white\",\"showland\":true,\"showlakes\":true,\"lakecolor\":\"white\"},\"title\":{\"x\":0.05},\"mapbox\":{\"style\":\"light\"}}},\"xaxis\":{\"anchor\":\"y\",\"domain\":[0.0,1.0],\"title\":{\"text\":\"organism\"},\"categoryorder\":\"array\",\"categoryarray\":[\"Homo sapiens\",\"Severe acute respiratory syndrome-related coronavirus\",\"Severe acute respiratory syndrome coronavirus 2\",\"Middle-East Respiratory Syndrome-related Coronavirus\",\"Mus musculus\",\"Bos taurus\",\"Macaca mulatta\",\"Sus scrofa\",\"Danio rerio\",\"Rattus norvegicus\",\"Canis familiaris\",\"Felis Catus\",\"Saccharomyces cerevisiae (S288c)\",\"Schizosaccharomyces pombe (972h)\",\"Human Immunodeficiency Virus 1\",\"Gallus gallus\"]},\"yaxis\":{\"anchor\":\"x\",\"domain\":[0.0,1.0],\"title\":{\"text\":\"count (log scale)\"},\"type\":\"log\"},\"legend\":{\"title\":{\"text\":\"Organism\"},\"tracegroupgap\":0},\"title\":{\"text\":\"Organisms overall involved\"},\"barmode\":\"relative\",\"height\":600,\"showlegend\":false},                        {\"responsive\": true}                    ).then(function(){\n",
              "                            \n",
              "var gd = document.getElementById('03e0e6cf-9b44-42e5-abf8-fdc537c320b8');\n",
              "var x = new MutationObserver(function (mutations, observer) {{\n",
              "        var display = window.getComputedStyle(gd).display;\n",
              "        if (!display || display === 'none') {{\n",
              "            console.log([gd, 'removed!']);\n",
              "            Plotly.purge(gd);\n",
              "            observer.disconnect();\n",
              "        }}\n",
              "}});\n",
              "\n",
              "// Listen for the removal of the full notebook cells\n",
              "var notebookContainer = gd.closest('#notebook-container');\n",
              "if (notebookContainer) {{\n",
              "    x.observe(notebookContainer, {childList: true});\n",
              "}}\n",
              "\n",
              "// Listen for the clearing of the current output cell\n",
              "var outputEl = gd.closest('.output');\n",
              "if (outputEl) {{\n",
              "    x.observe(outputEl, {childList: true});\n",
              "}}\n",
              "\n",
              "                        })                };                            </script>        </div>\n",
              "</body>\n",
              "</html>"
            ]
          },
          "metadata": {}
        }
      ],
      "source": [
        "### Exploring interactors ###\n",
        "\n",
        "interactor_a = covid_df[['BioGRID ID Interactor A', 'Organism Name Interactor A']]\n",
        "interactor_a.columns = ['BioGRID ID', 'Organism Name']\n",
        "\n",
        "interactor_b = covid_df[['BioGRID ID Interactor B', 'Organism Name Interactor B']]\n",
        "interactor_b.columns = ['BioGRID ID', 'Organism Name']\n",
        "\n",
        "interactors = pd.concat([interactor_a, interactor_b])\n",
        "\n",
        "id_grouped = interactors.groupby('BioGRID ID')['Organism Name'].nunique()\n",
        "\n",
        "if all(id_grouped == 1):\n",
        "\n",
        "    print(\"\\n'BioGRID ID' corresponds to only one 'Organism Name' ---> It's a valid identifier for interactors!\\n\")\n",
        "\n",
        "    interactors.drop_duplicates(subset = ['BioGRID ID'], inplace = True)\n",
        "\n",
        "    organisms_counts = interactors['Organism Name'].value_counts().reset_index()\n",
        "    organisms_counts.columns = ['Organism', 'Count']\n",
        "\n",
        "    num_colors = len(organisms_counts)\n",
        "    colors = pc.sample_colorscale('Plasma', [n / (num_colors - 1) for n in range(num_colors)])\n",
        "\n",
        "    # Plot\n",
        "    fig = px.bar(organisms_counts, x = 'Organism', y = 'Count',\n",
        "                title = 'Organisms overall involved',\n",
        "                color = 'Organism',\n",
        "                color_discrete_sequence = colors)\n",
        "\n",
        "    fig.update_layout(yaxis_type = 'log', yaxis_title = \"count (log scale)\", xaxis_title = \"organism\", height = 600, showlegend = False)\n",
        "\n",
        "    fig.show()\n",
        "else:\n",
        "    print(\"[ERROR]: 'BioGRID ID' corresponds to more than one 'Organism Name'!\")"
      ]
    },
    {
      "cell_type": "code",
      "execution_count": 22,
      "metadata": {
        "id": "Hissy6jYwozc",
        "outputId": "cf85f5f9-64eb-4df4-d31f-923e15184eec",
        "colab": {
          "base_uri": "https://localhost:8080/"
        }
      },
      "outputs": [
        {
          "output_type": "stream",
          "name": "stdout",
          "text": [
            "Datasets size ratio: 0.9007\n",
            "New dataset dimension: 40328 observations\n"
          ]
        }
      ],
      "source": [
        "# Keeping only the interactions with High Throughput\n",
        "filtered_df = covid_df[covid_df['Throughput'] == 'High Throughput']\n",
        "\n",
        "print('Datasets size ratio:', round(filtered_df.shape[0] / covid_df.shape[0], 4))\n",
        "print('New dataset dimension:', filtered_df.shape[0], 'observations')"
      ]
    },
    {
      "cell_type": "markdown",
      "metadata": {
        "id": "-MRRTP6Dwozd"
      },
      "source": [
        "In this project, we are especially interested in investigating the impact of the different Coronavirus agents on the human population and the structural relationships between their proteins. Therefore, we will limit our analysis to the interactor proteins belonging to the organism categories of Homo sapiens, SARS-CoV-2, SARS-CoV and MERS-CoV."
      ]
    },
    {
      "cell_type": "code",
      "execution_count": 23,
      "metadata": {
        "colab": {
          "base_uri": "https://localhost:8080/"
        },
        "id": "2gnH0HXpzhoX",
        "outputId": "e340b512-631d-492e-a5d0-f517867eb5b8"
      },
      "outputs": [
        {
          "output_type": "stream",
          "name": "stdout",
          "text": [
            "Original organisms in the dataset:\n",
            "\n",
            "['Severe acute respiratory syndrome coronavirus 2' 'Homo sapiens'\n",
            " 'Severe acute respiratory syndrome-related coronavirus'\n",
            " 'Middle-East Respiratory Syndrome-related Coronavirus' 'Mus musculus'\n",
            " 'Bos taurus' 'Macaca mulatta' 'Sus scrofa' 'Danio rerio'\n",
            " 'Rattus norvegicus' 'Canis familiaris' 'Felis Catus'\n",
            " 'Saccharomyces cerevisiae (S288c)' 'Schizosaccharomyces pombe (972h)'\n",
            " 'Human Immunodeficiency Virus 1' 'Gallus gallus']\n",
            "\n",
            "-----------------------\n",
            "\n",
            "After filtering by \"Homo sapiens\":\n",
            "\n",
            "['Severe acute respiratory syndrome coronavirus 2'\n",
            " 'Severe acute respiratory syndrome-related coronavirus' 'Homo sapiens'\n",
            " 'Middle-East Respiratory Syndrome-related Coronavirus']\n",
            "\n",
            "Datasets size ratio: 0.8907\n",
            "New dataset dimension: 39883 observations\n",
            "\n",
            "-----------------------\n",
            "\n",
            "After filtering by \"Homo sapiens\", \"SARS-2\", \"SARS\" and \"MERS\":\n",
            "\n",
            "['Severe acute respiratory syndrome coronavirus 2'\n",
            " 'Severe acute respiratory syndrome-related coronavirus' 'Homo sapiens'\n",
            " 'Middle-East Respiratory Syndrome-related Coronavirus']\n",
            "\n",
            "Datasets size ratio: 0.9006\n",
            "New dataset dimension: 40324 observations\n"
          ]
        }
      ],
      "source": [
        "### Filtering by Organism Name ###\n",
        "\n",
        "# Check all the organisms originally present in the dataset\n",
        "print('Original organisms in the dataset:\\n')\n",
        "print(pd.concat([covid_df['Organism Name Interactor A'], covid_df['Organism Name Interactor B']]).unique())\n",
        "\n",
        "# Select interactions where at least one organism is 'Homo sapiens'\n",
        "human_df = filtered_df[(filtered_df['Organism Name Interactor A'] == 'Homo sapiens') | (filtered_df['Organism Name Interactor B'] == 'Homo sapiens')]\n",
        "human_df = human_df.reset_index(drop = True)\n",
        "\n",
        "print('\\n-----------------------\\n')\n",
        "print('After filtering by \"Homo sapiens\":\\n')\n",
        "print(pd.concat([human_df['Organism Name Interactor A'], human_df['Organism Name Interactor B']]).unique())\n",
        "print()\n",
        "print('Datasets size ratio:', round(human_df.shape[0] / covid_df.shape[0], 4))\n",
        "print('New dataset dimension:', human_df.shape[0], 'observations')\n",
        "\n",
        "# NEW FILTERING ---> to replace human_df\n",
        "# Select interactions where both organisms are one of the following\n",
        "organisms_of_interest = ['Homo sapiens',\n",
        "                         'Severe acute respiratory syndrome coronavirus 2',\n",
        "                         'Severe acute respiratory syndrome-related coronavirus',\n",
        "                         'Middle-East Respiratory Syndrome-related Coronavirus']\n",
        "\n",
        "filtered_df = filtered_df[(filtered_df['Organism Name Interactor A'].isin(organisms_of_interest)) &\n",
        "                          (filtered_df['Organism Name Interactor B'].isin(organisms_of_interest))]\n",
        "filtered_df = filtered_df.reset_index(drop = True)\n",
        "\n",
        "# Check organisms in the dataset after filtering\n",
        "print('\\n-----------------------\\n')\n",
        "print('After filtering by \"Homo sapiens\", \"SARS-2\", \"SARS\" and \"MERS\":\\n')\n",
        "print(pd.concat([filtered_df['Organism Name Interactor A'], filtered_df['Organism Name Interactor B']]).unique())\n",
        "print()\n",
        "print('Datasets size ratio:', round(filtered_df.shape[0] / covid_df.shape[0], 4))\n",
        "print('New dataset dimension:', filtered_df.shape[0], 'observations')"
      ]
    },
    {
      "cell_type": "markdown",
      "metadata": {
        "id": "t-9uAMPYwoze"
      },
      "source": [
        "**[NOTA PER NOI]**: filtrando non solo per Homo Sapiens, ma anche per SARS-2, SARS e MERS, non diminuiamo molto il numero di nodi ma potrebbe essere più utile per controllare se nei nostri dati c'è *omofilia*. Vedi dopo."
      ]
    },
    {
      "cell_type": "code",
      "execution_count": 25,
      "metadata": {
        "id": "mbZjEazdwozf",
        "outputId": "d1992ff1-e8c8-47f3-cffb-7656c8be1211",
        "colab": {
          "base_uri": "https://localhost:8080/"
        }
      },
      "outputs": [
        {
          "output_type": "stream",
          "name": "stdout",
          "text": [
            "Datasets size ratio: 0.6492\n",
            "New dataset dimension: 29070 observations\n"
          ]
        }
      ],
      "source": [
        "# Drop duplicated interactions\n",
        "filtered_df.drop_duplicates(subset = ['BioGRID ID Interactor A', 'BioGRID ID Interactor B'], keep = 'first', inplace = True)\n",
        "filtered_df.reset_index(drop = True, inplace = True)\n",
        "\n",
        "#filtered_df_for_graph = filtered_df[['BioGRID ID Interactor A', 'BioGRID ID Interactor B']]\n",
        "\n",
        "print('Datasets size ratio:', round(filtered_df.shape[0] / covid_df.shape[0], 4))\n",
        "print('New dataset dimension:', filtered_df.shape[0], 'observations')"
      ]
    },
    {
      "cell_type": "markdown",
      "source": [
        "We use the columns containing the **official symbols of the proteins** (`Official Symbol Interactor A` and` Official Symbol Interactor B`) to determine which proteins are involved in each interaction."
      ],
      "metadata": {
        "id": "5zdNw6n7zQHR"
      }
    },
    {
      "cell_type": "code",
      "execution_count": 61,
      "metadata": {
        "colab": {
          "base_uri": "https://localhost:8080/",
          "height": 206
        },
        "id": "9H8lQG2BeOd1",
        "outputId": "3a7a62b7-5f3b-45a1-a9c5-7ce0c478ad8a"
      },
      "outputs": [
        {
          "output_type": "execute_result",
          "data": {
            "text/plain": [
              "   BioGRID ID Interactor A  BioGRID ID Interactor B\n",
              "0                  4383845                   114116\n",
              "1                  4383845                   117036\n",
              "2                  4383845                   111973\n",
              "3                  4383845                   115572\n",
              "4                  4383845                   125858"
            ],
            "text/html": [
              "\n",
              "  <div id=\"df-86e66eda-3acd-4728-b924-25c4ca0c4013\" class=\"colab-df-container\">\n",
              "    <div>\n",
              "<style scoped>\n",
              "    .dataframe tbody tr th:only-of-type {\n",
              "        vertical-align: middle;\n",
              "    }\n",
              "\n",
              "    .dataframe tbody tr th {\n",
              "        vertical-align: top;\n",
              "    }\n",
              "\n",
              "    .dataframe thead th {\n",
              "        text-align: right;\n",
              "    }\n",
              "</style>\n",
              "<table border=\"1\" class=\"dataframe\">\n",
              "  <thead>\n",
              "    <tr style=\"text-align: right;\">\n",
              "      <th></th>\n",
              "      <th>BioGRID ID Interactor A</th>\n",
              "      <th>BioGRID ID Interactor B</th>\n",
              "    </tr>\n",
              "  </thead>\n",
              "  <tbody>\n",
              "    <tr>\n",
              "      <th>0</th>\n",
              "      <td>4383845</td>\n",
              "      <td>114116</td>\n",
              "    </tr>\n",
              "    <tr>\n",
              "      <th>1</th>\n",
              "      <td>4383845</td>\n",
              "      <td>117036</td>\n",
              "    </tr>\n",
              "    <tr>\n",
              "      <th>2</th>\n",
              "      <td>4383845</td>\n",
              "      <td>111973</td>\n",
              "    </tr>\n",
              "    <tr>\n",
              "      <th>3</th>\n",
              "      <td>4383845</td>\n",
              "      <td>115572</td>\n",
              "    </tr>\n",
              "    <tr>\n",
              "      <th>4</th>\n",
              "      <td>4383845</td>\n",
              "      <td>125858</td>\n",
              "    </tr>\n",
              "  </tbody>\n",
              "</table>\n",
              "</div>\n",
              "    <div class=\"colab-df-buttons\">\n",
              "\n",
              "  <div class=\"colab-df-container\">\n",
              "    <button class=\"colab-df-convert\" onclick=\"convertToInteractive('df-86e66eda-3acd-4728-b924-25c4ca0c4013')\"\n",
              "            title=\"Convert this dataframe to an interactive table.\"\n",
              "            style=\"display:none;\">\n",
              "\n",
              "  <svg xmlns=\"http://www.w3.org/2000/svg\" height=\"24px\" viewBox=\"0 -960 960 960\">\n",
              "    <path d=\"M120-120v-720h720v720H120Zm60-500h600v-160H180v160Zm220 220h160v-160H400v160Zm0 220h160v-160H400v160ZM180-400h160v-160H180v160Zm440 0h160v-160H620v160ZM180-180h160v-160H180v160Zm440 0h160v-160H620v160Z\"/>\n",
              "  </svg>\n",
              "    </button>\n",
              "\n",
              "  <style>\n",
              "    .colab-df-container {\n",
              "      display:flex;\n",
              "      gap: 12px;\n",
              "    }\n",
              "\n",
              "    .colab-df-convert {\n",
              "      background-color: #E8F0FE;\n",
              "      border: none;\n",
              "      border-radius: 50%;\n",
              "      cursor: pointer;\n",
              "      display: none;\n",
              "      fill: #1967D2;\n",
              "      height: 32px;\n",
              "      padding: 0 0 0 0;\n",
              "      width: 32px;\n",
              "    }\n",
              "\n",
              "    .colab-df-convert:hover {\n",
              "      background-color: #E2EBFA;\n",
              "      box-shadow: 0px 1px 2px rgba(60, 64, 67, 0.3), 0px 1px 3px 1px rgba(60, 64, 67, 0.15);\n",
              "      fill: #174EA6;\n",
              "    }\n",
              "\n",
              "    .colab-df-buttons div {\n",
              "      margin-bottom: 4px;\n",
              "    }\n",
              "\n",
              "    [theme=dark] .colab-df-convert {\n",
              "      background-color: #3B4455;\n",
              "      fill: #D2E3FC;\n",
              "    }\n",
              "\n",
              "    [theme=dark] .colab-df-convert:hover {\n",
              "      background-color: #434B5C;\n",
              "      box-shadow: 0px 1px 3px 1px rgba(0, 0, 0, 0.15);\n",
              "      filter: drop-shadow(0px 1px 2px rgba(0, 0, 0, 0.3));\n",
              "      fill: #FFFFFF;\n",
              "    }\n",
              "  </style>\n",
              "\n",
              "    <script>\n",
              "      const buttonEl =\n",
              "        document.querySelector('#df-86e66eda-3acd-4728-b924-25c4ca0c4013 button.colab-df-convert');\n",
              "      buttonEl.style.display =\n",
              "        google.colab.kernel.accessAllowed ? 'block' : 'none';\n",
              "\n",
              "      async function convertToInteractive(key) {\n",
              "        const element = document.querySelector('#df-86e66eda-3acd-4728-b924-25c4ca0c4013');\n",
              "        const dataTable =\n",
              "          await google.colab.kernel.invokeFunction('convertToInteractive',\n",
              "                                                    [key], {});\n",
              "        if (!dataTable) return;\n",
              "\n",
              "        const docLinkHtml = 'Like what you see? Visit the ' +\n",
              "          '<a target=\"_blank\" href=https://colab.research.google.com/notebooks/data_table.ipynb>data table notebook</a>'\n",
              "          + ' to learn more about interactive tables.';\n",
              "        element.innerHTML = '';\n",
              "        dataTable['output_type'] = 'display_data';\n",
              "        await google.colab.output.renderOutput(dataTable, element);\n",
              "        const docLink = document.createElement('div');\n",
              "        docLink.innerHTML = docLinkHtml;\n",
              "        element.appendChild(docLink);\n",
              "      }\n",
              "    </script>\n",
              "  </div>\n",
              "\n",
              "\n",
              "<div id=\"df-425b4b7a-ce0b-4023-acc9-0168a28bc0d5\">\n",
              "  <button class=\"colab-df-quickchart\" onclick=\"quickchart('df-425b4b7a-ce0b-4023-acc9-0168a28bc0d5')\"\n",
              "            title=\"Suggest charts\"\n",
              "            style=\"display:none;\">\n",
              "\n",
              "<svg xmlns=\"http://www.w3.org/2000/svg\" height=\"24px\"viewBox=\"0 0 24 24\"\n",
              "     width=\"24px\">\n",
              "    <g>\n",
              "        <path d=\"M19 3H5c-1.1 0-2 .9-2 2v14c0 1.1.9 2 2 2h14c1.1 0 2-.9 2-2V5c0-1.1-.9-2-2-2zM9 17H7v-7h2v7zm4 0h-2V7h2v10zm4 0h-2v-4h2v4z\"/>\n",
              "    </g>\n",
              "</svg>\n",
              "  </button>\n",
              "\n",
              "<style>\n",
              "  .colab-df-quickchart {\n",
              "      --bg-color: #E8F0FE;\n",
              "      --fill-color: #1967D2;\n",
              "      --hover-bg-color: #E2EBFA;\n",
              "      --hover-fill-color: #174EA6;\n",
              "      --disabled-fill-color: #AAA;\n",
              "      --disabled-bg-color: #DDD;\n",
              "  }\n",
              "\n",
              "  [theme=dark] .colab-df-quickchart {\n",
              "      --bg-color: #3B4455;\n",
              "      --fill-color: #D2E3FC;\n",
              "      --hover-bg-color: #434B5C;\n",
              "      --hover-fill-color: #FFFFFF;\n",
              "      --disabled-bg-color: #3B4455;\n",
              "      --disabled-fill-color: #666;\n",
              "  }\n",
              "\n",
              "  .colab-df-quickchart {\n",
              "    background-color: var(--bg-color);\n",
              "    border: none;\n",
              "    border-radius: 50%;\n",
              "    cursor: pointer;\n",
              "    display: none;\n",
              "    fill: var(--fill-color);\n",
              "    height: 32px;\n",
              "    padding: 0;\n",
              "    width: 32px;\n",
              "  }\n",
              "\n",
              "  .colab-df-quickchart:hover {\n",
              "    background-color: var(--hover-bg-color);\n",
              "    box-shadow: 0 1px 2px rgba(60, 64, 67, 0.3), 0 1px 3px 1px rgba(60, 64, 67, 0.15);\n",
              "    fill: var(--button-hover-fill-color);\n",
              "  }\n",
              "\n",
              "  .colab-df-quickchart-complete:disabled,\n",
              "  .colab-df-quickchart-complete:disabled:hover {\n",
              "    background-color: var(--disabled-bg-color);\n",
              "    fill: var(--disabled-fill-color);\n",
              "    box-shadow: none;\n",
              "  }\n",
              "\n",
              "  .colab-df-spinner {\n",
              "    border: 2px solid var(--fill-color);\n",
              "    border-color: transparent;\n",
              "    border-bottom-color: var(--fill-color);\n",
              "    animation:\n",
              "      spin 1s steps(1) infinite;\n",
              "  }\n",
              "\n",
              "  @keyframes spin {\n",
              "    0% {\n",
              "      border-color: transparent;\n",
              "      border-bottom-color: var(--fill-color);\n",
              "      border-left-color: var(--fill-color);\n",
              "    }\n",
              "    20% {\n",
              "      border-color: transparent;\n",
              "      border-left-color: var(--fill-color);\n",
              "      border-top-color: var(--fill-color);\n",
              "    }\n",
              "    30% {\n",
              "      border-color: transparent;\n",
              "      border-left-color: var(--fill-color);\n",
              "      border-top-color: var(--fill-color);\n",
              "      border-right-color: var(--fill-color);\n",
              "    }\n",
              "    40% {\n",
              "      border-color: transparent;\n",
              "      border-right-color: var(--fill-color);\n",
              "      border-top-color: var(--fill-color);\n",
              "    }\n",
              "    60% {\n",
              "      border-color: transparent;\n",
              "      border-right-color: var(--fill-color);\n",
              "    }\n",
              "    80% {\n",
              "      border-color: transparent;\n",
              "      border-right-color: var(--fill-color);\n",
              "      border-bottom-color: var(--fill-color);\n",
              "    }\n",
              "    90% {\n",
              "      border-color: transparent;\n",
              "      border-bottom-color: var(--fill-color);\n",
              "    }\n",
              "  }\n",
              "</style>\n",
              "\n",
              "  <script>\n",
              "    async function quickchart(key) {\n",
              "      const quickchartButtonEl =\n",
              "        document.querySelector('#' + key + ' button');\n",
              "      quickchartButtonEl.disabled = true;  // To prevent multiple clicks.\n",
              "      quickchartButtonEl.classList.add('colab-df-spinner');\n",
              "      try {\n",
              "        const charts = await google.colab.kernel.invokeFunction(\n",
              "            'suggestCharts', [key], {});\n",
              "      } catch (error) {\n",
              "        console.error('Error during call to suggestCharts:', error);\n",
              "      }\n",
              "      quickchartButtonEl.classList.remove('colab-df-spinner');\n",
              "      quickchartButtonEl.classList.add('colab-df-quickchart-complete');\n",
              "    }\n",
              "    (() => {\n",
              "      let quickchartButtonEl =\n",
              "        document.querySelector('#df-425b4b7a-ce0b-4023-acc9-0168a28bc0d5 button');\n",
              "      quickchartButtonEl.style.display =\n",
              "        google.colab.kernel.accessAllowed ? 'block' : 'none';\n",
              "    })();\n",
              "  </script>\n",
              "</div>\n",
              "\n",
              "    </div>\n",
              "  </div>\n"
            ],
            "application/vnd.google.colaboratory.intrinsic+json": {
              "type": "dataframe",
              "variable_name": "ppi",
              "summary": "{\n  \"name\": \"ppi\",\n  \"rows\": 29070,\n  \"fields\": [\n    {\n      \"column\": \"BioGRID ID Interactor A\",\n      \"properties\": {\n        \"dtype\": \"number\",\n        \"std\": 188451,\n        \"min\": 106924,\n        \"max\": 4383954,\n        \"num_unique_values\": 126,\n        \"samples\": [\n          4383878,\n          4383868,\n          128562\n        ],\n        \"semantic_type\": \"\",\n        \"description\": \"\"\n      }\n    },\n    {\n      \"column\": \"BioGRID ID Interactor B\",\n      \"properties\": {\n        \"dtype\": \"number\",\n        \"std\": 494077,\n        \"min\": 106524,\n        \"max\": 4383953,\n        \"num_unique_values\": 7068,\n        \"samples\": [\n          128789,\n          119368,\n          127495\n        ],\n        \"semantic_type\": \"\",\n        \"description\": \"\"\n      }\n    }\n  ]\n}"
            }
          },
          "metadata": {},
          "execution_count": 61
        }
      ],
      "source": [
        "# Select PPI interactions\n",
        "ppi = filtered_df[['BioGRID ID Interactor A', 'BioGRID ID Interactor B']]\n",
        "ppi.head()"
      ]
    },
    {
      "cell_type": "code",
      "source": [
        "# Map BioGRID ID to its Official Symbol\n",
        "map_id = {}\n",
        "\n",
        "for _, row in filtered_df.iterrows():\n",
        "    map_id[row['BioGRID ID Interactor A']] = row['Official Symbol Interactor A']\n",
        "    map_id[row['BioGRID ID Interactor B']] = row['Official Symbol Interactor B']"
      ],
      "metadata": {
        "id": "Fbcu-2zKBS2V"
      },
      "execution_count": 66,
      "outputs": []
    },
    {
      "cell_type": "code",
      "execution_count": 62,
      "metadata": {
        "id": "2U3qdzyzwozh"
      },
      "outputs": [],
      "source": [
        "# Save new interactions for Gephi visualization\n",
        "ppi = ppi.rename(columns = {'BioGRID ID Interactor A': 'Source', 'BioGRID ID Interactor B': 'Target'})\n",
        "ppi.to_csv('ppi_new_network.csv', index = False)"
      ]
    },
    {
      "cell_type": "code",
      "execution_count": 28,
      "metadata": {
        "id": "Nek_eeOowozi"
      },
      "outputs": [],
      "source": [
        "# Create file with nodes and labels\n",
        "a = filtered_df[['BioGRID ID Interactor A', 'Organism Name Interactor A']]\n",
        "a.columns = ['BioGRID ID', 'Organism Name']\n",
        "\n",
        "b = filtered_df[['BioGRID ID Interactor B', 'Organism Name Interactor B']]\n",
        "b.columns = ['BioGRID ID', 'Organism Name']\n",
        "\n",
        "nodes_with_label = pd.concat([a, b])\n",
        "nodes_with_label.drop_duplicates(inplace = True)\n",
        "\n",
        "nodes_with_label = nodes_with_label.rename(columns = {'BioGRID ID': 'Id', 'Organism Name': 'Label'})\n",
        "nodes_with_label.to_csv('nodes_with_label.csv', index = False)"
      ]
    },
    {
      "cell_type": "markdown",
      "metadata": {
        "id": "XPicnO1dfwVa"
      },
      "source": [
        "### 1.2) Network analysis"
      ]
    },
    {
      "cell_type": "markdown",
      "source": [
        "The goal of the network analysis is to discover **patterns, relationships and properties** within a network by examining how proteins interact and influence one other.\n"
      ],
      "metadata": {
        "id": "S0GMnFyT0gJv"
      }
    },
    {
      "cell_type": "markdown",
      "source": [
        "#### Graph construction"
      ],
      "metadata": {
        "id": "vhcYSYyY2HX6"
      }
    },
    {
      "cell_type": "code",
      "execution_count": 80,
      "metadata": {
        "colab": {
          "base_uri": "https://localhost:8080/"
        },
        "id": "s9k5VXvpeQjY",
        "outputId": "eeea06cc-3c83-4105-d487-6bd7cf20bc45"
      },
      "outputs": [
        {
          "output_type": "stream",
          "name": "stdout",
          "text": [
            "Shape of the PPI network after removing duplicates: (29070, 2)\n"
          ]
        }
      ],
      "source": [
        "# Check the shape of the dataframe without duplicates\n",
        "ppi = ppi.drop_duplicates()\n",
        "print('Shape of the PPI network after removing duplicates:', ppi.shape)"
      ]
    },
    {
      "cell_type": "code",
      "execution_count": 81,
      "metadata": {
        "colab": {
          "base_uri": "https://localhost:8080/"
        },
        "id": "WiVsInqIeSXo",
        "outputId": "3ea0168c-fb44-42ee-abee-a49856fe79ac"
      },
      "outputs": [
        {
          "output_type": "stream",
          "name": "stdout",
          "text": [
            "Graph with 7118 nodes and 29010 edges\n"
          ]
        }
      ],
      "source": [
        "ppi_network = nx.from_pandas_edgelist(ppi,\n",
        "                                      source = 'Source',\n",
        "                                      target = 'Target',\n",
        "                                      create_using = nx.Graph())      # nx.Graph() doesn't allow duplicated edges\n",
        "\n",
        "print(ppi_network) #the nr of edges is lower than the nr of dataframe rows because of the non extracted duplicates"
      ]
    },
    {
      "cell_type": "code",
      "execution_count": 32,
      "metadata": {
        "id": "BqXFfwekwozk",
        "outputId": "5cd340d6-cd93-486d-cf90-6ba76984e6d4",
        "colab": {
          "base_uri": "https://localhost:8080/"
        }
      },
      "outputs": [
        {
          "output_type": "stream",
          "name": "stdout",
          "text": [
            "Graph with 7118 nodes and 29010 edges\n",
            "[(114116, {'Organism': 'Homo sapiens'}), (117036, {'Organism': 'Homo sapiens'}), (111973, {'Organism': 'Homo sapiens'}), (115572, {'Organism': 'Homo sapiens'}), (125858, {'Organism': 'Homo sapiens'}), (121410, {'Organism': 'Homo sapiens'}), (4383846, {'Organism': 'Severe acute respiratory syndrome coronavirus 2'}), (114889, {'Organism': 'Homo sapiens'}), (116103, {'Organism': 'Homo sapiens'})]\n"
          ]
        }
      ],
      "source": [
        "# Network object built from BioGRID IDs and containing Organism attributes\n",
        "G = nx.Graph()\n",
        "\n",
        "for idx, row in filtered_df.iterrows():\n",
        "    G.add_edge(row['BioGRID ID Interactor A'], row['BioGRID ID Interactor B'])\n",
        "    G.nodes[row['BioGRID ID Interactor A']]['Organism'] = row['Organism Name Interactor A']\n",
        "    G.nodes[row['BioGRID ID Interactor B']]['Organism'] = row['Organism Name Interactor B']\n",
        "\n",
        "print(G)\n",
        "print(list(G.nodes.data())[1:10])"
      ]
    },
    {
      "cell_type": "code",
      "execution_count": 33,
      "metadata": {
        "colab": {
          "base_uri": "https://localhost:8080/"
        },
        "id": "YYmm-qaDe8S1",
        "outputId": "8933330b-949f-47f8-e181-13162bc3aed9"
      },
      "outputs": [
        {
          "output_type": "stream",
          "name": "stdout",
          "text": [
            "Number of self loops:  49\n",
            "Self-loops over Total edges: 0.0017\n",
            "Graph without self-loops: Graph with 7118 nodes and 28961 edges\n"
          ]
        }
      ],
      "source": [
        "# Identify self-loops\n",
        "self_loops_bio = list(nx.selfloop_edges(ppi_network))\n",
        "print('Number of self loops: ', len(self_loops_bio))\n",
        "print('Self-loops over Total edges:', round(nx.number_of_selfloops(ppi_network) / len(ppi_network.edges), 4))\n",
        "\n",
        "# Remove self-loops\n",
        "ppi_network.remove_edges_from(self_loops_bio)\n",
        "print('Graph without self-loops:', ppi_network)"
      ]
    },
    {
      "cell_type": "markdown",
      "source": [
        "#### Giant Component"
      ],
      "metadata": {
        "id": "xAfZmjzz2GBe"
      }
    },
    {
      "cell_type": "markdown",
      "source": [
        "In many complex networks, such as protein-protein interactions (PPI) network, most of the nodes are part of a **single largest connected component (LCC)**, while the rest of the nodes may be contained in much smaller components. The giant component ensures that the network is interconnected, facilitating the *propagation of information*."
      ],
      "metadata": {
        "id": "JsbLhJPs2dBf"
      }
    },
    {
      "cell_type": "code",
      "execution_count": 34,
      "metadata": {
        "colab": {
          "base_uri": "https://localhost:8080/"
        },
        "id": "9YX9pk16fDtU",
        "outputId": "8f2caca8-abd6-45e7-f1e2-cbf95569f9d9"
      },
      "outputs": [
        {
          "output_type": "stream",
          "name": "stdout",
          "text": [
            "Graph with 7116 nodes and 28960 edges\n"
          ]
        }
      ],
      "source": [
        "# Isolate the largest connected component (LCC)\n",
        "components = list(nx.connected_components(ppi_network))\n",
        "largest_component = max(components, key = len)\n",
        "LCC_ppi = ppi_network.subgraph(largest_component)\n",
        "print(LCC_ppi)"
      ]
    },
    {
      "cell_type": "markdown",
      "source": [
        "#### Power-Law Degree Distribution"
      ],
      "metadata": {
        "id": "X-HxtNak4Fp-"
      }
    },
    {
      "cell_type": "markdown",
      "source": [
        "The degree distribution of the PPI network follows a **scale-free model**, where some proteins act like *hubs* with a very high degree, while most have only a few connections."
      ],
      "metadata": {
        "id": "rhAJ_RCG4gjs"
      }
    },
    {
      "cell_type": "code",
      "execution_count": 83,
      "metadata": {
        "id": "IYlznhjYfc6I"
      },
      "outputs": [],
      "source": [
        "# Compute Degree Centrality\n",
        "degree = LCC_ppi.degree()\n",
        "\n",
        "# Compute (Normalized) Betweenness Centrality\n",
        "bet = nx.betweenness_centrality(LCC_ppi, k = 100, normalized = True)\n",
        "\n",
        "# Compute Eigenvector Centrality\n",
        "eigen = nx.eigenvector_centrality(LCC_ppi, max_iter = 500, tol = 1e-04)\n",
        "\n",
        "# Compute BetoverDeg Centrality\n",
        "degree_dict = dict(degree)\n",
        "ratio = {}\n",
        "\n",
        "for node in LCC_ppi.nodes():\n",
        "    if degree_dict[node] > 0:\n",
        "        ratio[node] = bet[node] / degree_dict[node]\n",
        "    else:\n",
        "        ratio[node] = 0"
      ]
    },
    {
      "cell_type": "code",
      "execution_count": 69,
      "metadata": {
        "colab": {
          "base_uri": "https://localhost:8080/"
        },
        "id": "lvkf0d0Uipk_",
        "outputId": "99e5fac1-d348-49a6-e13d-4613b758bcf7"
      },
      "outputs": [
        {
          "output_type": "stream",
          "name": "stdout",
          "text": [
            "Protein measures:\n",
            "-----------------\n",
            "{111973: {'BetoverDeg': 3.1805309531908948e-06,\n",
            "          'Betweeness': 9.541592859572684e-06,\n",
            "          'Degree': 3,\n",
            "          'Eigen': 0.004722748545421923},\n",
            " 114116: {'BetoverDeg': 1.6292868124015447e-06,\n",
            "          'Betweeness': 6.517147249606179e-06,\n",
            "          'Degree': 4,\n",
            "          'Eigen': 0.005212512869836895},\n",
            " 115572: {'BetoverDeg': 1.5061246904604412e-06,\n",
            "          'Betweeness': 4.5183740713813235e-06,\n",
            "          'Degree': 3,\n",
            "          'Eigen': 0.0030284826137077984},\n",
            " 117036: {'BetoverDeg': 0.0,\n",
            "          'Betweeness': 0.0,\n",
            "          'Degree': 1,\n",
            "          'Eigen': 0.001821187237443763},\n",
            " 4383845: {'BetoverDeg': 3.297561280503471e-05,\n",
            "           'Betweeness': 0.035448783765412314,\n",
            "           'Degree': 1075,\n",
            "           'Eigen': 0.1849663621075335}}\n",
            "\n"
          ]
        }
      ],
      "source": [
        "# Insert metrics in the dictionary\n",
        "nodes = LCC_ppi.nodes()\n",
        "protein_measures = dict(nodes)\n",
        "\n",
        "for protein in protein_measures:\n",
        "    protein_measures[protein]['Degree'] = degree[protein]\n",
        "    protein_measures[protein]['Betweeness'] = bet[protein]\n",
        "    protein_measures[protein]['Eigen'] = eigen[protein]\n",
        "    protein_measures[protein]['BetoverDeg'] = ratio[protein]\n",
        "\n",
        "print_dict('Protein measures:', protein_measures)"
      ]
    },
    {
      "cell_type": "code",
      "execution_count": 98,
      "metadata": {
        "colab": {
          "base_uri": "https://localhost:8080/",
          "height": 551
        },
        "id": "I9qZQr-rkSZm",
        "outputId": "67db5038-7ef8-46e4-ef5a-e00826d332ac"
      },
      "outputs": [
        {
          "output_type": "execute_result",
          "data": {
            "text/plain": [
              "        Protein  Degree  Betweeness     Eigen  BetoverDeg\n",
              "Ranking                                                  \n",
              "1             M    2036    0.165097  0.270370    0.000081\n",
              "2         ORF7b    1751    0.128556  0.240957    0.000073\n",
              "3          nsp6    1696    0.081327  0.243856    0.000048\n",
              "4          nsp4    1493    0.047711  0.234767    0.000032\n",
              "5             N    1477    0.127015  0.120348    0.000086\n",
              "6          ORF8    1304    0.101400  0.156863    0.000078\n",
              "7             S    1278    0.097678  0.161302    0.000076\n",
              "8         ORF7a    1249    0.044428  0.205075    0.000036\n",
              "9         ORF3a    1247    0.074196  0.179099    0.000059\n",
              "10         ORF6    1174    0.040124  0.171888    0.000034\n",
              "11            E    1075    0.035449  0.184966    0.000033\n",
              "12         nsp9     941    0.092513  0.065190    0.000098\n",
              "13        nsp16     771    0.078620  0.056103    0.000102\n",
              "14        ORF3b     764    0.019003  0.110557    0.000025\n",
              "15        nsp15     664    0.053154  0.056876    0.000080"
            ],
            "text/html": [
              "\n",
              "  <div id=\"df-853451a7-1f47-4a0a-ba87-badd83f98818\" class=\"colab-df-container\">\n",
              "    <div>\n",
              "<style scoped>\n",
              "    .dataframe tbody tr th:only-of-type {\n",
              "        vertical-align: middle;\n",
              "    }\n",
              "\n",
              "    .dataframe tbody tr th {\n",
              "        vertical-align: top;\n",
              "    }\n",
              "\n",
              "    .dataframe thead th {\n",
              "        text-align: right;\n",
              "    }\n",
              "</style>\n",
              "<table border=\"1\" class=\"dataframe\">\n",
              "  <thead>\n",
              "    <tr style=\"text-align: right;\">\n",
              "      <th></th>\n",
              "      <th>Protein</th>\n",
              "      <th>Degree</th>\n",
              "      <th>Betweeness</th>\n",
              "      <th>Eigen</th>\n",
              "      <th>BetoverDeg</th>\n",
              "    </tr>\n",
              "    <tr>\n",
              "      <th>Ranking</th>\n",
              "      <th></th>\n",
              "      <th></th>\n",
              "      <th></th>\n",
              "      <th></th>\n",
              "      <th></th>\n",
              "    </tr>\n",
              "  </thead>\n",
              "  <tbody>\n",
              "    <tr>\n",
              "      <th>1</th>\n",
              "      <td>M</td>\n",
              "      <td>2036</td>\n",
              "      <td>0.165097</td>\n",
              "      <td>0.270370</td>\n",
              "      <td>0.000081</td>\n",
              "    </tr>\n",
              "    <tr>\n",
              "      <th>2</th>\n",
              "      <td>ORF7b</td>\n",
              "      <td>1751</td>\n",
              "      <td>0.128556</td>\n",
              "      <td>0.240957</td>\n",
              "      <td>0.000073</td>\n",
              "    </tr>\n",
              "    <tr>\n",
              "      <th>3</th>\n",
              "      <td>nsp6</td>\n",
              "      <td>1696</td>\n",
              "      <td>0.081327</td>\n",
              "      <td>0.243856</td>\n",
              "      <td>0.000048</td>\n",
              "    </tr>\n",
              "    <tr>\n",
              "      <th>4</th>\n",
              "      <td>nsp4</td>\n",
              "      <td>1493</td>\n",
              "      <td>0.047711</td>\n",
              "      <td>0.234767</td>\n",
              "      <td>0.000032</td>\n",
              "    </tr>\n",
              "    <tr>\n",
              "      <th>5</th>\n",
              "      <td>N</td>\n",
              "      <td>1477</td>\n",
              "      <td>0.127015</td>\n",
              "      <td>0.120348</td>\n",
              "      <td>0.000086</td>\n",
              "    </tr>\n",
              "    <tr>\n",
              "      <th>6</th>\n",
              "      <td>ORF8</td>\n",
              "      <td>1304</td>\n",
              "      <td>0.101400</td>\n",
              "      <td>0.156863</td>\n",
              "      <td>0.000078</td>\n",
              "    </tr>\n",
              "    <tr>\n",
              "      <th>7</th>\n",
              "      <td>S</td>\n",
              "      <td>1278</td>\n",
              "      <td>0.097678</td>\n",
              "      <td>0.161302</td>\n",
              "      <td>0.000076</td>\n",
              "    </tr>\n",
              "    <tr>\n",
              "      <th>8</th>\n",
              "      <td>ORF7a</td>\n",
              "      <td>1249</td>\n",
              "      <td>0.044428</td>\n",
              "      <td>0.205075</td>\n",
              "      <td>0.000036</td>\n",
              "    </tr>\n",
              "    <tr>\n",
              "      <th>9</th>\n",
              "      <td>ORF3a</td>\n",
              "      <td>1247</td>\n",
              "      <td>0.074196</td>\n",
              "      <td>0.179099</td>\n",
              "      <td>0.000059</td>\n",
              "    </tr>\n",
              "    <tr>\n",
              "      <th>10</th>\n",
              "      <td>ORF6</td>\n",
              "      <td>1174</td>\n",
              "      <td>0.040124</td>\n",
              "      <td>0.171888</td>\n",
              "      <td>0.000034</td>\n",
              "    </tr>\n",
              "    <tr>\n",
              "      <th>11</th>\n",
              "      <td>E</td>\n",
              "      <td>1075</td>\n",
              "      <td>0.035449</td>\n",
              "      <td>0.184966</td>\n",
              "      <td>0.000033</td>\n",
              "    </tr>\n",
              "    <tr>\n",
              "      <th>12</th>\n",
              "      <td>nsp9</td>\n",
              "      <td>941</td>\n",
              "      <td>0.092513</td>\n",
              "      <td>0.065190</td>\n",
              "      <td>0.000098</td>\n",
              "    </tr>\n",
              "    <tr>\n",
              "      <th>13</th>\n",
              "      <td>nsp16</td>\n",
              "      <td>771</td>\n",
              "      <td>0.078620</td>\n",
              "      <td>0.056103</td>\n",
              "      <td>0.000102</td>\n",
              "    </tr>\n",
              "    <tr>\n",
              "      <th>14</th>\n",
              "      <td>ORF3b</td>\n",
              "      <td>764</td>\n",
              "      <td>0.019003</td>\n",
              "      <td>0.110557</td>\n",
              "      <td>0.000025</td>\n",
              "    </tr>\n",
              "    <tr>\n",
              "      <th>15</th>\n",
              "      <td>nsp15</td>\n",
              "      <td>664</td>\n",
              "      <td>0.053154</td>\n",
              "      <td>0.056876</td>\n",
              "      <td>0.000080</td>\n",
              "    </tr>\n",
              "  </tbody>\n",
              "</table>\n",
              "</div>\n",
              "    <div class=\"colab-df-buttons\">\n",
              "\n",
              "  <div class=\"colab-df-container\">\n",
              "    <button class=\"colab-df-convert\" onclick=\"convertToInteractive('df-853451a7-1f47-4a0a-ba87-badd83f98818')\"\n",
              "            title=\"Convert this dataframe to an interactive table.\"\n",
              "            style=\"display:none;\">\n",
              "\n",
              "  <svg xmlns=\"http://www.w3.org/2000/svg\" height=\"24px\" viewBox=\"0 -960 960 960\">\n",
              "    <path d=\"M120-120v-720h720v720H120Zm60-500h600v-160H180v160Zm220 220h160v-160H400v160Zm0 220h160v-160H400v160ZM180-400h160v-160H180v160Zm440 0h160v-160H620v160ZM180-180h160v-160H180v160Zm440 0h160v-160H620v160Z\"/>\n",
              "  </svg>\n",
              "    </button>\n",
              "\n",
              "  <style>\n",
              "    .colab-df-container {\n",
              "      display:flex;\n",
              "      gap: 12px;\n",
              "    }\n",
              "\n",
              "    .colab-df-convert {\n",
              "      background-color: #E8F0FE;\n",
              "      border: none;\n",
              "      border-radius: 50%;\n",
              "      cursor: pointer;\n",
              "      display: none;\n",
              "      fill: #1967D2;\n",
              "      height: 32px;\n",
              "      padding: 0 0 0 0;\n",
              "      width: 32px;\n",
              "    }\n",
              "\n",
              "    .colab-df-convert:hover {\n",
              "      background-color: #E2EBFA;\n",
              "      box-shadow: 0px 1px 2px rgba(60, 64, 67, 0.3), 0px 1px 3px 1px rgba(60, 64, 67, 0.15);\n",
              "      fill: #174EA6;\n",
              "    }\n",
              "\n",
              "    .colab-df-buttons div {\n",
              "      margin-bottom: 4px;\n",
              "    }\n",
              "\n",
              "    [theme=dark] .colab-df-convert {\n",
              "      background-color: #3B4455;\n",
              "      fill: #D2E3FC;\n",
              "    }\n",
              "\n",
              "    [theme=dark] .colab-df-convert:hover {\n",
              "      background-color: #434B5C;\n",
              "      box-shadow: 0px 1px 3px 1px rgba(0, 0, 0, 0.15);\n",
              "      filter: drop-shadow(0px 1px 2px rgba(0, 0, 0, 0.3));\n",
              "      fill: #FFFFFF;\n",
              "    }\n",
              "  </style>\n",
              "\n",
              "    <script>\n",
              "      const buttonEl =\n",
              "        document.querySelector('#df-853451a7-1f47-4a0a-ba87-badd83f98818 button.colab-df-convert');\n",
              "      buttonEl.style.display =\n",
              "        google.colab.kernel.accessAllowed ? 'block' : 'none';\n",
              "\n",
              "      async function convertToInteractive(key) {\n",
              "        const element = document.querySelector('#df-853451a7-1f47-4a0a-ba87-badd83f98818');\n",
              "        const dataTable =\n",
              "          await google.colab.kernel.invokeFunction('convertToInteractive',\n",
              "                                                    [key], {});\n",
              "        if (!dataTable) return;\n",
              "\n",
              "        const docLinkHtml = 'Like what you see? Visit the ' +\n",
              "          '<a target=\"_blank\" href=https://colab.research.google.com/notebooks/data_table.ipynb>data table notebook</a>'\n",
              "          + ' to learn more about interactive tables.';\n",
              "        element.innerHTML = '';\n",
              "        dataTable['output_type'] = 'display_data';\n",
              "        await google.colab.output.renderOutput(dataTable, element);\n",
              "        const docLink = document.createElement('div');\n",
              "        docLink.innerHTML = docLinkHtml;\n",
              "        element.appendChild(docLink);\n",
              "      }\n",
              "    </script>\n",
              "  </div>\n",
              "\n",
              "\n",
              "<div id=\"df-49b47cf8-23a7-43b5-9d5c-917d1edb365b\">\n",
              "  <button class=\"colab-df-quickchart\" onclick=\"quickchart('df-49b47cf8-23a7-43b5-9d5c-917d1edb365b')\"\n",
              "            title=\"Suggest charts\"\n",
              "            style=\"display:none;\">\n",
              "\n",
              "<svg xmlns=\"http://www.w3.org/2000/svg\" height=\"24px\"viewBox=\"0 0 24 24\"\n",
              "     width=\"24px\">\n",
              "    <g>\n",
              "        <path d=\"M19 3H5c-1.1 0-2 .9-2 2v14c0 1.1.9 2 2 2h14c1.1 0 2-.9 2-2V5c0-1.1-.9-2-2-2zM9 17H7v-7h2v7zm4 0h-2V7h2v10zm4 0h-2v-4h2v4z\"/>\n",
              "    </g>\n",
              "</svg>\n",
              "  </button>\n",
              "\n",
              "<style>\n",
              "  .colab-df-quickchart {\n",
              "      --bg-color: #E8F0FE;\n",
              "      --fill-color: #1967D2;\n",
              "      --hover-bg-color: #E2EBFA;\n",
              "      --hover-fill-color: #174EA6;\n",
              "      --disabled-fill-color: #AAA;\n",
              "      --disabled-bg-color: #DDD;\n",
              "  }\n",
              "\n",
              "  [theme=dark] .colab-df-quickchart {\n",
              "      --bg-color: #3B4455;\n",
              "      --fill-color: #D2E3FC;\n",
              "      --hover-bg-color: #434B5C;\n",
              "      --hover-fill-color: #FFFFFF;\n",
              "      --disabled-bg-color: #3B4455;\n",
              "      --disabled-fill-color: #666;\n",
              "  }\n",
              "\n",
              "  .colab-df-quickchart {\n",
              "    background-color: var(--bg-color);\n",
              "    border: none;\n",
              "    border-radius: 50%;\n",
              "    cursor: pointer;\n",
              "    display: none;\n",
              "    fill: var(--fill-color);\n",
              "    height: 32px;\n",
              "    padding: 0;\n",
              "    width: 32px;\n",
              "  }\n",
              "\n",
              "  .colab-df-quickchart:hover {\n",
              "    background-color: var(--hover-bg-color);\n",
              "    box-shadow: 0 1px 2px rgba(60, 64, 67, 0.3), 0 1px 3px 1px rgba(60, 64, 67, 0.15);\n",
              "    fill: var(--button-hover-fill-color);\n",
              "  }\n",
              "\n",
              "  .colab-df-quickchart-complete:disabled,\n",
              "  .colab-df-quickchart-complete:disabled:hover {\n",
              "    background-color: var(--disabled-bg-color);\n",
              "    fill: var(--disabled-fill-color);\n",
              "    box-shadow: none;\n",
              "  }\n",
              "\n",
              "  .colab-df-spinner {\n",
              "    border: 2px solid var(--fill-color);\n",
              "    border-color: transparent;\n",
              "    border-bottom-color: var(--fill-color);\n",
              "    animation:\n",
              "      spin 1s steps(1) infinite;\n",
              "  }\n",
              "\n",
              "  @keyframes spin {\n",
              "    0% {\n",
              "      border-color: transparent;\n",
              "      border-bottom-color: var(--fill-color);\n",
              "      border-left-color: var(--fill-color);\n",
              "    }\n",
              "    20% {\n",
              "      border-color: transparent;\n",
              "      border-left-color: var(--fill-color);\n",
              "      border-top-color: var(--fill-color);\n",
              "    }\n",
              "    30% {\n",
              "      border-color: transparent;\n",
              "      border-left-color: var(--fill-color);\n",
              "      border-top-color: var(--fill-color);\n",
              "      border-right-color: var(--fill-color);\n",
              "    }\n",
              "    40% {\n",
              "      border-color: transparent;\n",
              "      border-right-color: var(--fill-color);\n",
              "      border-top-color: var(--fill-color);\n",
              "    }\n",
              "    60% {\n",
              "      border-color: transparent;\n",
              "      border-right-color: var(--fill-color);\n",
              "    }\n",
              "    80% {\n",
              "      border-color: transparent;\n",
              "      border-right-color: var(--fill-color);\n",
              "      border-bottom-color: var(--fill-color);\n",
              "    }\n",
              "    90% {\n",
              "      border-color: transparent;\n",
              "      border-bottom-color: var(--fill-color);\n",
              "    }\n",
              "  }\n",
              "</style>\n",
              "\n",
              "  <script>\n",
              "    async function quickchart(key) {\n",
              "      const quickchartButtonEl =\n",
              "        document.querySelector('#' + key + ' button');\n",
              "      quickchartButtonEl.disabled = true;  // To prevent multiple clicks.\n",
              "      quickchartButtonEl.classList.add('colab-df-spinner');\n",
              "      try {\n",
              "        const charts = await google.colab.kernel.invokeFunction(\n",
              "            'suggestCharts', [key], {});\n",
              "      } catch (error) {\n",
              "        console.error('Error during call to suggestCharts:', error);\n",
              "      }\n",
              "      quickchartButtonEl.classList.remove('colab-df-spinner');\n",
              "      quickchartButtonEl.classList.add('colab-df-quickchart-complete');\n",
              "    }\n",
              "    (() => {\n",
              "      let quickchartButtonEl =\n",
              "        document.querySelector('#df-49b47cf8-23a7-43b5-9d5c-917d1edb365b button');\n",
              "      quickchartButtonEl.style.display =\n",
              "        google.colab.kernel.accessAllowed ? 'block' : 'none';\n",
              "    })();\n",
              "  </script>\n",
              "</div>\n",
              "\n",
              "    </div>\n",
              "  </div>\n"
            ],
            "application/vnd.google.colaboratory.intrinsic+json": {
              "type": "dataframe",
              "variable_name": "sorted_metrics",
              "summary": "{\n  \"name\": \"sorted_metrics\",\n  \"rows\": 7116,\n  \"fields\": [\n    {\n      \"column\": \"Ranking\",\n      \"properties\": {\n        \"dtype\": \"number\",\n        \"std\": 2054,\n        \"min\": 1,\n        \"max\": 7116,\n        \"num_unique_values\": 7116,\n        \"samples\": [\n          4373,\n          3440,\n          6478\n        ],\n        \"semantic_type\": \"\",\n        \"description\": \"\"\n      }\n    },\n    {\n      \"column\": \"Protein\",\n      \"properties\": {\n        \"dtype\": \"string\",\n        \"num_unique_values\": 7087,\n        \"samples\": [\n          \"PTPN14\",\n          \"GUSB\",\n          \"YIF1B\"\n        ],\n        \"semantic_type\": \"\",\n        \"description\": \"\"\n      }\n    },\n    {\n      \"column\": \"Degree\",\n      \"properties\": {\n        \"dtype\": \"number\",\n        \"std\": 65,\n        \"min\": 1,\n        \"max\": 2036,\n        \"num_unique_values\": 79,\n        \"samples\": [\n          213,\n          2036,\n          560\n        ],\n        \"semantic_type\": \"\",\n        \"description\": \"\"\n      }\n    },\n    {\n      \"column\": \"Betweeness\",\n      \"properties\": {\n        \"dtype\": \"number\",\n        \"std\": 0.004294182436250211,\n        \"min\": 0.0,\n        \"max\": 0.16509664517745115,\n        \"num_unique_values\": 3181,\n        \"samples\": [\n          4.189520308184213e-05,\n          2.011534194521943e-05,\n          8.377745822379105e-05\n        ],\n        \"semantic_type\": \"\",\n        \"description\": \"\"\n      }\n    },\n    {\n      \"column\": \"Eigen\",\n      \"properties\": {\n        \"dtype\": \"number\",\n        \"std\": 0.010268702335196271,\n        \"min\": 5.285540101534032e-07,\n        \"max\": 0.27037044857091574,\n        \"num_unique_values\": 3690,\n        \"samples\": [\n          0.0011892865143014306,\n          0.0009937158508093898,\n          0.01534129764180943\n        ],\n        \"semantic_type\": \"\",\n        \"description\": \"\"\n      }\n    },\n    {\n      \"column\": \"BetoverDeg\",\n      \"properties\": {\n        \"dtype\": \"number\",\n        \"std\": 8.18156836967364e-06,\n        \"min\": 0.0,\n        \"max\": 0.00019493856112075096,\n        \"num_unique_values\": 3323,\n        \"samples\": [\n          5.011421373045042e-07,\n          9.144108440179788e-06,\n          2.706349412202715e-06\n        ],\n        \"semantic_type\": \"\",\n        \"description\": \"\"\n      }\n    }\n  ]\n}"
            }
          },
          "metadata": {},
          "execution_count": 98
        }
      ],
      "source": [
        "# Build a metrics dataframe\n",
        "measures_ppi = pd.DataFrame.from_dict(protein_measures, orient ='index')\n",
        "measures_ppi = measures_ppi.reset_index()\n",
        "measures_ppi.rename(columns={'index': 'Protein'}, inplace = True)\n",
        "\n",
        "# Sort the output\n",
        "sorted_metrics = measures_ppi.sort_values(by = 'Degree', ascending = False)\n",
        "sorted_metrics.reset_index(drop = True, inplace = True)\n",
        "sorted_metrics['Ranking'] = sorted_metrics.index + 1\n",
        "sorted_metrics.set_index('Ranking', inplace = True)\n",
        "\n",
        "# Visualize the output\n",
        "sorted_metrics['Protein'] = sorted_metrics['Protein'].map(map_id)\n",
        "sorted_metrics.head(15)"
      ]
    },
    {
      "cell_type": "markdown",
      "metadata": {
        "id": "rqIrK68DgVS9"
      },
      "source": [
        "The nodes with a higher degree are all proteins are encoded by coronaviruses:\n",
        "\n",
        "- the **M** [[³]](https://thebiogrid.org/4383913/summary/severe-acute-respiratory-syndrome-related-coronavirus/m.html) protein (membrane glycoprotein) is crucial for virus assembly and budding,\n",
        "- **ORF7b** [[⁴]](https://thebiogrid.org/4383871/summary/severe-acute-respiratory-syndrome-coronavirus-2/orf7b.html), **nsp6** [[⁵]](https://thebiogrid.org/4383855/summary/severe-acute-respiratory-syndrome-coronavirus-2/nsp6.html) and **nsp4** [[⁶]](https://thebiogrid.org/6222/summary/arabidopsis-thaliana/nsp4.html) proteins play a crucial role in modulating host cell functions and immune responses.\n",
        "\n",
        "In relation to opinion dynamics, these nodes can be viewed as *influencers*, likely acting as **key regulatory nodes** (hubs) with influence over other nodes. Consequently, focusing on these proteins can help to identify potential targets for antiviral strategies and model how changes in these proteins might impact the virus life cycle."
      ]
    },
    {
      "cell_type": "code",
      "source": [
        "# Display Average Degree\n",
        "print('PPI Network Average degree:', np.mean(sorted_metrics.Degree))"
      ],
      "metadata": {
        "colab": {
          "base_uri": "https://localhost:8080/"
        },
        "id": "_tfSkISo_aUl",
        "outputId": "74c3261d-272f-40dd-a94b-8e4e148e3de2"
      },
      "execution_count": 74,
      "outputs": [
        {
          "output_type": "stream",
          "name": "stdout",
          "text": [
            "PPI Network Average degree: 8.139404159640247\n"
          ]
        }
      ]
    },
    {
      "cell_type": "code",
      "source": [
        "# Plot Degree Distribution\n",
        "fig = px.histogram(sorted_metrics.Degree,\n",
        "                   nbins = len(sorted_metrics.Degree.unique()),\n",
        "                   title = 'Degree distribution')\n",
        "fig.update_layout(yaxis_type = 'log', xaxis_title = 'degree', yaxis_title = 'count', bargap = 0.2)\n",
        "fig.update_traces(marker_color = 'mediumslateblue')\n",
        "fig.show()"
      ],
      "metadata": {
        "colab": {
          "base_uri": "https://localhost:8080/",
          "height": 542
        },
        "id": "hksCUfzF_bVp",
        "outputId": "d617a936-2031-43f7-8e1f-9179d47addba"
      },
      "execution_count": 75,
      "outputs": [
        {
          "output_type": "display_data",
          "data": {
            "text/html": [
              "<html>\n",
              "<head><meta charset=\"utf-8\" /></head>\n",
              "<body>\n",
              "    <div>            <script src=\"https://cdnjs.cloudflare.com/ajax/libs/mathjax/2.7.5/MathJax.js?config=TeX-AMS-MML_SVG\"></script><script type=\"text/javascript\">if (window.MathJax && window.MathJax.Hub && window.MathJax.Hub.Config) {window.MathJax.Hub.Config({SVG: {font: \"STIX-Web\"}});}</script>                <script type=\"text/javascript\">window.PlotlyConfig = {MathJaxConfig: 'local'};</script>\n",
              "        <script charset=\"utf-8\" src=\"https://cdn.plot.ly/plotly-2.24.1.min.js\"></script>                <div id=\"32d1bb20-7b4a-4071-811f-9d4a31a6ed09\" class=\"plotly-graph-div\" style=\"height:525px; width:100%;\"></div>            <script type=\"text/javascript\">                                    window.PLOTLYENV=window.PLOTLYENV || {};                                    if (document.getElementById(\"32d1bb20-7b4a-4071-811f-9d4a31a6ed09\")) {                    Plotly.newPlot(                        \"32d1bb20-7b4a-4071-811f-9d4a31a6ed09\",                        [{\"alignmentgroup\":\"True\",\"bingroup\":\"x\",\"hovertemplate\":\"variable=Degree\\u003cbr\\u003evalue=%{x}\\u003cbr\\u003ecount=%{y}\\u003cextra\\u003e\\u003c\\u002fextra\\u003e\",\"legendgroup\":\"Degree\",\"marker\":{\"color\":\"mediumslateblue\",\"pattern\":{\"shape\":\"\"}},\"name\":\"Degree\",\"nbinsx\":79,\"offsetgroup\":\"Degree\",\"orientation\":\"v\",\"showlegend\":true,\"x\":[2036,1751,1696,1493,1477,1304,1278,1249,1247,1174,1075,941,771,764,664,655,625,625,610,606,603,594,571,560,540,512,437,410,403,257,216,213,147,139,126,115,104,87,81,73,70,59,50,48,46,45,40,40,39,38,37,35,30,29,27,27,26,26,26,25,24,24,24,23,22,22,22,22,22,22,22,22,21,21,21,21,21,21,21,21,21,20,20,20,20,20,20,20,20,20,20,20,20,19,19,19,19,19,19,19,19,19,19,19,19,19,19,19,19,19,19,19,18,18,18,18,18,18,18,18,18,18,18,18,18,18,18,18,18,18,18,17,17,17,17,17,17,17,17,17,17,17,17,17,17,17,17,17,17,17,17,17,17,17,17,17,17,17,17,16,16,16,16,16,16,16,16,16,16,16,16,16,16,16,16,16,16,16,16,16,16,16,16,16,16,16,16,16,16,16,16,16,16,16,16,16,16,16,16,16,16,16,16,16,15,15,15,15,15,15,15,15,15,15,15,15,15,15,15,15,15,15,15,15,15,15,15,15,15,15,15,15,15,15,15,15,15,15,15,15,15,15,15,15,15,15,15,15,15,15,15,15,15,15,15,15,15,14,14,14,14,14,14,14,14,14,14,14,14,14,14,14,14,14,14,14,14,14,14,14,14,14,14,14,14,14,14,14,14,14,14,14,14,14,14,14,14,14,14,14,14,14,14,14,14,14,14,14,14,14,14,14,14,14,14,14,14,14,14,14,14,14,14,14,14,14,14,14,14,14,14,14,14,14,14,14,14,14,14,13,13,13,13,13,13,13,13,13,13,13,13,13,13,13,13,13,13,13,13,13,13,13,13,13,13,13,13,13,13,13,13,13,13,13,13,13,13,13,13,13,13,13,13,13,13,13,13,13,13,13,13,13,13,13,13,13,13,13,13,13,13,13,13,13,13,13,13,13,13,13,13,13,13,13,13,13,13,13,13,13,13,13,13,13,13,13,13,13,12,12,12,12,12,12,12,12,12,12,12,12,12,12,12,12,12,12,12,12,12,12,12,12,12,12,12,12,12,12,12,12,12,12,12,12,12,12,12,12,12,12,12,12,12,12,12,12,12,12,12,12,12,12,12,12,12,12,12,12,12,12,12,12,12,12,12,12,12,12,12,12,12,12,12,12,12,12,12,12,12,12,12,12,12,12,12,12,12,12,12,12,12,12,12,12,12,12,12,12,12,12,12,12,12,12,12,12,11,11,11,11,11,11,11,11,11,11,11,11,11,11,11,11,11,11,11,11,11,11,11,11,11,11,11,11,11,11,11,11,11,11,11,11,11,11,11,11,11,11,11,11,11,11,11,11,11,11,11,11,11,11,11,11,11,11,11,11,11,11,11,11,11,11,11,11,11,11,11,11,11,11,11,11,11,11,11,11,11,11,11,11,11,11,11,11,11,11,11,11,11,11,11,11,11,11,11,11,11,11,11,11,11,11,11,11,11,11,11,11,11,11,11,11,11,11,11,11,11,11,11,11,11,11,11,11,11,11,11,11,11,11,11,11,10,10,10,10,10,10,10,10,10,10,10,10,10,10,10,10,10,10,10,10,10,10,10,10,10,10,10,10,10,10,10,10,10,10,10,10,10,10,10,10,10,10,10,10,10,10,10,10,10,10,10,10,10,10,10,10,10,10,10,10,10,10,10,10,10,10,10,10,10,10,10,10,10,10,10,10,10,10,10,10,10,10,10,10,10,10,10,10,10,10,10,10,10,10,10,10,10,10,10,10,10,10,10,10,10,10,10,10,10,10,10,10,10,10,10,10,10,10,10,10,10,10,10,10,10,10,10,10,10,10,10,10,10,10,10,10,10,10,10,10,10,10,10,10,10,10,10,10,10,10,10,9,9,9,9,9,9,9,9,9,9,9,9,9,9,9,9,9,9,9,9,9,9,9,9,9,9,9,9,9,9,9,9,9,9,9,9,9,9,9,9,9,9,9,9,9,9,9,9,9,9,9,9,9,9,9,9,9,9,9,9,9,9,9,9,9,9,9,9,9,9,9,9,9,9,9,9,9,9,9,9,9,9,9,9,9,9,9,9,9,9,9,9,9,9,9,9,9,9,9,9,9,9,9,9,9,9,9,9,9,9,9,9,9,9,9,9,9,9,9,9,9,9,9,9,9,9,9,9,9,9,9,9,9,9,9,9,9,9,9,9,9,9,9,9,9,9,9,9,9,9,9,9,9,9,9,9,9,9,9,9,9,9,9,9,9,9,9,9,9,9,9,9,9,9,9,9,9,9,8,8,8,8,8,8,8,8,8,8,8,8,8,8,8,8,8,8,8,8,8,8,8,8,8,8,8,8,8,8,8,8,8,8,8,8,8,8,8,8,8,8,8,8,8,8,8,8,8,8,8,8,8,8,8,8,8,8,8,8,8,8,8,8,8,8,8,8,8,8,8,8,8,8,8,8,8,8,8,8,8,8,8,8,8,8,8,8,8,8,8,8,8,8,8,8,8,8,8,8,8,8,8,8,8,8,8,8,8,8,8,8,8,8,8,8,8,8,8,8,8,8,8,8,8,8,8,8,8,8,8,8,8,8,8,8,8,8,8,8,8,8,8,8,8,8,8,8,8,8,8,8,8,8,8,8,8,8,8,8,8,8,8,8,8,8,8,8,8,8,8,8,8,8,8,8,8,8,8,8,8,8,8,8,8,8,8,8,8,8,8,8,8,8,8,8,8,8,8,8,8,8,8,8,8,8,8,8,8,8,8,8,8,8,8,8,8,8,8,8,8,8,8,8,8,7,7,7,7,7,7,7,7,7,7,7,7,7,7,7,7,7,7,7,7,7,7,7,7,7,7,7,7,7,7,7,7,7,7,7,7,7,7,7,7,7,7,7,7,7,7,7,7,7,7,7,7,7,7,7,7,7,7,7,7,7,7,7,7,7,7,7,7,7,7,7,7,7,7,7,7,7,7,7,7,7,7,7,7,7,7,7,7,7,7,7,7,7,7,7,7,7,7,7,7,7,7,7,7,7,7,7,7,7,7,7,7,7,7,7,7,7,7,7,7,7,7,7,7,7,7,7,7,7,7,7,7,7,7,7,7,7,7,7,7,7,7,7,7,7,7,7,7,7,7,7,7,7,7,7,7,7,7,7,7,7,7,7,7,7,7,7,7,7,7,7,7,7,7,7,7,7,7,7,7,7,7,7,7,7,7,7,7,7,7,7,7,7,7,7,7,7,7,7,7,7,7,7,7,7,7,7,7,7,7,7,7,7,7,7,7,7,7,7,7,7,7,7,7,7,7,7,7,7,7,7,7,7,7,7,7,7,7,7,7,7,7,7,7,7,7,7,7,7,7,7,7,7,7,7,7,7,7,7,7,7,7,7,7,7,7,7,7,7,7,7,7,7,7,7,7,7,7,7,7,7,7,7,7,7,6,6,6,6,6,6,6,6,6,6,6,6,6,6,6,6,6,6,6,6,6,6,6,6,6,6,6,6,6,6,6,6,6,6,6,6,6,6,6,6,6,6,6,6,6,6,6,6,6,6,6,6,6,6,6,6,6,6,6,6,6,6,6,6,6,6,6,6,6,6,6,6,6,6,6,6,6,6,6,6,6,6,6,6,6,6,6,6,6,6,6,6,6,6,6,6,6,6,6,6,6,6,6,6,6,6,6,6,6,6,6,6,6,6,6,6,6,6,6,6,6,6,6,6,6,6,6,6,6,6,6,6,6,6,6,6,6,6,6,6,6,6,6,6,6,6,6,6,6,6,6,6,6,6,6,6,6,6,6,6,6,6,6,6,6,6,6,6,6,6,6,6,6,6,6,6,6,6,6,6,6,6,6,6,6,6,6,6,6,6,6,6,6,6,6,6,6,6,6,6,6,6,6,6,6,6,6,6,6,6,6,6,6,6,6,6,6,6,6,6,6,6,6,6,6,6,6,6,6,6,6,6,6,6,6,6,6,6,6,6,6,6,6,6,6,6,6,6,6,6,6,6,6,6,6,6,6,6,6,6,6,6,6,6,6,6,6,6,6,6,6,6,6,6,6,6,6,6,6,6,6,6,6,6,6,6,6,6,6,6,6,6,6,6,6,6,6,6,6,6,6,6,6,6,6,6,6,6,6,6,6,6,6,6,6,6,6,6,6,6,6,6,6,6,6,6,6,6,6,6,6,6,6,6,6,6,6,6,6,6,6,6,6,6,6,6,6,6,6,6,5,5,5,5,5,5,5,5,5,5,5,5,5,5,5,5,5,5,5,5,5,5,5,5,5,5,5,5,5,5,5,5,5,5,5,5,5,5,5,5,5,5,5,5,5,5,5,5,5,5,5,5,5,5,5,5,5,5,5,5,5,5,5,5,5,5,5,5,5,5,5,5,5,5,5,5,5,5,5,5,5,5,5,5,5,5,5,5,5,5,5,5,5,5,5,5,5,5,5,5,5,5,5,5,5,5,5,5,5,5,5,5,5,5,5,5,5,5,5,5,5,5,5,5,5,5,5,5,5,5,5,5,5,5,5,5,5,5,5,5,5,5,5,5,5,5,5,5,5,5,5,5,5,5,5,5,5,5,5,5,5,5,5,5,5,5,5,5,5,5,5,5,5,5,5,5,5,5,5,5,5,5,5,5,5,5,5,5,5,5,5,5,5,5,5,5,5,5,5,5,5,5,5,5,5,5,5,5,5,5,5,5,5,5,5,5,5,5,5,5,5,5,5,5,5,5,5,5,5,5,5,5,5,5,5,5,5,5,5,5,5,5,5,5,5,5,5,5,5,5,5,5,5,5,5,5,5,5,5,5,5,5,5,5,5,5,5,5,5,5,5,5,5,5,5,5,5,5,5,5,5,5,5,5,5,5,5,5,5,5,5,5,5,5,5,5,5,5,5,5,5,5,5,5,5,5,5,5,5,5,5,5,5,5,5,5,5,5,5,5,5,5,5,5,5,5,5,5,5,5,5,5,5,5,5,5,5,5,5,5,5,5,5,5,5,5,5,5,5,5,5,5,5,5,5,5,5,5,5,5,5,5,5,5,5,5,5,5,5,5,5,5,5,5,5,5,5,5,5,5,5,5,5,5,5,5,5,5,5,5,5,5,5,5,5,5,5,5,5,5,5,5,5,5,5,5,5,5,5,5,5,5,5,5,5,5,5,5,5,5,5,5,5,5,4,4,4,4,4,4,4,4,4,4,4,4,4,4,4,4,4,4,4,4,4,4,4,4,4,4,4,4,4,4,4,4,4,4,4,4,4,4,4,4,4,4,4,4,4,4,4,4,4,4,4,4,4,4,4,4,4,4,4,4,4,4,4,4,4,4,4,4,4,4,4,4,4,4,4,4,4,4,4,4,4,4,4,4,4,4,4,4,4,4,4,4,4,4,4,4,4,4,4,4,4,4,4,4,4,4,4,4,4,4,4,4,4,4,4,4,4,4,4,4,4,4,4,4,4,4,4,4,4,4,4,4,4,4,4,4,4,4,4,4,4,4,4,4,4,4,4,4,4,4,4,4,4,4,4,4,4,4,4,4,4,4,4,4,4,4,4,4,4,4,4,4,4,4,4,4,4,4,4,4,4,4,4,4,4,4,4,4,4,4,4,4,4,4,4,4,4,4,4,4,4,4,4,4,4,4,4,4,4,4,4,4,4,4,4,4,4,4,4,4,4,4,4,4,4,4,4,4,4,4,4,4,4,4,4,4,4,4,4,4,4,4,4,4,4,4,4,4,4,4,4,4,4,4,4,4,4,4,4,4,4,4,4,4,4,4,4,4,4,4,4,4,4,4,4,4,4,4,4,4,4,4,4,4,4,4,4,4,4,4,4,4,4,4,4,4,4,4,4,4,4,4,4,4,4,4,4,4,4,4,4,4,4,4,4,4,4,4,4,4,4,4,4,4,4,4,4,4,4,4,4,4,4,4,4,4,4,4,4,4,4,4,4,4,4,4,4,4,4,4,4,4,4,4,4,4,4,4,4,4,4,4,4,4,4,4,4,4,4,4,4,4,4,4,4,4,4,4,4,4,4,4,4,4,4,4,4,4,4,4,4,4,4,4,4,4,4,4,4,4,4,4,4,4,4,4,4,4,4,4,4,4,4,4,4,4,4,4,4,4,4,4,4,4,4,4,4,4,4,4,4,4,4,4,4,4,4,4,4,4,4,4,4,4,4,4,4,4,4,4,4,4,4,4,4,4,4,4,4,4,4,4,4,4,4,4,4,4,4,4,4,4,4,4,4,4,4,4,4,4,4,4,4,4,4,4,4,4,4,4,4,4,4,4,4,4,4,4,4,4,4,4,4,4,4,4,4,4,4,4,4,4,4,4,4,4,4,4,4,4,4,4,4,4,4,4,4,4,4,4,4,4,4,4,4,4,4,4,4,4,4,4,4,4,4,4,4,4,3,3,3,3,3,3,3,3,3,3,3,3,3,3,3,3,3,3,3,3,3,3,3,3,3,3,3,3,3,3,3,3,3,3,3,3,3,3,3,3,3,3,3,3,3,3,3,3,3,3,3,3,3,3,3,3,3,3,3,3,3,3,3,3,3,3,3,3,3,3,3,3,3,3,3,3,3,3,3,3,3,3,3,3,3,3,3,3,3,3,3,3,3,3,3,3,3,3,3,3,3,3,3,3,3,3,3,3,3,3,3,3,3,3,3,3,3,3,3,3,3,3,3,3,3,3,3,3,3,3,3,3,3,3,3,3,3,3,3,3,3,3,3,3,3,3,3,3,3,3,3,3,3,3,3,3,3,3,3,3,3,3,3,3,3,3,3,3,3,3,3,3,3,3,3,3,3,3,3,3,3,3,3,3,3,3,3,3,3,3,3,3,3,3,3,3,3,3,3,3,3,3,3,3,3,3,3,3,3,3,3,3,3,3,3,3,3,3,3,3,3,3,3,3,3,3,3,3,3,3,3,3,3,3,3,3,3,3,3,3,3,3,3,3,3,3,3,3,3,3,3,3,3,3,3,3,3,3,3,3,3,3,3,3,3,3,3,3,3,3,3,3,3,3,3,3,3,3,3,3,3,3,3,3,3,3,3,3,3,3,3,3,3,3,3,3,3,3,3,3,3,3,3,3,3,3,3,3,3,3,3,3,3,3,3,3,3,3,3,3,3,3,3,3,3,3,3,3,3,3,3,3,3,3,3,3,3,3,3,3,3,3,3,3,3,3,3,3,3,3,3,3,3,3,3,3,3,3,3,3,3,3,3,3,3,3,3,3,3,3,3,3,3,3,3,3,3,3,3,3,3,3,3,3,3,3,3,3,3,3,3,3,3,3,3,3,3,3,3,3,3,3,3,3,3,3,3,3,3,3,3,3,3,3,3,3,3,3,3,3,3,3,3,3,3,3,3,3,3,3,3,3,3,3,3,3,3,3,3,3,3,3,3,3,3,3,3,3,3,3,3,3,3,3,3,3,3,3,3,3,3,3,3,3,3,3,3,3,3,3,3,3,3,3,3,3,3,3,3,3,3,3,3,3,3,3,3,3,3,3,3,3,3,3,3,3,3,3,3,3,3,3,3,3,3,3,3,3,3,3,3,3,3,3,3,3,3,3,3,3,3,3,3,3,3,3,3,3,3,3,3,3,3,3,3,3,3,3,3,3,3,3,3,3,3,3,3,3,3,3,3,3,3,3,3,3,3,3,3,3,3,3,3,3,3,3,3,3,3,3,3,3,3,3,3,3,3,3,3,3,3,3,3,3,3,3,3,3,3,3,3,3,3,3,3,3,3,3,3,3,3,3,3,3,3,3,3,3,3,3,3,3,3,3,3,3,3,3,3,3,3,3,3,3,3,3,3,3,3,3,3,3,3,3,3,3,3,3,3,3,3,3,3,3,3,3,3,3,3,3,3,3,3,3,3,3,3,3,3,3,3,3,3,3,3,3,3,3,3,3,3,3,3,3,3,3,3,3,3,3,3,3,3,3,3,3,3,3,3,3,3,3,3,3,3,3,3,3,3,3,3,3,3,3,3,3,3,3,3,3,3,3,3,3,3,3,3,3,3,3,3,3,3,3,3,3,3,3,3,3,3,3,3,3,3,3,3,3,3,3,3,3,3,3,3,3,3,3,3,3,3,3,3,3,3,3,3,3,3,3,3,3,3,3,3,3,3,3,3,3,3,3,3,3,3,3,3,3,3,3,3,3,3,3,3,3,3,3,3,3,3,3,3,3,3,3,3,3,3,3,3,3,3,3,3,3,3,3,3,3,3,3,3,3,3,3,3,3,3,3,3,3,3,3,3,3,3,3,3,3,3,3,3,3,3,3,2,2,2,2,2,2,2,2,2,2,2,2,2,2,2,2,2,2,2,2,2,2,2,2,2,2,2,2,2,2,2,2,2,2,2,2,2,2,2,2,2,2,2,2,2,2,2,2,2,2,2,2,2,2,2,2,2,2,2,2,2,2,2,2,2,2,2,2,2,2,2,2,2,2,2,2,2,2,2,2,2,2,2,2,2,2,2,2,2,2,2,2,2,2,2,2,2,2,2,2,2,2,2,2,2,2,2,2,2,2,2,2,2,2,2,2,2,2,2,2,2,2,2,2,2,2,2,2,2,2,2,2,2,2,2,2,2,2,2,2,2,2,2,2,2,2,2,2,2,2,2,2,2,2,2,2,2,2,2,2,2,2,2,2,2,2,2,2,2,2,2,2,2,2,2,2,2,2,2,2,2,2,2,2,2,2,2,2,2,2,2,2,2,2,2,2,2,2,2,2,2,2,2,2,2,2,2,2,2,2,2,2,2,2,2,2,2,2,2,2,2,2,2,2,2,2,2,2,2,2,2,2,2,2,2,2,2,2,2,2,2,2,2,2,2,2,2,2,2,2,2,2,2,2,2,2,2,2,2,2,2,2,2,2,2,2,2,2,2,2,2,2,2,2,2,2,2,2,2,2,2,2,2,2,2,2,2,2,2,2,2,2,2,2,2,2,2,2,2,2,2,2,2,2,2,2,2,2,2,2,2,2,2,2,2,2,2,2,2,2,2,2,2,2,2,2,2,2,2,2,2,2,2,2,2,2,2,2,2,2,2,2,2,2,2,2,2,2,2,2,2,2,2,2,2,2,2,2,2,2,2,2,2,2,2,2,2,2,2,2,2,2,2,2,2,2,2,2,2,2,2,2,2,2,2,2,2,2,2,2,2,2,2,2,2,2,2,2,2,2,2,2,2,2,2,2,2,2,2,2,2,2,2,2,2,2,2,2,2,2,2,2,2,2,2,2,2,2,2,2,2,2,2,2,2,2,2,2,2,2,2,2,2,2,2,2,2,2,2,2,2,2,2,2,2,2,2,2,2,2,2,2,2,2,2,2,2,2,2,2,2,2,2,2,2,2,2,2,2,2,2,2,2,2,2,2,2,2,2,2,2,2,2,2,2,2,2,2,2,2,2,2,2,2,2,2,2,2,2,2,2,2,2,2,2,2,2,2,2,2,2,2,2,2,2,2,2,2,2,2,2,2,2,2,2,2,2,2,2,2,2,2,2,2,2,2,2,2,2,2,2,2,2,2,2,2,2,2,2,2,2,2,2,2,2,2,2,2,2,2,2,2,2,2,2,2,2,2,2,2,2,2,2,2,2,2,2,2,2,2,2,2,2,2,2,2,2,2,2,2,2,2,2,2,2,2,2,2,2,2,2,2,2,2,2,2,2,2,2,2,2,2,2,2,2,2,2,2,2,2,2,2,2,2,2,2,2,2,2,2,2,2,2,2,2,2,2,2,2,2,2,2,2,2,2,2,2,2,2,2,2,2,2,2,2,2,2,2,2,2,2,2,2,2,2,2,2,2,2,2,2,2,2,2,2,2,2,2,2,2,2,2,2,2,2,2,2,2,2,2,2,2,2,2,2,2,2,2,2,2,2,2,2,2,2,2,2,2,2,2,2,2,2,2,2,2,2,2,2,2,2,2,2,2,2,2,2,2,2,2,2,2,2,2,2,2,2,2,2,2,2,2,2,2,2,2,2,2,2,2,2,2,2,2,2,2,2,2,2,2,2,2,2,2,2,2,2,2,2,2,2,2,2,2,2,2,2,2,2,2,2,2,2,2,2,2,2,2,2,2,2,2,2,2,2,2,2,2,2,2,2,2,2,2,2,2,2,2,2,2,2,2,2,2,2,2,2,2,2,2,2,2,2,2,2,2,2,2,2,2,2,2,2,2,2,2,2,2,2,2,2,2,2,2,2,2,2,2,2,2,2,2,2,2,2,2,2,2,2,2,2,2,2,2,2,2,2,2,2,2,2,2,2,2,2,2,2,2,2,2,2,2,2,2,2,2,2,2,2,2,2,2,2,2,2,2,2,2,2,2,2,2,2,2,2,2,2,2,2,2,2,2,2,2,2,2,2,2,2,2,2,2,2,2,2,2,2,2,2,2,2,2,2,2,2,2,2,2,2,2,2,2,2,2,2,2,2,2,2,2,2,2,2,2,2,2,2,2,2,2,2,2,2,2,2,2,2,2,2,2,2,2,2,2,2,2,2,2,2,2,2,2,2,2,2,2,2,2,2,2,2,2,2,2,2,2,2,2,2,2,2,2,2,2,2,2,2,2,2,2,2,2,2,2,2,2,2,2,2,2,2,2,2,2,2,2,2,2,2,2,2,2,2,2,2,2,2,2,2,2,2,2,2,2,2,2,2,2,2,2,2,2,2,2,2,2,2,2,2,2,2,2,2,2,2,2,2,2,2,2,2,2,2,2,2,2,2,2,2,2,2,2,2,2,2,2,2,2,2,2,2,2,2,2,2,2,2,2,2,2,2,2,2,2,2,2,2,2,2,2,2,2,2,2,2,2,2,2,2,2,2,2,2,2,2,2,2,2,2,2,2,2,2,2,2,2,2,2,2,2,2,2,2,2,2,2,2,2,2,2,2,2,2,1,1,1,1,1,1,1,1,1,1,1,1,1,1,1,1,1,1,1,1,1,1,1,1,1,1,1,1,1,1,1,1,1,1,1,1,1,1,1,1,1,1,1,1,1,1,1,1,1,1,1,1,1,1,1,1,1,1,1,1,1,1,1,1,1,1,1,1,1,1,1,1,1,1,1,1,1,1,1,1,1,1,1,1,1,1,1,1,1,1,1,1,1,1,1,1,1,1,1,1,1,1,1,1,1,1,1,1,1,1,1,1,1,1,1,1,1,1,1,1,1,1,1,1,1,1,1,1,1,1,1,1,1,1,1,1,1,1,1,1,1,1,1,1,1,1,1,1,1,1,1,1,1,1,1,1,1,1,1,1,1,1,1,1,1,1,1,1,1,1,1,1,1,1,1,1,1,1,1,1,1,1,1,1,1,1,1,1,1,1,1,1,1,1,1,1,1,1,1,1,1,1,1,1,1,1,1,1,1,1,1,1,1,1,1,1,1,1,1,1,1,1,1,1,1,1,1,1,1,1,1,1,1,1,1,1,1,1,1,1,1,1,1,1,1,1,1,1,1,1,1,1,1,1,1,1,1,1,1,1,1,1,1,1,1,1,1,1,1,1,1,1,1,1,1,1,1,1,1,1,1,1,1,1,1,1,1,1,1,1,1,1,1,1,1,1,1,1,1,1,1,1,1,1,1,1,1,1,1,1,1,1,1,1,1,1,1,1,1,1,1,1,1,1,1,1,1,1,1,1,1,1,1,1,1,1,1,1,1,1,1,1,1,1,1,1,1,1,1,1,1,1,1,1,1,1,1,1,1,1,1,1,1,1,1,1,1,1,1,1,1,1,1,1,1,1,1,1,1,1,1,1,1,1,1,1,1,1,1,1,1,1,1,1,1,1,1,1,1,1,1,1,1,1,1,1,1,1,1,1,1,1,1,1,1,1,1,1,1,1,1,1,1,1,1,1,1,1,1,1,1,1,1,1,1,1,1,1,1,1,1,1,1,1,1,1,1,1,1,1,1,1,1,1,1,1,1,1,1,1,1,1,1,1,1,1,1,1,1,1,1,1,1,1,1,1,1,1,1,1,1,1,1,1,1,1,1,1,1,1,1,1,1,1,1,1,1,1,1,1,1,1,1,1,1,1,1,1,1,1,1,1,1,1,1,1,1,1,1,1,1,1,1,1,1,1,1,1,1,1,1,1,1,1,1,1,1,1,1,1,1,1,1,1,1,1,1,1,1,1,1,1,1,1,1,1,1,1,1,1,1,1,1,1,1,1,1,1,1,1,1,1,1,1,1,1,1,1,1,1,1,1,1,1,1,1,1,1,1,1,1,1,1,1,1,1,1,1,1,1,1,1,1,1,1,1,1,1,1,1,1,1,1,1,1,1,1,1,1,1,1,1,1,1,1,1,1,1,1,1,1,1,1,1,1,1,1,1,1,1,1,1,1,1,1,1,1,1,1,1,1,1,1,1,1,1,1,1,1,1,1,1,1,1,1,1,1,1,1,1,1,1,1,1,1,1,1,1,1,1,1,1,1,1,1,1,1,1,1,1,1,1,1,1,1,1,1,1,1,1,1,1,1,1,1,1,1,1,1,1,1,1,1,1,1,1,1,1,1,1,1,1,1,1,1,1,1,1,1,1,1,1,1,1,1,1,1,1,1,1,1,1,1,1,1,1,1,1,1,1,1,1,1,1,1,1,1,1,1,1,1,1,1,1,1,1,1,1,1,1,1,1,1,1,1,1,1,1,1,1,1,1,1,1,1,1,1,1,1,1,1,1,1,1,1,1,1,1,1,1,1,1,1,1,1,1,1,1,1,1,1,1,1,1,1,1,1,1,1,1,1,1,1,1,1,1,1,1,1,1,1,1,1,1,1,1,1,1,1,1,1,1,1,1,1,1,1,1,1,1,1,1,1,1,1,1,1,1,1,1,1,1,1,1,1,1,1,1,1,1,1,1,1,1,1,1,1,1,1,1,1,1,1,1,1,1,1,1,1,1,1,1,1,1,1,1,1,1,1,1,1,1,1,1,1,1,1,1,1,1,1,1,1,1,1,1,1,1,1,1,1,1,1,1,1,1,1,1,1,1,1,1,1,1,1,1,1,1,1,1,1,1,1,1,1,1,1,1,1,1,1,1,1,1,1,1,1,1,1,1,1,1,1,1,1,1,1,1,1,1,1,1,1,1,1,1,1,1,1,1,1,1,1,1,1,1,1,1,1,1,1,1,1,1,1,1,1,1,1,1,1,1,1,1,1,1,1,1,1,1,1,1,1,1,1,1,1,1,1,1,1,1,1,1,1,1,1,1,1,1,1,1,1,1,1,1,1,1,1,1,1,1,1,1,1,1,1,1,1,1,1,1,1,1,1,1,1,1,1,1,1,1,1,1,1,1,1,1,1,1,1,1,1,1,1,1,1,1,1,1,1,1,1,1,1,1,1,1,1,1,1,1,1,1,1,1,1,1,1,1,1,1,1,1,1,1,1,1,1,1,1,1,1,1,1,1,1,1,1,1,1,1,1,1,1,1,1,1,1,1,1,1,1,1,1,1,1,1,1,1,1,1,1,1,1,1,1,1,1,1,1,1,1,1,1,1,1,1,1,1,1,1,1,1,1,1,1,1,1,1,1,1,1,1,1,1,1,1,1,1,1,1,1,1,1,1,1,1,1,1,1,1,1,1,1,1,1,1,1,1,1,1,1,1,1,1,1,1,1,1,1,1,1,1,1,1,1,1,1,1,1,1,1,1,1,1,1,1,1,1,1,1,1,1,1,1,1,1,1,1,1,1,1,1,1,1,1,1,1,1,1,1,1,1,1,1,1,1,1,1,1,1,1,1,1,1,1,1,1,1,1,1,1,1,1,1,1,1,1,1,1,1,1,1,1,1,1,1,1,1,1,1,1,1,1,1,1,1,1,1,1,1,1,1,1,1,1,1,1,1,1,1,1,1,1,1,1,1,1,1,1,1,1,1,1,1,1,1,1,1,1,1,1,1,1,1,1,1,1,1,1,1,1,1,1,1,1,1,1,1,1,1,1,1,1,1,1,1,1,1,1,1,1,1,1,1,1,1,1,1,1,1,1,1,1,1,1,1,1,1,1,1,1,1,1,1,1,1,1,1,1,1,1,1,1,1,1,1,1,1,1,1,1,1,1,1,1,1,1,1,1,1,1,1,1,1,1,1,1,1,1,1,1,1,1,1,1,1,1,1,1,1,1,1,1,1,1,1,1,1,1,1,1,1,1,1,1,1,1,1,1,1,1,1,1,1,1,1,1,1,1,1,1,1,1,1,1,1,1,1,1,1,1,1,1,1,1,1,1,1,1,1,1,1,1,1,1,1,1,1,1,1,1,1,1,1,1,1,1,1,1,1,1,1,1,1,1,1,1,1,1,1,1,1,1,1,1,1,1,1,1,1,1,1,1,1,1,1,1,1,1,1,1,1,1,1,1,1,1,1,1,1,1,1,1,1,1,1,1,1,1,1,1,1,1,1,1,1,1,1,1,1,1,1,1,1,1,1,1,1,1,1,1,1,1,1,1,1,1,1,1,1,1,1,1,1,1,1,1,1,1,1,1,1,1,1,1,1,1,1,1,1,1,1,1,1,1,1,1,1,1,1,1,1,1,1,1,1,1,1,1,1,1,1,1,1,1,1,1,1,1,1,1,1,1,1,1,1,1,1,1,1,1,1,1,1,1,1,1,1,1,1,1,1,1,1,1,1,1,1,1,1,1,1,1,1,1,1,1,1,1,1,1,1,1,1,1,1,1,1,1,1,1,1,1,1,1,1,1,1,1,1,1,1,1,1,1,1,1,1,1,1,1,1,1,1,1,1,1,1,1,1,1,1,1,1,1,1,1,1,1,1,1,1,1,1,1,1,1,1,1,1,1,1,1,1,1,1,1,1,1,1,1,1,1,1,1,1,1,1,1,1,1,1,1,1,1,1,1,1,1,1,1,1,1,1,1,1,1,1,1,1,1,1,1,1,1,1,1,1,1,1,1,1,1,1,1,1,1,1,1,1,1,1,1,1,1,1,1,1,1,1,1,1,1,1,1,1,1,1,1,1,1,1,1,1,1,1,1,1,1,1,1,1,1,1,1,1,1,1,1,1,1,1,1,1,1,1,1,1,1,1,1,1,1,1,1,1,1,1,1,1,1,1,1,1,1,1,1,1,1,1,1,1,1,1,1,1,1,1,1,1,1,1,1,1,1,1,1,1,1,1,1,1,1,1,1,1,1,1,1,1,1,1,1,1,1,1,1,1,1,1,1,1,1,1,1,1,1,1,1,1,1,1,1,1,1,1,1,1,1,1,1,1,1,1,1,1,1,1,1,1,1,1,1,1,1,1,1,1,1,1,1,1,1,1,1,1,1,1,1,1,1,1,1,1,1,1,1,1,1,1,1,1,1,1,1,1,1,1,1,1,1,1,1,1,1,1,1,1,1,1,1,1,1,1,1,1,1,1,1,1,1,1,1,1,1,1,1,1,1,1,1,1,1,1,1,1,1,1,1,1,1,1,1,1,1,1,1,1,1,1,1,1,1,1,1,1,1,1,1,1,1,1,1,1,1,1,1,1,1,1,1,1,1,1,1,1,1,1,1,1,1,1,1,1,1,1,1,1,1,1,1,1,1,1,1,1,1,1,1,1,1,1,1,1,1,1,1,1,1,1,1,1,1,1,1,1,1,1,1,1,1,1,1,1,1,1,1,1,1,1,1,1,1,1,1,1,1,1,1,1,1,1,1,1,1,1,1,1,1,1,1,1,1,1,1,1,1,1,1,1,1,1,1,1,1,1,1,1,1,1,1,1,1,1,1,1,1,1,1,1,1,1,1,1,1,1,1,1,1,1,1,1,1,1,1,1,1,1,1,1,1,1,1,1,1,1,1,1,1,1,1,1,1,1,1,1,1,1,1,1,1,1,1,1,1,1,1,1,1,1,1,1,1,1,1,1,1,1,1,1,1,1,1,1,1,1,1,1,1,1,1,1,1,1,1,1,1,1,1,1,1,1,1,1,1,1,1,1,1,1,1,1,1,1,1,1,1,1,1,1,1,1,1,1,1,1,1,1,1,1,1,1,1,1,1,1,1,1,1,1,1,1,1,1,1,1,1,1,1,1,1,1],\"xaxis\":\"x\",\"yaxis\":\"y\",\"type\":\"histogram\"}],                        {\"template\":{\"data\":{\"histogram2dcontour\":[{\"type\":\"histogram2dcontour\",\"colorbar\":{\"outlinewidth\":0,\"ticks\":\"\"},\"colorscale\":[[0.0,\"#0d0887\"],[0.1111111111111111,\"#46039f\"],[0.2222222222222222,\"#7201a8\"],[0.3333333333333333,\"#9c179e\"],[0.4444444444444444,\"#bd3786\"],[0.5555555555555556,\"#d8576b\"],[0.6666666666666666,\"#ed7953\"],[0.7777777777777778,\"#fb9f3a\"],[0.8888888888888888,\"#fdca26\"],[1.0,\"#f0f921\"]]}],\"choropleth\":[{\"type\":\"choropleth\",\"colorbar\":{\"outlinewidth\":0,\"ticks\":\"\"}}],\"histogram2d\":[{\"type\":\"histogram2d\",\"colorbar\":{\"outlinewidth\":0,\"ticks\":\"\"},\"colorscale\":[[0.0,\"#0d0887\"],[0.1111111111111111,\"#46039f\"],[0.2222222222222222,\"#7201a8\"],[0.3333333333333333,\"#9c179e\"],[0.4444444444444444,\"#bd3786\"],[0.5555555555555556,\"#d8576b\"],[0.6666666666666666,\"#ed7953\"],[0.7777777777777778,\"#fb9f3a\"],[0.8888888888888888,\"#fdca26\"],[1.0,\"#f0f921\"]]}],\"heatmap\":[{\"type\":\"heatmap\",\"colorbar\":{\"outlinewidth\":0,\"ticks\":\"\"},\"colorscale\":[[0.0,\"#0d0887\"],[0.1111111111111111,\"#46039f\"],[0.2222222222222222,\"#7201a8\"],[0.3333333333333333,\"#9c179e\"],[0.4444444444444444,\"#bd3786\"],[0.5555555555555556,\"#d8576b\"],[0.6666666666666666,\"#ed7953\"],[0.7777777777777778,\"#fb9f3a\"],[0.8888888888888888,\"#fdca26\"],[1.0,\"#f0f921\"]]}],\"heatmapgl\":[{\"type\":\"heatmapgl\",\"colorbar\":{\"outlinewidth\":0,\"ticks\":\"\"},\"colorscale\":[[0.0,\"#0d0887\"],[0.1111111111111111,\"#46039f\"],[0.2222222222222222,\"#7201a8\"],[0.3333333333333333,\"#9c179e\"],[0.4444444444444444,\"#bd3786\"],[0.5555555555555556,\"#d8576b\"],[0.6666666666666666,\"#ed7953\"],[0.7777777777777778,\"#fb9f3a\"],[0.8888888888888888,\"#fdca26\"],[1.0,\"#f0f921\"]]}],\"contourcarpet\":[{\"type\":\"contourcarpet\",\"colorbar\":{\"outlinewidth\":0,\"ticks\":\"\"}}],\"contour\":[{\"type\":\"contour\",\"colorbar\":{\"outlinewidth\":0,\"ticks\":\"\"},\"colorscale\":[[0.0,\"#0d0887\"],[0.1111111111111111,\"#46039f\"],[0.2222222222222222,\"#7201a8\"],[0.3333333333333333,\"#9c179e\"],[0.4444444444444444,\"#bd3786\"],[0.5555555555555556,\"#d8576b\"],[0.6666666666666666,\"#ed7953\"],[0.7777777777777778,\"#fb9f3a\"],[0.8888888888888888,\"#fdca26\"],[1.0,\"#f0f921\"]]}],\"surface\":[{\"type\":\"surface\",\"colorbar\":{\"outlinewidth\":0,\"ticks\":\"\"},\"colorscale\":[[0.0,\"#0d0887\"],[0.1111111111111111,\"#46039f\"],[0.2222222222222222,\"#7201a8\"],[0.3333333333333333,\"#9c179e\"],[0.4444444444444444,\"#bd3786\"],[0.5555555555555556,\"#d8576b\"],[0.6666666666666666,\"#ed7953\"],[0.7777777777777778,\"#fb9f3a\"],[0.8888888888888888,\"#fdca26\"],[1.0,\"#f0f921\"]]}],\"mesh3d\":[{\"type\":\"mesh3d\",\"colorbar\":{\"outlinewidth\":0,\"ticks\":\"\"}}],\"scatter\":[{\"fillpattern\":{\"fillmode\":\"overlay\",\"size\":10,\"solidity\":0.2},\"type\":\"scatter\"}],\"parcoords\":[{\"type\":\"parcoords\",\"line\":{\"colorbar\":{\"outlinewidth\":0,\"ticks\":\"\"}}}],\"scatterpolargl\":[{\"type\":\"scatterpolargl\",\"marker\":{\"colorbar\":{\"outlinewidth\":0,\"ticks\":\"\"}}}],\"bar\":[{\"error_x\":{\"color\":\"#2a3f5f\"},\"error_y\":{\"color\":\"#2a3f5f\"},\"marker\":{\"line\":{\"color\":\"#E5ECF6\",\"width\":0.5},\"pattern\":{\"fillmode\":\"overlay\",\"size\":10,\"solidity\":0.2}},\"type\":\"bar\"}],\"scattergeo\":[{\"type\":\"scattergeo\",\"marker\":{\"colorbar\":{\"outlinewidth\":0,\"ticks\":\"\"}}}],\"scatterpolar\":[{\"type\":\"scatterpolar\",\"marker\":{\"colorbar\":{\"outlinewidth\":0,\"ticks\":\"\"}}}],\"histogram\":[{\"marker\":{\"pattern\":{\"fillmode\":\"overlay\",\"size\":10,\"solidity\":0.2}},\"type\":\"histogram\"}],\"scattergl\":[{\"type\":\"scattergl\",\"marker\":{\"colorbar\":{\"outlinewidth\":0,\"ticks\":\"\"}}}],\"scatter3d\":[{\"type\":\"scatter3d\",\"line\":{\"colorbar\":{\"outlinewidth\":0,\"ticks\":\"\"}},\"marker\":{\"colorbar\":{\"outlinewidth\":0,\"ticks\":\"\"}}}],\"scattermapbox\":[{\"type\":\"scattermapbox\",\"marker\":{\"colorbar\":{\"outlinewidth\":0,\"ticks\":\"\"}}}],\"scatterternary\":[{\"type\":\"scatterternary\",\"marker\":{\"colorbar\":{\"outlinewidth\":0,\"ticks\":\"\"}}}],\"scattercarpet\":[{\"type\":\"scattercarpet\",\"marker\":{\"colorbar\":{\"outlinewidth\":0,\"ticks\":\"\"}}}],\"carpet\":[{\"aaxis\":{\"endlinecolor\":\"#2a3f5f\",\"gridcolor\":\"white\",\"linecolor\":\"white\",\"minorgridcolor\":\"white\",\"startlinecolor\":\"#2a3f5f\"},\"baxis\":{\"endlinecolor\":\"#2a3f5f\",\"gridcolor\":\"white\",\"linecolor\":\"white\",\"minorgridcolor\":\"white\",\"startlinecolor\":\"#2a3f5f\"},\"type\":\"carpet\"}],\"table\":[{\"cells\":{\"fill\":{\"color\":\"#EBF0F8\"},\"line\":{\"color\":\"white\"}},\"header\":{\"fill\":{\"color\":\"#C8D4E3\"},\"line\":{\"color\":\"white\"}},\"type\":\"table\"}],\"barpolar\":[{\"marker\":{\"line\":{\"color\":\"#E5ECF6\",\"width\":0.5},\"pattern\":{\"fillmode\":\"overlay\",\"size\":10,\"solidity\":0.2}},\"type\":\"barpolar\"}],\"pie\":[{\"automargin\":true,\"type\":\"pie\"}]},\"layout\":{\"autotypenumbers\":\"strict\",\"colorway\":[\"#636efa\",\"#EF553B\",\"#00cc96\",\"#ab63fa\",\"#FFA15A\",\"#19d3f3\",\"#FF6692\",\"#B6E880\",\"#FF97FF\",\"#FECB52\"],\"font\":{\"color\":\"#2a3f5f\"},\"hovermode\":\"closest\",\"hoverlabel\":{\"align\":\"left\"},\"paper_bgcolor\":\"white\",\"plot_bgcolor\":\"#E5ECF6\",\"polar\":{\"bgcolor\":\"#E5ECF6\",\"angularaxis\":{\"gridcolor\":\"white\",\"linecolor\":\"white\",\"ticks\":\"\"},\"radialaxis\":{\"gridcolor\":\"white\",\"linecolor\":\"white\",\"ticks\":\"\"}},\"ternary\":{\"bgcolor\":\"#E5ECF6\",\"aaxis\":{\"gridcolor\":\"white\",\"linecolor\":\"white\",\"ticks\":\"\"},\"baxis\":{\"gridcolor\":\"white\",\"linecolor\":\"white\",\"ticks\":\"\"},\"caxis\":{\"gridcolor\":\"white\",\"linecolor\":\"white\",\"ticks\":\"\"}},\"coloraxis\":{\"colorbar\":{\"outlinewidth\":0,\"ticks\":\"\"}},\"colorscale\":{\"sequential\":[[0.0,\"#0d0887\"],[0.1111111111111111,\"#46039f\"],[0.2222222222222222,\"#7201a8\"],[0.3333333333333333,\"#9c179e\"],[0.4444444444444444,\"#bd3786\"],[0.5555555555555556,\"#d8576b\"],[0.6666666666666666,\"#ed7953\"],[0.7777777777777778,\"#fb9f3a\"],[0.8888888888888888,\"#fdca26\"],[1.0,\"#f0f921\"]],\"sequentialminus\":[[0.0,\"#0d0887\"],[0.1111111111111111,\"#46039f\"],[0.2222222222222222,\"#7201a8\"],[0.3333333333333333,\"#9c179e\"],[0.4444444444444444,\"#bd3786\"],[0.5555555555555556,\"#d8576b\"],[0.6666666666666666,\"#ed7953\"],[0.7777777777777778,\"#fb9f3a\"],[0.8888888888888888,\"#fdca26\"],[1.0,\"#f0f921\"]],\"diverging\":[[0,\"#8e0152\"],[0.1,\"#c51b7d\"],[0.2,\"#de77ae\"],[0.3,\"#f1b6da\"],[0.4,\"#fde0ef\"],[0.5,\"#f7f7f7\"],[0.6,\"#e6f5d0\"],[0.7,\"#b8e186\"],[0.8,\"#7fbc41\"],[0.9,\"#4d9221\"],[1,\"#276419\"]]},\"xaxis\":{\"gridcolor\":\"white\",\"linecolor\":\"white\",\"ticks\":\"\",\"title\":{\"standoff\":15},\"zerolinecolor\":\"white\",\"automargin\":true,\"zerolinewidth\":2},\"yaxis\":{\"gridcolor\":\"white\",\"linecolor\":\"white\",\"ticks\":\"\",\"title\":{\"standoff\":15},\"zerolinecolor\":\"white\",\"automargin\":true,\"zerolinewidth\":2},\"scene\":{\"xaxis\":{\"backgroundcolor\":\"#E5ECF6\",\"gridcolor\":\"white\",\"linecolor\":\"white\",\"showbackground\":true,\"ticks\":\"\",\"zerolinecolor\":\"white\",\"gridwidth\":2},\"yaxis\":{\"backgroundcolor\":\"#E5ECF6\",\"gridcolor\":\"white\",\"linecolor\":\"white\",\"showbackground\":true,\"ticks\":\"\",\"zerolinecolor\":\"white\",\"gridwidth\":2},\"zaxis\":{\"backgroundcolor\":\"#E5ECF6\",\"gridcolor\":\"white\",\"linecolor\":\"white\",\"showbackground\":true,\"ticks\":\"\",\"zerolinecolor\":\"white\",\"gridwidth\":2}},\"shapedefaults\":{\"line\":{\"color\":\"#2a3f5f\"}},\"annotationdefaults\":{\"arrowcolor\":\"#2a3f5f\",\"arrowhead\":0,\"arrowwidth\":1},\"geo\":{\"bgcolor\":\"white\",\"landcolor\":\"#E5ECF6\",\"subunitcolor\":\"white\",\"showland\":true,\"showlakes\":true,\"lakecolor\":\"white\"},\"title\":{\"x\":0.05},\"mapbox\":{\"style\":\"light\"}}},\"xaxis\":{\"anchor\":\"y\",\"domain\":[0.0,1.0],\"title\":{\"text\":\"degree\"}},\"yaxis\":{\"anchor\":\"x\",\"domain\":[0.0,1.0],\"title\":{\"text\":\"count\"},\"type\":\"log\"},\"legend\":{\"title\":{\"text\":\"variable\"},\"tracegroupgap\":0},\"title\":{\"text\":\"Degree distribution\"},\"barmode\":\"relative\",\"bargap\":0.2},                        {\"responsive\": true}                    ).then(function(){\n",
              "                            \n",
              "var gd = document.getElementById('32d1bb20-7b4a-4071-811f-9d4a31a6ed09');\n",
              "var x = new MutationObserver(function (mutations, observer) {{\n",
              "        var display = window.getComputedStyle(gd).display;\n",
              "        if (!display || display === 'none') {{\n",
              "            console.log([gd, 'removed!']);\n",
              "            Plotly.purge(gd);\n",
              "            observer.disconnect();\n",
              "        }}\n",
              "}});\n",
              "\n",
              "// Listen for the removal of the full notebook cells\n",
              "var notebookContainer = gd.closest('#notebook-container');\n",
              "if (notebookContainer) {{\n",
              "    x.observe(notebookContainer, {childList: true});\n",
              "}}\n",
              "\n",
              "// Listen for the clearing of the current output cell\n",
              "var outputEl = gd.closest('.output');\n",
              "if (outputEl) {{\n",
              "    x.observe(outputEl, {childList: true});\n",
              "}}\n",
              "\n",
              "                        })                };                            </script>        </div>\n",
              "</body>\n",
              "</html>"
            ]
          },
          "metadata": {}
        }
      ]
    },
    {
      "cell_type": "markdown",
      "source": [
        "\n",
        "\n",
        "The **heavy tail** of the power-law degree distribution supports the idea that the protein-protein interactions (PPI) network follows a scale-free model, where few highly connected proteins dominate while most have fewer interactions."
      ],
      "metadata": {
        "id": "IzB_zkV9aU95"
      }
    },
    {
      "cell_type": "code",
      "execution_count": 76,
      "metadata": {
        "colab": {
          "base_uri": "https://localhost:8080/",
          "height": 564
        },
        "id": "kIcVchuuoQz-",
        "outputId": "7ed6955b-eab0-4b55-bdb6-b7dd64511291"
      },
      "outputs": [
        {
          "output_type": "display_data",
          "data": {
            "text/plain": [
              "<Figure size 1200x600 with 1 Axes>"
            ],
            "image/png": "[encoded data removed]"
          },
          "metadata": {}
        }
      ],
      "source": [
        "# Plot Scatterplot of Degree versus Betweeness\n",
        "x = measures_ppi['Degree']\n",
        "y = measures_ppi['Betweeness']\n",
        "\n",
        "plt.figure(figsize=(12, 6))\n",
        "plt.scatter(x, y, color = 'mediumslateblue', alpha = 0.8, s = 60)\n",
        "\n",
        "plt.title('Scatter Plot of Node Degree vs. Betweenness Centrality', fontweight = 'bold')\n",
        "plt.xlabel('Node Degree', fontweight = 'bold')\n",
        "plt.ylabel('Betweenness Centrality', fontweight = 'bold')\n",
        "plt.grid()\n",
        "plt.show()"
      ]
    },
    {
      "cell_type": "markdown",
      "source": [
        "This scatter plot suggests that proteins with a higher degree in the PPI network tend to also have higher betweenness centrality, indicating that these proteins are also central to the **network's connectivity and structure**."
      ],
      "metadata": {
        "id": "G96zFCGvcHld"
      }
    },
    {
      "cell_type": "markdown",
      "source": [
        "#### Globally Sparse, Locally Dense\n"
      ],
      "metadata": {
        "id": "SrJeFN-qJwgp"
      }
    },
    {
      "cell_type": "markdown",
      "source": [
        "Complex social networks are typically **gloabally sparse**, meaning that they have few edges compared to the number of potential connections. However, within these networks, connections are highly concentrated in **localized neighborhoods**.\n",
        "\n",
        "\n",
        "Similarly, protein interactions are often sparse because not all proteins directly interact with one another. Instead, proteins tend to form modules, where each module represents a set of **related biological processes**."
      ],
      "metadata": {
        "id": "4z3Pc4Y3J00t"
      }
    },
    {
      "cell_type": "code",
      "source": [
        "# Compute Global Density\n",
        "global_density = nx.density(LCC_ppi)\n",
        "print(f'I Network Global Density: {global_density:.4f}')\n",
        "\n",
        "# Compute Local Density\n",
        "local_density = nx.average_clustering(LCC_ppi)\n",
        "print(f'PPI Network Average Clustering Coefficient: {local_density:.4f}')"
      ],
      "metadata": {
        "colab": {
          "base_uri": "https://localhost:8080/"
        },
        "id": "36df_oqZJxZh",
        "outputId": "4348465d-373d-402e-bac3-aebf838bf033"
      },
      "execution_count": 84,
      "outputs": [
        {
          "output_type": "stream",
          "name": "stdout",
          "text": [
            "PPI Network Global Density: 0.0011\n",
            "PPI Network Average Clustering Coefficient: 0.2907\n"
          ]
        }
      ]
    },
    {
      "cell_type": "markdown",
      "source": [
        "#### Small-World Network"
      ],
      "metadata": {
        "id": "0N0QaBjgDMZF"
      }
    },
    {
      "cell_type": "markdown",
      "source": [
        "Small-world networks show both **high clustering coefficients** and **short average path lengths**. This means that while nodes in the network are highly local interconnected, any two nodes can be reached through a relatively small number of steps, resulting in efficient communication within the network."
      ],
      "metadata": {
        "id": "mhojRHZDDaAh"
      }
    },
    {
      "cell_type": "code",
      "source": [
        "# Compute Average Path Lenght\n",
        "avg_path_length = nx.average_shortest_path_length(LCC_ppi)\n",
        "print(f'PPI Network Average Path Length: {avg_path_length:.4f}')"
      ],
      "metadata": {
        "colab": {
          "base_uri": "https://localhost:8080/"
        },
        "id": "3jk86uZzEcAy",
        "outputId": "8f12cbd0-2382-486b-f42b-83245b77fb2c"
      },
      "execution_count": 79,
      "outputs": [
        {
          "output_type": "stream",
          "name": "stdout",
          "text": [
            "PPI Network Average Path Length: 2.8594\n"
          ]
        }
      ]
    },
    {
      "cell_type": "markdown",
      "source": [
        "**[NOTA PER NOI]** Ci mette infinito tempo a runnare la parte sotto"
      ],
      "metadata": {
        "id": "vCwqtPOTXvC6"
      }
    },
    {
      "cell_type": "code",
      "source": [
        "# A graph is commonly classified as small-world if sigma > 1\n",
        "sigma = nx.sigma(LCC_ppi, niter = 100, nrand = 10, seed = 42)\n",
        "print(f'PPI Network Sigma: {sigma:.4f}')\n",
        "\n",
        "# Values close to 0 mean that has small-world characteristics\n",
        "omega = nx.omega(LCC_ppi, niter = 5, nrand = 10, seed = 42)\n",
        "print(f'PPI Network Omega: {omega:.4f}')"
      ],
      "metadata": {
        "id": "ngzYQ0tARRt3"
      },
      "execution_count": null,
      "outputs": []
    },
    {
      "cell_type": "markdown",
      "metadata": {
        "id": "pCZ9GAfSlsjZ"
      },
      "source": [
        "### 1.3) Network visualization"
      ]
    },
    {
      "cell_type": "markdown",
      "source": [
        "**[Aggiungere Gephi visualization]**"
      ],
      "metadata": {
        "id": "YcxNV_GKVkhm"
      }
    },
    {
      "cell_type": "code",
      "execution_count": null,
      "metadata": {
        "id": "LagFIvcQlt2t"
      },
      "outputs": [],
      "source": [
        "# Plot the PPI Largest Connected Component -> troppo grande?\n",
        "pos = nx.spring_layout(LCC_ppi, seed=42)\n",
        "\n",
        "plt.clf()\n",
        "plt.figure(figsize = (14, 10))\n",
        "nx.draw(LCC_ppi, pos, with_labels = True, node_color = 'violet', node_size = 1000,\n",
        "        edge_color = 'gray', linewidths = 1, font_size = 16)\n",
        "\n",
        "plt.title(\"PPI Largest connected Component Network\", fontweight = 'bold')\n",
        "plt.show()"
      ]
    },
    {
      "cell_type": "code",
      "execution_count": null,
      "metadata": {
        "id": "sVs22oralyUp"
      },
      "outputs": [],
      "source": [
        "# CAREFUL\n",
        "# Takes a while to plot\n",
        "plt.figure(figsize = (9, 7))\n",
        "nx.draw_spring(LCC_ppi, node_size = 30, arrows = False, node_color = 'mediumslateblue')\n",
        "plt.title('Protein-Protein Interaction Network')\n",
        "plt.show()"
      ]
    },
    {
      "cell_type": "markdown",
      "metadata": {
        "id": "4D1P24jHsxCl"
      },
      "source": [
        "${TO-DO:}$ it still takes too much to run. Try to run it in Colab with the GPU."
      ]
    },
    {
      "cell_type": "markdown",
      "metadata": {
        "id": "sYYpxVHelZxb"
      },
      "source": [
        "## 2) Community detection\n",
        "\n",
        "We experimented with clustering algorithms for community detection based on the **disease module hypothesis**. This hypothesis assumes that topological communities tend to be involved in similar biological processes and that the disease phenotype can be described by their breakdown.\n",
        "\n",
        "In this context, we compared the outcomes of three algorithms that align with this assumption:\n",
        "\n",
        "- **Kwik Cluster (or Pivot) Algorithm**\n",
        "- **Markov Clustering (MCL) Algorithm**\n",
        "- **Louvain Algorithm**\n",
        "\n",
        "To ensure that the identified clusters are neither too specific nor too general, we have established **minimum and maximum thresholds** (`100 <= len(cluster) <= 1000`) to strike the right balance for cluster size.\n",
        "These thresholds have led to improved outcomes in the subsequent stages of community detection."
      ]
    },
    {
      "cell_type": "markdown",
      "metadata": {
        "id": "KzbtNx7Doh6a"
      },
      "source": [
        "### 2.1) KWIKCLUSTER (or PIVOT) Algorithm\n",
        "\n",
        "**[Inserire commento introduttivo e/o pseudocodice]**"
      ]
    },
    {
      "cell_type": "code",
      "execution_count": 102,
      "metadata": {
        "id": "FhR5678HlaBl"
      },
      "outputs": [],
      "source": [
        "def kwik_cluster(G):\n",
        "  clusters = []\n",
        "  nodes = set(G.nodes)\n",
        "\n",
        "  while nodes:\n",
        "    # Select a random pivot\n",
        "    pivot = random.choice(list(nodes))\n",
        "\n",
        "    # Initialize the cluster with that pivot\n",
        "    C = [pivot]\n",
        "\n",
        "    # Remove the pivot from the remaining nodes\n",
        "    nodes.remove(pivot)\n",
        "\n",
        "    # Find all neighbors of the pivot\n",
        "    for neighbor in list(nodes):\n",
        "      if G.has_edge(pivot, neighbor):\n",
        "        C.append(neighbor)\n",
        "        # Remove the neighbor from remaining nodes\n",
        "        nodes.remove(neighbor)\n",
        "\n",
        "    # Add the cluster C to the list of clusters\n",
        "    clusters.append(C)\n",
        "\n",
        "  return clusters"
      ]
    },
    {
      "cell_type": "code",
      "source": [
        "# Compute KWIK clusters\n",
        "KWIK_clusters = kwik_cluster(LCC_ppi)\n",
        "print(\"Number of KWIK clusters: \", len(KWIK_clusters))"
      ],
      "metadata": {
        "colab": {
          "base_uri": "https://localhost:8080/"
        },
        "id": "EqL7gwFZYiju",
        "outputId": "37434679-1539-4980-d27d-649e5d1a6142"
      },
      "execution_count": 134,
      "outputs": [
        {
          "output_type": "stream",
          "name": "stdout",
          "text": [
            "Number of KWIK clusters:  7028\n"
          ]
        }
      ]
    },
    {
      "cell_type": "code",
      "source": [
        "# Select communities with a number of nodes between 100 and 1000\n",
        "KWIK_clusters_filtered = [cluster for cluster in KWIK_clusters if 100 <= len(cluster) <= 1000]\n",
        "print(\"Number of filtered KWIK clusters: \", len(KWIK_clusters_filtered))"
      ],
      "metadata": {
        "colab": {
          "base_uri": "https://localhost:8080/"
        },
        "id": "hvKIuBwyYlXu",
        "outputId": "83af81af-cf38-4b4a-a382-81c87817f33b"
      },
      "execution_count": 179,
      "outputs": [
        {
          "output_type": "stream",
          "name": "stdout",
          "text": [
            "Number of filtered KWIK clusters:  0\n"
          ]
        }
      ]
    },
    {
      "cell_type": "markdown",
      "source": [
        "**[Spiegare perché non va bene]**"
      ],
      "metadata": {
        "id": "0-ZumypPdwPd"
      }
    },
    {
      "cell_type": "markdown",
      "metadata": {
        "id": "et2KpRjjoows"
      },
      "source": [
        "### 2.2) Markov Cluster Algorithm"
      ]
    },
    {
      "cell_type": "markdown",
      "metadata": {
        "id": "ItWzLkvzbH8d"
      },
      "source": [
        "The Markov Clustering (MCL) algorithm detects clusters by simulating **random flow** through a graph.  It essentially performs matrix multiplication on the adjacency matrix of the graph to propagate the flow between nodes."
      ]
    },
    {
      "cell_type": "code",
      "execution_count": 169,
      "metadata": {
        "colab": {
          "base_uri": "https://localhost:8080/"
        },
        "id": "tELNSKCxVqzB",
        "outputId": "11c40e7a-de04-48c0-b094-1a964cddbd88"
      },
      "outputs": [
        {
          "output_type": "execute_result",
          "data": {
            "text/plain": [
              "(7116, 7116)"
            ]
          },
          "metadata": {},
          "execution_count": 169
        }
      ],
      "source": [
        "# Convert the LCC_ppi network to a suitable format for MCL algorithm\n",
        "matrix = nx.to_scipy_sparse_array(LCC_ppi)\n",
        "matrix = csr_matrix(matrix)\n",
        "matrix.shape"
      ]
    },
    {
      "cell_type": "markdown",
      "metadata": {
        "id": "fQU5q-xlaw08"
      },
      "source": [
        "\n",
        "The **inflation parameter** controls the granularity of clustering:\n",
        "\n",
        "- Inflation > 1: increases the tendency to form smaller and more distinct clusters, resulting in a greater number of clusters.\n",
        "- Inflation < 1: increases the tendency to form larger and more general clusters, resulsing in fewer clusters as the algorithm becomes less aggressive in clustering."
      ]
    },
    {
      "cell_type": "code",
      "execution_count": 278,
      "metadata": {
        "id": "JRu9SfxbQ_SC",
        "colab": {
          "base_uri": "https://localhost:8080/"
        },
        "outputId": "d7ee792c-2ee5-4723-f90c-9eae7a6db247"
      },
      "outputs": [
        {
          "output_type": "stream",
          "name": "stdout",
          "text": [
            "Number of MCL clusters:  46\n"
          ]
        }
      ],
      "source": [
        "# Run the MCL algorithm with inflaction = 1.8\n",
        "result = mc.run_mcl(matrix, inflation = 1.8)\n",
        "MCL_clusters = mc.get_clusters(result)\n",
        "print(\"Number of MCL clusters: \", len(MCL_clusters))"
      ]
    },
    {
      "cell_type": "code",
      "execution_count": 279,
      "metadata": {
        "colab": {
          "base_uri": "https://localhost:8080/"
        },
        "id": "s0psZJbbcHG5",
        "outputId": "f4355896-0bb8-4628-ef7b-d35c115acc24"
      },
      "outputs": [
        {
          "output_type": "stream",
          "name": "stdout",
          "text": [
            "Number of filtered MCL clusters:  8\n"
          ]
        }
      ],
      "source": [
        "# Select communities with a number of nodes between 100 and 1000\n",
        "MCL_clusters_filtered = [cluster for cluster in MCL_clusters if 100 <= len(cluster) <= 1000]\n",
        "print(\"Number of filtered MCL clusters: \", len(MCL_clusters_filtered))"
      ]
    },
    {
      "cell_type": "code",
      "execution_count": 280,
      "metadata": {
        "colab": {
          "base_uri": "https://localhost:8080/"
        },
        "id": "kMsvq2aURGCr",
        "outputId": "189af116-7434-4a2d-d159-2468e21f23ae"
      },
      "outputs": [
        {
          "output_type": "stream",
          "name": "stdout",
          "text": [
            "Number of proteins in MCL Cluster 1: 594\n",
            "Number of proteins in MCL Cluster 2: 106\n",
            "Number of proteins in MCL Cluster 3: 338\n",
            "Number of proteins in MCL Cluster 4: 374\n",
            "Number of proteins in MCL Cluster 5: 108\n",
            "Number of proteins in MCL Cluster 6: 170\n",
            "Number of proteins in MCL Cluster 7: 109\n",
            "Number of proteins in MCL Cluster 8: 174\n"
          ]
        }
      ],
      "source": [
        "for i, cluster in enumerate(MCL_clusters_filtered):\n",
        "  print(f\"Number of proteins in MCL Cluster {i + 1}: {len(cluster)}\")"
      ]
    },
    {
      "cell_type": "code",
      "execution_count": 281,
      "metadata": {
        "id": "0W7yuzCKlRcB"
      },
      "outputs": [],
      "source": [
        "nodes = np.array(LCC_ppi.nodes())\n",
        "MCL_clusters_filtered_2 = []\n",
        "for cluster in MCL_clusters_filtered:\n",
        "  cluster_names = [nodes[index] for index in cluster]\n",
        "  MCL_clusters_filtered_2.append(cluster_names)"
      ]
    },
    {
      "cell_type": "code",
      "execution_count": 282,
      "metadata": {
        "id": "4JiGsdzuZAOL"
      },
      "outputs": [],
      "source": [
        "# positions = nx.spring_layout(LCC_ppi)\n",
        "# mc.draw_graph(matrix, clusters, pos = positions, node_size = 50, with_labels = False, edge_color = \"silver\")"
      ]
    },
    {
      "cell_type": "markdown",
      "metadata": {
        "id": "fJJVsOCHosR2"
      },
      "source": [
        "### 2.3) Louvain Algorithm"
      ]
    },
    {
      "cell_type": "markdown",
      "metadata": {
        "id": "cYPnKWyccEr7"
      },
      "source": [
        "Louvain algorithm optimizes modularity by iteratively merging nodes into communities to maximize the **modularity score**.\n",
        "\n",
        "The **resolution parameter** adjusts the scale of the communities detected:\n",
        "\n",
        "- By increasing the sensitivity to modularity variations, the algorithm tends to identify smaller and more numerous communities.\n",
        "\n",
        "- By decreasing the sensitivity to modularity variations, the algorithm tends to identify larger and fewer communities."
      ]
    },
    {
      "cell_type": "code",
      "execution_count": 283,
      "metadata": {
        "id": "DpDLiiJbovUq",
        "colab": {
          "base_uri": "https://localhost:8080/"
        },
        "outputId": "e07675dc-6006-4f04-dc38-51a59340d901"
      },
      "outputs": [
        {
          "output_type": "stream",
          "name": "stdout",
          "text": [
            "Number of Louvain communities:  10\n"
          ]
        }
      ],
      "source": [
        "# Run the Louvain algorithm with gamma = 1.0\n",
        "louvain_communities = nx.community.louvain_communities(LCC_ppi, weight = 'weight', resolution = 1.0, seed = 42)\n",
        "print(\"Number of Louvain communities: \", len(louvain_communities))"
      ]
    },
    {
      "cell_type": "code",
      "execution_count": 284,
      "metadata": {
        "colab": {
          "base_uri": "https://localhost:8080/"
        },
        "id": "BltR9AyjgwlN",
        "outputId": "e80565f7-ee25-49f2-c7fb-a090d046c039"
      },
      "outputs": [
        {
          "output_type": "stream",
          "name": "stdout",
          "text": [
            "Number of filtered Louvain communities:  9\n"
          ]
        }
      ],
      "source": [
        "# Select communities with a number of nodes between 100 and 1000\n",
        "louvain_communities_filtered = [community for community in louvain_communities if 100 <= len(community) <= 1000]\n",
        "print(\"Number of filtered Louvain communities: \", len(louvain_communities_filtered))"
      ]
    },
    {
      "cell_type": "code",
      "execution_count": 285,
      "metadata": {
        "colab": {
          "base_uri": "https://localhost:8080/"
        },
        "id": "Ipwef_X-p4MO",
        "outputId": "e50f3205-6451-4551-f07a-b7abdfbc82d1"
      },
      "outputs": [
        {
          "output_type": "stream",
          "name": "stdout",
          "text": [
            "Number of proteins in Louvain Community 1: 690\n",
            "Number of proteins in Louvain Community 2: 687\n",
            "Number of proteins in Louvain Community 3: 931\n",
            "Number of proteins in Louvain Community 4: 509\n",
            "Number of proteins in Louvain Community 5: 543\n",
            "Number of proteins in Louvain Community 6: 402\n",
            "Number of proteins in Louvain Community 7: 367\n",
            "Number of proteins in Louvain Community 8: 360\n",
            "Number of proteins in Louvain Community 9: 891\n"
          ]
        }
      ],
      "source": [
        "for i, community in enumerate(louvain_communities_filtered):\n",
        "  print(f\"Number of proteins in Louvain Community {i + 1}: {len(community)}\")"
      ]
    },
    {
      "cell_type": "markdown",
      "source": [
        "### 2.4) Comparison of communities"
      ],
      "metadata": {
        "id": "zGxpRFEdlE9w"
      }
    },
    {
      "cell_type": "code",
      "source": [
        "overlap_info = {}\n",
        "\n",
        "for i, louvain_community in enumerate(louvain_communities_filtered):\n",
        "  louvain_community_proteins = set(louvain_community)\n",
        "  max_overlap_count = 0\n",
        "  max_overlap_cluster = None\n",
        "  proteins_in_common = set()\n",
        "\n",
        "  for j, mcl_cluster in enumerate(MCL_clusters_filtered_2):\n",
        "    mcl_cluster_proteins = set(mcl_cluster)\n",
        "\n",
        "    # Compute the overlap using intersection\n",
        "    overlap_set = louvain_community_proteins.intersection(mcl_cluster_proteins)\n",
        "    overlap_count = len(overlap_set)\n",
        "\n",
        "    # Save the maximum overlap\n",
        "    if overlap_count > max_overlap_count:\n",
        "      max_overlap_count = overlap_count\n",
        "      max_overlap_cluster = j\n",
        "      proteins_in_common = overlap_set\n",
        "\n",
        "    # Save the info in the dictionary\n",
        "    overlap_info[i] = {\n",
        "        'mcl_cluster': max_overlap_cluster + 1,\n",
        "        'overlap_count': max_overlap_count,\n",
        "        'proteins_in_common': list(proteins_in_common)\n",
        "    }\n",
        "\n",
        "  print(f\"Louvain Community {i + 1} has the most overlap with MCL Cluster {max_overlap_cluster + 1} with {max_overlap_count} proteins in common.\")"
      ],
      "metadata": {
        "colab": {
          "base_uri": "https://localhost:8080/"
        },
        "id": "uaaMbHRllIkU",
        "outputId": "1835cb73-f2c6-4ec8-9ca4-b854c7cbad1b"
      },
      "execution_count": 294,
      "outputs": [
        {
          "output_type": "stream",
          "name": "stdout",
          "text": [
            "Louvain Community 1 has the most overlap with MCL Cluster 6 with 114 proteins in common.\n",
            "Louvain Community 2 has the most overlap with MCL Cluster 1 with 371 proteins in common.\n",
            "Louvain Community 3 has the most overlap with MCL Cluster 1 with 28 proteins in common.\n",
            "Louvain Community 4 has the most overlap with MCL Cluster 3 with 256 proteins in common.\n",
            "Louvain Community 5 has the most overlap with MCL Cluster 8 with 136 proteins in common.\n",
            "Louvain Community 6 has the most overlap with MCL Cluster 1 with 27 proteins in common.\n",
            "Louvain Community 7 has the most overlap with MCL Cluster 3 with 10 proteins in common.\n",
            "Louvain Community 8 has the most overlap with MCL Cluster 3 with 8 proteins in common.\n",
            "Louvain Community 9 has the most overlap with MCL Cluster 4 with 261 proteins in common.\n"
          ]
        }
      ]
    },
    {
      "cell_type": "code",
      "source": [
        "overlap_proteins_filtered_map = [map_id[item] for item in overlap_info[1]['proteins_in_common'] if item in map_id]\n",
        "for p in overlap_proteins_filtered_map:\n",
        "  print(p)"
      ],
      "metadata": {
        "colab": {
          "base_uri": "https://localhost:8080/"
        },
        "id": "5SOP-tN2pe-q",
        "outputId": "0438a1e8-46ab-4119-9ca3-91ef08cb36c5"
      },
      "execution_count": 299,
      "outputs": [
        {
          "output_type": "stream",
          "name": "stdout",
          "text": [
            "GIT1\n",
            "CLASP2\n",
            "MCM9\n",
            "ASF1B\n",
            "STAT6\n",
            "SRSF11\n",
            "DBNL\n",
            "NACAD\n",
            "G6PC3\n",
            "SOCS6\n",
            "SEPT6\n",
            "DPH7\n",
            "TRIP12\n",
            "LPIN1\n",
            "SNAP29\n",
            "SETD2\n",
            "WIPF2\n",
            "MDN1\n",
            "BABAM1\n",
            "UBE2T\n",
            "C18orf25\n",
            "RPAP2\n",
            "CBLL1\n",
            "LGALSL\n",
            "TBC1D1\n",
            "TAF9\n",
            "PAN3\n",
            "MRFAP1\n",
            "SNRNP40\n",
            "TCEAL4\n",
            "SIX5\n",
            "PTF1A\n",
            "TMEM126B\n",
            "SPATA31D4\n",
            "SPATA31D3\n",
            "PDZD7\n",
            "NPC1L1\n",
            "TCF7L2\n",
            "ARHGEF6\n",
            "TCF20\n",
            "VPS72\n",
            "DSN1\n",
            "SATB2\n",
            "DMAP1\n",
            "FAM192A\n",
            "ARHGEF12\n",
            "ARHGEF18\n",
            "ZNF362\n",
            "BAG3\n",
            "TEAD3\n",
            "NRBF2\n",
            "FTH1\n",
            "PACSIN1\n",
            "SPAG7\n",
            "CCDC17\n",
            "SIRT4\n",
            "CEP41\n",
            "FUS\n",
            "NFE2L2\n",
            "CXXC1\n",
            "NFIL3\n",
            "DNTTIP2\n",
            "NFRKB\n",
            "LSM14B\n",
            "GABPB1\n",
            "HEY1\n",
            "MINK1\n",
            "PHF3\n",
            "MTL5\n",
            "KIF12\n",
            "DUX4\n",
            "NOTCH4\n",
            "DZIP3\n",
            "COPS7A\n",
            "CLINT1\n",
            "RBFOX2\n",
            "MAPK8IP2\n",
            "C21orf59\n",
            "SLC2A13\n",
            "TP53BP1\n",
            "DCAF11\n",
            "GFI1\n",
            "PATZ1\n",
            "LMTK3\n",
            "PDDC1\n",
            "RABGAP1\n",
            "RRP15\n",
            "ORC1\n",
            "IST1\n",
            "CCDC50\n",
            "TSC2\n",
            "KCNH6\n",
            "BBX\n",
            "TTC4\n",
            "CCDC124\n",
            "TTN\n",
            "TUBG1\n",
            "PAK2\n",
            "ZMAT2\n",
            "PBX1\n",
            "UBE2E2\n",
            "ZNF653\n",
            "TFIP11\n",
            "SHC2\n",
            "RGL3\n",
            "PAK7\n",
            "DCLRE1A\n",
            "UNG\n",
            "GPS1\n",
            "GPS2\n",
            "CIZ1\n",
            "HSPA12B\n",
            "RBM33\n",
            "DOPEY2\n",
            "SLC45A4\n",
            "GPR63\n",
            "SRA1\n",
            "TRIM11\n",
            "DFNB31\n",
            "ZFP36L2\n",
            "WARS\n",
            "FRAT1\n",
            "CHAF1A\n",
            "GTF2E2\n",
            "GTF2F1\n",
            "GTF2F2\n",
            "ABCC5\n",
            "GUCY1A2\n",
            "WWTR1\n",
            "SYF2\n",
            "PLEKHH1\n",
            "CDC40\n",
            "CACNA1B\n",
            "CACNA1E\n",
            "ZZZ3\n",
            "STARD9\n",
            "TOB1\n",
            "PCDH11Y\n",
            "HCFC1\n",
            "RNF138\n",
            "CALM3\n",
            "WASF2\n",
            "C12orf45\n",
            "SORBS3\n",
            "TRIAP1\n",
            "RBM7\n",
            "LSM14A\n",
            "CWC15\n",
            "TPH2\n",
            "RTFDC1\n",
            "HIVEP1\n",
            "TXNDC9\n",
            "CRAMP1L\n",
            "EIF1\n",
            "SLAIN2\n",
            "RAB6B\n",
            "ZFPM1\n",
            "CCNA2\n",
            "ZFAT\n",
            "CCND2\n",
            "IRF2BP1\n",
            "SH3RF1\n",
            "DCAF7\n",
            "FAM71E2\n",
            "HMGB2\n",
            "POU2F1\n",
            "TAF9B\n",
            "ZBTB17\n",
            "FOXA2\n",
            "GMEB2\n",
            "GRWD1\n",
            "PPAT\n",
            "CHD8\n",
            "RNF113A\n",
            "CWC27\n",
            "BCAS2\n",
            "SUFU\n",
            "ZNF207\n",
            "FBXO40\n",
            "PPP2CA\n",
            "PPP1R10\n",
            "WBP11\n",
            "CDC5L\n",
            "MARK4\n",
            "CDK12\n",
            "C9orf78\n",
            "SUGP1\n",
            "CDC34\n",
            "STK26\n",
            "RSF1\n",
            "TRIM22\n",
            "HPRT1\n",
            "XIRP1\n",
            "PRICKLE2\n",
            "PHAX\n",
            "SPA17\n",
            "PRKAB1\n",
            "HRC\n",
            "SHC3\n",
            "SCG2\n",
            "KIRREL2\n",
            "HSF1\n",
            "MAPK7\n",
            "NSRP1\n",
            "CETN2\n",
            "MAP2K5\n",
            "EPS15L1\n",
            "SRPK3\n",
            "NELFE\n",
            "USP42\n",
            "CHD2\n",
            "CHD3\n",
            "CHEK1\n",
            "TADA3\n",
            "UBE2E3\n",
            "GPBP1L1\n",
            "NUFIP1\n",
            "FBLN5\n",
            "CCDC6\n",
            "CKS1B\n",
            "PSD2\n",
            "PSME1\n",
            "LYPLAL1\n",
            "PTGIS\n",
            "ZNF384\n",
            "nsp9\n",
            "CDC42EP3\n",
            "IGFBP3\n",
            "STAMBP\n",
            "FAM195A\n",
            "COL2A1\n",
            "PURB\n",
            "ELL\n",
            "COL4A6\n",
            "RAD51AP1\n",
            "RBPJ\n",
            "COL11A2\n",
            "CHAF1B\n",
            "DGCR14\n",
            "EEF2KMT\n",
            "COX8A\n",
            "KDM5D\n",
            "NSMCE2\n",
            "MGEA5\n",
            "AXIN1\n",
            "STAG2\n",
            "RBBP5\n",
            "PAF1\n",
            "HIST1H4D\n",
            "HIST1H4J\n",
            "IREB2\n",
            "IRS1\n",
            "GPKOW\n",
            "RING1\n",
            "ITGB7\n",
            "CSTF1\n",
            "NSMCE4A\n",
            "ZNF282\n",
            "FAM220A\n",
            "PDLIM3\n",
            "DHX16\n",
            "GATAD2A\n",
            "SUPT3H\n",
            "NUCKS1\n",
            "PCDH11X\n",
            "RPS6KA6\n",
            "TEX28\n",
            "SMAP2\n",
            "GPATCH4\n",
            "SLCO6A1\n",
            "SUB1\n",
            "CECR2\n",
            "KCNQ2\n",
            "CASZ1\n",
            "AEN\n",
            "RBM15\n",
            "SPDL1\n",
            "API5\n",
            "DACH1\n",
            "PRPF18\n",
            "KANSL2\n",
            "ZFYVE19\n",
            "ATG4C\n",
            "COPS5\n",
            "METAP2\n",
            "MAPKAPK2\n",
            "HIPK1\n",
            "RASAL3\n",
            "RPS6KB1\n",
            "BANP\n",
            "PINX1\n",
            "REPS1\n",
            "IRS2\n",
            "WNK2\n",
            "HNRNPUL1\n",
            "KRT38\n",
            "PRDM7\n",
            "PRDM4\n",
            "SHANK3\n",
            "CXorf57\n",
            "WDR70\n",
            "MYH13\n",
            "MAGOHB\n",
            "NUDT4\n",
            "SCN9A\n",
            "CENPM\n",
            "RIPK2\n",
            "PDCL3\n",
            "LBX2\n",
            "WBP4\n",
            "DNAAF2\n",
            "LTK\n",
            "RIF1\n",
            "AKAP2\n",
            "SMAD1\n",
            "MAP2K4\n",
            "PPP1R3F\n",
            "NT5DC1\n",
            "KSR1\n",
            "MAGEA8\n",
            "NOL12\n",
            "ARHGEF7\n",
            "ASXL2\n",
            "EEF1D\n",
            "EIF2B2\n",
            "PDAP1\n",
            "MAX\n",
            "UBE3D\n",
            "CWF19L1\n",
            "CASC3\n",
            "BCL10\n",
            "EIF2B1\n",
            "EIF4EBP1\n",
            "BSN\n",
            "NANP\n",
            "COPZ1\n",
            "KLHL13\n",
            "RSBN1L\n",
            "DNAJC8\n",
            "MEA1\n",
            "RPS6KA4\n",
            "MEF2D\n",
            "MEIS1\n",
            "STRBP\n",
            "MFAP1\n",
            "KIAA0907\n",
            "SLC18A3\n",
            "PRC1\n",
            "GPALPP1\n",
            "ERCC5\n",
            "SIRT2\n",
            "SNW1\n",
            "SNRPB2\n",
            "ETV5\n",
            "DNAH3\n",
            "SON\n",
            "UAP1L1\n",
            "OTUD5\n",
            "KIF21A\n",
            "SP100\n",
            "ZNF830\n",
            "ARHGEF2\n",
            "ZNF322\n",
            "SYBU\n",
            "DCLK1\n",
            "NEK9\n",
            "FBN1\n",
            "FBN2\n",
            "LRRFIP1\n",
            "IWS1\n",
            "CCDC94\n"
          ]
        }
      ]
    },
    {
      "cell_type": "markdown",
      "metadata": {
        "id": "CDCT5m4rlap-"
      },
      "source": [
        "## 3) Link Prediction with Graph Neural Networks (GNNs)"
      ]
    },
    {
      "cell_type": "code",
      "execution_count": null,
      "metadata": {
        "id": "W3t4ww-nldCz"
      },
      "outputs": [],
      "source": []
    },
    {
      "cell_type": "markdown",
      "metadata": {
        "id": "cVrj68zuldhB"
      },
      "source": [
        " ### 3.1) Exploring different models to perform the prediction task\n",
        "\n",
        " GAT, GCN, etc.\n",
        "\n",
        " Transformers?"
      ]
    },
    {
      "cell_type": "code",
      "execution_count": null,
      "metadata": {
        "id": "5sbp4PM0lfGI"
      },
      "outputs": [],
      "source": []
    },
    {
      "cell_type": "markdown",
      "metadata": {
        "id": "ER8B0MdWlhgN"
      },
      "source": [
        "### 3.2) Evaluation of results\n",
        "\n",
        "(using metrics such as confusion matrix, accuracy, precision, recall, F1 score, hits@k, etc.)"
      ]
    },
    {
      "cell_type": "code",
      "execution_count": null,
      "metadata": {
        "id": "yfGQUkZKlhrN"
      },
      "outputs": [],
      "source": []
    },
    {
      "cell_type": "markdown",
      "metadata": {
        "id": "tKm8Ivarljd8"
      },
      "source": [
        "## [Optional: Influence and Homophily?]\n",
        "\n",
        "**[Spostare questa sezione subito dopo il Clustering]**\n",
        "\n",
        "For any experiment in this area, we can take into consideration the Organism Interactor name as the \"class\" to which the proteins belong. Remember that in this dataset every row represent an interaction between two proteins, and we have both names of their organisms. We might need to build a new graph containing this information (the one we use for community detection just contains the protein names)."
      ]
    },
    {
      "cell_type": "code",
      "execution_count": null,
      "metadata": {
        "id": "9ZCDdowLljqv"
      },
      "outputs": [],
      "source": [
        "# 1. [Indipendente dal clustering]\n",
        "#    Visualizzare e commentare il numero di interazioni presenti nel dataset tra proteine\n",
        "#    dello stesso organismo, ex: umano-umano, sars2-sars2, sars-sars, mers-mers\n",
        "#    (NB: normalizziamo per numero di proteine per ogni organismo, perché per esempio le proteine umane sono\n",
        "#     la categoria più presente)\n",
        "\n",
        "# 2. [Dopo il clustering]\n",
        "#    Visualizzare e commentare il numero di interazioni tra proteine dello stesso cluster,\n",
        "#    che potrebbe indicare una tendenza a interagire tra proteine appartenenti allo stesso \"processo biologico\" (?) -> capire meglio che cos'è"
      ]
    },
    {
      "cell_type": "markdown",
      "metadata": {
        "id": "DZfD5MIIll4V"
      },
      "source": [
        "## 4) Conclusions"
      ]
    },
    {
      "cell_type": "code",
      "execution_count": null,
      "metadata": {
        "id": "ST6odSIulmCe"
      },
      "outputs": [],
      "source": []
    }
  ],
  "metadata": {
    "colab": {
      "provenance": [],
      "toc_visible": true
    },
    "kernelspec": {
      "display_name": "Python 3",
      "name": "python3"
    },
    "language_info": {
      "codemirror_mode": {
        "name": "ipython",
        "version": 3
      },
      "file_extension": ".py",
      "mimetype": "text/x-python",
      "name": "python",
      "nbconvert_exporter": "python",
      "pygments_lexer": "ipython3",
      "version": "3.9.15"
    }
  },
  "nbformat": 4,
  "nbformat_minor": 0
}