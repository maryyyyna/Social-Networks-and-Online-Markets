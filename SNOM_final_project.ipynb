{
  "nbformat": 4,
  "nbformat_minor": 0,
  "metadata": {
    "colab": {
      "provenance": [],
      "toc_visible": true
    },
    "kernelspec": {
      "name": "python3",
      "display_name": "Python 3"
    },
    "language_info": {
      "name": "python"
    }
  },
  "cells": [
    {
      "cell_type": "markdown",
      "source": [
        "# Social Networks Final Project: Protein-Protein Interactions (PPI)\n",
        "\n",
        "**Group members:**\n",
        "\n",
        "Marina Iuliana Aur, *1809715* <br>\n",
        "Cristiana Di Tullio, *1803880*"
      ],
      "metadata": {
        "id": "NMaFrA9Cde_G"
      }
    },
    {
      "cell_type": "markdown",
      "source": [
        "## Import libraries and dependencies"
      ],
      "metadata": {
        "id": "ngVvnZAyd1l2"
      }
    },
    {
      "cell_type": "code",
      "source": [
        "# Run if needed\n",
        "%pip install torch-geometric\n",
        "%pip install markov-clustering"
      ],
      "metadata": {
        "id": "uHyGNCa-d1H4"
      },
      "execution_count": 89,
      "outputs": []
    },
    {
      "cell_type": "code",
      "source": [
        "# Import libraries\n",
        "import pandas as pd\n",
        "import networkx as nx\n",
        "from matplotlib import pyplot as plt\n",
        "import itertools\n",
        "import pprint\n",
        "import torch\n",
        "from torch.cuda import is_available\n",
        "from torch_geometric.utils import to_networkx, negative_sampling\n",
        "import markov_clustering as mc\n",
        "from scipy.sparse import csr_matrix"
      ],
      "metadata": {
        "id": "T3of24qodyl9"
      },
      "execution_count": 90,
      "outputs": []
    },
    {
      "cell_type": "code",
      "source": [
        "# CPU/GPU\n",
        "device = 'cpu'\n",
        "if torch.cuda.is_available():\n",
        "\tdevice = 'gpu'\n",
        "\n",
        "print(f'Using device {device}')"
      ],
      "metadata": {
        "colab": {
          "base_uri": "https://localhost:8080/"
        },
        "id": "LUeBYUwkd6mb",
        "outputId": "6a3e5606-c8d8-4df2-c420-d05b06d41df8"
      },
      "execution_count": 4,
      "outputs": [
        {
          "output_type": "stream",
          "name": "stdout",
          "text": [
            "Using device cpu\n"
          ]
        }
      ]
    },
    {
      "cell_type": "markdown",
      "source": [
        "## Utility functions"
      ],
      "metadata": {
        "id": "mqyPqCQbd-Jv"
      }
    },
    {
      "cell_type": "code",
      "source": [
        "# Graph visualization functions from the SNOM Lab\n",
        "# NOTE: the original input object was not a normal networkx graph\n",
        "def convert_to_networkx(graph):\n",
        "\tg = to_networkx(graph, node_attrs = ['x'])\n",
        "\ty = graph.y.numpy()\n",
        "\treturn g, y\n",
        "\n",
        "def plot_graph(g, y):\n",
        "\tplt.figure(figsize = (9, 7))\n",
        "\tnx.draw_spring(g, node_size = 30, arrows = False, node_color = y)\n",
        "\tplt.show()"
      ],
      "metadata": {
        "id": "lunz77lGeA1H"
      },
      "execution_count": 5,
      "outputs": []
    },
    {
      "cell_type": "code",
      "source": [
        "def print_dict(string, dictionary, n = 5):\n",
        "    \"\"\"\n",
        "    Utility function to display only the first n elements\n",
        "    of a dictionary.\n",
        "    \"\"\"\n",
        "    dictionary = dict(dictionary)\n",
        "\n",
        "    out = dict(itertools.islice(dictionary.items(), n))\n",
        "    print(string)\n",
        "    print(\"-\" * len(string))\n",
        "    pprint.pprint(out)\n",
        "    print(\"\")"
      ],
      "metadata": {
        "id": "jm7uohZMn26z"
      },
      "execution_count": 49,
      "outputs": []
    },
    {
      "cell_type": "markdown",
      "source": [
        "## 1) Introduction\n"
      ],
      "metadata": {
        "id": "pk_qgrzyeE_t"
      }
    },
    {
      "cell_type": "markdown",
      "source": [
        " ### 1.1) Dataset description\n",
        "\n",
        " [**BIOGRID CORONAVIRUS dataset**](\n",
        "https://downloads.thebiogrid.org/File/BioGRID/Release-Archive/BIOGRID-4.4.236/BIOGRID-CORONAVIRUS-4.4.236.tab3.zip)\n",
        "\n",
        " (every row represents the interaction between two proteins)"
      ],
      "metadata": {
        "id": "7sBB3gYmeHTV"
      }
    },
    {
      "cell_type": "code",
      "source": [
        "# Load PPI network\n",
        "covid_df = pd.read_csv('/content/BIOGRID-CORONAVIRUS-4.4.236.tab3.txt', sep = '\\t')\n",
        "covid_df.head()"
      ],
      "metadata": {
        "colab": {
          "base_uri": "https://localhost:8080/",
          "height": 516
        },
        "id": "Qpt4H-wudsCm",
        "outputId": "af01cf62-5763-4edc-b27e-48f4861162c9"
      },
      "execution_count": 101,
      "outputs": [
        {
          "output_type": "execute_result",
          "data": {
            "text/plain": [
              "   #BioGRID Interaction ID Entrez Gene Interactor A Entrez Gene Interactor B  \\\n",
              "0                   141211                   850980                   852501   \n",
              "1                   141212                   852501                   850980   \n",
              "2                   141213                   850980                   856680   \n",
              "3                   141214                   856680                   850980   \n",
              "4                   141215                   852501                   850793   \n",
              "\n",
              "   BioGRID ID Interactor A  BioGRID ID Interactor B  \\\n",
              "0                    31542                    32899   \n",
              "1                    32899                    31542   \n",
              "2                    31542                    36697   \n",
              "3                    36697                    31542   \n",
              "4                    32899                    31376   \n",
              "\n",
              "  Systematic Name Interactor A Systematic Name Interactor B  \\\n",
              "0                      YLR274W                      YBR202W   \n",
              "1                      YBR202W                      YLR274W   \n",
              "2                      YLR274W                      YEL032W   \n",
              "3                      YEL032W                      YLR274W   \n",
              "4                      YBR202W                      YLR103C   \n",
              "\n",
              "  Official Symbol Interactor A Official Symbol Interactor B  \\\n",
              "0                         MCM5                         MCM7   \n",
              "1                         MCM7                         MCM5   \n",
              "2                         MCM5                         MCM3   \n",
              "3                         MCM3                         MCM5   \n",
              "4                         MCM7                        CDC45   \n",
              "\n",
              "                               Synonyms Interactor A  ...  \\\n",
              "0  BOB1|CDC46|MCM DNA helicase complex subunit MC...  ...   \n",
              "1  CDC47|MCM DNA helicase complex subunit MCM7|L0...  ...   \n",
              "2  BOB1|CDC46|MCM DNA helicase complex subunit MC...  ...   \n",
              "3   MCM DNA helicase complex subunit MCM3|L000001039  ...   \n",
              "4  CDC47|MCM DNA helicase complex subunit MCM7|L0...  ...   \n",
              "\n",
              "  TREMBL Accessions Interactor B REFSEQ Accessions Interactor B  \\\n",
              "0                              -                      NP_009761   \n",
              "1                              -                      NP_013376   \n",
              "2                              -                      NP_010882   \n",
              "3                              -                      NP_013376   \n",
              "4                              -                      NP_013204   \n",
              "\n",
              "  Ontology Term IDs Ontology Term Names Ontology Term Categories  \\\n",
              "0                 -                   -                        -   \n",
              "1                 -                   -                        -   \n",
              "2                 -                   -                        -   \n",
              "3                 -                   -                        -   \n",
              "4                 -                   -                        -   \n",
              "\n",
              "   Ontology Term Qualifier IDs  Ontology Term Qualifier Names  \\\n",
              "0                            -                              -   \n",
              "1                            -                              -   \n",
              "2                            -                              -   \n",
              "3                            -                              -   \n",
              "4                            -                              -   \n",
              "\n",
              "  Ontology Term Types        Organism Name Interactor A  \\\n",
              "0                   -  Saccharomyces cerevisiae (S288c)   \n",
              "1                   -  Saccharomyces cerevisiae (S288c)   \n",
              "2                   -  Saccharomyces cerevisiae (S288c)   \n",
              "3                   -  Saccharomyces cerevisiae (S288c)   \n",
              "4                   -  Saccharomyces cerevisiae (S288c)   \n",
              "\n",
              "         Organism Name Interactor B  \n",
              "0  Saccharomyces cerevisiae (S288c)  \n",
              "1  Saccharomyces cerevisiae (S288c)  \n",
              "2  Saccharomyces cerevisiae (S288c)  \n",
              "3  Saccharomyces cerevisiae (S288c)  \n",
              "4  Saccharomyces cerevisiae (S288c)  \n",
              "\n",
              "[5 rows x 37 columns]"
            ],
            "text/html": [
              "\n",
              "  <div id=\"df-3300eee0-4735-4f9b-adad-ffc4a2df7959\" class=\"colab-df-container\">\n",
              "    <div>\n",
              "<style scoped>\n",
              "    .dataframe tbody tr th:only-of-type {\n",
              "        vertical-align: middle;\n",
              "    }\n",
              "\n",
              "    .dataframe tbody tr th {\n",
              "        vertical-align: top;\n",
              "    }\n",
              "\n",
              "    .dataframe thead th {\n",
              "        text-align: right;\n",
              "    }\n",
              "</style>\n",
              "<table border=\"1\" class=\"dataframe\">\n",
              "  <thead>\n",
              "    <tr style=\"text-align: right;\">\n",
              "      <th></th>\n",
              "      <th>#BioGRID Interaction ID</th>\n",
              "      <th>Entrez Gene Interactor A</th>\n",
              "      <th>Entrez Gene Interactor B</th>\n",
              "      <th>BioGRID ID Interactor A</th>\n",
              "      <th>BioGRID ID Interactor B</th>\n",
              "      <th>Systematic Name Interactor A</th>\n",
              "      <th>Systematic Name Interactor B</th>\n",
              "      <th>Official Symbol Interactor A</th>\n",
              "      <th>Official Symbol Interactor B</th>\n",
              "      <th>Synonyms Interactor A</th>\n",
              "      <th>...</th>\n",
              "      <th>TREMBL Accessions Interactor B</th>\n",
              "      <th>REFSEQ Accessions Interactor B</th>\n",
              "      <th>Ontology Term IDs</th>\n",
              "      <th>Ontology Term Names</th>\n",
              "      <th>Ontology Term Categories</th>\n",
              "      <th>Ontology Term Qualifier IDs</th>\n",
              "      <th>Ontology Term Qualifier Names</th>\n",
              "      <th>Ontology Term Types</th>\n",
              "      <th>Organism Name Interactor A</th>\n",
              "      <th>Organism Name Interactor B</th>\n",
              "    </tr>\n",
              "  </thead>\n",
              "  <tbody>\n",
              "    <tr>\n",
              "      <th>0</th>\n",
              "      <td>141211</td>\n",
              "      <td>850980</td>\n",
              "      <td>852501</td>\n",
              "      <td>31542</td>\n",
              "      <td>32899</td>\n",
              "      <td>YLR274W</td>\n",
              "      <td>YBR202W</td>\n",
              "      <td>MCM5</td>\n",
              "      <td>MCM7</td>\n",
              "      <td>BOB1|CDC46|MCM DNA helicase complex subunit MC...</td>\n",
              "      <td>...</td>\n",
              "      <td>-</td>\n",
              "      <td>NP_009761</td>\n",
              "      <td>-</td>\n",
              "      <td>-</td>\n",
              "      <td>-</td>\n",
              "      <td>-</td>\n",
              "      <td>-</td>\n",
              "      <td>-</td>\n",
              "      <td>Saccharomyces cerevisiae (S288c)</td>\n",
              "      <td>Saccharomyces cerevisiae (S288c)</td>\n",
              "    </tr>\n",
              "    <tr>\n",
              "      <th>1</th>\n",
              "      <td>141212</td>\n",
              "      <td>852501</td>\n",
              "      <td>850980</td>\n",
              "      <td>32899</td>\n",
              "      <td>31542</td>\n",
              "      <td>YBR202W</td>\n",
              "      <td>YLR274W</td>\n",
              "      <td>MCM7</td>\n",
              "      <td>MCM5</td>\n",
              "      <td>CDC47|MCM DNA helicase complex subunit MCM7|L0...</td>\n",
              "      <td>...</td>\n",
              "      <td>-</td>\n",
              "      <td>NP_013376</td>\n",
              "      <td>-</td>\n",
              "      <td>-</td>\n",
              "      <td>-</td>\n",
              "      <td>-</td>\n",
              "      <td>-</td>\n",
              "      <td>-</td>\n",
              "      <td>Saccharomyces cerevisiae (S288c)</td>\n",
              "      <td>Saccharomyces cerevisiae (S288c)</td>\n",
              "    </tr>\n",
              "    <tr>\n",
              "      <th>2</th>\n",
              "      <td>141213</td>\n",
              "      <td>850980</td>\n",
              "      <td>856680</td>\n",
              "      <td>31542</td>\n",
              "      <td>36697</td>\n",
              "      <td>YLR274W</td>\n",
              "      <td>YEL032W</td>\n",
              "      <td>MCM5</td>\n",
              "      <td>MCM3</td>\n",
              "      <td>BOB1|CDC46|MCM DNA helicase complex subunit MC...</td>\n",
              "      <td>...</td>\n",
              "      <td>-</td>\n",
              "      <td>NP_010882</td>\n",
              "      <td>-</td>\n",
              "      <td>-</td>\n",
              "      <td>-</td>\n",
              "      <td>-</td>\n",
              "      <td>-</td>\n",
              "      <td>-</td>\n",
              "      <td>Saccharomyces cerevisiae (S288c)</td>\n",
              "      <td>Saccharomyces cerevisiae (S288c)</td>\n",
              "    </tr>\n",
              "    <tr>\n",
              "      <th>3</th>\n",
              "      <td>141214</td>\n",
              "      <td>856680</td>\n",
              "      <td>850980</td>\n",
              "      <td>36697</td>\n",
              "      <td>31542</td>\n",
              "      <td>YEL032W</td>\n",
              "      <td>YLR274W</td>\n",
              "      <td>MCM3</td>\n",
              "      <td>MCM5</td>\n",
              "      <td>MCM DNA helicase complex subunit MCM3|L000001039</td>\n",
              "      <td>...</td>\n",
              "      <td>-</td>\n",
              "      <td>NP_013376</td>\n",
              "      <td>-</td>\n",
              "      <td>-</td>\n",
              "      <td>-</td>\n",
              "      <td>-</td>\n",
              "      <td>-</td>\n",
              "      <td>-</td>\n",
              "      <td>Saccharomyces cerevisiae (S288c)</td>\n",
              "      <td>Saccharomyces cerevisiae (S288c)</td>\n",
              "    </tr>\n",
              "    <tr>\n",
              "      <th>4</th>\n",
              "      <td>141215</td>\n",
              "      <td>852501</td>\n",
              "      <td>850793</td>\n",
              "      <td>32899</td>\n",
              "      <td>31376</td>\n",
              "      <td>YBR202W</td>\n",
              "      <td>YLR103C</td>\n",
              "      <td>MCM7</td>\n",
              "      <td>CDC45</td>\n",
              "      <td>CDC47|MCM DNA helicase complex subunit MCM7|L0...</td>\n",
              "      <td>...</td>\n",
              "      <td>-</td>\n",
              "      <td>NP_013204</td>\n",
              "      <td>-</td>\n",
              "      <td>-</td>\n",
              "      <td>-</td>\n",
              "      <td>-</td>\n",
              "      <td>-</td>\n",
              "      <td>-</td>\n",
              "      <td>Saccharomyces cerevisiae (S288c)</td>\n",
              "      <td>Saccharomyces cerevisiae (S288c)</td>\n",
              "    </tr>\n",
              "  </tbody>\n",
              "</table>\n",
              "<p>5 rows × 37 columns</p>\n",
              "</div>\n",
              "    <div class=\"colab-df-buttons\">\n",
              "\n",
              "  <div class=\"colab-df-container\">\n",
              "    <button class=\"colab-df-convert\" onclick=\"convertToInteractive('df-3300eee0-4735-4f9b-adad-ffc4a2df7959')\"\n",
              "            title=\"Convert this dataframe to an interactive table.\"\n",
              "            style=\"display:none;\">\n",
              "\n",
              "  <svg xmlns=\"http://www.w3.org/2000/svg\" height=\"24px\" viewBox=\"0 -960 960 960\">\n",
              "    <path d=\"M120-120v-720h720v720H120Zm60-500h600v-160H180v160Zm220 220h160v-160H400v160Zm0 220h160v-160H400v160ZM180-400h160v-160H180v160Zm440 0h160v-160H620v160ZM180-180h160v-160H180v160Zm440 0h160v-160H620v160Z\"/>\n",
              "  </svg>\n",
              "    </button>\n",
              "\n",
              "  <style>\n",
              "    .colab-df-container {\n",
              "      display:flex;\n",
              "      gap: 12px;\n",
              "    }\n",
              "\n",
              "    .colab-df-convert {\n",
              "      background-color: #E8F0FE;\n",
              "      border: none;\n",
              "      border-radius: 50%;\n",
              "      cursor: pointer;\n",
              "      display: none;\n",
              "      fill: #1967D2;\n",
              "      height: 32px;\n",
              "      padding: 0 0 0 0;\n",
              "      width: 32px;\n",
              "    }\n",
              "\n",
              "    .colab-df-convert:hover {\n",
              "      background-color: #E2EBFA;\n",
              "      box-shadow: 0px 1px 2px rgba(60, 64, 67, 0.3), 0px 1px 3px 1px rgba(60, 64, 67, 0.15);\n",
              "      fill: #174EA6;\n",
              "    }\n",
              "\n",
              "    .colab-df-buttons div {\n",
              "      margin-bottom: 4px;\n",
              "    }\n",
              "\n",
              "    [theme=dark] .colab-df-convert {\n",
              "      background-color: #3B4455;\n",
              "      fill: #D2E3FC;\n",
              "    }\n",
              "\n",
              "    [theme=dark] .colab-df-convert:hover {\n",
              "      background-color: #434B5C;\n",
              "      box-shadow: 0px 1px 3px 1px rgba(0, 0, 0, 0.15);\n",
              "      filter: drop-shadow(0px 1px 2px rgba(0, 0, 0, 0.3));\n",
              "      fill: #FFFFFF;\n",
              "    }\n",
              "  </style>\n",
              "\n",
              "    <script>\n",
              "      const buttonEl =\n",
              "        document.querySelector('#df-3300eee0-4735-4f9b-adad-ffc4a2df7959 button.colab-df-convert');\n",
              "      buttonEl.style.display =\n",
              "        google.colab.kernel.accessAllowed ? 'block' : 'none';\n",
              "\n",
              "      async function convertToInteractive(key) {\n",
              "        const element = document.querySelector('#df-3300eee0-4735-4f9b-adad-ffc4a2df7959');\n",
              "        const dataTable =\n",
              "          await google.colab.kernel.invokeFunction('convertToInteractive',\n",
              "                                                    [key], {});\n",
              "        if (!dataTable) return;\n",
              "\n",
              "        const docLinkHtml = 'Like what you see? Visit the ' +\n",
              "          '<a target=\"_blank\" href=https://colab.research.google.com/notebooks/data_table.ipynb>data table notebook</a>'\n",
              "          + ' to learn more about interactive tables.';\n",
              "        element.innerHTML = '';\n",
              "        dataTable['output_type'] = 'display_data';\n",
              "        await google.colab.output.renderOutput(dataTable, element);\n",
              "        const docLink = document.createElement('div');\n",
              "        docLink.innerHTML = docLinkHtml;\n",
              "        element.appendChild(docLink);\n",
              "      }\n",
              "    </script>\n",
              "  </div>\n",
              "\n",
              "\n",
              "<div id=\"df-91dc9df2-ccf7-4704-b14c-475c7f33ea4d\">\n",
              "  <button class=\"colab-df-quickchart\" onclick=\"quickchart('df-91dc9df2-ccf7-4704-b14c-475c7f33ea4d')\"\n",
              "            title=\"Suggest charts\"\n",
              "            style=\"display:none;\">\n",
              "\n",
              "<svg xmlns=\"http://www.w3.org/2000/svg\" height=\"24px\"viewBox=\"0 0 24 24\"\n",
              "     width=\"24px\">\n",
              "    <g>\n",
              "        <path d=\"M19 3H5c-1.1 0-2 .9-2 2v14c0 1.1.9 2 2 2h14c1.1 0 2-.9 2-2V5c0-1.1-.9-2-2-2zM9 17H7v-7h2v7zm4 0h-2V7h2v10zm4 0h-2v-4h2v4z\"/>\n",
              "    </g>\n",
              "</svg>\n",
              "  </button>\n",
              "\n",
              "<style>\n",
              "  .colab-df-quickchart {\n",
              "      --bg-color: #E8F0FE;\n",
              "      --fill-color: #1967D2;\n",
              "      --hover-bg-color: #E2EBFA;\n",
              "      --hover-fill-color: #174EA6;\n",
              "      --disabled-fill-color: #AAA;\n",
              "      --disabled-bg-color: #DDD;\n",
              "  }\n",
              "\n",
              "  [theme=dark] .colab-df-quickchart {\n",
              "      --bg-color: #3B4455;\n",
              "      --fill-color: #D2E3FC;\n",
              "      --hover-bg-color: #434B5C;\n",
              "      --hover-fill-color: #FFFFFF;\n",
              "      --disabled-bg-color: #3B4455;\n",
              "      --disabled-fill-color: #666;\n",
              "  }\n",
              "\n",
              "  .colab-df-quickchart {\n",
              "    background-color: var(--bg-color);\n",
              "    border: none;\n",
              "    border-radius: 50%;\n",
              "    cursor: pointer;\n",
              "    display: none;\n",
              "    fill: var(--fill-color);\n",
              "    height: 32px;\n",
              "    padding: 0;\n",
              "    width: 32px;\n",
              "  }\n",
              "\n",
              "  .colab-df-quickchart:hover {\n",
              "    background-color: var(--hover-bg-color);\n",
              "    box-shadow: 0 1px 2px rgba(60, 64, 67, 0.3), 0 1px 3px 1px rgba(60, 64, 67, 0.15);\n",
              "    fill: var(--button-hover-fill-color);\n",
              "  }\n",
              "\n",
              "  .colab-df-quickchart-complete:disabled,\n",
              "  .colab-df-quickchart-complete:disabled:hover {\n",
              "    background-color: var(--disabled-bg-color);\n",
              "    fill: var(--disabled-fill-color);\n",
              "    box-shadow: none;\n",
              "  }\n",
              "\n",
              "  .colab-df-spinner {\n",
              "    border: 2px solid var(--fill-color);\n",
              "    border-color: transparent;\n",
              "    border-bottom-color: var(--fill-color);\n",
              "    animation:\n",
              "      spin 1s steps(1) infinite;\n",
              "  }\n",
              "\n",
              "  @keyframes spin {\n",
              "    0% {\n",
              "      border-color: transparent;\n",
              "      border-bottom-color: var(--fill-color);\n",
              "      border-left-color: var(--fill-color);\n",
              "    }\n",
              "    20% {\n",
              "      border-color: transparent;\n",
              "      border-left-color: var(--fill-color);\n",
              "      border-top-color: var(--fill-color);\n",
              "    }\n",
              "    30% {\n",
              "      border-color: transparent;\n",
              "      border-left-color: var(--fill-color);\n",
              "      border-top-color: var(--fill-color);\n",
              "      border-right-color: var(--fill-color);\n",
              "    }\n",
              "    40% {\n",
              "      border-color: transparent;\n",
              "      border-right-color: var(--fill-color);\n",
              "      border-top-color: var(--fill-color);\n",
              "    }\n",
              "    60% {\n",
              "      border-color: transparent;\n",
              "      border-right-color: var(--fill-color);\n",
              "    }\n",
              "    80% {\n",
              "      border-color: transparent;\n",
              "      border-right-color: var(--fill-color);\n",
              "      border-bottom-color: var(--fill-color);\n",
              "    }\n",
              "    90% {\n",
              "      border-color: transparent;\n",
              "      border-bottom-color: var(--fill-color);\n",
              "    }\n",
              "  }\n",
              "</style>\n",
              "\n",
              "  <script>\n",
              "    async function quickchart(key) {\n",
              "      const quickchartButtonEl =\n",
              "        document.querySelector('#' + key + ' button');\n",
              "      quickchartButtonEl.disabled = true;  // To prevent multiple clicks.\n",
              "      quickchartButtonEl.classList.add('colab-df-spinner');\n",
              "      try {\n",
              "        const charts = await google.colab.kernel.invokeFunction(\n",
              "            'suggestCharts', [key], {});\n",
              "      } catch (error) {\n",
              "        console.error('Error during call to suggestCharts:', error);\n",
              "      }\n",
              "      quickchartButtonEl.classList.remove('colab-df-spinner');\n",
              "      quickchartButtonEl.classList.add('colab-df-quickchart-complete');\n",
              "    }\n",
              "    (() => {\n",
              "      let quickchartButtonEl =\n",
              "        document.querySelector('#df-91dc9df2-ccf7-4704-b14c-475c7f33ea4d button');\n",
              "      quickchartButtonEl.style.display =\n",
              "        google.colab.kernel.accessAllowed ? 'block' : 'none';\n",
              "    })();\n",
              "  </script>\n",
              "</div>\n",
              "\n",
              "    </div>\n",
              "  </div>\n"
            ],
            "application/vnd.google.colaboratory.intrinsic+json": {
              "type": "dataframe",
              "variable_name": "covid_df"
            }
          },
          "metadata": {},
          "execution_count": 101
        }
      ]
    },
    {
      "cell_type": "code",
      "source": [
        "covid_df.info()"
      ],
      "metadata": {
        "colab": {
          "base_uri": "https://localhost:8080/"
        },
        "id": "vEY2rD8neNIh",
        "outputId": "9b5ffd2a-2fbf-412a-942a-14212d600b02"
      },
      "execution_count": 102,
      "outputs": [
        {
          "output_type": "stream",
          "name": "stdout",
          "text": [
            "<class 'pandas.core.frame.DataFrame'>\n",
            "RangeIndex: 60777 entries, 0 to 60776\n",
            "Data columns (total 37 columns):\n",
            " #   Column                              Non-Null Count  Dtype \n",
            "---  ------                              --------------  ----- \n",
            " 0   #BioGRID Interaction ID             60777 non-null  int64 \n",
            " 1   Entrez Gene Interactor A            60777 non-null  object\n",
            " 2   Entrez Gene Interactor B            60777 non-null  object\n",
            " 3   BioGRID ID Interactor A             60777 non-null  int64 \n",
            " 4   BioGRID ID Interactor B             60777 non-null  int64 \n",
            " 5   Systematic Name Interactor A        60777 non-null  object\n",
            " 6   Systematic Name Interactor B        60777 non-null  object\n",
            " 7   Official Symbol Interactor A        60777 non-null  object\n",
            " 8   Official Symbol Interactor B        60777 non-null  object\n",
            " 9   Synonyms Interactor A               60777 non-null  object\n",
            " 10  Synonyms Interactor B               60777 non-null  object\n",
            " 11  Experimental System                 60777 non-null  object\n",
            " 12  Experimental System Type            60777 non-null  object\n",
            " 13  Author                              60777 non-null  object\n",
            " 14  Publication Source                  60777 non-null  object\n",
            " 15  Organism ID Interactor A            60777 non-null  int64 \n",
            " 16  Organism ID Interactor B            60777 non-null  int64 \n",
            " 17  Throughput                          60777 non-null  object\n",
            " 18  Score                               60777 non-null  object\n",
            " 19  Modification                        60777 non-null  object\n",
            " 20  Qualifications                      60777 non-null  object\n",
            " 21  Tags                                60777 non-null  object\n",
            " 22  Source Database                     60777 non-null  object\n",
            " 23  SWISS-PROT Accessions Interactor A  60777 non-null  object\n",
            " 24  TREMBL Accessions Interactor A      60777 non-null  object\n",
            " 25  REFSEQ Accessions Interactor A      60769 non-null  object\n",
            " 26  SWISS-PROT Accessions Interactor B  60777 non-null  object\n",
            " 27  TREMBL Accessions Interactor B      60777 non-null  object\n",
            " 28  REFSEQ Accessions Interactor B      60746 non-null  object\n",
            " 29  Ontology Term IDs                   60777 non-null  object\n",
            " 30  Ontology Term Names                 60777 non-null  object\n",
            " 31  Ontology Term Categories            60777 non-null  object\n",
            " 32  Ontology Term Qualifier IDs         60777 non-null  object\n",
            " 33  Ontology Term Qualifier Names       60777 non-null  object\n",
            " 34  Ontology Term Types                 60777 non-null  object\n",
            " 35  Organism Name Interactor A          60777 non-null  object\n",
            " 36  Organism Name Interactor B          60777 non-null  object\n",
            "dtypes: int64(5), object(32)\n",
            "memory usage: 17.2+ MB\n"
          ]
        }
      ]
    },
    {
      "cell_type": "code",
      "source": [
        "ppi = covid_df[['Official Symbol Interactor A', 'Official Symbol Interactor B']]\n",
        "ppi.head()"
      ],
      "metadata": {
        "colab": {
          "base_uri": "https://localhost:8080/",
          "height": 206
        },
        "id": "9H8lQG2BeOd1",
        "outputId": "301cecf2-98a8-477b-adb7-fb925a3ff818"
      },
      "execution_count": 103,
      "outputs": [
        {
          "output_type": "execute_result",
          "data": {
            "text/plain": [
              "  Official Symbol Interactor A Official Symbol Interactor B\n",
              "0                         MCM5                         MCM7\n",
              "1                         MCM7                         MCM5\n",
              "2                         MCM5                         MCM3\n",
              "3                         MCM3                         MCM5\n",
              "4                         MCM7                        CDC45"
            ],
            "text/html": [
              "\n",
              "  <div id=\"df-b2955d3f-1aaa-4afa-abe0-54631bf5ae71\" class=\"colab-df-container\">\n",
              "    <div>\n",
              "<style scoped>\n",
              "    .dataframe tbody tr th:only-of-type {\n",
              "        vertical-align: middle;\n",
              "    }\n",
              "\n",
              "    .dataframe tbody tr th {\n",
              "        vertical-align: top;\n",
              "    }\n",
              "\n",
              "    .dataframe thead th {\n",
              "        text-align: right;\n",
              "    }\n",
              "</style>\n",
              "<table border=\"1\" class=\"dataframe\">\n",
              "  <thead>\n",
              "    <tr style=\"text-align: right;\">\n",
              "      <th></th>\n",
              "      <th>Official Symbol Interactor A</th>\n",
              "      <th>Official Symbol Interactor B</th>\n",
              "    </tr>\n",
              "  </thead>\n",
              "  <tbody>\n",
              "    <tr>\n",
              "      <th>0</th>\n",
              "      <td>MCM5</td>\n",
              "      <td>MCM7</td>\n",
              "    </tr>\n",
              "    <tr>\n",
              "      <th>1</th>\n",
              "      <td>MCM7</td>\n",
              "      <td>MCM5</td>\n",
              "    </tr>\n",
              "    <tr>\n",
              "      <th>2</th>\n",
              "      <td>MCM5</td>\n",
              "      <td>MCM3</td>\n",
              "    </tr>\n",
              "    <tr>\n",
              "      <th>3</th>\n",
              "      <td>MCM3</td>\n",
              "      <td>MCM5</td>\n",
              "    </tr>\n",
              "    <tr>\n",
              "      <th>4</th>\n",
              "      <td>MCM7</td>\n",
              "      <td>CDC45</td>\n",
              "    </tr>\n",
              "  </tbody>\n",
              "</table>\n",
              "</div>\n",
              "    <div class=\"colab-df-buttons\">\n",
              "\n",
              "  <div class=\"colab-df-container\">\n",
              "    <button class=\"colab-df-convert\" onclick=\"convertToInteractive('df-b2955d3f-1aaa-4afa-abe0-54631bf5ae71')\"\n",
              "            title=\"Convert this dataframe to an interactive table.\"\n",
              "            style=\"display:none;\">\n",
              "\n",
              "  <svg xmlns=\"http://www.w3.org/2000/svg\" height=\"24px\" viewBox=\"0 -960 960 960\">\n",
              "    <path d=\"M120-120v-720h720v720H120Zm60-500h600v-160H180v160Zm220 220h160v-160H400v160Zm0 220h160v-160H400v160ZM180-400h160v-160H180v160Zm440 0h160v-160H620v160ZM180-180h160v-160H180v160Zm440 0h160v-160H620v160Z\"/>\n",
              "  </svg>\n",
              "    </button>\n",
              "\n",
              "  <style>\n",
              "    .colab-df-container {\n",
              "      display:flex;\n",
              "      gap: 12px;\n",
              "    }\n",
              "\n",
              "    .colab-df-convert {\n",
              "      background-color: #E8F0FE;\n",
              "      border: none;\n",
              "      border-radius: 50%;\n",
              "      cursor: pointer;\n",
              "      display: none;\n",
              "      fill: #1967D2;\n",
              "      height: 32px;\n",
              "      padding: 0 0 0 0;\n",
              "      width: 32px;\n",
              "    }\n",
              "\n",
              "    .colab-df-convert:hover {\n",
              "      background-color: #E2EBFA;\n",
              "      box-shadow: 0px 1px 2px rgba(60, 64, 67, 0.3), 0px 1px 3px 1px rgba(60, 64, 67, 0.15);\n",
              "      fill: #174EA6;\n",
              "    }\n",
              "\n",
              "    .colab-df-buttons div {\n",
              "      margin-bottom: 4px;\n",
              "    }\n",
              "\n",
              "    [theme=dark] .colab-df-convert {\n",
              "      background-color: #3B4455;\n",
              "      fill: #D2E3FC;\n",
              "    }\n",
              "\n",
              "    [theme=dark] .colab-df-convert:hover {\n",
              "      background-color: #434B5C;\n",
              "      box-shadow: 0px 1px 3px 1px rgba(0, 0, 0, 0.15);\n",
              "      filter: drop-shadow(0px 1px 2px rgba(0, 0, 0, 0.3));\n",
              "      fill: #FFFFFF;\n",
              "    }\n",
              "  </style>\n",
              "\n",
              "    <script>\n",
              "      const buttonEl =\n",
              "        document.querySelector('#df-b2955d3f-1aaa-4afa-abe0-54631bf5ae71 button.colab-df-convert');\n",
              "      buttonEl.style.display =\n",
              "        google.colab.kernel.accessAllowed ? 'block' : 'none';\n",
              "\n",
              "      async function convertToInteractive(key) {\n",
              "        const element = document.querySelector('#df-b2955d3f-1aaa-4afa-abe0-54631bf5ae71');\n",
              "        const dataTable =\n",
              "          await google.colab.kernel.invokeFunction('convertToInteractive',\n",
              "                                                    [key], {});\n",
              "        if (!dataTable) return;\n",
              "\n",
              "        const docLinkHtml = 'Like what you see? Visit the ' +\n",
              "          '<a target=\"_blank\" href=https://colab.research.google.com/notebooks/data_table.ipynb>data table notebook</a>'\n",
              "          + ' to learn more about interactive tables.';\n",
              "        element.innerHTML = '';\n",
              "        dataTable['output_type'] = 'display_data';\n",
              "        await google.colab.output.renderOutput(dataTable, element);\n",
              "        const docLink = document.createElement('div');\n",
              "        docLink.innerHTML = docLinkHtml;\n",
              "        element.appendChild(docLink);\n",
              "      }\n",
              "    </script>\n",
              "  </div>\n",
              "\n",
              "\n",
              "<div id=\"df-df02e4cf-e5cc-497d-98fe-b23f423df872\">\n",
              "  <button class=\"colab-df-quickchart\" onclick=\"quickchart('df-df02e4cf-e5cc-497d-98fe-b23f423df872')\"\n",
              "            title=\"Suggest charts\"\n",
              "            style=\"display:none;\">\n",
              "\n",
              "<svg xmlns=\"http://www.w3.org/2000/svg\" height=\"24px\"viewBox=\"0 0 24 24\"\n",
              "     width=\"24px\">\n",
              "    <g>\n",
              "        <path d=\"M19 3H5c-1.1 0-2 .9-2 2v14c0 1.1.9 2 2 2h14c1.1 0 2-.9 2-2V5c0-1.1-.9-2-2-2zM9 17H7v-7h2v7zm4 0h-2V7h2v10zm4 0h-2v-4h2v4z\"/>\n",
              "    </g>\n",
              "</svg>\n",
              "  </button>\n",
              "\n",
              "<style>\n",
              "  .colab-df-quickchart {\n",
              "      --bg-color: #E8F0FE;\n",
              "      --fill-color: #1967D2;\n",
              "      --hover-bg-color: #E2EBFA;\n",
              "      --hover-fill-color: #174EA6;\n",
              "      --disabled-fill-color: #AAA;\n",
              "      --disabled-bg-color: #DDD;\n",
              "  }\n",
              "\n",
              "  [theme=dark] .colab-df-quickchart {\n",
              "      --bg-color: #3B4455;\n",
              "      --fill-color: #D2E3FC;\n",
              "      --hover-bg-color: #434B5C;\n",
              "      --hover-fill-color: #FFFFFF;\n",
              "      --disabled-bg-color: #3B4455;\n",
              "      --disabled-fill-color: #666;\n",
              "  }\n",
              "\n",
              "  .colab-df-quickchart {\n",
              "    background-color: var(--bg-color);\n",
              "    border: none;\n",
              "    border-radius: 50%;\n",
              "    cursor: pointer;\n",
              "    display: none;\n",
              "    fill: var(--fill-color);\n",
              "    height: 32px;\n",
              "    padding: 0;\n",
              "    width: 32px;\n",
              "  }\n",
              "\n",
              "  .colab-df-quickchart:hover {\n",
              "    background-color: var(--hover-bg-color);\n",
              "    box-shadow: 0 1px 2px rgba(60, 64, 67, 0.3), 0 1px 3px 1px rgba(60, 64, 67, 0.15);\n",
              "    fill: var(--button-hover-fill-color);\n",
              "  }\n",
              "\n",
              "  .colab-df-quickchart-complete:disabled,\n",
              "  .colab-df-quickchart-complete:disabled:hover {\n",
              "    background-color: var(--disabled-bg-color);\n",
              "    fill: var(--disabled-fill-color);\n",
              "    box-shadow: none;\n",
              "  }\n",
              "\n",
              "  .colab-df-spinner {\n",
              "    border: 2px solid var(--fill-color);\n",
              "    border-color: transparent;\n",
              "    border-bottom-color: var(--fill-color);\n",
              "    animation:\n",
              "      spin 1s steps(1) infinite;\n",
              "  }\n",
              "\n",
              "  @keyframes spin {\n",
              "    0% {\n",
              "      border-color: transparent;\n",
              "      border-bottom-color: var(--fill-color);\n",
              "      border-left-color: var(--fill-color);\n",
              "    }\n",
              "    20% {\n",
              "      border-color: transparent;\n",
              "      border-left-color: var(--fill-color);\n",
              "      border-top-color: var(--fill-color);\n",
              "    }\n",
              "    30% {\n",
              "      border-color: transparent;\n",
              "      border-left-color: var(--fill-color);\n",
              "      border-top-color: var(--fill-color);\n",
              "      border-right-color: var(--fill-color);\n",
              "    }\n",
              "    40% {\n",
              "      border-color: transparent;\n",
              "      border-right-color: var(--fill-color);\n",
              "      border-top-color: var(--fill-color);\n",
              "    }\n",
              "    60% {\n",
              "      border-color: transparent;\n",
              "      border-right-color: var(--fill-color);\n",
              "    }\n",
              "    80% {\n",
              "      border-color: transparent;\n",
              "      border-right-color: var(--fill-color);\n",
              "      border-bottom-color: var(--fill-color);\n",
              "    }\n",
              "    90% {\n",
              "      border-color: transparent;\n",
              "      border-bottom-color: var(--fill-color);\n",
              "    }\n",
              "  }\n",
              "</style>\n",
              "\n",
              "  <script>\n",
              "    async function quickchart(key) {\n",
              "      const quickchartButtonEl =\n",
              "        document.querySelector('#' + key + ' button');\n",
              "      quickchartButtonEl.disabled = true;  // To prevent multiple clicks.\n",
              "      quickchartButtonEl.classList.add('colab-df-spinner');\n",
              "      try {\n",
              "        const charts = await google.colab.kernel.invokeFunction(\n",
              "            'suggestCharts', [key], {});\n",
              "      } catch (error) {\n",
              "        console.error('Error during call to suggestCharts:', error);\n",
              "      }\n",
              "      quickchartButtonEl.classList.remove('colab-df-spinner');\n",
              "      quickchartButtonEl.classList.add('colab-df-quickchart-complete');\n",
              "    }\n",
              "    (() => {\n",
              "      let quickchartButtonEl =\n",
              "        document.querySelector('#df-df02e4cf-e5cc-497d-98fe-b23f423df872 button');\n",
              "      quickchartButtonEl.style.display =\n",
              "        google.colab.kernel.accessAllowed ? 'block' : 'none';\n",
              "    })();\n",
              "  </script>\n",
              "</div>\n",
              "\n",
              "    </div>\n",
              "  </div>\n"
            ],
            "application/vnd.google.colaboratory.intrinsic+json": {
              "type": "dataframe",
              "variable_name": "ppi",
              "summary": "{\n  \"name\": \"ppi\",\n  \"rows\": 60777,\n  \"fields\": [\n    {\n      \"column\": \"Official Symbol Interactor A\",\n      \"properties\": {\n        \"dtype\": \"category\",\n        \"num_unique_values\": 642,\n        \"samples\": [\n          \"PYCARD\",\n          \"NEDD4\",\n          \"KDM1A\"\n        ],\n        \"semantic_type\": \"\",\n        \"description\": \"\"\n      }\n    },\n    {\n      \"column\": \"Official Symbol Interactor B\",\n      \"properties\": {\n        \"dtype\": \"category\",\n        \"num_unique_values\": 8054,\n        \"samples\": [\n          \"DDX55\",\n          \"MYO5C\",\n          \"LLGL2\"\n        ],\n        \"semantic_type\": \"\",\n        \"description\": \"\"\n      }\n    }\n  ]\n}"
            }
          },
          "metadata": {},
          "execution_count": 103
        }
      ]
    },
    {
      "cell_type": "markdown",
      "source": [
        "### 1.2) Network analysis\n",
        "\n",
        "(including degree, betweenness, closeness, and other relevant metrics)"
      ],
      "metadata": {
        "id": "XPicnO1dfwVa"
      }
    },
    {
      "cell_type": "code",
      "source": [
        "# Check the shape of the dataframe without duplicates (it will not remove rows with the same genes but in different columns)\n",
        "ppi.drop_duplicates().shape"
      ],
      "metadata": {
        "colab": {
          "base_uri": "https://localhost:8080/"
        },
        "id": "s9k5VXvpeQjY",
        "outputId": "a88f660c-c3e0-41dc-9e91-38f1e3edef24"
      },
      "execution_count": 104,
      "outputs": [
        {
          "output_type": "execute_result",
          "data": {
            "text/plain": [
              "(44265, 2)"
            ]
          },
          "metadata": {},
          "execution_count": 104
        }
      ]
    },
    {
      "cell_type": "code",
      "source": [
        "ppi_network = nx.from_pandas_edgelist(ppi,\n",
        "                                      source = \"Official Symbol Interactor A\",\n",
        "                                      target = \"Official Symbol Interactor B\",\n",
        "                                      create_using = nx.Graph())      # nx.Graph() doesn't allow duplicated edges\n",
        "\n",
        "print(ppi_network) #the nr of edges is lower than the nr of dataframe rows because of the non extracted duplicates"
      ],
      "metadata": {
        "colab": {
          "base_uri": "https://localhost:8080/"
        },
        "id": "WiVsInqIeSXo",
        "outputId": "d9eacc6e-a0c0-4e35-8e2f-da1f526b0d58"
      },
      "execution_count": 105,
      "outputs": [
        {
          "output_type": "stream",
          "name": "stdout",
          "text": [
            "Graph with 8144 nodes and 43731 edges\n"
          ]
        }
      ]
    },
    {
      "cell_type": "code",
      "source": [
        "# Identify self-loops\n",
        "self_loops_bio = list(nx.selfloop_edges(ppi_network))\n",
        "print(\"Number of self loops: \", len(self_loops_bio))\n",
        "print(\"Self-loops over Total edges:\", round(nx.number_of_selfloops(ppi_network) / len(ppi_network.edges), 4), \"\\n\")\n",
        "\n",
        "# Remove self-loops\n",
        "ppi_network.remove_edges_from(self_loops_bio)\n",
        "print(\"Graph without self-loops:\", ppi_network)"
      ],
      "metadata": {
        "colab": {
          "base_uri": "https://localhost:8080/"
        },
        "id": "YYmm-qaDe8S1",
        "outputId": "d9835eb0-cef7-4cc4-dd88-dd247f2b253a"
      },
      "execution_count": 119,
      "outputs": [
        {
          "output_type": "stream",
          "name": "stdout",
          "text": [
            "Number of self loops:  0\n",
            "Self-loops over Total edges: 0.0 \n",
            "\n",
            "Graph without self-loops: Graph with 8144 nodes and 43625 edges\n"
          ]
        }
      ]
    },
    {
      "cell_type": "code",
      "source": [
        "# Isolate the largest connected component (LCC) -> ha senso?\n",
        "components = list(nx.connected_components(ppi_network))\n",
        "largest_component = max(components, key = len)\n",
        "LCC_ppi = ppi_network.subgraph(largest_component)\n",
        "print(LCC_ppi)"
      ],
      "metadata": {
        "colab": {
          "base_uri": "https://localhost:8080/"
        },
        "id": "9YX9pk16fDtU",
        "outputId": "ee0ca888-16a1-436c-a6e9-f7f7d62642aa"
      },
      "execution_count": 107,
      "outputs": [
        {
          "output_type": "stream",
          "name": "stdout",
          "text": [
            "Graph with 8120 nodes and 43610 edges\n"
          ]
        }
      ]
    },
    {
      "cell_type": "code",
      "source": [
        "# Compute metrics\n",
        "degree = LCC_ppi.degree()\n",
        "bet = nx.betweenness_centrality(LCC_ppi, k = 100, normalized = True) # richiede troppo tempo, per ora normalizzo con k=100\n",
        "# clos = nx.closeness_centrality(LCC_ppi) -> richiede troppo tempo"
      ],
      "metadata": {
        "id": "IYlznhjYfc6I"
      },
      "execution_count": 108,
      "outputs": []
    },
    {
      "cell_type": "code",
      "source": [
        "try:\n",
        "    eigen = nx.eigenvector_centrality(LCC_ppi, max_iter = 500, tol = 1e-04)\n",
        "except nx.PowerIterationFailedConvergence as e:\n",
        "    print(f\"Failed to converge: {e}\")"
      ],
      "metadata": {
        "id": "g_hg7-j0f-Ji"
      },
      "execution_count": 109,
      "outputs": []
    },
    {
      "cell_type": "code",
      "source": [
        "degree_dict = dict(degree)\n",
        "ratio = {}\n",
        "\n",
        "for node in LCC_ppi.nodes():\n",
        "    if degree_dict[node] > 0:\n",
        "        ratio[node] = bet[node] / degree_dict[node]\n",
        "    else:\n",
        "        ratio[node] = 0"
      ],
      "metadata": {
        "id": "vVUENWarhGwl"
      },
      "execution_count": 110,
      "outputs": []
    },
    {
      "cell_type": "code",
      "source": [
        "# Insert metrics in the dictionary\n",
        "nodes = LCC_ppi.nodes()\n",
        "gene_measures = dict(nodes)\n",
        "\n",
        "for gene in gene_measures:\n",
        "    gene_measures[gene][\"Degree\"] = degree[gene]\n",
        "    gene_measures[gene][\"Betweeness\"] = bet[gene]\n",
        "    #gene_measures[gene][\"Closeness\"] = clos[gene]\n",
        "    gene_measures[gene][\"Eigen\"] = eigen[gene]\n",
        "    gene_measures[gene][\"BetoverDeg\"] = ratio[gene]\n",
        "print_dict(\"Gene measures:\", gene_measures)"
      ],
      "metadata": {
        "colab": {
          "base_uri": "https://localhost:8080/"
        },
        "id": "lvkf0d0Uipk_",
        "outputId": "e220ac10-9a2e-4724-b540-838de989b754"
      },
      "execution_count": 111,
      "outputs": [
        {
          "output_type": "stream",
          "name": "stdout",
          "text": [
            "Gene measures:\n",
            "--------------\n",
            "{'CCND1': {'BetoverDeg': 2.5383761597094784e-05,\n",
            "           'Betweeness': 0.00012691880798547392,\n",
            "           'Degree': 5,\n",
            "           'Eigen': 0.0016793527524739153},\n",
            " 'CDC45': {'BetoverDeg': 0.0,\n",
            "           'Betweeness': 0.0,\n",
            "           'Degree': 1,\n",
            "           'Eigen': 0.00011744296950014412},\n",
            " 'MCM3': {'BetoverDeg': 1.4216865626295276e-06,\n",
            "          'Betweeness': 1.8481925314183858e-05,\n",
            "          'Degree': 13,\n",
            "          'Eigen': 0.015888104979471223},\n",
            " 'MCM5': {'BetoverDeg': 6.077296779797542e-06,\n",
            "          'Betweeness': 0.00013977782593534347,\n",
            "          'Degree': 23,\n",
            "          'Eigen': 0.02488949804251085},\n",
            " 'MCM7': {'BetoverDeg': 1.2995910846764336e-05,\n",
            "          'Betweeness': 0.0002599182169352867,\n",
            "          'Degree': 20,\n",
            "          'Eigen': 0.013110448865177067}}\n",
            "\n"
          ]
        }
      ]
    },
    {
      "cell_type": "code",
      "source": [
        "# Build a metrics dataframe\n",
        "measures_ppi = pd.DataFrame.from_dict(gene_measures, orient ='index')\n",
        "measures_ppi = measures_ppi.reset_index()\n",
        "measures_ppi.rename(columns={'index': 'Gene'}, inplace = True)\n",
        "\n",
        "# Sort the output\n",
        "sorted_metrics = measures_ppi.sort_values(by = 'Degree', ascending = False)\n",
        "sorted_metrics.reset_index(drop = True, inplace = True)\n",
        "sorted_metrics['Ranking'] = sorted_metrics.index + 1\n",
        "sorted_metrics.set_index('Ranking', inplace = True)\n",
        "\n",
        "# Visualize the output\n",
        "sorted_metrics.head()"
      ],
      "metadata": {
        "colab": {
          "base_uri": "https://localhost:8080/",
          "height": 237
        },
        "id": "I9qZQr-rkSZm",
        "outputId": "65127186-e3d5-4384-e2d4-290aa26ec60a"
      },
      "execution_count": 112,
      "outputs": [
        {
          "output_type": "execute_result",
          "data": {
            "text/plain": [
              "          Gene  Degree  Betweeness     Eigen  BetoverDeg\n",
              "Ranking                                                 \n",
              "1            M    2090    0.116915  0.242158    0.000056\n",
              "2        ORF7b    1776    0.092268  0.215598    0.000052\n",
              "3         nsp6    1699    0.049482  0.211617    0.000029\n",
              "4            N    1538    0.116457  0.122532    0.000076\n",
              "5         nsp4    1498    0.055729  0.205163    0.000037"
            ],
            "text/html": [
              "\n",
              "  <div id=\"df-5041a42d-27fd-4ae6-a40d-3be4eda0135a\" class=\"colab-df-container\">\n",
              "    <div>\n",
              "<style scoped>\n",
              "    .dataframe tbody tr th:only-of-type {\n",
              "        vertical-align: middle;\n",
              "    }\n",
              "\n",
              "    .dataframe tbody tr th {\n",
              "        vertical-align: top;\n",
              "    }\n",
              "\n",
              "    .dataframe thead th {\n",
              "        text-align: right;\n",
              "    }\n",
              "</style>\n",
              "<table border=\"1\" class=\"dataframe\">\n",
              "  <thead>\n",
              "    <tr style=\"text-align: right;\">\n",
              "      <th></th>\n",
              "      <th>Gene</th>\n",
              "      <th>Degree</th>\n",
              "      <th>Betweeness</th>\n",
              "      <th>Eigen</th>\n",
              "      <th>BetoverDeg</th>\n",
              "    </tr>\n",
              "    <tr>\n",
              "      <th>Ranking</th>\n",
              "      <th></th>\n",
              "      <th></th>\n",
              "      <th></th>\n",
              "      <th></th>\n",
              "      <th></th>\n",
              "    </tr>\n",
              "  </thead>\n",
              "  <tbody>\n",
              "    <tr>\n",
              "      <th>1</th>\n",
              "      <td>M</td>\n",
              "      <td>2090</td>\n",
              "      <td>0.116915</td>\n",
              "      <td>0.242158</td>\n",
              "      <td>0.000056</td>\n",
              "    </tr>\n",
              "    <tr>\n",
              "      <th>2</th>\n",
              "      <td>ORF7b</td>\n",
              "      <td>1776</td>\n",
              "      <td>0.092268</td>\n",
              "      <td>0.215598</td>\n",
              "      <td>0.000052</td>\n",
              "    </tr>\n",
              "    <tr>\n",
              "      <th>3</th>\n",
              "      <td>nsp6</td>\n",
              "      <td>1699</td>\n",
              "      <td>0.049482</td>\n",
              "      <td>0.211617</td>\n",
              "      <td>0.000029</td>\n",
              "    </tr>\n",
              "    <tr>\n",
              "      <th>4</th>\n",
              "      <td>N</td>\n",
              "      <td>1538</td>\n",
              "      <td>0.116457</td>\n",
              "      <td>0.122532</td>\n",
              "      <td>0.000076</td>\n",
              "    </tr>\n",
              "    <tr>\n",
              "      <th>5</th>\n",
              "      <td>nsp4</td>\n",
              "      <td>1498</td>\n",
              "      <td>0.055729</td>\n",
              "      <td>0.205163</td>\n",
              "      <td>0.000037</td>\n",
              "    </tr>\n",
              "  </tbody>\n",
              "</table>\n",
              "</div>\n",
              "    <div class=\"colab-df-buttons\">\n",
              "\n",
              "  <div class=\"colab-df-container\">\n",
              "    <button class=\"colab-df-convert\" onclick=\"convertToInteractive('df-5041a42d-27fd-4ae6-a40d-3be4eda0135a')\"\n",
              "            title=\"Convert this dataframe to an interactive table.\"\n",
              "            style=\"display:none;\">\n",
              "\n",
              "  <svg xmlns=\"http://www.w3.org/2000/svg\" height=\"24px\" viewBox=\"0 -960 960 960\">\n",
              "    <path d=\"M120-120v-720h720v720H120Zm60-500h600v-160H180v160Zm220 220h160v-160H400v160Zm0 220h160v-160H400v160ZM180-400h160v-160H180v160Zm440 0h160v-160H620v160ZM180-180h160v-160H180v160Zm440 0h160v-160H620v160Z\"/>\n",
              "  </svg>\n",
              "    </button>\n",
              "\n",
              "  <style>\n",
              "    .colab-df-container {\n",
              "      display:flex;\n",
              "      gap: 12px;\n",
              "    }\n",
              "\n",
              "    .colab-df-convert {\n",
              "      background-color: #E8F0FE;\n",
              "      border: none;\n",
              "      border-radius: 50%;\n",
              "      cursor: pointer;\n",
              "      display: none;\n",
              "      fill: #1967D2;\n",
              "      height: 32px;\n",
              "      padding: 0 0 0 0;\n",
              "      width: 32px;\n",
              "    }\n",
              "\n",
              "    .colab-df-convert:hover {\n",
              "      background-color: #E2EBFA;\n",
              "      box-shadow: 0px 1px 2px rgba(60, 64, 67, 0.3), 0px 1px 3px 1px rgba(60, 64, 67, 0.15);\n",
              "      fill: #174EA6;\n",
              "    }\n",
              "\n",
              "    .colab-df-buttons div {\n",
              "      margin-bottom: 4px;\n",
              "    }\n",
              "\n",
              "    [theme=dark] .colab-df-convert {\n",
              "      background-color: #3B4455;\n",
              "      fill: #D2E3FC;\n",
              "    }\n",
              "\n",
              "    [theme=dark] .colab-df-convert:hover {\n",
              "      background-color: #434B5C;\n",
              "      box-shadow: 0px 1px 3px 1px rgba(0, 0, 0, 0.15);\n",
              "      filter: drop-shadow(0px 1px 2px rgba(0, 0, 0, 0.3));\n",
              "      fill: #FFFFFF;\n",
              "    }\n",
              "  </style>\n",
              "\n",
              "    <script>\n",
              "      const buttonEl =\n",
              "        document.querySelector('#df-5041a42d-27fd-4ae6-a40d-3be4eda0135a button.colab-df-convert');\n",
              "      buttonEl.style.display =\n",
              "        google.colab.kernel.accessAllowed ? 'block' : 'none';\n",
              "\n",
              "      async function convertToInteractive(key) {\n",
              "        const element = document.querySelector('#df-5041a42d-27fd-4ae6-a40d-3be4eda0135a');\n",
              "        const dataTable =\n",
              "          await google.colab.kernel.invokeFunction('convertToInteractive',\n",
              "                                                    [key], {});\n",
              "        if (!dataTable) return;\n",
              "\n",
              "        const docLinkHtml = 'Like what you see? Visit the ' +\n",
              "          '<a target=\"_blank\" href=https://colab.research.google.com/notebooks/data_table.ipynb>data table notebook</a>'\n",
              "          + ' to learn more about interactive tables.';\n",
              "        element.innerHTML = '';\n",
              "        dataTable['output_type'] = 'display_data';\n",
              "        await google.colab.output.renderOutput(dataTable, element);\n",
              "        const docLink = document.createElement('div');\n",
              "        docLink.innerHTML = docLinkHtml;\n",
              "        element.appendChild(docLink);\n",
              "      }\n",
              "    </script>\n",
              "  </div>\n",
              "\n",
              "\n",
              "<div id=\"df-caa88412-05c9-4aa3-a612-621c05b9f869\">\n",
              "  <button class=\"colab-df-quickchart\" onclick=\"quickchart('df-caa88412-05c9-4aa3-a612-621c05b9f869')\"\n",
              "            title=\"Suggest charts\"\n",
              "            style=\"display:none;\">\n",
              "\n",
              "<svg xmlns=\"http://www.w3.org/2000/svg\" height=\"24px\"viewBox=\"0 0 24 24\"\n",
              "     width=\"24px\">\n",
              "    <g>\n",
              "        <path d=\"M19 3H5c-1.1 0-2 .9-2 2v14c0 1.1.9 2 2 2h14c1.1 0 2-.9 2-2V5c0-1.1-.9-2-2-2zM9 17H7v-7h2v7zm4 0h-2V7h2v10zm4 0h-2v-4h2v4z\"/>\n",
              "    </g>\n",
              "</svg>\n",
              "  </button>\n",
              "\n",
              "<style>\n",
              "  .colab-df-quickchart {\n",
              "      --bg-color: #E8F0FE;\n",
              "      --fill-color: #1967D2;\n",
              "      --hover-bg-color: #E2EBFA;\n",
              "      --hover-fill-color: #174EA6;\n",
              "      --disabled-fill-color: #AAA;\n",
              "      --disabled-bg-color: #DDD;\n",
              "  }\n",
              "\n",
              "  [theme=dark] .colab-df-quickchart {\n",
              "      --bg-color: #3B4455;\n",
              "      --fill-color: #D2E3FC;\n",
              "      --hover-bg-color: #434B5C;\n",
              "      --hover-fill-color: #FFFFFF;\n",
              "      --disabled-bg-color: #3B4455;\n",
              "      --disabled-fill-color: #666;\n",
              "  }\n",
              "\n",
              "  .colab-df-quickchart {\n",
              "    background-color: var(--bg-color);\n",
              "    border: none;\n",
              "    border-radius: 50%;\n",
              "    cursor: pointer;\n",
              "    display: none;\n",
              "    fill: var(--fill-color);\n",
              "    height: 32px;\n",
              "    padding: 0;\n",
              "    width: 32px;\n",
              "  }\n",
              "\n",
              "  .colab-df-quickchart:hover {\n",
              "    background-color: var(--hover-bg-color);\n",
              "    box-shadow: 0 1px 2px rgba(60, 64, 67, 0.3), 0 1px 3px 1px rgba(60, 64, 67, 0.15);\n",
              "    fill: var(--button-hover-fill-color);\n",
              "  }\n",
              "\n",
              "  .colab-df-quickchart-complete:disabled,\n",
              "  .colab-df-quickchart-complete:disabled:hover {\n",
              "    background-color: var(--disabled-bg-color);\n",
              "    fill: var(--disabled-fill-color);\n",
              "    box-shadow: none;\n",
              "  }\n",
              "\n",
              "  .colab-df-spinner {\n",
              "    border: 2px solid var(--fill-color);\n",
              "    border-color: transparent;\n",
              "    border-bottom-color: var(--fill-color);\n",
              "    animation:\n",
              "      spin 1s steps(1) infinite;\n",
              "  }\n",
              "\n",
              "  @keyframes spin {\n",
              "    0% {\n",
              "      border-color: transparent;\n",
              "      border-bottom-color: var(--fill-color);\n",
              "      border-left-color: var(--fill-color);\n",
              "    }\n",
              "    20% {\n",
              "      border-color: transparent;\n",
              "      border-left-color: var(--fill-color);\n",
              "      border-top-color: var(--fill-color);\n",
              "    }\n",
              "    30% {\n",
              "      border-color: transparent;\n",
              "      border-left-color: var(--fill-color);\n",
              "      border-top-color: var(--fill-color);\n",
              "      border-right-color: var(--fill-color);\n",
              "    }\n",
              "    40% {\n",
              "      border-color: transparent;\n",
              "      border-right-color: var(--fill-color);\n",
              "      border-top-color: var(--fill-color);\n",
              "    }\n",
              "    60% {\n",
              "      border-color: transparent;\n",
              "      border-right-color: var(--fill-color);\n",
              "    }\n",
              "    80% {\n",
              "      border-color: transparent;\n",
              "      border-right-color: var(--fill-color);\n",
              "      border-bottom-color: var(--fill-color);\n",
              "    }\n",
              "    90% {\n",
              "      border-color: transparent;\n",
              "      border-bottom-color: var(--fill-color);\n",
              "    }\n",
              "  }\n",
              "</style>\n",
              "\n",
              "  <script>\n",
              "    async function quickchart(key) {\n",
              "      const quickchartButtonEl =\n",
              "        document.querySelector('#' + key + ' button');\n",
              "      quickchartButtonEl.disabled = true;  // To prevent multiple clicks.\n",
              "      quickchartButtonEl.classList.add('colab-df-spinner');\n",
              "      try {\n",
              "        const charts = await google.colab.kernel.invokeFunction(\n",
              "            'suggestCharts', [key], {});\n",
              "      } catch (error) {\n",
              "        console.error('Error during call to suggestCharts:', error);\n",
              "      }\n",
              "      quickchartButtonEl.classList.remove('colab-df-spinner');\n",
              "      quickchartButtonEl.classList.add('colab-df-quickchart-complete');\n",
              "    }\n",
              "    (() => {\n",
              "      let quickchartButtonEl =\n",
              "        document.querySelector('#df-caa88412-05c9-4aa3-a612-621c05b9f869 button');\n",
              "      quickchartButtonEl.style.display =\n",
              "        google.colab.kernel.accessAllowed ? 'block' : 'none';\n",
              "    })();\n",
              "  </script>\n",
              "</div>\n",
              "\n",
              "    </div>\n",
              "  </div>\n"
            ],
            "application/vnd.google.colaboratory.intrinsic+json": {
              "type": "dataframe",
              "variable_name": "sorted_metrics",
              "summary": "{\n  \"name\": \"sorted_metrics\",\n  \"rows\": 8120,\n  \"fields\": [\n    {\n      \"column\": \"Ranking\",\n      \"properties\": {\n        \"dtype\": \"number\",\n        \"std\": 2344,\n        \"min\": 1,\n        \"max\": 8120,\n        \"num_unique_values\": 8120,\n        \"samples\": [\n          7127,\n          3756,\n          1692\n        ],\n        \"semantic_type\": \"\",\n        \"description\": \"\"\n      }\n    },\n    {\n      \"column\": \"Gene\",\n      \"properties\": {\n        \"dtype\": \"string\",\n        \"num_unique_values\": 8120,\n        \"samples\": [\n          \"PLCL2\",\n          \"ARPP19\",\n          \"EIF2B5\"\n        ],\n        \"semantic_type\": \"\",\n        \"description\": \"\"\n      }\n    },\n    {\n      \"column\": \"Degree\",\n      \"properties\": {\n        \"dtype\": \"number\",\n        \"std\": 68,\n        \"min\": 1,\n        \"max\": 2090,\n        \"num_unique_values\": 153,\n        \"samples\": [\n          84,\n          80,\n          56\n        ],\n        \"semantic_type\": \"\",\n        \"description\": \"\"\n      }\n    },\n    {\n      \"column\": \"Betweeness\",\n      \"properties\": {\n        \"dtype\": \"number\",\n        \"std\": 0.003393426457415286,\n        \"min\": 0.0,\n        \"max\": 0.11691470782402467,\n        \"num_unique_values\": 4103,\n        \"samples\": [\n          1.7693478734856185e-05,\n          2.3533631216592232e-07,\n          1.738084404712517e-05\n        ],\n        \"semantic_type\": \"\",\n        \"description\": \"\"\n      }\n    },\n    {\n      \"column\": \"Eigen\",\n      \"properties\": {\n        \"dtype\": \"number\",\n        \"std\": 0.009607682485389001,\n        \"min\": 4.594280878997491e-08,\n        \"max\": 0.24215827534870432,\n        \"num_unique_values\": 4925,\n        \"samples\": [\n          0.010931909750062785,\n          0.002609637457917945,\n          0.0053106777801502905\n        ],\n        \"semantic_type\": \"\",\n        \"description\": \"\"\n      }\n    },\n    {\n      \"column\": \"BetoverDeg\",\n      \"properties\": {\n        \"dtype\": \"number\",\n        \"std\": 8.297392487301117e-06,\n        \"min\": 0.0,\n        \"max\": 0.00023781071727655543,\n        \"num_unique_values\": 4299,\n        \"samples\": [\n          8.658478070858075e-06,\n          2.68346124473612e-06,\n          6.008353680230246e-05\n        ],\n        \"semantic_type\": \"\",\n        \"description\": \"\"\n      }\n    }\n  ]\n}"
            }
          },
          "metadata": {},
          "execution_count": 112
        }
      ]
    },
    {
      "cell_type": "code",
      "source": [
        "# Scatterplot of degree vs betweeness\n",
        "x = measures_ppi['Degree']\n",
        "y = measures_ppi['Betweeness']\n",
        "\n",
        "plt.figure(figsize=(12, 6))\n",
        "plt.scatter(x, y, color = 'mediumslateblue', alpha = 0.8, s = 60)\n",
        "\n",
        "plt.title('Scatter Plot of Node Degree vs. Betweenness Centrality', fontweight='bold')\n",
        "plt.xlabel('Node Degree', fontweight='bold')\n",
        "plt.ylabel('Betweenness Centrality', fontweight='bold')\n",
        "plt.grid()\n",
        "plt.show()"
      ],
      "metadata": {
        "colab": {
          "base_uri": "https://localhost:8080/",
          "height": 564
        },
        "id": "kIcVchuuoQz-",
        "outputId": "37923c86-7569-4c1e-cda6-a9fc145045af"
      },
      "execution_count": 113,
      "outputs": [
        {
          "output_type": "display_data",
          "data": {
            "text/plain": [
              "<Figure size 1200x600 with 1 Axes>"
            ],
            "image/png": "[encoded data removed]"
          },
          "metadata": {}
        }
      ]
    },
    {
      "cell_type": "markdown",
      "source": [
        "### 1.3) Network visualization"
      ],
      "metadata": {
        "id": "pCZ9GAfSlsjZ"
      }
    },
    {
      "cell_type": "code",
      "source": [
        "# Plot the PPI Largest Connected Component -> troppo grande?\n",
        "pos = nx.spring_layout(LCC_ppi, seed=42)\n",
        "\n",
        "plt.figure(figsize = (14, 10))\n",
        "nx.draw(LCC_ppi, pos, with_labels = True, node_color = 'violet', node_size = 1000,\n",
        "        edge_color = 'gray', linewidths = 1, font_size = 16)\n",
        "\n",
        "plt.title(\"PPI Largest connected Component Network\", fontweight = 'bold')\n",
        "plt.show()"
      ],
      "metadata": {
        "id": "LagFIvcQlt2t"
      },
      "execution_count": null,
      "outputs": []
    },
    {
      "cell_type": "code",
      "source": [
        "# CAREFUL\n",
        "# Takes a while to plot\n",
        "plt.figure(figsize = (9, 7))\n",
        "nx.draw_spring(LCC_ppi, node_size = 30, arrows = False, node_color = 'mediumslateblue')\n",
        "plt.title('Protein-Protein Interaction Network')\n",
        "plt.show()"
      ],
      "metadata": {
        "id": "sVs22oralyUp"
      },
      "execution_count": null,
      "outputs": []
    },
    {
      "cell_type": "markdown",
      "source": [
        "For a better visualization, try a 3D plot with `plotly`."
      ],
      "metadata": {
        "id": "4D1P24jHsxCl"
      }
    },
    {
      "cell_type": "code",
      "source": [
        "!pip install igraph"
      ],
      "metadata": {
        "id": "tYkH1Suxsx5T"
      },
      "execution_count": null,
      "outputs": []
    },
    {
      "cell_type": "code",
      "source": [
        "# Try a better visualization\n",
        "import igraph as ig\n",
        "\n",
        "# Assuming G is your NetworkX graph\n",
        "edges = list(G.edges())\n",
        "# Assuming G is your NetworkX graph\n",
        "nodes = list(G.nodes())\n",
        "\n",
        "# Create a mapping from node names to integers\n",
        "node_mapping = {node: idx for idx, node in enumerate(nodes)}\n",
        "\n",
        "# Convert the edges using the mapping\n",
        "edges = [(node_mapping[u], node_mapping[v]) for u, v in G.edges()]\n",
        "\n",
        "# Create an iGraph object using the mapped edges\n",
        "ig_graph = ig.Graph(edges=edges, directed=False)\n",
        "\n",
        "# Optionally, add the node attributes (e.g., original names) back to the igraph object\n",
        "#ig_graph.vs[\"name\"] = nodes\n",
        "\n",
        "import plotly.graph_objs as go\n",
        "\n",
        "# Get the 3D layout from iGraph\n",
        "layout = ig_graph.layout('kk', dim=3)  # 'kk' stands for Kamada-Kawai layout\n",
        "\n",
        "# Extract the x, y, z coordinates of each node\n",
        "x_nodes = [coord[0] for coord in layout]\n",
        "y_nodes = [coord[1] for coord in layout]\n",
        "z_nodes = [coord[2] for coord in layout]\n",
        "\n",
        "# Create a scatter plot for the nodes\n",
        "node_trace = go.Scatter3d(\n",
        "    x=x_nodes, y=y_nodes, z=z_nodes,\n",
        "    mode='markers',\n",
        "    marker=dict(size=4, color='blue'),\n",
        "    text=[str(i) for i in range(len(x_nodes))],  # Node labels\n",
        "    hoverinfo='text'\n",
        ")\n",
        "\n",
        "# Create lines between connected nodes\n",
        "edge_trace = []\n",
        "for edge in ig_graph.get_edgelist():\n",
        "    x0, y0, z0 = layout[edge[0]]\n",
        "    x1, y1, z1 = layout[edge[1]]\n",
        "    edge_trace.append(go.Scatter3d(\n",
        "        x=[x0, x1, None],\n",
        "        y=[y0, y1, None],\n",
        "        z=[z0, z1, None],\n",
        "        mode='lines',\n",
        "        line=dict(color='black', width=0.5)\n",
        "    ))\n",
        "\n",
        "# Combine the node and edge traces\n",
        "data = edge_trace + [node_trace]\n",
        "\n",
        "# Define the layout for the 3D plot\n",
        "layout = go.Layout(\n",
        "    showlegend=False,\n",
        "    scene=dict(\n",
        "        xaxis=dict(showgrid=False, zeroline=False),\n",
        "        yaxis=dict(showgrid=False, zeroline=False),\n",
        "        zaxis=dict(showgrid=False, zeroline=False)\n",
        "    ),\n",
        "    margin=dict(l=0, r=0, b=0, t=0)\n",
        ")\n",
        "\n",
        "# Plot the figure\n",
        "fig = go.Figure(data=data, layout=layout)\n",
        "fig.show()"
      ],
      "metadata": {
        "id": "VclKngD-sziV"
      },
      "execution_count": null,
      "outputs": []
    },
    {
      "cell_type": "markdown",
      "source": [
        "## 2) Community detection\n",
        "\n",
        "Experimenting with clustering algorithms to investigate if proteins within the same cluster are more likely to interact with each other than with proteins in other clusters.\n",
        "\n",
        "- KWIKCLUSTER/PIVOT algorithm\n",
        "- Markov Cluster algorithm\n",
        "- Louvain algorithm"
      ],
      "metadata": {
        "id": "sYYpxVHelZxb"
      }
    },
    {
      "cell_type": "markdown",
      "source": [
        "### 2.1) KWIKCLUSTER (or PIVOT) Algorithm"
      ],
      "metadata": {
        "id": "KzbtNx7Doh6a"
      }
    },
    {
      "cell_type": "code",
      "source": [],
      "metadata": {
        "id": "FhR5678HlaBl"
      },
      "execution_count": null,
      "outputs": []
    },
    {
      "cell_type": "markdown",
      "source": [
        "### 2.2) Markov Cluster Algorithm"
      ],
      "metadata": {
        "id": "et2KpRjjoows"
      }
    },
    {
      "cell_type": "code",
      "source": [
        "# Run MCL with inflation parameter = 1.8 -> problemi da risolvere\n",
        "matrix = nx.to_scipy_sparse_array(LCC_ppi)\n",
        "result = mc.run_mcl(matrix, inflation = 1.8)\n",
        "clusters = mc.get_clusters(result)"
      ],
      "metadata": {
        "id": "ViZxWAdKosB_"
      },
      "execution_count": null,
      "outputs": []
    },
    {
      "cell_type": "markdown",
      "source": [
        "### 2.3) Louvain Algorithm"
      ],
      "metadata": {
        "id": "fJJVsOCHosR2"
      }
    },
    {
      "cell_type": "code",
      "source": [
        "# Run the Louvain algorithm with gamma = 1\n",
        "louvain_communities = nx.community.louvain_communities(LCC_ppi, weight = 'weight', resolution = 1.0, seed = 42)"
      ],
      "metadata": {
        "id": "DpDLiiJbovUq"
      },
      "execution_count": 59,
      "outputs": []
    },
    {
      "cell_type": "code",
      "source": [
        "print(\"Number of Louvain Communities: \", len(louvain_communities))"
      ],
      "metadata": {
        "colab": {
          "base_uri": "https://localhost:8080/"
        },
        "id": "mu3sVTTOo9qz",
        "outputId": "5fb08bd1-dafd-44b7-bef3-88afdb4db8d8"
      },
      "execution_count": 115,
      "outputs": [
        {
          "output_type": "stream",
          "name": "stdout",
          "text": [
            "Number of Louvain Communities:  8\n"
          ]
        }
      ]
    },
    {
      "cell_type": "code",
      "source": [
        "print(\"First Community 15 Genes: \\n\")\n",
        "genes_list = list(louvain_communities[0])\n",
        "for gene in genes_list[:15]:\n",
        "    print(gene)"
      ],
      "metadata": {
        "colab": {
          "base_uri": "https://localhost:8080/"
        },
        "id": "Ipwef_X-p4MO",
        "outputId": "c9230121-c593-453f-b01a-77298c43ce09"
      },
      "execution_count": 83,
      "outputs": [
        {
          "output_type": "stream",
          "name": "stdout",
          "text": [
            "First Community 15 Genes: \n",
            "\n",
            "HRG\n",
            "DHRS3\n",
            "KRT25\n",
            "CRY2\n",
            "PCNXL4\n",
            "TANGO6\n",
            "ITGB6\n",
            "FMN2\n",
            "CD44\n",
            "MSMP\n",
            "DSC1\n",
            "TLN1\n",
            "ULK4\n",
            "GPR112\n",
            "OTOP2\n"
          ]
        }
      ]
    },
    {
      "cell_type": "code",
      "source": [
        "louvain_community_map = {}\n",
        "for idx, community in enumerate(louvain_communities):\n",
        "    for node in community:\n",
        "        louvain_community_map[node] = idx"
      ],
      "metadata": {
        "id": "QNtOSTmupOH1"
      },
      "execution_count": 84,
      "outputs": []
    },
    {
      "cell_type": "code",
      "source": [
        "colors = [louvain_community_map[node] for node in LCC_ppi.nodes()]"
      ],
      "metadata": {
        "id": "mZijRWAhpROM"
      },
      "execution_count": 85,
      "outputs": []
    },
    {
      "cell_type": "code",
      "source": [
        "pos = nx.spring_layout(LCC_ppi)\n",
        "plt.figure(figsize=(12, 12))\n",
        "nx.draw_networkx_nodes(LCC_ppi, pos, node_color = colors, cmap = plt.get_cmap('Set1'), node_size = 50)\n",
        "nx.draw_networkx_edges(LCC_ppi, pos, alpha=0.5)\n",
        "plt.title('Louvian Communities Network')\n",
        "plt.show()"
      ],
      "metadata": {
        "id": "H9GB9FG4pXf8"
      },
      "execution_count": null,
      "outputs": []
    },
    {
      "cell_type": "markdown",
      "source": [
        "## 3) Link Prediction with Graph Neural Networks (GNNs)"
      ],
      "metadata": {
        "id": "CDCT5m4rlap-"
      }
    },
    {
      "cell_type": "code",
      "source": [],
      "metadata": {
        "id": "W3t4ww-nldCz"
      },
      "execution_count": null,
      "outputs": []
    },
    {
      "cell_type": "markdown",
      "source": [
        " ### 3.1) Exploring different models to perform the prediction task\n",
        "\n",
        " GAT, GCN, etc.\n",
        "\n",
        " Transformers?"
      ],
      "metadata": {
        "id": "cVrj68zuldhB"
      }
    },
    {
      "cell_type": "code",
      "source": [],
      "metadata": {
        "id": "5sbp4PM0lfGI"
      },
      "execution_count": null,
      "outputs": []
    },
    {
      "cell_type": "markdown",
      "source": [
        "### 3.2) Evaluation of results\n",
        "\n",
        "(using metrics such as confusion matrix, accuracy, precision, recall, F1 score, hits@k, etc.)"
      ],
      "metadata": {
        "id": "ER8B0MdWlhgN"
      }
    },
    {
      "cell_type": "code",
      "source": [],
      "metadata": {
        "id": "yfGQUkZKlhrN"
      },
      "execution_count": null,
      "outputs": []
    },
    {
      "cell_type": "markdown",
      "source": [
        "## [Optional: Influence and Homophily?]"
      ],
      "metadata": {
        "id": "tKm8Ivarljd8"
      }
    },
    {
      "cell_type": "code",
      "source": [],
      "metadata": {
        "id": "9ZCDdowLljqv"
      },
      "execution_count": null,
      "outputs": []
    },
    {
      "cell_type": "markdown",
      "source": [
        "## 4) Conclusions"
      ],
      "metadata": {
        "id": "DZfD5MIIll4V"
      }
    },
    {
      "cell_type": "code",
      "source": [],
      "metadata": {
        "id": "ST6odSIulmCe"
      },
      "execution_count": null,
      "outputs": []
    }
  ]
}