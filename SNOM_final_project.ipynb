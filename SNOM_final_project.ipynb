{
  "cells": [
    {
      "cell_type": "markdown",
      "metadata": {
        "id": "NMaFrA9Cde_G"
      },
      "source": [
        "# Social Networks Final Project: Protein-Protein Interactions (PPI)\n",
        "\n",
        "**Group members:**\n",
        "\n",
        "Marina Iuliana Aur, *1809715* <br>\n",
        "Cristiana Di Tullio, *1803880*"
      ]
    },
    {
      "cell_type": "markdown",
      "metadata": {
        "id": "ngVvnZAyd1l2"
      },
      "source": [
        "## Import libraries and dependencies"
      ]
    },
    {
      "cell_type": "code",
      "execution_count": null,
      "metadata": {
        "id": "uHyGNCa-d1H4"
      },
      "outputs": [],
      "source": [
        "# Run if needed\n",
        "%pip install torch-geometric\n",
        "%pip install markov-clustering"
      ]
    },
    {
      "cell_type": "code",
      "execution_count": 2,
      "metadata": {
        "id": "T3of24qodyl9"
      },
      "outputs": [],
      "source": [
        "# Import libraries\n",
        "import pandas as pd\n",
        "import numpy as np\n",
        "import networkx as nx\n",
        "from matplotlib import pyplot as plt\n",
        "import plotly.express as px\n",
        "import seaborn as sns\n",
        "import itertools\n",
        "import pprint\n",
        "import torch\n",
        "from torch.cuda import is_available\n",
        "from torch_geometric.utils import to_networkx, negative_sampling\n",
        "import markov_clustering as mc\n",
        "from scipy.sparse import csr_matrix"
      ]
    },
    {
      "cell_type": "code",
      "execution_count": 3,
      "metadata": {
        "colab": {
          "base_uri": "https://localhost:8080/"
        },
        "id": "LUeBYUwkd6mb",
        "outputId": "9ff62bfb-6b9e-4c61-eb75-7bdb6576aab1"
      },
      "outputs": [
        {
          "output_type": "stream",
          "name": "stdout",
          "text": [
            "Using device cpu\n"
          ]
        }
      ],
      "source": [
        "# CPU/GPU\n",
        "device = 'cpu'\n",
        "if torch.cuda.is_available():\n",
        "\tdevice = 'gpu'\n",
        "\n",
        "print(f'Using device {device}')"
      ]
    },
    {
      "cell_type": "markdown",
      "metadata": {
        "id": "mqyPqCQbd-Jv"
      },
      "source": [
        "## Utility functions"
      ]
    },
    {
      "cell_type": "code",
      "execution_count": 4,
      "metadata": {
        "id": "lunz77lGeA1H"
      },
      "outputs": [],
      "source": [
        "# Graph visualization functions from the SNOM Lab\n",
        "# NOTE: the original input object was not a normal networkx graph\n",
        "def convert_to_networkx(graph):\n",
        "\tg = to_networkx(graph, node_attrs = ['x'])\n",
        "\ty = graph.y.numpy()\n",
        "\treturn g, y\n",
        "\n",
        "def plot_graph(g, y):\n",
        "\tplt.figure(figsize = (9, 7))\n",
        "\tnx.draw_spring(g, node_size = 30, arrows = False, node_color = y)\n",
        "\tplt.show()"
      ]
    },
    {
      "cell_type": "code",
      "execution_count": 5,
      "metadata": {
        "id": "jm7uohZMn26z"
      },
      "outputs": [],
      "source": [
        "def print_dict(string, dictionary, n = 5):\n",
        "    \"\"\"\n",
        "    Utility function to display only the first n elements\n",
        "    of a dictionary.\n",
        "    \"\"\"\n",
        "    dictionary = dict(dictionary)\n",
        "\n",
        "    out = dict(itertools.islice(dictionary.items(), n))\n",
        "    print(string)\n",
        "    print(\"-\" * len(string))\n",
        "    pprint.pprint(out)\n",
        "    print(\"\")"
      ]
    },
    {
      "cell_type": "markdown",
      "metadata": {
        "id": "pk_qgrzyeE_t"
      },
      "source": [
        "## 1) Introduction\n"
      ]
    },
    {
      "cell_type": "markdown",
      "metadata": {
        "id": "7sBB3gYmeHTV"
      },
      "source": [
        " ### 1.1) Dataset description\n",
        "\n",
        "**(Da rivedere/sistemare/aggiungere)**  \n",
        "\n",
        "We downloaded human protein-protein interaction (PPI) data from **BioGRID 4.4.236 CORONAVIRUS** [[¹]](https://downloads.thebiogrid.org/File/BioGRID/Release-Archive/BIOGRID-4.4.236/BIOGRID-CORONAVIRUS-4.4.236.tab3.zip) dataset. In response to the COVID-19 pandemic, intensive efforts by the international research community have generated a vast amount of new data on Severe Acute Respiratory Syndrome Coronavirus 2 (SARS-CoV-2), the causal agent of COVID-19. This includes data on related coronaviruses such as SARS-CoV and MERS-CoV, which cause Severe Acute Respiratory Syndrome (SARS) and Middle East Respiratory Syndrome (MERS), respectively.\n",
        "\n",
        "Each row in the dataset represents a unique interaction between two proteins, allowing us to better understand the biology of the pathogen and facilitating the development of new therapeutic approaches. Specifically, the dataset includes information on all direct interactions between virally-encoded proteins and host cell proteins, as well as post-translational modifications and chemical interactions of viral proteins [[²]](https://thebiogrid.org/project/3/covid-19-coronavirus.html).\n"
      ]
    },
    {
      "cell_type": "code",
      "execution_count": 6,
      "metadata": {
        "colab": {
          "base_uri": "https://localhost:8080/",
          "height": 516
        },
        "id": "Qpt4H-wudsCm",
        "outputId": "b42069ef-ee3d-40b2-c67f-9fae0119bfcc"
      },
      "outputs": [
        {
          "output_type": "execute_result",
          "data": {
            "text/plain": [
              "   #BioGRID Interaction ID Entrez Gene Interactor A Entrez Gene Interactor B  \\\n",
              "0                   141211                   850980                   852501   \n",
              "1                   141212                   852501                   850980   \n",
              "2                   141213                   850980                   856680   \n",
              "3                   141214                   856680                   850980   \n",
              "4                   141215                   852501                   850793   \n",
              "\n",
              "   BioGRID ID Interactor A  BioGRID ID Interactor B  \\\n",
              "0                    31542                    32899   \n",
              "1                    32899                    31542   \n",
              "2                    31542                    36697   \n",
              "3                    36697                    31542   \n",
              "4                    32899                    31376   \n",
              "\n",
              "  Systematic Name Interactor A Systematic Name Interactor B  \\\n",
              "0                      YLR274W                      YBR202W   \n",
              "1                      YBR202W                      YLR274W   \n",
              "2                      YLR274W                      YEL032W   \n",
              "3                      YEL032W                      YLR274W   \n",
              "4                      YBR202W                      YLR103C   \n",
              "\n",
              "  Official Symbol Interactor A Official Symbol Interactor B  \\\n",
              "0                         MCM5                         MCM7   \n",
              "1                         MCM7                         MCM5   \n",
              "2                         MCM5                         MCM3   \n",
              "3                         MCM3                         MCM5   \n",
              "4                         MCM7                        CDC45   \n",
              "\n",
              "                               Synonyms Interactor A  ...  \\\n",
              "0  BOB1|CDC46|MCM DNA helicase complex subunit MC...  ...   \n",
              "1  CDC47|MCM DNA helicase complex subunit MCM7|L0...  ...   \n",
              "2  BOB1|CDC46|MCM DNA helicase complex subunit MC...  ...   \n",
              "3   MCM DNA helicase complex subunit MCM3|L000001039  ...   \n",
              "4  CDC47|MCM DNA helicase complex subunit MCM7|L0...  ...   \n",
              "\n",
              "  TREMBL Accessions Interactor B REFSEQ Accessions Interactor B  \\\n",
              "0                              -                      NP_009761   \n",
              "1                              -                      NP_013376   \n",
              "2                              -                      NP_010882   \n",
              "3                              -                      NP_013376   \n",
              "4                              -                      NP_013204   \n",
              "\n",
              "  Ontology Term IDs Ontology Term Names Ontology Term Categories  \\\n",
              "0                 -                   -                        -   \n",
              "1                 -                   -                        -   \n",
              "2                 -                   -                        -   \n",
              "3                 -                   -                        -   \n",
              "4                 -                   -                        -   \n",
              "\n",
              "   Ontology Term Qualifier IDs  Ontology Term Qualifier Names  \\\n",
              "0                            -                              -   \n",
              "1                            -                              -   \n",
              "2                            -                              -   \n",
              "3                            -                              -   \n",
              "4                            -                              -   \n",
              "\n",
              "  Ontology Term Types        Organism Name Interactor A  \\\n",
              "0                   -  Saccharomyces cerevisiae (S288c)   \n",
              "1                   -  Saccharomyces cerevisiae (S288c)   \n",
              "2                   -  Saccharomyces cerevisiae (S288c)   \n",
              "3                   -  Saccharomyces cerevisiae (S288c)   \n",
              "4                   -  Saccharomyces cerevisiae (S288c)   \n",
              "\n",
              "         Organism Name Interactor B  \n",
              "0  Saccharomyces cerevisiae (S288c)  \n",
              "1  Saccharomyces cerevisiae (S288c)  \n",
              "2  Saccharomyces cerevisiae (S288c)  \n",
              "3  Saccharomyces cerevisiae (S288c)  \n",
              "4  Saccharomyces cerevisiae (S288c)  \n",
              "\n",
              "[5 rows x 37 columns]"
            ],
            "text/html": [
              "\n",
              "  <div id=\"df-0e431103-d7be-484c-a275-8fdc63bab376\" class=\"colab-df-container\">\n",
              "    <div>\n",
              "<style scoped>\n",
              "    .dataframe tbody tr th:only-of-type {\n",
              "        vertical-align: middle;\n",
              "    }\n",
              "\n",
              "    .dataframe tbody tr th {\n",
              "        vertical-align: top;\n",
              "    }\n",
              "\n",
              "    .dataframe thead th {\n",
              "        text-align: right;\n",
              "    }\n",
              "</style>\n",
              "<table border=\"1\" class=\"dataframe\">\n",
              "  <thead>\n",
              "    <tr style=\"text-align: right;\">\n",
              "      <th></th>\n",
              "      <th>#BioGRID Interaction ID</th>\n",
              "      <th>Entrez Gene Interactor A</th>\n",
              "      <th>Entrez Gene Interactor B</th>\n",
              "      <th>BioGRID ID Interactor A</th>\n",
              "      <th>BioGRID ID Interactor B</th>\n",
              "      <th>Systematic Name Interactor A</th>\n",
              "      <th>Systematic Name Interactor B</th>\n",
              "      <th>Official Symbol Interactor A</th>\n",
              "      <th>Official Symbol Interactor B</th>\n",
              "      <th>Synonyms Interactor A</th>\n",
              "      <th>...</th>\n",
              "      <th>TREMBL Accessions Interactor B</th>\n",
              "      <th>REFSEQ Accessions Interactor B</th>\n",
              "      <th>Ontology Term IDs</th>\n",
              "      <th>Ontology Term Names</th>\n",
              "      <th>Ontology Term Categories</th>\n",
              "      <th>Ontology Term Qualifier IDs</th>\n",
              "      <th>Ontology Term Qualifier Names</th>\n",
              "      <th>Ontology Term Types</th>\n",
              "      <th>Organism Name Interactor A</th>\n",
              "      <th>Organism Name Interactor B</th>\n",
              "    </tr>\n",
              "  </thead>\n",
              "  <tbody>\n",
              "    <tr>\n",
              "      <th>0</th>\n",
              "      <td>141211</td>\n",
              "      <td>850980</td>\n",
              "      <td>852501</td>\n",
              "      <td>31542</td>\n",
              "      <td>32899</td>\n",
              "      <td>YLR274W</td>\n",
              "      <td>YBR202W</td>\n",
              "      <td>MCM5</td>\n",
              "      <td>MCM7</td>\n",
              "      <td>BOB1|CDC46|MCM DNA helicase complex subunit MC...</td>\n",
              "      <td>...</td>\n",
              "      <td>-</td>\n",
              "      <td>NP_009761</td>\n",
              "      <td>-</td>\n",
              "      <td>-</td>\n",
              "      <td>-</td>\n",
              "      <td>-</td>\n",
              "      <td>-</td>\n",
              "      <td>-</td>\n",
              "      <td>Saccharomyces cerevisiae (S288c)</td>\n",
              "      <td>Saccharomyces cerevisiae (S288c)</td>\n",
              "    </tr>\n",
              "    <tr>\n",
              "      <th>1</th>\n",
              "      <td>141212</td>\n",
              "      <td>852501</td>\n",
              "      <td>850980</td>\n",
              "      <td>32899</td>\n",
              "      <td>31542</td>\n",
              "      <td>YBR202W</td>\n",
              "      <td>YLR274W</td>\n",
              "      <td>MCM7</td>\n",
              "      <td>MCM5</td>\n",
              "      <td>CDC47|MCM DNA helicase complex subunit MCM7|L0...</td>\n",
              "      <td>...</td>\n",
              "      <td>-</td>\n",
              "      <td>NP_013376</td>\n",
              "      <td>-</td>\n",
              "      <td>-</td>\n",
              "      <td>-</td>\n",
              "      <td>-</td>\n",
              "      <td>-</td>\n",
              "      <td>-</td>\n",
              "      <td>Saccharomyces cerevisiae (S288c)</td>\n",
              "      <td>Saccharomyces cerevisiae (S288c)</td>\n",
              "    </tr>\n",
              "    <tr>\n",
              "      <th>2</th>\n",
              "      <td>141213</td>\n",
              "      <td>850980</td>\n",
              "      <td>856680</td>\n",
              "      <td>31542</td>\n",
              "      <td>36697</td>\n",
              "      <td>YLR274W</td>\n",
              "      <td>YEL032W</td>\n",
              "      <td>MCM5</td>\n",
              "      <td>MCM3</td>\n",
              "      <td>BOB1|CDC46|MCM DNA helicase complex subunit MC...</td>\n",
              "      <td>...</td>\n",
              "      <td>-</td>\n",
              "      <td>NP_010882</td>\n",
              "      <td>-</td>\n",
              "      <td>-</td>\n",
              "      <td>-</td>\n",
              "      <td>-</td>\n",
              "      <td>-</td>\n",
              "      <td>-</td>\n",
              "      <td>Saccharomyces cerevisiae (S288c)</td>\n",
              "      <td>Saccharomyces cerevisiae (S288c)</td>\n",
              "    </tr>\n",
              "    <tr>\n",
              "      <th>3</th>\n",
              "      <td>141214</td>\n",
              "      <td>856680</td>\n",
              "      <td>850980</td>\n",
              "      <td>36697</td>\n",
              "      <td>31542</td>\n",
              "      <td>YEL032W</td>\n",
              "      <td>YLR274W</td>\n",
              "      <td>MCM3</td>\n",
              "      <td>MCM5</td>\n",
              "      <td>MCM DNA helicase complex subunit MCM3|L000001039</td>\n",
              "      <td>...</td>\n",
              "      <td>-</td>\n",
              "      <td>NP_013376</td>\n",
              "      <td>-</td>\n",
              "      <td>-</td>\n",
              "      <td>-</td>\n",
              "      <td>-</td>\n",
              "      <td>-</td>\n",
              "      <td>-</td>\n",
              "      <td>Saccharomyces cerevisiae (S288c)</td>\n",
              "      <td>Saccharomyces cerevisiae (S288c)</td>\n",
              "    </tr>\n",
              "    <tr>\n",
              "      <th>4</th>\n",
              "      <td>141215</td>\n",
              "      <td>852501</td>\n",
              "      <td>850793</td>\n",
              "      <td>32899</td>\n",
              "      <td>31376</td>\n",
              "      <td>YBR202W</td>\n",
              "      <td>YLR103C</td>\n",
              "      <td>MCM7</td>\n",
              "      <td>CDC45</td>\n",
              "      <td>CDC47|MCM DNA helicase complex subunit MCM7|L0...</td>\n",
              "      <td>...</td>\n",
              "      <td>-</td>\n",
              "      <td>NP_013204</td>\n",
              "      <td>-</td>\n",
              "      <td>-</td>\n",
              "      <td>-</td>\n",
              "      <td>-</td>\n",
              "      <td>-</td>\n",
              "      <td>-</td>\n",
              "      <td>Saccharomyces cerevisiae (S288c)</td>\n",
              "      <td>Saccharomyces cerevisiae (S288c)</td>\n",
              "    </tr>\n",
              "  </tbody>\n",
              "</table>\n",
              "<p>5 rows × 37 columns</p>\n",
              "</div>\n",
              "    <div class=\"colab-df-buttons\">\n",
              "\n",
              "  <div class=\"colab-df-container\">\n",
              "    <button class=\"colab-df-convert\" onclick=\"convertToInteractive('df-0e431103-d7be-484c-a275-8fdc63bab376')\"\n",
              "            title=\"Convert this dataframe to an interactive table.\"\n",
              "            style=\"display:none;\">\n",
              "\n",
              "  <svg xmlns=\"http://www.w3.org/2000/svg\" height=\"24px\" viewBox=\"0 -960 960 960\">\n",
              "    <path d=\"M120-120v-720h720v720H120Zm60-500h600v-160H180v160Zm220 220h160v-160H400v160Zm0 220h160v-160H400v160ZM180-400h160v-160H180v160Zm440 0h160v-160H620v160ZM180-180h160v-160H180v160Zm440 0h160v-160H620v160Z\"/>\n",
              "  </svg>\n",
              "    </button>\n",
              "\n",
              "  <style>\n",
              "    .colab-df-container {\n",
              "      display:flex;\n",
              "      gap: 12px;\n",
              "    }\n",
              "\n",
              "    .colab-df-convert {\n",
              "      background-color: #E8F0FE;\n",
              "      border: none;\n",
              "      border-radius: 50%;\n",
              "      cursor: pointer;\n",
              "      display: none;\n",
              "      fill: #1967D2;\n",
              "      height: 32px;\n",
              "      padding: 0 0 0 0;\n",
              "      width: 32px;\n",
              "    }\n",
              "\n",
              "    .colab-df-convert:hover {\n",
              "      background-color: #E2EBFA;\n",
              "      box-shadow: 0px 1px 2px rgba(60, 64, 67, 0.3), 0px 1px 3px 1px rgba(60, 64, 67, 0.15);\n",
              "      fill: #174EA6;\n",
              "    }\n",
              "\n",
              "    .colab-df-buttons div {\n",
              "      margin-bottom: 4px;\n",
              "    }\n",
              "\n",
              "    [theme=dark] .colab-df-convert {\n",
              "      background-color: #3B4455;\n",
              "      fill: #D2E3FC;\n",
              "    }\n",
              "\n",
              "    [theme=dark] .colab-df-convert:hover {\n",
              "      background-color: #434B5C;\n",
              "      box-shadow: 0px 1px 3px 1px rgba(0, 0, 0, 0.15);\n",
              "      filter: drop-shadow(0px 1px 2px rgba(0, 0, 0, 0.3));\n",
              "      fill: #FFFFFF;\n",
              "    }\n",
              "  </style>\n",
              "\n",
              "    <script>\n",
              "      const buttonEl =\n",
              "        document.querySelector('#df-0e431103-d7be-484c-a275-8fdc63bab376 button.colab-df-convert');\n",
              "      buttonEl.style.display =\n",
              "        google.colab.kernel.accessAllowed ? 'block' : 'none';\n",
              "\n",
              "      async function convertToInteractive(key) {\n",
              "        const element = document.querySelector('#df-0e431103-d7be-484c-a275-8fdc63bab376');\n",
              "        const dataTable =\n",
              "          await google.colab.kernel.invokeFunction('convertToInteractive',\n",
              "                                                    [key], {});\n",
              "        if (!dataTable) return;\n",
              "\n",
              "        const docLinkHtml = 'Like what you see? Visit the ' +\n",
              "          '<a target=\"_blank\" href=https://colab.research.google.com/notebooks/data_table.ipynb>data table notebook</a>'\n",
              "          + ' to learn more about interactive tables.';\n",
              "        element.innerHTML = '';\n",
              "        dataTable['output_type'] = 'display_data';\n",
              "        await google.colab.output.renderOutput(dataTable, element);\n",
              "        const docLink = document.createElement('div');\n",
              "        docLink.innerHTML = docLinkHtml;\n",
              "        element.appendChild(docLink);\n",
              "      }\n",
              "    </script>\n",
              "  </div>\n",
              "\n",
              "\n",
              "<div id=\"df-336cba1a-9bc8-417b-9208-cf081be0c6ee\">\n",
              "  <button class=\"colab-df-quickchart\" onclick=\"quickchart('df-336cba1a-9bc8-417b-9208-cf081be0c6ee')\"\n",
              "            title=\"Suggest charts\"\n",
              "            style=\"display:none;\">\n",
              "\n",
              "<svg xmlns=\"http://www.w3.org/2000/svg\" height=\"24px\"viewBox=\"0 0 24 24\"\n",
              "     width=\"24px\">\n",
              "    <g>\n",
              "        <path d=\"M19 3H5c-1.1 0-2 .9-2 2v14c0 1.1.9 2 2 2h14c1.1 0 2-.9 2-2V5c0-1.1-.9-2-2-2zM9 17H7v-7h2v7zm4 0h-2V7h2v10zm4 0h-2v-4h2v4z\"/>\n",
              "    </g>\n",
              "</svg>\n",
              "  </button>\n",
              "\n",
              "<style>\n",
              "  .colab-df-quickchart {\n",
              "      --bg-color: #E8F0FE;\n",
              "      --fill-color: #1967D2;\n",
              "      --hover-bg-color: #E2EBFA;\n",
              "      --hover-fill-color: #174EA6;\n",
              "      --disabled-fill-color: #AAA;\n",
              "      --disabled-bg-color: #DDD;\n",
              "  }\n",
              "\n",
              "  [theme=dark] .colab-df-quickchart {\n",
              "      --bg-color: #3B4455;\n",
              "      --fill-color: #D2E3FC;\n",
              "      --hover-bg-color: #434B5C;\n",
              "      --hover-fill-color: #FFFFFF;\n",
              "      --disabled-bg-color: #3B4455;\n",
              "      --disabled-fill-color: #666;\n",
              "  }\n",
              "\n",
              "  .colab-df-quickchart {\n",
              "    background-color: var(--bg-color);\n",
              "    border: none;\n",
              "    border-radius: 50%;\n",
              "    cursor: pointer;\n",
              "    display: none;\n",
              "    fill: var(--fill-color);\n",
              "    height: 32px;\n",
              "    padding: 0;\n",
              "    width: 32px;\n",
              "  }\n",
              "\n",
              "  .colab-df-quickchart:hover {\n",
              "    background-color: var(--hover-bg-color);\n",
              "    box-shadow: 0 1px 2px rgba(60, 64, 67, 0.3), 0 1px 3px 1px rgba(60, 64, 67, 0.15);\n",
              "    fill: var(--button-hover-fill-color);\n",
              "  }\n",
              "\n",
              "  .colab-df-quickchart-complete:disabled,\n",
              "  .colab-df-quickchart-complete:disabled:hover {\n",
              "    background-color: var(--disabled-bg-color);\n",
              "    fill: var(--disabled-fill-color);\n",
              "    box-shadow: none;\n",
              "  }\n",
              "\n",
              "  .colab-df-spinner {\n",
              "    border: 2px solid var(--fill-color);\n",
              "    border-color: transparent;\n",
              "    border-bottom-color: var(--fill-color);\n",
              "    animation:\n",
              "      spin 1s steps(1) infinite;\n",
              "  }\n",
              "\n",
              "  @keyframes spin {\n",
              "    0% {\n",
              "      border-color: transparent;\n",
              "      border-bottom-color: var(--fill-color);\n",
              "      border-left-color: var(--fill-color);\n",
              "    }\n",
              "    20% {\n",
              "      border-color: transparent;\n",
              "      border-left-color: var(--fill-color);\n",
              "      border-top-color: var(--fill-color);\n",
              "    }\n",
              "    30% {\n",
              "      border-color: transparent;\n",
              "      border-left-color: var(--fill-color);\n",
              "      border-top-color: var(--fill-color);\n",
              "      border-right-color: var(--fill-color);\n",
              "    }\n",
              "    40% {\n",
              "      border-color: transparent;\n",
              "      border-right-color: var(--fill-color);\n",
              "      border-top-color: var(--fill-color);\n",
              "    }\n",
              "    60% {\n",
              "      border-color: transparent;\n",
              "      border-right-color: var(--fill-color);\n",
              "    }\n",
              "    80% {\n",
              "      border-color: transparent;\n",
              "      border-right-color: var(--fill-color);\n",
              "      border-bottom-color: var(--fill-color);\n",
              "    }\n",
              "    90% {\n",
              "      border-color: transparent;\n",
              "      border-bottom-color: var(--fill-color);\n",
              "    }\n",
              "  }\n",
              "</style>\n",
              "\n",
              "  <script>\n",
              "    async function quickchart(key) {\n",
              "      const quickchartButtonEl =\n",
              "        document.querySelector('#' + key + ' button');\n",
              "      quickchartButtonEl.disabled = true;  // To prevent multiple clicks.\n",
              "      quickchartButtonEl.classList.add('colab-df-spinner');\n",
              "      try {\n",
              "        const charts = await google.colab.kernel.invokeFunction(\n",
              "            'suggestCharts', [key], {});\n",
              "      } catch (error) {\n",
              "        console.error('Error during call to suggestCharts:', error);\n",
              "      }\n",
              "      quickchartButtonEl.classList.remove('colab-df-spinner');\n",
              "      quickchartButtonEl.classList.add('colab-df-quickchart-complete');\n",
              "    }\n",
              "    (() => {\n",
              "      let quickchartButtonEl =\n",
              "        document.querySelector('#df-336cba1a-9bc8-417b-9208-cf081be0c6ee button');\n",
              "      quickchartButtonEl.style.display =\n",
              "        google.colab.kernel.accessAllowed ? 'block' : 'none';\n",
              "    })();\n",
              "  </script>\n",
              "</div>\n",
              "\n",
              "    </div>\n",
              "  </div>\n"
            ],
            "application/vnd.google.colaboratory.intrinsic+json": {
              "type": "dataframe",
              "variable_name": "covid_df"
            }
          },
          "metadata": {},
          "execution_count": 6
        }
      ],
      "source": [
        "# Load PPI dataset\n",
        "covid_df = pd.read_csv('BIOGRID-CORONAVIRUS-4.4.236.tab3.txt', sep = '\\t')\n",
        "covid_df.head()"
      ]
    },
    {
      "cell_type": "code",
      "execution_count": 7,
      "metadata": {
        "colab": {
          "base_uri": "https://localhost:8080/"
        },
        "id": "vEY2rD8neNIh",
        "outputId": "79ae9536-14c6-4564-8af3-d7caab90c1de"
      },
      "outputs": [
        {
          "output_type": "stream",
          "name": "stdout",
          "text": [
            "<class 'pandas.core.frame.DataFrame'>\n",
            "RangeIndex: 60777 entries, 0 to 60776\n",
            "Data columns (total 37 columns):\n",
            " #   Column                              Non-Null Count  Dtype \n",
            "---  ------                              --------------  ----- \n",
            " 0   #BioGRID Interaction ID             60777 non-null  int64 \n",
            " 1   Entrez Gene Interactor A            60777 non-null  object\n",
            " 2   Entrez Gene Interactor B            60777 non-null  object\n",
            " 3   BioGRID ID Interactor A             60777 non-null  int64 \n",
            " 4   BioGRID ID Interactor B             60777 non-null  int64 \n",
            " 5   Systematic Name Interactor A        60777 non-null  object\n",
            " 6   Systematic Name Interactor B        60777 non-null  object\n",
            " 7   Official Symbol Interactor A        60777 non-null  object\n",
            " 8   Official Symbol Interactor B        60777 non-null  object\n",
            " 9   Synonyms Interactor A               60777 non-null  object\n",
            " 10  Synonyms Interactor B               60777 non-null  object\n",
            " 11  Experimental System                 60777 non-null  object\n",
            " 12  Experimental System Type            60777 non-null  object\n",
            " 13  Author                              60777 non-null  object\n",
            " 14  Publication Source                  60777 non-null  object\n",
            " 15  Organism ID Interactor A            60777 non-null  int64 \n",
            " 16  Organism ID Interactor B            60777 non-null  int64 \n",
            " 17  Throughput                          60777 non-null  object\n",
            " 18  Score                               60777 non-null  object\n",
            " 19  Modification                        60777 non-null  object\n",
            " 20  Qualifications                      60777 non-null  object\n",
            " 21  Tags                                60777 non-null  object\n",
            " 22  Source Database                     60777 non-null  object\n",
            " 23  SWISS-PROT Accessions Interactor A  60777 non-null  object\n",
            " 24  TREMBL Accessions Interactor A      60777 non-null  object\n",
            " 25  REFSEQ Accessions Interactor A      60769 non-null  object\n",
            " 26  SWISS-PROT Accessions Interactor B  60777 non-null  object\n",
            " 27  TREMBL Accessions Interactor B      60777 non-null  object\n",
            " 28  REFSEQ Accessions Interactor B      60746 non-null  object\n",
            " 29  Ontology Term IDs                   60777 non-null  object\n",
            " 30  Ontology Term Names                 60777 non-null  object\n",
            " 31  Ontology Term Categories            60777 non-null  object\n",
            " 32  Ontology Term Qualifier IDs         60777 non-null  object\n",
            " 33  Ontology Term Qualifier Names       60777 non-null  object\n",
            " 34  Ontology Term Types                 60777 non-null  object\n",
            " 35  Organism Name Interactor A          60777 non-null  object\n",
            " 36  Organism Name Interactor B          60777 non-null  object\n",
            "dtypes: int64(5), object(32)\n",
            "memory usage: 17.2+ MB\n"
          ]
        }
      ],
      "source": [
        "covid_df.info()"
      ]
    },
    {
      "cell_type": "code",
      "execution_count": 8,
      "metadata": {
        "colab": {
          "base_uri": "https://localhost:8080/"
        },
        "id": "2gnH0HXpzhoX",
        "outputId": "f33859cc-f7b5-433a-c816-c78b16bf1432"
      },
      "outputs": [
        {
          "output_type": "stream",
          "name": "stdout",
          "text": [
            "Original organisms in the dataset:\n",
            "\n",
            "['Saccharomyces cerevisiae (S288c)' 'Homo sapiens'\n",
            " 'Severe acute respiratory syndrome coronavirus 2'\n",
            " 'Severe acute respiratory syndrome-related coronavirus'\n",
            " 'Cricetulus griseus'\n",
            " 'Middle-East Respiratory Syndrome-related Coronavirus' 'Mus musculus'\n",
            " 'Human Immunodeficiency Virus 1' 'Hepatitus C Virus' 'Bos taurus'\n",
            " 'Equus caballus' 'Macaca mulatta' 'Sus scrofa' 'Danio rerio'\n",
            " 'Rattus norvegicus' 'Escherichia coli (K12/MG1655)' 'Myotis lucifugus'\n",
            " 'Canis familiaris' 'Chlorocebus sabaeus' 'Felis Catus'\n",
            " 'Oryctolagus cuniculus' 'Schizosaccharomyces pombe (972h)'\n",
            " 'Drosophila melanogaster' 'Gallus gallus' 'Plasmodium falciparum (3D7)']\n",
            "\n",
            "-----------------------\n",
            "\n",
            "After filtering by \"Homo sapiens\":\n",
            "\n",
            "['Homo sapiens' 'Severe acute respiratory syndrome coronavirus 2'\n",
            " 'Severe acute respiratory syndrome-related coronavirus'\n",
            " 'Middle-East Respiratory Syndrome-related Coronavirus'\n",
            " 'Human Immunodeficiency Virus 1' 'Hepatitus C Virus' 'Bos taurus'\n",
            " 'Mus musculus' 'Drosophila melanogaster' 'Gallus gallus'\n",
            " 'Plasmodium falciparum (3D7)']\n",
            "\n",
            "-----------------------\n",
            "\n",
            "Datasets size ratio: 0.9683926485348076\n",
            "New dataset dimension: 58856 observations\n"
          ]
        }
      ],
      "source": [
        "# Maybe we can focus just on data relative to humans\n",
        "# (covers 97% of original data anyway)\n",
        "print('Original organisms in the dataset:\\n')\n",
        "print(pd.concat([covid_df['Organism Name Interactor A'], covid_df['Organism Name Interactor B']]).unique())\n",
        "print('\\n-----------------------\\n')\n",
        "print('After filtering by \"Homo sapiens\":\\n')\n",
        "# Select only rows whose Organism Interactor A or B is 'Homo sapiens'\n",
        "human_df = covid_df[(covid_df['Organism Name Interactor A'] == 'Homo sapiens') | (covid_df['Organism Name Interactor B'] == 'Homo sapiens')]\n",
        "human_df = human_df.reset_index(drop = True)\n",
        "print(pd.concat([human_df['Organism Name Interactor A'], human_df['Organism Name Interactor B']]).unique())\n",
        "print('\\n-----------------------\\n')\n",
        "print('Datasets size ratio:', human_df.shape[0] / covid_df.shape[0])\n",
        "print('New dataset dimension:', human_df.shape[0], 'observations')"
      ]
    },
    {
      "cell_type": "code",
      "execution_count": 148,
      "metadata": {
        "colab": {
          "base_uri": "https://localhost:8080/",
          "height": 206
        },
        "id": "9H8lQG2BeOd1",
        "outputId": "bc544735-1726-41c1-9e1f-2c2b9dd1d910"
      },
      "outputs": [
        {
          "output_type": "execute_result",
          "data": {
            "text/plain": [
              "  Official Symbol Interactor A Official Symbol Interactor B\n",
              "0                        CCND1                         ESR1\n",
              "1                        BRCA1                         ESR1\n",
              "2                         ESR1                        BRCA1\n",
              "3                         ESR1                        CCND1\n",
              "4                       CREBBP                         IRF3"
            ],
            "text/html": [
              "\n",
              "  <div id=\"df-239f278e-b958-4d81-a402-deef05729780\" class=\"colab-df-container\">\n",
              "    <div>\n",
              "<style scoped>\n",
              "    .dataframe tbody tr th:only-of-type {\n",
              "        vertical-align: middle;\n",
              "    }\n",
              "\n",
              "    .dataframe tbody tr th {\n",
              "        vertical-align: top;\n",
              "    }\n",
              "\n",
              "    .dataframe thead th {\n",
              "        text-align: right;\n",
              "    }\n",
              "</style>\n",
              "<table border=\"1\" class=\"dataframe\">\n",
              "  <thead>\n",
              "    <tr style=\"text-align: right;\">\n",
              "      <th></th>\n",
              "      <th>Official Symbol Interactor A</th>\n",
              "      <th>Official Symbol Interactor B</th>\n",
              "    </tr>\n",
              "  </thead>\n",
              "  <tbody>\n",
              "    <tr>\n",
              "      <th>0</th>\n",
              "      <td>CCND1</td>\n",
              "      <td>ESR1</td>\n",
              "    </tr>\n",
              "    <tr>\n",
              "      <th>1</th>\n",
              "      <td>BRCA1</td>\n",
              "      <td>ESR1</td>\n",
              "    </tr>\n",
              "    <tr>\n",
              "      <th>2</th>\n",
              "      <td>ESR1</td>\n",
              "      <td>BRCA1</td>\n",
              "    </tr>\n",
              "    <tr>\n",
              "      <th>3</th>\n",
              "      <td>ESR1</td>\n",
              "      <td>CCND1</td>\n",
              "    </tr>\n",
              "    <tr>\n",
              "      <th>4</th>\n",
              "      <td>CREBBP</td>\n",
              "      <td>IRF3</td>\n",
              "    </tr>\n",
              "  </tbody>\n",
              "</table>\n",
              "</div>\n",
              "    <div class=\"colab-df-buttons\">\n",
              "\n",
              "  <div class=\"colab-df-container\">\n",
              "    <button class=\"colab-df-convert\" onclick=\"convertToInteractive('df-239f278e-b958-4d81-a402-deef05729780')\"\n",
              "            title=\"Convert this dataframe to an interactive table.\"\n",
              "            style=\"display:none;\">\n",
              "\n",
              "  <svg xmlns=\"http://www.w3.org/2000/svg\" height=\"24px\" viewBox=\"0 -960 960 960\">\n",
              "    <path d=\"M120-120v-720h720v720H120Zm60-500h600v-160H180v160Zm220 220h160v-160H400v160Zm0 220h160v-160H400v160ZM180-400h160v-160H180v160Zm440 0h160v-160H620v160ZM180-180h160v-160H180v160Zm440 0h160v-160H620v160Z\"/>\n",
              "  </svg>\n",
              "    </button>\n",
              "\n",
              "  <style>\n",
              "    .colab-df-container {\n",
              "      display:flex;\n",
              "      gap: 12px;\n",
              "    }\n",
              "\n",
              "    .colab-df-convert {\n",
              "      background-color: #E8F0FE;\n",
              "      border: none;\n",
              "      border-radius: 50%;\n",
              "      cursor: pointer;\n",
              "      display: none;\n",
              "      fill: #1967D2;\n",
              "      height: 32px;\n",
              "      padding: 0 0 0 0;\n",
              "      width: 32px;\n",
              "    }\n",
              "\n",
              "    .colab-df-convert:hover {\n",
              "      background-color: #E2EBFA;\n",
              "      box-shadow: 0px 1px 2px rgba(60, 64, 67, 0.3), 0px 1px 3px 1px rgba(60, 64, 67, 0.15);\n",
              "      fill: #174EA6;\n",
              "    }\n",
              "\n",
              "    .colab-df-buttons div {\n",
              "      margin-bottom: 4px;\n",
              "    }\n",
              "\n",
              "    [theme=dark] .colab-df-convert {\n",
              "      background-color: #3B4455;\n",
              "      fill: #D2E3FC;\n",
              "    }\n",
              "\n",
              "    [theme=dark] .colab-df-convert:hover {\n",
              "      background-color: #434B5C;\n",
              "      box-shadow: 0px 1px 3px 1px rgba(0, 0, 0, 0.15);\n",
              "      filter: drop-shadow(0px 1px 2px rgba(0, 0, 0, 0.3));\n",
              "      fill: #FFFFFF;\n",
              "    }\n",
              "  </style>\n",
              "\n",
              "    <script>\n",
              "      const buttonEl =\n",
              "        document.querySelector('#df-239f278e-b958-4d81-a402-deef05729780 button.colab-df-convert');\n",
              "      buttonEl.style.display =\n",
              "        google.colab.kernel.accessAllowed ? 'block' : 'none';\n",
              "\n",
              "      async function convertToInteractive(key) {\n",
              "        const element = document.querySelector('#df-239f278e-b958-4d81-a402-deef05729780');\n",
              "        const dataTable =\n",
              "          await google.colab.kernel.invokeFunction('convertToInteractive',\n",
              "                                                    [key], {});\n",
              "        if (!dataTable) return;\n",
              "\n",
              "        const docLinkHtml = 'Like what you see? Visit the ' +\n",
              "          '<a target=\"_blank\" href=https://colab.research.google.com/notebooks/data_table.ipynb>data table notebook</a>'\n",
              "          + ' to learn more about interactive tables.';\n",
              "        element.innerHTML = '';\n",
              "        dataTable['output_type'] = 'display_data';\n",
              "        await google.colab.output.renderOutput(dataTable, element);\n",
              "        const docLink = document.createElement('div');\n",
              "        docLink.innerHTML = docLinkHtml;\n",
              "        element.appendChild(docLink);\n",
              "      }\n",
              "    </script>\n",
              "  </div>\n",
              "\n",
              "\n",
              "<div id=\"df-1ed808c7-458d-4a5f-b6a1-dc793fb8e2cb\">\n",
              "  <button class=\"colab-df-quickchart\" onclick=\"quickchart('df-1ed808c7-458d-4a5f-b6a1-dc793fb8e2cb')\"\n",
              "            title=\"Suggest charts\"\n",
              "            style=\"display:none;\">\n",
              "\n",
              "<svg xmlns=\"http://www.w3.org/2000/svg\" height=\"24px\"viewBox=\"0 0 24 24\"\n",
              "     width=\"24px\">\n",
              "    <g>\n",
              "        <path d=\"M19 3H5c-1.1 0-2 .9-2 2v14c0 1.1.9 2 2 2h14c1.1 0 2-.9 2-2V5c0-1.1-.9-2-2-2zM9 17H7v-7h2v7zm4 0h-2V7h2v10zm4 0h-2v-4h2v4z\"/>\n",
              "    </g>\n",
              "</svg>\n",
              "  </button>\n",
              "\n",
              "<style>\n",
              "  .colab-df-quickchart {\n",
              "      --bg-color: #E8F0FE;\n",
              "      --fill-color: #1967D2;\n",
              "      --hover-bg-color: #E2EBFA;\n",
              "      --hover-fill-color: #174EA6;\n",
              "      --disabled-fill-color: #AAA;\n",
              "      --disabled-bg-color: #DDD;\n",
              "  }\n",
              "\n",
              "  [theme=dark] .colab-df-quickchart {\n",
              "      --bg-color: #3B4455;\n",
              "      --fill-color: #D2E3FC;\n",
              "      --hover-bg-color: #434B5C;\n",
              "      --hover-fill-color: #FFFFFF;\n",
              "      --disabled-bg-color: #3B4455;\n",
              "      --disabled-fill-color: #666;\n",
              "  }\n",
              "\n",
              "  .colab-df-quickchart {\n",
              "    background-color: var(--bg-color);\n",
              "    border: none;\n",
              "    border-radius: 50%;\n",
              "    cursor: pointer;\n",
              "    display: none;\n",
              "    fill: var(--fill-color);\n",
              "    height: 32px;\n",
              "    padding: 0;\n",
              "    width: 32px;\n",
              "  }\n",
              "\n",
              "  .colab-df-quickchart:hover {\n",
              "    background-color: var(--hover-bg-color);\n",
              "    box-shadow: 0 1px 2px rgba(60, 64, 67, 0.3), 0 1px 3px 1px rgba(60, 64, 67, 0.15);\n",
              "    fill: var(--button-hover-fill-color);\n",
              "  }\n",
              "\n",
              "  .colab-df-quickchart-complete:disabled,\n",
              "  .colab-df-quickchart-complete:disabled:hover {\n",
              "    background-color: var(--disabled-bg-color);\n",
              "    fill: var(--disabled-fill-color);\n",
              "    box-shadow: none;\n",
              "  }\n",
              "\n",
              "  .colab-df-spinner {\n",
              "    border: 2px solid var(--fill-color);\n",
              "    border-color: transparent;\n",
              "    border-bottom-color: var(--fill-color);\n",
              "    animation:\n",
              "      spin 1s steps(1) infinite;\n",
              "  }\n",
              "\n",
              "  @keyframes spin {\n",
              "    0% {\n",
              "      border-color: transparent;\n",
              "      border-bottom-color: var(--fill-color);\n",
              "      border-left-color: var(--fill-color);\n",
              "    }\n",
              "    20% {\n",
              "      border-color: transparent;\n",
              "      border-left-color: var(--fill-color);\n",
              "      border-top-color: var(--fill-color);\n",
              "    }\n",
              "    30% {\n",
              "      border-color: transparent;\n",
              "      border-left-color: var(--fill-color);\n",
              "      border-top-color: var(--fill-color);\n",
              "      border-right-color: var(--fill-color);\n",
              "    }\n",
              "    40% {\n",
              "      border-color: transparent;\n",
              "      border-right-color: var(--fill-color);\n",
              "      border-top-color: var(--fill-color);\n",
              "    }\n",
              "    60% {\n",
              "      border-color: transparent;\n",
              "      border-right-color: var(--fill-color);\n",
              "    }\n",
              "    80% {\n",
              "      border-color: transparent;\n",
              "      border-right-color: var(--fill-color);\n",
              "      border-bottom-color: var(--fill-color);\n",
              "    }\n",
              "    90% {\n",
              "      border-color: transparent;\n",
              "      border-bottom-color: var(--fill-color);\n",
              "    }\n",
              "  }\n",
              "</style>\n",
              "\n",
              "  <script>\n",
              "    async function quickchart(key) {\n",
              "      const quickchartButtonEl =\n",
              "        document.querySelector('#' + key + ' button');\n",
              "      quickchartButtonEl.disabled = true;  // To prevent multiple clicks.\n",
              "      quickchartButtonEl.classList.add('colab-df-spinner');\n",
              "      try {\n",
              "        const charts = await google.colab.kernel.invokeFunction(\n",
              "            'suggestCharts', [key], {});\n",
              "      } catch (error) {\n",
              "        console.error('Error during call to suggestCharts:', error);\n",
              "      }\n",
              "      quickchartButtonEl.classList.remove('colab-df-spinner');\n",
              "      quickchartButtonEl.classList.add('colab-df-quickchart-complete');\n",
              "    }\n",
              "    (() => {\n",
              "      let quickchartButtonEl =\n",
              "        document.querySelector('#df-1ed808c7-458d-4a5f-b6a1-dc793fb8e2cb button');\n",
              "      quickchartButtonEl.style.display =\n",
              "        google.colab.kernel.accessAllowed ? 'block' : 'none';\n",
              "    })();\n",
              "  </script>\n",
              "</div>\n",
              "\n",
              "    </div>\n",
              "  </div>\n"
            ],
            "application/vnd.google.colaboratory.intrinsic+json": {
              "type": "dataframe",
              "variable_name": "ppi",
              "summary": "{\n  \"name\": \"ppi\",\n  \"rows\": 58856,\n  \"fields\": [\n    {\n      \"column\": \"Official Symbol Interactor A\",\n      \"properties\": {\n        \"dtype\": \"category\",\n        \"num_unique_values\": 614,\n        \"samples\": [\n          \"USO1\",\n          \"MST1R\",\n          \"DDX21\"\n        ],\n        \"semantic_type\": \"\",\n        \"description\": \"\"\n      }\n    },\n    {\n      \"column\": \"Official Symbol Interactor B\",\n      \"properties\": {\n        \"dtype\": \"category\",\n        \"num_unique_values\": 8006,\n        \"samples\": [\n          \"PDLIM3\",\n          \"EGLN1\",\n          \"STAB1\"\n        ],\n        \"semantic_type\": \"\",\n        \"description\": \"\"\n      }\n    }\n  ]\n}"
            }
          },
          "metadata": {},
          "execution_count": 148
        }
      ],
      "source": [
        "# Select PPI interactions\n",
        "ppi = human_df[['Official Symbol Interactor A', 'Official Symbol Interactor B']]\n",
        "ppi.head()"
      ]
    },
    {
      "cell_type": "code",
      "source": [
        "# Save the interactions for Gephi visualization\n",
        "ppi = ppi.rename(columns={'Official Symbol Interactor A': 'Source', 'Official Symbol Interactor B': 'Target'})\n",
        "ppi.to_csv('ppi_network.csv', index=False)"
      ],
      "metadata": {
        "id": "dTgp8r1R3C3T"
      },
      "execution_count": 149,
      "outputs": []
    },
    {
      "cell_type": "markdown",
      "metadata": {
        "id": "XPicnO1dfwVa"
      },
      "source": [
        "### 1.2) Network analysis\n",
        "\n",
        "**(Da rivedere/sistemare/aggiungere)** In the PPI network, the concept of opinion dynamics can be linked to how changes in one protein can influence the behavior of other proteins. In a biological context, \"opinion\" can be viewed as the functional state of a protein. Opinion dynamics in a social network can be seen as analogous to how functional changes in central proteins can affect other proteins throughout the network."
      ]
    },
    {
      "cell_type": "code",
      "execution_count": 209,
      "metadata": {
        "colab": {
          "base_uri": "https://localhost:8080/"
        },
        "id": "s9k5VXvpeQjY",
        "outputId": "bec9226e-c33e-46fe-edfc-64cb29718f0c"
      },
      "outputs": [
        {
          "output_type": "stream",
          "name": "stdout",
          "text": [
            "Shape of the PPI network after removing duplicates: (43679, 2)\n"
          ]
        }
      ],
      "source": [
        "# Check the shape of the dataframe without duplicates (it will not remove rows with the same genes but in different columns)\n",
        "ppi = ppi.drop_duplicates()\n",
        "print(\"Shape of the PPI network after removing duplicates:\", ppi.shape)"
      ]
    },
    {
      "cell_type": "code",
      "execution_count": 210,
      "metadata": {
        "colab": {
          "base_uri": "https://localhost:8080/"
        },
        "id": "WiVsInqIeSXo",
        "outputId": "c0229090-5177-41ad-acd5-5106473a07ca"
      },
      "outputs": [
        {
          "output_type": "stream",
          "name": "stdout",
          "text": [
            "Graph with 8098 nodes and 43279 edges\n"
          ]
        }
      ],
      "source": [
        "ppi_network = nx.from_pandas_edgelist(ppi,\n",
        "                                      source = \"Source\",\n",
        "                                      target = \"Target\",\n",
        "                                      create_using = nx.Graph())      # nx.Graph() doesn't allow duplicated edges\n",
        "\n",
        "print(ppi_network) #the nr of edges is lower than the nr of dataframe rows because of the non extracted duplicates"
      ]
    },
    {
      "cell_type": "code",
      "execution_count": 211,
      "metadata": {
        "colab": {
          "base_uri": "https://localhost:8080/"
        },
        "id": "YYmm-qaDe8S1",
        "outputId": "84558322-3384-4b86-ab1e-cee5e62d589f"
      },
      "outputs": [
        {
          "output_type": "stream",
          "name": "stdout",
          "text": [
            "Number of self loops:  52\n",
            "Self-loops over Total edges: 0.0012\n",
            "Graph without self-loops: Graph with 8098 nodes and 43227 edges\n"
          ]
        }
      ],
      "source": [
        "# Identify self-loops\n",
        "self_loops_bio = list(nx.selfloop_edges(ppi_network))\n",
        "print(\"Number of self loops: \", len(self_loops_bio))\n",
        "print(\"Self-loops over Total edges:\", round(nx.number_of_selfloops(ppi_network) / len(ppi_network.edges), 4))\n",
        "\n",
        "# Remove self-loops\n",
        "ppi_network.remove_edges_from(self_loops_bio)\n",
        "print(\"Graph without self-loops:\", ppi_network)"
      ]
    },
    {
      "cell_type": "code",
      "execution_count": 212,
      "metadata": {
        "colab": {
          "base_uri": "https://localhost:8080/"
        },
        "id": "9YX9pk16fDtU",
        "outputId": "3384dfd6-8ec4-4a37-e7e3-df397f135204"
      },
      "outputs": [
        {
          "output_type": "stream",
          "name": "stdout",
          "text": [
            "Graph with 8086 nodes and 43221 edges\n"
          ]
        }
      ],
      "source": [
        "# Isolate the largest connected component (LCC)\n",
        "components = list(nx.connected_components(ppi_network))\n",
        "largest_component = max(components, key = len)\n",
        "LCC_ppi = ppi_network.subgraph(largest_component)\n",
        "print(LCC_ppi)"
      ]
    },
    {
      "cell_type": "code",
      "execution_count": 213,
      "metadata": {
        "id": "IYlznhjYfc6I"
      },
      "outputs": [],
      "source": [
        "# Compute metrics\n",
        "degree = LCC_ppi.degree()\n",
        "bet = nx.betweenness_centrality(LCC_ppi, k = 100, normalized = True) # richiede troppo tempo, per ora normalizzo con k=100\n",
        "# clos = nx.closeness_centrality(LCC_ppi) -> richiede troppo tempo -> anche con la GPU?"
      ]
    },
    {
      "cell_type": "code",
      "execution_count": 157,
      "metadata": {
        "id": "g_hg7-j0f-Ji"
      },
      "outputs": [],
      "source": [
        "try:\n",
        "    eigen = nx.eigenvector_centrality(LCC_ppi, max_iter = 500, tol = 1e-04)\n",
        "except nx.PowerIterationFailedConvergence as e:\n",
        "    print(f\"Failed to converge: {e}\")"
      ]
    },
    {
      "cell_type": "code",
      "execution_count": 158,
      "metadata": {
        "id": "vVUENWarhGwl"
      },
      "outputs": [],
      "source": [
        "degree_dict = dict(degree)\n",
        "ratio = {}\n",
        "\n",
        "for node in LCC_ppi.nodes():\n",
        "    if degree_dict[node] > 0:\n",
        "        ratio[node] = bet[node] / degree_dict[node]\n",
        "    else:\n",
        "        ratio[node] = 0"
      ]
    },
    {
      "cell_type": "code",
      "execution_count": 159,
      "metadata": {
        "colab": {
          "base_uri": "https://localhost:8080/"
        },
        "id": "lvkf0d0Uipk_",
        "outputId": "cb6d2764-f710-44b0-ce61-69bb02d7f3c3"
      },
      "outputs": [
        {
          "output_type": "stream",
          "name": "stdout",
          "text": [
            "Gene measures:\n",
            "--------------\n",
            "{'BRCA1': {'BetoverDeg': 1.8261912582317934e-06,\n",
            "           'Betweeness': 3.6523825164635867e-06,\n",
            "           'Degree': 2,\n",
            "           'Eigen': 0.0007872599949043143},\n",
            " 'CCND1': {'BetoverDeg': 6.375381280775041e-05,\n",
            "           'Betweeness': 0.00031876906403875205,\n",
            "           'Degree': 5,\n",
            "           'Eigen': 0.001465708549714262},\n",
            " 'CREBBP': {'BetoverDeg': 4.397533995184061e-06,\n",
            "            'Betweeness': 2.6385203971104362e-05,\n",
            "            'Degree': 6,\n",
            "            'Eigen': 0.002317157076707439},\n",
            " 'ESR1': {'BetoverDeg': 1.2956079989850904e-05,\n",
            "          'Betweeness': 5.1824319959403614e-05,\n",
            "          'Degree': 4,\n",
            "          'Eigen': 0.001757955816001885},\n",
            " 'IRF3': {'BetoverDeg': 2.447103805579034e-05,\n",
            "          'Betweeness': 0.00036706557083685513,\n",
            "          'Degree': 15,\n",
            "          'Eigen': 0.0038324876180868303}}\n",
            "\n"
          ]
        }
      ],
      "source": [
        "# Insert metrics in the dictionary\n",
        "nodes = LCC_ppi.nodes()\n",
        "gene_measures = dict(nodes)\n",
        "\n",
        "for gene in gene_measures:\n",
        "    gene_measures[gene][\"Degree\"] = degree[gene]\n",
        "    gene_measures[gene][\"Betweeness\"] = bet[gene]\n",
        "    #gene_measures[gene][\"Closeness\"] = clos[gene]\n",
        "    gene_measures[gene][\"Eigen\"] = eigen[gene]\n",
        "    gene_measures[gene][\"BetoverDeg\"] = ratio[gene]\n",
        "print_dict(\"Gene measures:\", gene_measures)"
      ]
    },
    {
      "cell_type": "code",
      "execution_count": 161,
      "metadata": {
        "colab": {
          "base_uri": "https://localhost:8080/",
          "height": 237
        },
        "id": "I9qZQr-rkSZm",
        "outputId": "22d2a8d1-eb4e-456c-8cdf-6f7600b3fdc4"
      },
      "outputs": [
        {
          "output_type": "execute_result",
          "data": {
            "text/plain": [
              "          Gene  Degree  Betweeness     Eigen  BetoverDeg\n",
              "Ranking                                                 \n",
              "1            M    2068    0.117782  0.239406    0.000057\n",
              "2        ORF7b    1755    0.087955  0.213850    0.000050\n",
              "3         nsp6    1684    0.057289  0.211439    0.000034\n",
              "4         nsp4    1483    0.067650  0.203859    0.000046\n",
              "5        ORF7a    1259    0.028882  0.178130    0.000023"
            ],
            "text/html": [
              "\n",
              "  <div id=\"df-a9757dfe-e262-4051-a722-2328938a9143\" class=\"colab-df-container\">\n",
              "    <div>\n",
              "<style scoped>\n",
              "    .dataframe tbody tr th:only-of-type {\n",
              "        vertical-align: middle;\n",
              "    }\n",
              "\n",
              "    .dataframe tbody tr th {\n",
              "        vertical-align: top;\n",
              "    }\n",
              "\n",
              "    .dataframe thead th {\n",
              "        text-align: right;\n",
              "    }\n",
              "</style>\n",
              "<table border=\"1\" class=\"dataframe\">\n",
              "  <thead>\n",
              "    <tr style=\"text-align: right;\">\n",
              "      <th></th>\n",
              "      <th>Gene</th>\n",
              "      <th>Degree</th>\n",
              "      <th>Betweeness</th>\n",
              "      <th>Eigen</th>\n",
              "      <th>BetoverDeg</th>\n",
              "    </tr>\n",
              "    <tr>\n",
              "      <th>Ranking</th>\n",
              "      <th></th>\n",
              "      <th></th>\n",
              "      <th></th>\n",
              "      <th></th>\n",
              "      <th></th>\n",
              "    </tr>\n",
              "  </thead>\n",
              "  <tbody>\n",
              "    <tr>\n",
              "      <th>1</th>\n",
              "      <td>M</td>\n",
              "      <td>2068</td>\n",
              "      <td>0.117782</td>\n",
              "      <td>0.239406</td>\n",
              "      <td>0.000057</td>\n",
              "    </tr>\n",
              "    <tr>\n",
              "      <th>2</th>\n",
              "      <td>ORF7b</td>\n",
              "      <td>1755</td>\n",
              "      <td>0.087955</td>\n",
              "      <td>0.213850</td>\n",
              "      <td>0.000050</td>\n",
              "    </tr>\n",
              "    <tr>\n",
              "      <th>3</th>\n",
              "      <td>nsp6</td>\n",
              "      <td>1684</td>\n",
              "      <td>0.057289</td>\n",
              "      <td>0.211439</td>\n",
              "      <td>0.000034</td>\n",
              "    </tr>\n",
              "    <tr>\n",
              "      <th>4</th>\n",
              "      <td>nsp4</td>\n",
              "      <td>1483</td>\n",
              "      <td>0.067650</td>\n",
              "      <td>0.203859</td>\n",
              "      <td>0.000046</td>\n",
              "    </tr>\n",
              "    <tr>\n",
              "      <th>5</th>\n",
              "      <td>ORF7a</td>\n",
              "      <td>1259</td>\n",
              "      <td>0.028882</td>\n",
              "      <td>0.178130</td>\n",
              "      <td>0.000023</td>\n",
              "    </tr>\n",
              "  </tbody>\n",
              "</table>\n",
              "</div>\n",
              "    <div class=\"colab-df-buttons\">\n",
              "\n",
              "  <div class=\"colab-df-container\">\n",
              "    <button class=\"colab-df-convert\" onclick=\"convertToInteractive('df-a9757dfe-e262-4051-a722-2328938a9143')\"\n",
              "            title=\"Convert this dataframe to an interactive table.\"\n",
              "            style=\"display:none;\">\n",
              "\n",
              "  <svg xmlns=\"http://www.w3.org/2000/svg\" height=\"24px\" viewBox=\"0 -960 960 960\">\n",
              "    <path d=\"M120-120v-720h720v720H120Zm60-500h600v-160H180v160Zm220 220h160v-160H400v160Zm0 220h160v-160H400v160ZM180-400h160v-160H180v160Zm440 0h160v-160H620v160ZM180-180h160v-160H180v160Zm440 0h160v-160H620v160Z\"/>\n",
              "  </svg>\n",
              "    </button>\n",
              "\n",
              "  <style>\n",
              "    .colab-df-container {\n",
              "      display:flex;\n",
              "      gap: 12px;\n",
              "    }\n",
              "\n",
              "    .colab-df-convert {\n",
              "      background-color: #E8F0FE;\n",
              "      border: none;\n",
              "      border-radius: 50%;\n",
              "      cursor: pointer;\n",
              "      display: none;\n",
              "      fill: #1967D2;\n",
              "      height: 32px;\n",
              "      padding: 0 0 0 0;\n",
              "      width: 32px;\n",
              "    }\n",
              "\n",
              "    .colab-df-convert:hover {\n",
              "      background-color: #E2EBFA;\n",
              "      box-shadow: 0px 1px 2px rgba(60, 64, 67, 0.3), 0px 1px 3px 1px rgba(60, 64, 67, 0.15);\n",
              "      fill: #174EA6;\n",
              "    }\n",
              "\n",
              "    .colab-df-buttons div {\n",
              "      margin-bottom: 4px;\n",
              "    }\n",
              "\n",
              "    [theme=dark] .colab-df-convert {\n",
              "      background-color: #3B4455;\n",
              "      fill: #D2E3FC;\n",
              "    }\n",
              "\n",
              "    [theme=dark] .colab-df-convert:hover {\n",
              "      background-color: #434B5C;\n",
              "      box-shadow: 0px 1px 3px 1px rgba(0, 0, 0, 0.15);\n",
              "      filter: drop-shadow(0px 1px 2px rgba(0, 0, 0, 0.3));\n",
              "      fill: #FFFFFF;\n",
              "    }\n",
              "  </style>\n",
              "\n",
              "    <script>\n",
              "      const buttonEl =\n",
              "        document.querySelector('#df-a9757dfe-e262-4051-a722-2328938a9143 button.colab-df-convert');\n",
              "      buttonEl.style.display =\n",
              "        google.colab.kernel.accessAllowed ? 'block' : 'none';\n",
              "\n",
              "      async function convertToInteractive(key) {\n",
              "        const element = document.querySelector('#df-a9757dfe-e262-4051-a722-2328938a9143');\n",
              "        const dataTable =\n",
              "          await google.colab.kernel.invokeFunction('convertToInteractive',\n",
              "                                                    [key], {});\n",
              "        if (!dataTable) return;\n",
              "\n",
              "        const docLinkHtml = 'Like what you see? Visit the ' +\n",
              "          '<a target=\"_blank\" href=https://colab.research.google.com/notebooks/data_table.ipynb>data table notebook</a>'\n",
              "          + ' to learn more about interactive tables.';\n",
              "        element.innerHTML = '';\n",
              "        dataTable['output_type'] = 'display_data';\n",
              "        await google.colab.output.renderOutput(dataTable, element);\n",
              "        const docLink = document.createElement('div');\n",
              "        docLink.innerHTML = docLinkHtml;\n",
              "        element.appendChild(docLink);\n",
              "      }\n",
              "    </script>\n",
              "  </div>\n",
              "\n",
              "\n",
              "<div id=\"df-b194c276-4633-41b7-98e3-bd49c6937902\">\n",
              "  <button class=\"colab-df-quickchart\" onclick=\"quickchart('df-b194c276-4633-41b7-98e3-bd49c6937902')\"\n",
              "            title=\"Suggest charts\"\n",
              "            style=\"display:none;\">\n",
              "\n",
              "<svg xmlns=\"http://www.w3.org/2000/svg\" height=\"24px\"viewBox=\"0 0 24 24\"\n",
              "     width=\"24px\">\n",
              "    <g>\n",
              "        <path d=\"M19 3H5c-1.1 0-2 .9-2 2v14c0 1.1.9 2 2 2h14c1.1 0 2-.9 2-2V5c0-1.1-.9-2-2-2zM9 17H7v-7h2v7zm4 0h-2V7h2v10zm4 0h-2v-4h2v4z\"/>\n",
              "    </g>\n",
              "</svg>\n",
              "  </button>\n",
              "\n",
              "<style>\n",
              "  .colab-df-quickchart {\n",
              "      --bg-color: #E8F0FE;\n",
              "      --fill-color: #1967D2;\n",
              "      --hover-bg-color: #E2EBFA;\n",
              "      --hover-fill-color: #174EA6;\n",
              "      --disabled-fill-color: #AAA;\n",
              "      --disabled-bg-color: #DDD;\n",
              "  }\n",
              "\n",
              "  [theme=dark] .colab-df-quickchart {\n",
              "      --bg-color: #3B4455;\n",
              "      --fill-color: #D2E3FC;\n",
              "      --hover-bg-color: #434B5C;\n",
              "      --hover-fill-color: #FFFFFF;\n",
              "      --disabled-bg-color: #3B4455;\n",
              "      --disabled-fill-color: #666;\n",
              "  }\n",
              "\n",
              "  .colab-df-quickchart {\n",
              "    background-color: var(--bg-color);\n",
              "    border: none;\n",
              "    border-radius: 50%;\n",
              "    cursor: pointer;\n",
              "    display: none;\n",
              "    fill: var(--fill-color);\n",
              "    height: 32px;\n",
              "    padding: 0;\n",
              "    width: 32px;\n",
              "  }\n",
              "\n",
              "  .colab-df-quickchart:hover {\n",
              "    background-color: var(--hover-bg-color);\n",
              "    box-shadow: 0 1px 2px rgba(60, 64, 67, 0.3), 0 1px 3px 1px rgba(60, 64, 67, 0.15);\n",
              "    fill: var(--button-hover-fill-color);\n",
              "  }\n",
              "\n",
              "  .colab-df-quickchart-complete:disabled,\n",
              "  .colab-df-quickchart-complete:disabled:hover {\n",
              "    background-color: var(--disabled-bg-color);\n",
              "    fill: var(--disabled-fill-color);\n",
              "    box-shadow: none;\n",
              "  }\n",
              "\n",
              "  .colab-df-spinner {\n",
              "    border: 2px solid var(--fill-color);\n",
              "    border-color: transparent;\n",
              "    border-bottom-color: var(--fill-color);\n",
              "    animation:\n",
              "      spin 1s steps(1) infinite;\n",
              "  }\n",
              "\n",
              "  @keyframes spin {\n",
              "    0% {\n",
              "      border-color: transparent;\n",
              "      border-bottom-color: var(--fill-color);\n",
              "      border-left-color: var(--fill-color);\n",
              "    }\n",
              "    20% {\n",
              "      border-color: transparent;\n",
              "      border-left-color: var(--fill-color);\n",
              "      border-top-color: var(--fill-color);\n",
              "    }\n",
              "    30% {\n",
              "      border-color: transparent;\n",
              "      border-left-color: var(--fill-color);\n",
              "      border-top-color: var(--fill-color);\n",
              "      border-right-color: var(--fill-color);\n",
              "    }\n",
              "    40% {\n",
              "      border-color: transparent;\n",
              "      border-right-color: var(--fill-color);\n",
              "      border-top-color: var(--fill-color);\n",
              "    }\n",
              "    60% {\n",
              "      border-color: transparent;\n",
              "      border-right-color: var(--fill-color);\n",
              "    }\n",
              "    80% {\n",
              "      border-color: transparent;\n",
              "      border-right-color: var(--fill-color);\n",
              "      border-bottom-color: var(--fill-color);\n",
              "    }\n",
              "    90% {\n",
              "      border-color: transparent;\n",
              "      border-bottom-color: var(--fill-color);\n",
              "    }\n",
              "  }\n",
              "</style>\n",
              "\n",
              "  <script>\n",
              "    async function quickchart(key) {\n",
              "      const quickchartButtonEl =\n",
              "        document.querySelector('#' + key + ' button');\n",
              "      quickchartButtonEl.disabled = true;  // To prevent multiple clicks.\n",
              "      quickchartButtonEl.classList.add('colab-df-spinner');\n",
              "      try {\n",
              "        const charts = await google.colab.kernel.invokeFunction(\n",
              "            'suggestCharts', [key], {});\n",
              "      } catch (error) {\n",
              "        console.error('Error during call to suggestCharts:', error);\n",
              "      }\n",
              "      quickchartButtonEl.classList.remove('colab-df-spinner');\n",
              "      quickchartButtonEl.classList.add('colab-df-quickchart-complete');\n",
              "    }\n",
              "    (() => {\n",
              "      let quickchartButtonEl =\n",
              "        document.querySelector('#df-b194c276-4633-41b7-98e3-bd49c6937902 button');\n",
              "      quickchartButtonEl.style.display =\n",
              "        google.colab.kernel.accessAllowed ? 'block' : 'none';\n",
              "    })();\n",
              "  </script>\n",
              "</div>\n",
              "\n",
              "    </div>\n",
              "  </div>\n"
            ],
            "application/vnd.google.colaboratory.intrinsic+json": {
              "type": "dataframe",
              "variable_name": "sorted_metrics",
              "summary": "{\n  \"name\": \"sorted_metrics\",\n  \"rows\": 8086,\n  \"fields\": [\n    {\n      \"column\": \"Ranking\",\n      \"properties\": {\n        \"dtype\": \"number\",\n        \"std\": 2334,\n        \"min\": 1,\n        \"max\": 8086,\n        \"num_unique_values\": 8086,\n        \"samples\": [\n          7499,\n          1635,\n          6668\n        ],\n        \"semantic_type\": \"\",\n        \"description\": \"\"\n      }\n    },\n    {\n      \"column\": \"Gene\",\n      \"properties\": {\n        \"dtype\": \"string\",\n        \"num_unique_values\": 8086,\n        \"samples\": [\n          \"LIN9\",\n          \"HSPH1\",\n          \"ANXA10\"\n        ],\n        \"semantic_type\": \"\",\n        \"description\": \"\"\n      }\n    },\n    {\n      \"column\": \"Degree\",\n      \"properties\": {\n        \"dtype\": \"number\",\n        \"std\": 67,\n        \"min\": 1,\n        \"max\": 2068,\n        \"num_unique_values\": 150,\n        \"samples\": [\n          33,\n          632,\n          10\n        ],\n        \"semantic_type\": \"\",\n        \"description\": \"\"\n      }\n    },\n    {\n      \"column\": \"Betweeness\",\n      \"properties\": {\n        \"dtype\": \"number\",\n        \"std\": 0.00349417157622754,\n        \"min\": 0.0,\n        \"max\": 0.1400454648169504,\n        \"num_unique_values\": 4674,\n        \"samples\": [\n          6.520847317933573e-06,\n          0.0002994368314537685,\n          1.660175463427554e-06\n        ],\n        \"semantic_type\": \"\",\n        \"description\": \"\"\n      }\n    },\n    {\n      \"column\": \"Eigen\",\n      \"properties\": {\n        \"dtype\": \"number\",\n        \"std\": 0.009578112111825753,\n        \"min\": 4.1514027943007943e-08,\n        \"max\": 0.2394057773084379,\n        \"num_unique_values\": 4915,\n        \"samples\": [\n          0.005493385422974072,\n          0.0012167732276845194,\n          0.01606021076512237\n        ],\n        \"semantic_type\": \"\",\n        \"description\": \"\"\n      }\n    },\n    {\n      \"column\": \"BetoverDeg\",\n      \"properties\": {\n        \"dtype\": \"number\",\n        \"std\": 3.06708475607753e-05,\n        \"min\": 0.0,\n        \"max\": 0.002564459674610218,\n        \"num_unique_values\": 4701,\n        \"samples\": [\n          5.6111222651567e-06,\n          6.8368362430649655e-06,\n          9.563086563237597e-06\n        ],\n        \"semantic_type\": \"\",\n        \"description\": \"\"\n      }\n    }\n  ]\n}"
            }
          },
          "metadata": {},
          "execution_count": 161
        }
      ],
      "source": [
        "# Build a metrics dataframe\n",
        "measures_ppi = pd.DataFrame.from_dict(gene_measures, orient ='index')\n",
        "measures_ppi = measures_ppi.reset_index()\n",
        "measures_ppi.rename(columns={'index': 'Gene'}, inplace = True)\n",
        "\n",
        "# Sort the output\n",
        "sorted_metrics = measures_ppi.sort_values(by = 'Eigen', ascending = False)\n",
        "sorted_metrics.reset_index(drop = True, inplace = True)\n",
        "sorted_metrics['Ranking'] = sorted_metrics.index + 1\n",
        "sorted_metrics.set_index('Ranking', inplace = True)\n",
        "\n",
        "# Visualize the output\n",
        "sorted_metrics.head()"
      ]
    },
    {
      "cell_type": "markdown",
      "source": [
        " **(Da rivedere/sistemare/aggiungere)**\n",
        "\n",
        " **(Scrivere qualche considerazione di questo tipo)**\n",
        "\n",
        " From this table, we can make some statements about the nodes role in the disease network. We see that the nodes possessing a higher eigenvector centrality, namely M, ORF7b and nsp6 are all three proteins are encoded by viral genes, specifically from viruses such as coronaviruses. The M protein is crucial for virus assembly and budding, while ORF7b and nsp6 play roles in modulating host cell functions and immune responses.\n",
        "\n",
        " This suggests that in the context of Coronavirus disease, these nodes are likely to play significant regulatory roles in the network. In particular, M, which also has the highest degree, is likely to be a key regulatory node with substantial influence over other nodes."
      ],
      "metadata": {
        "id": "rqIrK68DgVS9"
      }
    },
    {
      "cell_type": "code",
      "execution_count": 20,
      "metadata": {
        "colab": {
          "base_uri": "https://localhost:8080/",
          "height": 564
        },
        "id": "kIcVchuuoQz-",
        "outputId": "69170cd6-cac9-46ef-bfd8-ad38eaea5e81"
      },
      "outputs": [
        {
          "output_type": "display_data",
          "data": {
            "text/plain": [
              "<Figure size 1200x600 with 1 Axes>"
            ],
            "image/png": "[encoded data removed]"
          },
          "metadata": {}
        }
      ],
      "source": [
        "# Scatterplot of degree vs betweeness\n",
        "x = measures_ppi['Degree']\n",
        "y = measures_ppi['Betweeness']\n",
        "\n",
        "plt.figure(figsize=(12, 6))\n",
        "plt.scatter(x, y, color = 'mediumslateblue', alpha = 0.8, s = 60)\n",
        "\n",
        "plt.title('Scatter Plot of Node Degree vs. Betweenness Centrality', fontweight='bold')\n",
        "plt.xlabel('Node Degree', fontweight='bold')\n",
        "plt.ylabel('Betweenness Centrality', fontweight='bold')\n",
        "plt.grid()\n",
        "plt.show()"
      ]
    },
    {
      "cell_type": "code",
      "execution_count": 21,
      "metadata": {
        "colab": {
          "base_uri": "https://localhost:8080/",
          "height": 611
        },
        "id": "-VX0W2Nuzhoe",
        "outputId": "d5bebfb6-178f-41b2-89a3-9c2037e52d93"
      },
      "outputs": [
        {
          "output_type": "stream",
          "name": "stdout",
          "text": [
            "\n",
            "Average degree: 10.69032896364086\n",
            "\n",
            "-----------------------\n"
          ]
        },
        {
          "output_type": "display_data",
          "data": {
            "text/html": [
              "<html>\n",
              "<head><meta charset=\"utf-8\" /></head>\n",
              "<body>\n",
              "    <div>            <script src=\"https://cdnjs.cloudflare.com/ajax/libs/mathjax/2.7.5/MathJax.js?config=TeX-AMS-MML_SVG\"></script><script type=\"text/javascript\">if (window.MathJax && window.MathJax.Hub && window.MathJax.Hub.Config) {window.MathJax.Hub.Config({SVG: {font: \"STIX-Web\"}});}</script>                <script type=\"text/javascript\">window.PlotlyConfig = {MathJaxConfig: 'local'};</script>\n",
              "        <script charset=\"utf-8\" src=\"https://cdn.plot.ly/plotly-2.24.1.min.js\"></script>                <div id=\"d33b42a5-d339-4434-a49f-47c5bcad7c11\" class=\"plotly-graph-div\" style=\"height:525px; width:100%;\"></div>            <script type=\"text/javascript\">                                    window.PLOTLYENV=window.PLOTLYENV || {};                                    if (document.getElementById(\"d33b42a5-d339-4434-a49f-47c5bcad7c11\")) {                    Plotly.newPlot(                        \"d33b42a5-d339-4434-a49f-47c5bcad7c11\",                        [{\"alignmentgroup\":\"True\",\"bingroup\":\"x\",\"hovertemplate\":\"variable=Degree\\u003cbr\\u003evalue=%{x}\\u003cbr\\u003ecount=%{y}\\u003cextra\\u003e\\u003c\\u002fextra\\u003e\",\"legendgroup\":\"Degree\",\"marker\":{\"color\":\"mediumslateblue\",\"pattern\":{\"shape\":\"\"}},\"name\":\"Degree\",\"nbinsx\":150,\"offsetgroup\":\"Degree\",\"orientation\":\"v\",\"showlegend\":true,\"x\":[2068,1755,1684,1507,1483,1451,1297,1260,1259,1200,1177,1110,1014,935,839,782,765,656,653,643,632,622,606,604,602,562,551,551,540,518,420,401,401,375,355,343,333,331,302,296,295,290,285,277,260,256,245,240,237,234,231,215,213,193,193,191,187,187,182,182,178,157,150,149,148,147,146,141,140,138,133,131,131,131,130,127,123,122,122,121,116,107,105,104,99,99,98,94,94,91,89,85,85,84,80,79,75,71,70,69,66,64,63,61,60,57,57,57,56,56,54,53,52,52,51,50,50,50,49,49,49,49,48,48,48,48,47,47,47,46,46,46,46,46,46,46,46,45,45,44,44,44,43,43,43,43,42,42,42,42,42,42,42,41,41,41,40,40,39,39,38,37,37,37,37,36,36,36,36,36,36,35,35,35,35,35,35,35,34,34,34,34,34,34,34,34,34,34,34,34,34,33,33,33,33,33,33,33,33,33,33,33,33,33,32,32,32,32,32,32,32,32,32,31,31,31,31,31,31,31,31,31,31,31,31,31,30,30,30,30,30,30,30,30,29,29,29,29,29,29,29,29,29,29,29,29,29,29,28,28,28,28,28,28,28,28,28,28,28,28,28,28,28,28,28,27,27,27,27,27,27,27,27,27,27,27,27,27,27,27,26,26,26,26,26,26,26,26,26,26,26,26,26,26,26,26,26,26,26,26,26,26,25,25,25,25,25,25,25,25,25,25,25,25,25,25,25,25,25,25,25,25,25,25,25,25,24,24,24,24,24,24,24,24,24,24,24,24,24,24,24,24,24,24,24,24,24,24,24,24,24,23,23,23,23,23,23,23,23,23,23,23,23,23,23,23,23,23,23,23,23,22,22,22,22,22,22,22,22,22,22,22,22,22,22,22,22,22,22,22,22,21,21,21,21,21,21,21,21,21,21,21,21,21,21,21,21,21,21,21,21,21,21,21,21,21,21,21,21,21,21,21,21,21,21,21,21,21,21,21,21,20,20,20,20,20,20,20,20,20,20,20,20,20,20,20,20,20,20,20,20,20,20,20,20,20,20,20,20,20,20,20,20,20,20,20,20,20,20,20,20,20,20,20,19,19,19,19,19,19,19,19,19,19,19,19,19,19,19,19,19,19,19,19,19,19,19,19,19,19,19,19,19,19,19,19,19,19,19,19,19,19,19,19,19,19,19,19,19,19,19,19,19,19,19,19,18,18,18,18,18,18,18,18,18,18,18,18,18,18,18,18,18,18,18,18,18,18,18,18,18,18,18,18,18,18,18,18,18,18,18,18,18,18,18,18,18,18,18,18,18,18,18,18,18,18,18,18,18,18,18,18,18,17,17,17,17,17,17,17,17,17,17,17,17,17,17,17,17,17,17,17,17,17,17,17,17,17,17,17,17,17,17,17,17,17,17,17,17,17,17,17,17,17,17,17,17,17,17,17,17,17,17,17,17,17,17,17,17,17,17,17,17,17,17,17,17,17,17,17,17,16,16,16,16,16,16,16,16,16,16,16,16,16,16,16,16,16,16,16,16,16,16,16,16,16,16,16,16,16,16,16,16,16,16,16,16,16,16,16,16,16,16,16,16,16,16,16,16,16,16,16,16,16,16,16,16,16,16,16,16,16,16,16,16,16,16,16,16,16,16,16,16,16,16,16,16,16,16,16,16,16,16,16,15,15,15,15,15,15,15,15,15,15,15,15,15,15,15,15,15,15,15,15,15,15,15,15,15,15,15,15,15,15,15,15,15,15,15,15,15,15,15,15,15,15,15,15,15,15,15,15,15,15,15,15,15,15,15,15,15,15,15,15,15,15,15,15,15,15,15,15,14,14,14,14,14,14,14,14,14,14,14,14,14,14,14,14,14,14,14,14,14,14,14,14,14,14,14,14,14,14,14,14,14,14,14,14,14,14,14,14,14,14,14,14,14,14,14,14,14,14,14,14,14,14,14,14,14,14,14,14,14,14,14,14,14,14,14,14,14,14,14,14,14,14,14,14,14,14,14,14,14,14,14,14,14,14,14,14,14,14,14,14,14,14,14,14,14,14,14,14,13,13,13,13,13,13,13,13,13,13,13,13,13,13,13,13,13,13,13,13,13,13,13,13,13,13,13,13,13,13,13,13,13,13,13,13,13,13,13,13,13,13,13,13,13,13,13,13,13,13,13,13,13,13,13,13,13,13,13,13,13,13,13,13,13,13,13,13,13,13,13,13,13,13,13,13,13,13,13,13,13,13,13,13,13,13,13,13,13,13,13,13,13,13,13,13,13,13,13,13,13,13,13,13,13,13,13,13,13,13,13,13,13,13,13,13,13,13,13,13,12,12,12,12,12,12,12,12,12,12,12,12,12,12,12,12,12,12,12,12,12,12,12,12,12,12,12,12,12,12,12,12,12,12,12,12,12,12,12,12,12,12,12,12,12,12,12,12,12,12,12,12,12,12,12,12,12,12,12,12,12,12,12,12,12,12,12,12,12,12,12,12,12,12,12,12,12,12,12,12,12,12,12,12,12,12,12,12,12,12,12,12,12,12,12,12,12,12,12,12,12,12,12,12,12,12,12,12,12,12,12,12,12,12,12,12,12,12,12,12,12,12,12,12,12,11,11,11,11,11,11,11,11,11,11,11,11,11,11,11,11,11,11,11,11,11,11,11,11,11,11,11,11,11,11,11,11,11,11,11,11,11,11,11,11,11,11,11,11,11,11,11,11,11,11,11,11,11,11,11,11,11,11,11,11,11,11,11,11,11,11,11,11,11,11,11,11,11,11,11,11,11,11,11,11,11,11,11,11,11,11,11,11,11,11,11,11,11,11,11,11,11,11,11,11,11,11,11,11,11,11,11,11,11,11,11,11,11,11,11,11,11,11,11,11,11,11,11,11,11,11,11,11,11,11,11,11,11,11,11,11,10,10,10,10,10,10,10,10,10,10,10,10,10,10,10,10,10,10,10,10,10,10,10,10,10,10,10,10,10,10,10,10,10,10,10,10,10,10,10,10,10,10,10,10,10,10,10,10,10,10,10,10,10,10,10,10,10,10,10,10,10,10,10,10,10,10,10,10,10,10,10,10,10,10,10,10,10,10,10,10,10,10,10,10,10,10,10,10,10,10,10,10,10,10,10,10,10,10,10,10,10,10,10,10,10,10,10,10,10,10,10,10,10,10,10,10,10,10,10,10,10,10,10,10,10,10,10,10,10,10,10,10,10,10,10,10,10,10,10,10,10,10,10,10,10,10,10,10,10,10,10,10,10,10,10,10,10,10,10,10,10,10,10,10,10,10,10,10,10,10,10,10,10,10,10,10,10,9,9,9,9,9,9,9,9,9,9,9,9,9,9,9,9,9,9,9,9,9,9,9,9,9,9,9,9,9,9,9,9,9,9,9,9,9,9,9,9,9,9,9,9,9,9,9,9,9,9,9,9,9,9,9,9,9,9,9,9,9,9,9,9,9,9,9,9,9,9,9,9,9,9,9,9,9,9,9,9,9,9,9,9,9,9,9,9,9,9,9,9,9,9,9,9,9,9,9,9,9,9,9,9,9,9,9,9,9,9,9,9,9,9,9,9,9,9,9,9,9,9,9,9,9,9,9,9,9,9,9,9,9,9,9,9,9,9,9,9,9,9,9,9,9,9,9,9,9,9,9,9,9,9,9,9,9,9,9,9,9,9,9,9,9,9,9,9,9,9,9,9,9,9,9,9,9,9,9,9,9,9,9,9,9,9,9,9,9,9,9,9,9,9,9,9,9,9,9,9,9,9,9,9,9,9,9,9,9,9,9,9,9,9,9,9,9,9,9,9,9,9,9,9,9,9,9,9,9,9,9,9,9,9,9,9,9,9,9,9,9,9,9,9,9,9,9,8,8,8,8,8,8,8,8,8,8,8,8,8,8,8,8,8,8,8,8,8,8,8,8,8,8,8,8,8,8,8,8,8,8,8,8,8,8,8,8,8,8,8,8,8,8,8,8,8,8,8,8,8,8,8,8,8,8,8,8,8,8,8,8,8,8,8,8,8,8,8,8,8,8,8,8,8,8,8,8,8,8,8,8,8,8,8,8,8,8,8,8,8,8,8,8,8,8,8,8,8,8,8,8,8,8,8,8,8,8,8,8,8,8,8,8,8,8,8,8,8,8,8,8,8,8,8,8,8,8,8,8,8,8,8,8,8,8,8,8,8,8,8,8,8,8,8,8,8,8,8,8,8,8,8,8,8,8,8,8,8,8,8,8,8,8,8,8,8,8,8,8,8,8,8,8,8,8,8,8,8,8,8,8,8,8,8,8,8,8,8,8,8,8,8,8,8,8,8,8,8,8,8,8,8,8,8,8,8,8,8,8,8,8,8,8,8,8,8,8,8,8,8,8,8,8,8,8,8,8,8,8,8,8,8,8,8,8,8,8,8,8,8,8,8,8,8,8,8,8,8,8,8,8,8,8,8,7,7,7,7,7,7,7,7,7,7,7,7,7,7,7,7,7,7,7,7,7,7,7,7,7,7,7,7,7,7,7,7,7,7,7,7,7,7,7,7,7,7,7,7,7,7,7,7,7,7,7,7,7,7,7,7,7,7,7,7,7,7,7,7,7,7,7,7,7,7,7,7,7,7,7,7,7,7,7,7,7,7,7,7,7,7,7,7,7,7,7,7,7,7,7,7,7,7,7,7,7,7,7,7,7,7,7,7,7,7,7,7,7,7,7,7,7,7,7,7,7,7,7,7,7,7,7,7,7,7,7,7,7,7,7,7,7,7,7,7,7,7,7,7,7,7,7,7,7,7,7,7,7,7,7,7,7,7,7,7,7,7,7,7,7,7,7,7,7,7,7,7,7,7,7,7,7,7,7,7,7,7,7,7,7,7,7,7,7,7,7,7,7,7,7,7,7,7,7,7,7,7,7,7,7,7,7,7,7,7,7,7,7,7,7,7,7,7,7,7,7,7,7,7,7,7,7,7,7,7,7,7,7,7,7,7,7,7,7,7,7,7,7,7,7,7,7,7,7,7,7,7,7,7,7,7,7,7,7,7,7,7,7,7,7,7,7,7,7,7,7,7,7,7,7,7,7,7,7,7,7,7,7,7,7,7,7,7,7,7,7,7,7,7,7,7,6,6,6,6,6,6,6,6,6,6,6,6,6,6,6,6,6,6,6,6,6,6,6,6,6,6,6,6,6,6,6,6,6,6,6,6,6,6,6,6,6,6,6,6,6,6,6,6,6,6,6,6,6,6,6,6,6,6,6,6,6,6,6,6,6,6,6,6,6,6,6,6,6,6,6,6,6,6,6,6,6,6,6,6,6,6,6,6,6,6,6,6,6,6,6,6,6,6,6,6,6,6,6,6,6,6,6,6,6,6,6,6,6,6,6,6,6,6,6,6,6,6,6,6,6,6,6,6,6,6,6,6,6,6,6,6,6,6,6,6,6,6,6,6,6,6,6,6,6,6,6,6,6,6,6,6,6,6,6,6,6,6,6,6,6,6,6,6,6,6,6,6,6,6,6,6,6,6,6,6,6,6,6,6,6,6,6,6,6,6,6,6,6,6,6,6,6,6,6,6,6,6,6,6,6,6,6,6,6,6,6,6,6,6,6,6,6,6,6,6,6,6,6,6,6,6,6,6,6,6,6,6,6,6,6,6,6,6,6,6,6,6,6,6,6,6,6,6,6,6,6,6,6,6,6,6,6,6,6,6,6,6,6,6,6,6,6,6,6,6,6,6,6,6,6,6,6,6,6,6,6,6,6,6,6,6,6,6,6,6,6,6,6,6,6,6,6,6,6,6,6,6,6,6,6,6,6,6,6,6,6,6,6,6,6,6,6,6,6,6,6,6,6,6,6,6,6,6,6,6,6,6,6,6,6,6,6,6,6,6,6,6,6,6,6,6,6,6,6,5,5,5,5,5,5,5,5,5,5,5,5,5,5,5,5,5,5,5,5,5,5,5,5,5,5,5,5,5,5,5,5,5,5,5,5,5,5,5,5,5,5,5,5,5,5,5,5,5,5,5,5,5,5,5,5,5,5,5,5,5,5,5,5,5,5,5,5,5,5,5,5,5,5,5,5,5,5,5,5,5,5,5,5,5,5,5,5,5,5,5,5,5,5,5,5,5,5,5,5,5,5,5,5,5,5,5,5,5,5,5,5,5,5,5,5,5,5,5,5,5,5,5,5,5,5,5,5,5,5,5,5,5,5,5,5,5,5,5,5,5,5,5,5,5,5,5,5,5,5,5,5,5,5,5,5,5,5,5,5,5,5,5,5,5,5,5,5,5,5,5,5,5,5,5,5,5,5,5,5,5,5,5,5,5,5,5,5,5,5,5,5,5,5,5,5,5,5,5,5,5,5,5,5,5,5,5,5,5,5,5,5,5,5,5,5,5,5,5,5,5,5,5,5,5,5,5,5,5,5,5,5,5,5,5,5,5,5,5,5,5,5,5,5,5,5,5,5,5,5,5,5,5,5,5,5,5,5,5,5,5,5,5,5,5,5,5,5,5,5,5,5,5,5,5,5,5,5,5,5,5,5,5,5,5,5,5,5,5,5,5,5,5,5,5,5,5,5,5,5,5,5,5,5,5,5,5,5,5,5,5,5,5,5,5,5,5,5,5,5,5,5,5,5,5,5,5,5,5,5,5,5,5,5,5,5,5,5,5,5,5,5,5,5,5,5,5,5,5,5,5,5,5,5,5,5,5,5,5,5,5,5,5,5,5,5,5,5,5,5,5,5,5,5,5,5,5,5,5,5,5,5,5,5,5,5,5,5,5,5,5,5,5,5,5,5,5,5,5,5,5,5,5,5,5,5,5,5,5,5,5,5,5,4,4,4,4,4,4,4,4,4,4,4,4,4,4,4,4,4,4,4,4,4,4,4,4,4,4,4,4,4,4,4,4,4,4,4,4,4,4,4,4,4,4,4,4,4,4,4,4,4,4,4,4,4,4,4,4,4,4,4,4,4,4,4,4,4,4,4,4,4,4,4,4,4,4,4,4,4,4,4,4,4,4,4,4,4,4,4,4,4,4,4,4,4,4,4,4,4,4,4,4,4,4,4,4,4,4,4,4,4,4,4,4,4,4,4,4,4,4,4,4,4,4,4,4,4,4,4,4,4,4,4,4,4,4,4,4,4,4,4,4,4,4,4,4,4,4,4,4,4,4,4,4,4,4,4,4,4,4,4,4,4,4,4,4,4,4,4,4,4,4,4,4,4,4,4,4,4,4,4,4,4,4,4,4,4,4,4,4,4,4,4,4,4,4,4,4,4,4,4,4,4,4,4,4,4,4,4,4,4,4,4,4,4,4,4,4,4,4,4,4,4,4,4,4,4,4,4,4,4,4,4,4,4,4,4,4,4,4,4,4,4,4,4,4,4,4,4,4,4,4,4,4,4,4,4,4,4,4,4,4,4,4,4,4,4,4,4,4,4,4,4,4,4,4,4,4,4,4,4,4,4,4,4,4,4,4,4,4,4,4,4,4,4,4,4,4,4,4,4,4,4,4,4,4,4,4,4,4,4,4,4,4,4,4,4,4,4,4,4,4,4,4,4,4,4,4,4,4,4,4,4,4,4,4,4,4,4,4,4,4,4,4,4,4,4,4,4,4,4,4,4,4,4,4,4,4,4,4,4,4,4,4,4,4,4,4,4,4,4,4,4,4,4,4,4,4,4,4,4,4,4,4,4,4,4,4,4,4,4,4,4,4,4,4,4,4,4,4,4,4,4,4,4,4,4,4,4,4,4,4,4,4,4,4,4,4,4,4,4,4,4,4,4,4,4,4,4,4,4,4,4,4,4,4,4,4,4,4,4,4,4,4,4,4,4,4,4,4,4,4,4,4,4,4,4,4,4,4,4,4,4,4,4,4,4,4,4,4,4,4,4,4,4,4,4,4,4,4,4,4,4,4,4,4,4,4,4,4,4,4,4,4,4,4,4,4,4,4,4,4,4,4,4,4,4,4,4,4,4,4,4,4,4,4,4,4,4,4,4,4,4,4,4,4,4,4,4,4,4,4,4,4,4,4,4,4,4,4,4,4,4,4,4,4,4,4,4,4,4,4,4,4,4,4,4,4,4,4,4,4,4,4,4,4,4,4,4,4,4,4,4,4,4,4,4,4,4,4,4,4,4,4,4,3,3,3,3,3,3,3,3,3,3,3,3,3,3,3,3,3,3,3,3,3,3,3,3,3,3,3,3,3,3,3,3,3,3,3,3,3,3,3,3,3,3,3,3,3,3,3,3,3,3,3,3,3,3,3,3,3,3,3,3,3,3,3,3,3,3,3,3,3,3,3,3,3,3,3,3,3,3,3,3,3,3,3,3,3,3,3,3,3,3,3,3,3,3,3,3,3,3,3,3,3,3,3,3,3,3,3,3,3,3,3,3,3,3,3,3,3,3,3,3,3,3,3,3,3,3,3,3,3,3,3,3,3,3,3,3,3,3,3,3,3,3,3,3,3,3,3,3,3,3,3,3,3,3,3,3,3,3,3,3,3,3,3,3,3,3,3,3,3,3,3,3,3,3,3,3,3,3,3,3,3,3,3,3,3,3,3,3,3,3,3,3,3,3,3,3,3,3,3,3,3,3,3,3,3,3,3,3,3,3,3,3,3,3,3,3,3,3,3,3,3,3,3,3,3,3,3,3,3,3,3,3,3,3,3,3,3,3,3,3,3,3,3,3,3,3,3,3,3,3,3,3,3,3,3,3,3,3,3,3,3,3,3,3,3,3,3,3,3,3,3,3,3,3,3,3,3,3,3,3,3,3,3,3,3,3,3,3,3,3,3,3,3,3,3,3,3,3,3,3,3,3,3,3,3,3,3,3,3,3,3,3,3,3,3,3,3,3,3,3,3,3,3,3,3,3,3,3,3,3,3,3,3,3,3,3,3,3,3,3,3,3,3,3,3,3,3,3,3,3,3,3,3,3,3,3,3,3,3,3,3,3,3,3,3,3,3,3,3,3,3,3,3,3,3,3,3,3,3,3,3,3,3,3,3,3,3,3,3,3,3,3,3,3,3,3,3,3,3,3,3,3,3,3,3,3,3,3,3,3,3,3,3,3,3,3,3,3,3,3,3,3,3,3,3,3,3,3,3,3,3,3,3,3,3,3,3,3,3,3,3,3,3,3,3,3,3,3,3,3,3,3,3,3,3,3,3,3,3,3,3,3,3,3,3,3,3,3,3,3,3,3,3,3,3,3,3,3,3,3,3,3,3,3,3,3,3,3,3,3,3,3,3,3,3,3,3,3,3,3,3,3,3,3,3,3,3,3,3,3,3,3,3,3,3,3,3,3,3,3,3,3,3,3,3,3,3,3,3,3,3,3,3,3,3,3,3,3,3,3,3,3,3,3,3,3,3,3,3,3,3,3,3,3,3,3,3,3,3,3,3,3,3,3,3,3,3,3,3,3,3,3,3,3,3,3,3,3,3,3,3,3,3,3,3,3,3,3,3,3,3,3,3,3,3,3,3,3,3,3,3,3,3,3,3,3,3,3,3,3,3,3,3,3,3,3,3,3,3,3,3,3,3,3,3,3,3,3,3,3,3,3,3,3,3,3,3,3,3,3,3,3,3,3,3,3,3,3,3,3,3,3,3,3,3,3,3,3,3,3,3,3,3,3,3,3,3,3,3,3,3,3,3,3,3,3,3,3,3,3,3,3,3,3,3,3,3,3,3,3,3,3,3,3,3,3,3,3,3,3,3,3,3,3,3,3,3,3,3,3,3,3,3,3,3,3,3,3,3,3,3,3,3,3,3,3,3,3,3,3,3,3,3,3,3,3,3,3,3,3,3,3,3,3,3,3,3,3,3,3,3,3,3,3,3,3,3,3,3,3,3,3,3,3,3,3,3,3,3,3,3,3,3,3,3,3,3,3,3,3,3,3,3,3,3,3,3,3,3,3,3,3,3,3,3,3,3,3,3,3,3,3,3,3,3,3,3,3,3,3,3,3,3,3,3,3,3,3,3,3,3,3,3,3,3,3,3,3,3,3,3,2,2,2,2,2,2,2,2,2,2,2,2,2,2,2,2,2,2,2,2,2,2,2,2,2,2,2,2,2,2,2,2,2,2,2,2,2,2,2,2,2,2,2,2,2,2,2,2,2,2,2,2,2,2,2,2,2,2,2,2,2,2,2,2,2,2,2,2,2,2,2,2,2,2,2,2,2,2,2,2,2,2,2,2,2,2,2,2,2,2,2,2,2,2,2,2,2,2,2,2,2,2,2,2,2,2,2,2,2,2,2,2,2,2,2,2,2,2,2,2,2,2,2,2,2,2,2,2,2,2,2,2,2,2,2,2,2,2,2,2,2,2,2,2,2,2,2,2,2,2,2,2,2,2,2,2,2,2,2,2,2,2,2,2,2,2,2,2,2,2,2,2,2,2,2,2,2,2,2,2,2,2,2,2,2,2,2,2,2,2,2,2,2,2,2,2,2,2,2,2,2,2,2,2,2,2,2,2,2,2,2,2,2,2,2,2,2,2,2,2,2,2,2,2,2,2,2,2,2,2,2,2,2,2,2,2,2,2,2,2,2,2,2,2,2,2,2,2,2,2,2,2,2,2,2,2,2,2,2,2,2,2,2,2,2,2,2,2,2,2,2,2,2,2,2,2,2,2,2,2,2,2,2,2,2,2,2,2,2,2,2,2,2,2,2,2,2,2,2,2,2,2,2,2,2,2,2,2,2,2,2,2,2,2,2,2,2,2,2,2,2,2,2,2,2,2,2,2,2,2,2,2,2,2,2,2,2,2,2,2,2,2,2,2,2,2,2,2,2,2,2,2,2,2,2,2,2,2,2,2,2,2,2,2,2,2,2,2,2,2,2,2,2,2,2,2,2,2,2,2,2,2,2,2,2,2,2,2,2,2,2,2,2,2,2,2,2,2,2,2,2,2,2,2,2,2,2,2,2,2,2,2,2,2,2,2,2,2,2,2,2,2,2,2,2,2,2,2,2,2,2,2,2,2,2,2,2,2,2,2,2,2,2,2,2,2,2,2,2,2,2,2,2,2,2,2,2,2,2,2,2,2,2,2,2,2,2,2,2,2,2,2,2,2,2,2,2,2,2,2,2,2,2,2,2,2,2,2,2,2,2,2,2,2,2,2,2,2,2,2,2,2,2,2,2,2,2,2,2,2,2,2,2,2,2,2,2,2,2,2,2,2,2,2,2,2,2,2,2,2,2,2,2,2,2,2,2,2,2,2,2,2,2,2,2,2,2,2,2,2,2,2,2,2,2,2,2,2,2,2,2,2,2,2,2,2,2,2,2,2,2,2,2,2,2,2,2,2,2,2,2,2,2,2,2,2,2,2,2,2,2,2,2,2,2,2,2,2,2,2,2,2,2,2,2,2,2,2,2,2,2,2,2,2,2,2,2,2,2,2,2,2,2,2,2,2,2,2,2,2,2,2,2,2,2,2,2,2,2,2,2,2,2,2,2,2,2,2,2,2,2,2,2,2,2,2,2,2,2,2,2,2,2,2,2,2,2,2,2,2,2,2,2,2,2,2,2,2,2,2,2,2,2,2,2,2,2,2,2,2,2,2,2,2,2,2,2,2,2,2,2,2,2,2,2,2,2,2,2,2,2,2,2,2,2,2,2,2,2,2,2,2,2,2,2,2,2,2,2,2,2,2,2,2,2,2,2,2,2,2,2,2,2,2,2,2,2,2,2,2,2,2,2,2,2,2,2,2,2,2,2,2,2,2,2,2,2,2,2,2,2,2,2,2,2,2,2,2,2,2,2,2,2,2,2,2,2,2,2,2,2,2,2,2,2,2,2,2,2,2,2,2,2,2,2,2,2,2,2,2,2,2,2,2,2,2,2,2,2,2,2,2,2,2,2,2,2,2,2,2,2,2,2,2,2,2,2,2,2,2,2,2,2,2,2,2,2,2,2,2,2,2,2,2,2,2,2,2,2,2,2,2,2,2,2,2,2,2,2,2,2,2,2,2,2,2,2,2,2,2,2,2,2,2,2,2,2,2,2,2,2,2,2,2,2,2,2,2,2,2,2,2,2,2,2,2,2,2,2,2,2,2,2,2,2,2,2,2,2,2,2,2,2,2,2,2,2,2,2,2,2,2,2,2,2,2,2,2,2,2,2,2,2,2,2,2,2,2,2,2,2,2,2,2,2,2,2,2,2,2,2,2,2,2,2,2,2,2,2,2,2,2,2,2,2,2,2,2,2,2,2,2,2,2,2,2,2,2,2,2,2,2,2,2,2,2,2,2,2,2,2,2,2,2,2,2,2,2,2,2,2,2,2,2,2,2,2,2,2,2,2,2,2,2,2,2,2,2,2,2,2,2,2,2,2,2,2,2,2,2,2,2,2,2,2,2,2,2,2,2,2,2,2,2,2,2,2,2,2,2,2,2,2,2,2,2,2,2,2,2,2,2,2,2,2,2,2,2,2,2,2,2,2,2,2,2,2,2,2,2,2,2,2,2,2,2,2,2,2,2,2,2,2,2,2,2,2,2,2,2,2,2,2,2,2,2,2,2,2,2,2,2,2,2,2,2,2,2,2,2,2,2,2,2,2,2,2,2,2,2,2,2,2,2,2,2,2,2,2,2,2,2,2,2,2,2,2,2,2,2,2,2,2,2,2,2,2,2,2,2,2,2,2,2,2,2,2,2,2,2,2,2,2,2,2,2,2,2,2,2,2,2,2,2,2,1,1,1,1,1,1,1,1,1,1,1,1,1,1,1,1,1,1,1,1,1,1,1,1,1,1,1,1,1,1,1,1,1,1,1,1,1,1,1,1,1,1,1,1,1,1,1,1,1,1,1,1,1,1,1,1,1,1,1,1,1,1,1,1,1,1,1,1,1,1,1,1,1,1,1,1,1,1,1,1,1,1,1,1,1,1,1,1,1,1,1,1,1,1,1,1,1,1,1,1,1,1,1,1,1,1,1,1,1,1,1,1,1,1,1,1,1,1,1,1,1,1,1,1,1,1,1,1,1,1,1,1,1,1,1,1,1,1,1,1,1,1,1,1,1,1,1,1,1,1,1,1,1,1,1,1,1,1,1,1,1,1,1,1,1,1,1,1,1,1,1,1,1,1,1,1,1,1,1,1,1,1,1,1,1,1,1,1,1,1,1,1,1,1,1,1,1,1,1,1,1,1,1,1,1,1,1,1,1,1,1,1,1,1,1,1,1,1,1,1,1,1,1,1,1,1,1,1,1,1,1,1,1,1,1,1,1,1,1,1,1,1,1,1,1,1,1,1,1,1,1,1,1,1,1,1,1,1,1,1,1,1,1,1,1,1,1,1,1,1,1,1,1,1,1,1,1,1,1,1,1,1,1,1,1,1,1,1,1,1,1,1,1,1,1,1,1,1,1,1,1,1,1,1,1,1,1,1,1,1,1,1,1,1,1,1,1,1,1,1,1,1,1,1,1,1,1,1,1,1,1,1,1,1,1,1,1,1,1,1,1,1,1,1,1,1,1,1,1,1,1,1,1,1,1,1,1,1,1,1,1,1,1,1,1,1,1,1,1,1,1,1,1,1,1,1,1,1,1,1,1,1,1,1,1,1,1,1,1,1,1,1,1,1,1,1,1,1,1,1,1,1,1,1,1,1,1,1,1,1,1,1,1,1,1,1,1,1,1,1,1,1,1,1,1,1,1,1,1,1,1,1,1,1,1,1,1,1,1,1,1,1,1,1,1,1,1,1,1,1,1,1,1,1,1,1,1,1,1,1,1,1,1,1,1,1,1,1,1,1,1,1,1,1,1,1,1,1,1,1,1,1,1,1,1,1,1,1,1,1,1,1,1,1,1,1,1,1,1,1,1,1,1,1,1,1,1,1,1,1,1,1,1,1,1,1,1,1,1,1,1,1,1,1,1,1,1,1,1,1,1,1,1,1,1,1,1,1,1,1,1,1,1,1,1,1,1,1,1,1,1,1,1,1,1,1,1,1,1,1,1,1,1,1,1,1,1,1,1,1,1,1,1,1,1,1,1,1,1,1,1,1,1,1,1,1,1,1,1,1,1,1,1,1,1,1,1,1,1,1,1,1,1,1,1,1,1,1,1,1,1,1,1,1,1,1,1,1,1,1,1,1,1,1,1,1,1,1,1,1,1,1,1,1,1,1,1,1,1,1,1,1,1,1,1,1,1,1,1,1,1,1,1,1,1,1,1,1,1,1,1,1,1,1,1,1,1,1,1,1,1,1,1,1,1,1,1,1,1,1,1,1,1,1,1,1,1,1,1,1,1,1,1,1,1,1,1,1,1,1,1,1,1,1,1,1,1,1,1,1,1,1,1,1,1,1,1,1,1,1,1,1,1,1,1,1,1,1,1,1,1,1,1,1,1,1,1,1,1,1,1,1,1,1,1,1,1,1,1,1,1,1,1,1,1,1,1,1,1,1,1,1,1,1,1,1,1,1,1,1,1,1,1,1,1,1,1,1,1,1,1,1,1,1,1,1,1,1,1,1,1,1,1,1,1,1,1,1,1,1,1,1,1,1,1,1,1,1,1,1,1,1,1,1,1,1,1,1,1,1,1,1,1,1,1,1,1,1,1,1,1,1,1,1,1,1,1,1,1,1,1,1,1,1,1,1,1,1,1,1,1,1,1,1,1,1,1,1,1,1,1,1,1,1,1,1,1,1,1,1,1,1,1,1,1,1,1,1,1,1,1,1,1,1,1,1,1,1,1,1,1,1,1,1,1,1,1,1,1,1,1,1,1,1,1,1,1,1,1,1,1,1,1,1,1,1,1,1,1,1,1,1,1,1,1,1,1,1,1,1,1,1,1,1,1,1,1,1,1,1,1,1,1,1,1,1,1,1,1,1,1,1,1,1,1,1,1,1,1,1,1,1,1,1,1,1,1,1,1,1,1,1,1,1,1,1,1,1,1,1,1,1,1,1,1,1,1,1,1,1,1,1,1,1,1,1,1,1,1,1,1,1,1,1,1,1,1,1,1,1,1,1,1,1,1,1,1,1,1,1,1,1,1,1,1,1,1,1,1,1,1,1,1,1,1,1,1,1,1,1,1,1,1,1,1,1,1,1,1,1,1,1,1,1,1,1,1,1,1,1,1,1,1,1,1,1,1,1,1,1,1,1,1,1,1,1,1,1,1,1,1,1,1,1,1,1,1,1,1,1,1,1,1,1,1,1,1,1,1,1,1,1,1,1,1,1,1,1,1,1,1,1,1,1,1,1,1,1,1,1,1,1,1,1,1,1,1,1,1,1,1,1,1,1,1,1,1,1,1,1,1,1,1,1,1,1,1,1,1,1,1,1,1,1,1,1,1,1,1,1,1,1,1,1,1,1,1,1,1,1,1,1,1,1,1,1,1,1,1,1,1,1,1,1,1,1,1,1,1,1,1,1,1,1,1,1,1,1,1,1,1,1,1,1,1,1,1,1,1,1,1,1,1,1,1,1,1,1,1,1,1,1,1,1,1,1,1,1,1,1,1,1,1,1,1,1,1,1,1,1,1,1,1,1,1,1,1,1,1,1,1,1,1,1,1,1,1,1,1,1,1,1,1,1,1,1,1,1,1,1,1,1,1,1,1,1,1,1,1,1,1,1,1,1,1,1,1,1,1,1,1,1,1,1,1,1,1,1,1,1,1,1,1,1,1,1,1,1,1,1,1,1,1,1,1,1,1,1,1,1,1,1,1,1,1,1,1,1,1,1,1,1,1,1,1,1,1,1,1,1,1,1,1,1,1,1,1,1,1,1,1,1,1,1,1,1,1,1,1,1,1,1,1,1,1,1,1,1,1,1,1,1,1,1,1,1,1,1,1,1,1,1,1,1,1,1,1,1,1,1,1,1,1,1,1,1,1,1,1,1,1,1,1,1,1,1,1,1,1,1,1,1,1,1,1,1,1,1,1,1,1,1,1,1,1,1,1,1,1,1,1,1,1,1,1,1,1,1,1,1,1,1,1,1,1,1,1,1,1,1,1,1,1,1,1,1,1,1,1,1,1,1,1,1,1,1,1,1,1,1,1,1,1,1,1,1,1,1,1,1,1,1,1,1,1,1,1,1,1,1,1,1,1,1,1,1,1,1,1,1,1,1,1,1,1,1,1,1,1,1,1,1,1,1,1,1,1,1,1,1,1,1,1,1,1,1,1,1,1,1,1,1,1,1,1,1,1,1,1,1,1,1,1,1,1,1,1,1,1,1,1,1,1,1,1,1,1,1,1,1,1,1,1,1,1,1,1,1,1,1,1,1,1,1,1,1,1,1,1,1,1,1,1,1,1,1,1,1,1,1,1,1,1,1,1,1,1,1,1,1,1,1,1,1,1,1,1,1,1,1,1,1,1,1,1,1,1,1,1,1,1,1,1,1,1,1,1,1,1,1,1,1,1,1,1,1,1,1,1,1,1,1,1,1,1,1,1,1,1,1,1,1,1,1,1,1,1,1,1,1,1,1,1,1,1,1,1,1,1,1,1,1,1,1,1,1,1,1,1,1,1,1,1,1,1,1,1,1,1,1,1,1,1,1,1,1,1,1,1,1,1,1,1,1,1,1,1,1,1,1,1,1,1,1,1,1,1,1,1,1,1,1,1,1,1,1,1,1,1,1,1,1,1,1,1,1,1,1,1,1,1,1,1,1,1,1,1,1,1,1,1,1,1,1,1,1,1,1,1,1,1,1,1,1,1,1,1,1,1,1,1,1,1,1,1,1,1,1,1,1,1,1,1,1,1,1,1,1,1,1,1,1,1,1,1,1,1,1,1,1,1,1,1,1,1,1,1,1,1,1,1,1,1,1,1,1,1,1,1,1,1,1,1,1,1,1,1,1,1,1,1,1,1,1,1,1,1,1,1,1,1,1,1,1,1,1,1,1,1,1,1,1,1,1,1,1,1,1,1,1,1,1,1,1,1,1,1,1,1,1,1,1,1,1,1,1,1,1,1,1,1,1,1,1,1,1,1,1,1,1,1,1,1,1,1,1,1,1,1,1,1,1,1,1,1,1,1,1,1,1,1,1,1,1,1,1,1,1,1,1,1,1,1,1,1,1,1,1,1,1,1,1,1,1,1,1,1,1,1,1,1,1,1,1,1,1,1,1,1,1,1,1,1,1,1,1,1,1,1,1,1,1,1,1,1,1,1,1,1,1,1,1,1,1,1,1,1,1,1,1,1,1,1,1,1,1,1,1,1,1,1,1,1,1,1,1,1,1,1,1,1,1,1,1,1,1,1,1,1,1,1,1,1,1,1,1,1,1,1,1,1,1,1,1,1,1,1,1,1,1,1,1,1,1,1,1,1,1,1,1,1,1,1,1,1,1,1,1,1,1,1,1,1,1,1,1,1,1,1,1,1,1,1,1,1,1,1,1,1,1,1,1,1,1,1,1,1,1,1,1,1,1,1,1,1,1,1,1,1,1,1,1,1,1,1,1,1,1,1,1,1,1,1,1,1,1,1,1,1,1,1,1,1,1,1,1,1,1,1,1,1,1,1,1,1,1,1,1,1,1,1,1,1,1,1,1,1,1,1,1,1,1,1,1,1,1,1,1,1,1,1,1,1,1,1,1,1,1,1,1,1,1,1,1,1,1,1,1,1,1,1,1,1,1,1,1,1,1,1,1,1,1,1,1,1,1,1,1,1,1,1,1,1,1,1,1,1,1,1,1,1,1,1,1,1,1,1,1,1,1,1,1,1,1,1,1,1,1,1,1,1,1,1,1,1,1,1,1,1,1,1,1,1,1,1,1,1,1,1,1,1,1,1,1,1,1,1,1,1,1,1,1,1,1,1,1,1,1,1,1,1,1,1,1,1,1,1,1,1,1,1,1,1,1,1,1,1,1,1,1,1,1,1,1,1,1,1,1,1,1,1,1,1,1,1,1,1,1,1,1,1,1,1,1,1,1,1,1,1,1,1,1,1,1,1,1,1,1,1,1,1,1,1,1,1,1,1,1,1,1,1,1,1,1,1,1,1,1,1,1,1,1,1,1,1,1,1,1,1,1,1,1,1,1,1,1,1,1,1,1,1,1,1,1,1,1,1,1,1,1,1,1,1,1,1,1,1,1,1,1,1,1,1,1,1,1,1,1,1,1,1,1,1,1,1,1,1,1,1,1,1,1,1,1,1,1,1,1,1,1,1,1,1,1,1,1,1,1,1,1,1,1,1,1,1,1,1,1,1,1,1,1,1,1,1,1,1,1,1,1,1,1,1,1,1,1,1,1,1,1,1,1,1,1,1],\"xaxis\":\"x\",\"yaxis\":\"y\",\"type\":\"histogram\"}],                        {\"template\":{\"data\":{\"histogram2dcontour\":[{\"type\":\"histogram2dcontour\",\"colorbar\":{\"outlinewidth\":0,\"ticks\":\"\"},\"colorscale\":[[0.0,\"#0d0887\"],[0.1111111111111111,\"#46039f\"],[0.2222222222222222,\"#7201a8\"],[0.3333333333333333,\"#9c179e\"],[0.4444444444444444,\"#bd3786\"],[0.5555555555555556,\"#d8576b\"],[0.6666666666666666,\"#ed7953\"],[0.7777777777777778,\"#fb9f3a\"],[0.8888888888888888,\"#fdca26\"],[1.0,\"#f0f921\"]]}],\"choropleth\":[{\"type\":\"choropleth\",\"colorbar\":{\"outlinewidth\":0,\"ticks\":\"\"}}],\"histogram2d\":[{\"type\":\"histogram2d\",\"colorbar\":{\"outlinewidth\":0,\"ticks\":\"\"},\"colorscale\":[[0.0,\"#0d0887\"],[0.1111111111111111,\"#46039f\"],[0.2222222222222222,\"#7201a8\"],[0.3333333333333333,\"#9c179e\"],[0.4444444444444444,\"#bd3786\"],[0.5555555555555556,\"#d8576b\"],[0.6666666666666666,\"#ed7953\"],[0.7777777777777778,\"#fb9f3a\"],[0.8888888888888888,\"#fdca26\"],[1.0,\"#f0f921\"]]}],\"heatmap\":[{\"type\":\"heatmap\",\"colorbar\":{\"outlinewidth\":0,\"ticks\":\"\"},\"colorscale\":[[0.0,\"#0d0887\"],[0.1111111111111111,\"#46039f\"],[0.2222222222222222,\"#7201a8\"],[0.3333333333333333,\"#9c179e\"],[0.4444444444444444,\"#bd3786\"],[0.5555555555555556,\"#d8576b\"],[0.6666666666666666,\"#ed7953\"],[0.7777777777777778,\"#fb9f3a\"],[0.8888888888888888,\"#fdca26\"],[1.0,\"#f0f921\"]]}],\"heatmapgl\":[{\"type\":\"heatmapgl\",\"colorbar\":{\"outlinewidth\":0,\"ticks\":\"\"},\"colorscale\":[[0.0,\"#0d0887\"],[0.1111111111111111,\"#46039f\"],[0.2222222222222222,\"#7201a8\"],[0.3333333333333333,\"#9c179e\"],[0.4444444444444444,\"#bd3786\"],[0.5555555555555556,\"#d8576b\"],[0.6666666666666666,\"#ed7953\"],[0.7777777777777778,\"#fb9f3a\"],[0.8888888888888888,\"#fdca26\"],[1.0,\"#f0f921\"]]}],\"contourcarpet\":[{\"type\":\"contourcarpet\",\"colorbar\":{\"outlinewidth\":0,\"ticks\":\"\"}}],\"contour\":[{\"type\":\"contour\",\"colorbar\":{\"outlinewidth\":0,\"ticks\":\"\"},\"colorscale\":[[0.0,\"#0d0887\"],[0.1111111111111111,\"#46039f\"],[0.2222222222222222,\"#7201a8\"],[0.3333333333333333,\"#9c179e\"],[0.4444444444444444,\"#bd3786\"],[0.5555555555555556,\"#d8576b\"],[0.6666666666666666,\"#ed7953\"],[0.7777777777777778,\"#fb9f3a\"],[0.8888888888888888,\"#fdca26\"],[1.0,\"#f0f921\"]]}],\"surface\":[{\"type\":\"surface\",\"colorbar\":{\"outlinewidth\":0,\"ticks\":\"\"},\"colorscale\":[[0.0,\"#0d0887\"],[0.1111111111111111,\"#46039f\"],[0.2222222222222222,\"#7201a8\"],[0.3333333333333333,\"#9c179e\"],[0.4444444444444444,\"#bd3786\"],[0.5555555555555556,\"#d8576b\"],[0.6666666666666666,\"#ed7953\"],[0.7777777777777778,\"#fb9f3a\"],[0.8888888888888888,\"#fdca26\"],[1.0,\"#f0f921\"]]}],\"mesh3d\":[{\"type\":\"mesh3d\",\"colorbar\":{\"outlinewidth\":0,\"ticks\":\"\"}}],\"scatter\":[{\"fillpattern\":{\"fillmode\":\"overlay\",\"size\":10,\"solidity\":0.2},\"type\":\"scatter\"}],\"parcoords\":[{\"type\":\"parcoords\",\"line\":{\"colorbar\":{\"outlinewidth\":0,\"ticks\":\"\"}}}],\"scatterpolargl\":[{\"type\":\"scatterpolargl\",\"marker\":{\"colorbar\":{\"outlinewidth\":0,\"ticks\":\"\"}}}],\"bar\":[{\"error_x\":{\"color\":\"#2a3f5f\"},\"error_y\":{\"color\":\"#2a3f5f\"},\"marker\":{\"line\":{\"color\":\"#E5ECF6\",\"width\":0.5},\"pattern\":{\"fillmode\":\"overlay\",\"size\":10,\"solidity\":0.2}},\"type\":\"bar\"}],\"scattergeo\":[{\"type\":\"scattergeo\",\"marker\":{\"colorbar\":{\"outlinewidth\":0,\"ticks\":\"\"}}}],\"scatterpolar\":[{\"type\":\"scatterpolar\",\"marker\":{\"colorbar\":{\"outlinewidth\":0,\"ticks\":\"\"}}}],\"histogram\":[{\"marker\":{\"pattern\":{\"fillmode\":\"overlay\",\"size\":10,\"solidity\":0.2}},\"type\":\"histogram\"}],\"scattergl\":[{\"type\":\"scattergl\",\"marker\":{\"colorbar\":{\"outlinewidth\":0,\"ticks\":\"\"}}}],\"scatter3d\":[{\"type\":\"scatter3d\",\"line\":{\"colorbar\":{\"outlinewidth\":0,\"ticks\":\"\"}},\"marker\":{\"colorbar\":{\"outlinewidth\":0,\"ticks\":\"\"}}}],\"scattermapbox\":[{\"type\":\"scattermapbox\",\"marker\":{\"colorbar\":{\"outlinewidth\":0,\"ticks\":\"\"}}}],\"scatterternary\":[{\"type\":\"scatterternary\",\"marker\":{\"colorbar\":{\"outlinewidth\":0,\"ticks\":\"\"}}}],\"scattercarpet\":[{\"type\":\"scattercarpet\",\"marker\":{\"colorbar\":{\"outlinewidth\":0,\"ticks\":\"\"}}}],\"carpet\":[{\"aaxis\":{\"endlinecolor\":\"#2a3f5f\",\"gridcolor\":\"white\",\"linecolor\":\"white\",\"minorgridcolor\":\"white\",\"startlinecolor\":\"#2a3f5f\"},\"baxis\":{\"endlinecolor\":\"#2a3f5f\",\"gridcolor\":\"white\",\"linecolor\":\"white\",\"minorgridcolor\":\"white\",\"startlinecolor\":\"#2a3f5f\"},\"type\":\"carpet\"}],\"table\":[{\"cells\":{\"fill\":{\"color\":\"#EBF0F8\"},\"line\":{\"color\":\"white\"}},\"header\":{\"fill\":{\"color\":\"#C8D4E3\"},\"line\":{\"color\":\"white\"}},\"type\":\"table\"}],\"barpolar\":[{\"marker\":{\"line\":{\"color\":\"#E5ECF6\",\"width\":0.5},\"pattern\":{\"fillmode\":\"overlay\",\"size\":10,\"solidity\":0.2}},\"type\":\"barpolar\"}],\"pie\":[{\"automargin\":true,\"type\":\"pie\"}]},\"layout\":{\"autotypenumbers\":\"strict\",\"colorway\":[\"#636efa\",\"#EF553B\",\"#00cc96\",\"#ab63fa\",\"#FFA15A\",\"#19d3f3\",\"#FF6692\",\"#B6E880\",\"#FF97FF\",\"#FECB52\"],\"font\":{\"color\":\"#2a3f5f\"},\"hovermode\":\"closest\",\"hoverlabel\":{\"align\":\"left\"},\"paper_bgcolor\":\"white\",\"plot_bgcolor\":\"#E5ECF6\",\"polar\":{\"bgcolor\":\"#E5ECF6\",\"angularaxis\":{\"gridcolor\":\"white\",\"linecolor\":\"white\",\"ticks\":\"\"},\"radialaxis\":{\"gridcolor\":\"white\",\"linecolor\":\"white\",\"ticks\":\"\"}},\"ternary\":{\"bgcolor\":\"#E5ECF6\",\"aaxis\":{\"gridcolor\":\"white\",\"linecolor\":\"white\",\"ticks\":\"\"},\"baxis\":{\"gridcolor\":\"white\",\"linecolor\":\"white\",\"ticks\":\"\"},\"caxis\":{\"gridcolor\":\"white\",\"linecolor\":\"white\",\"ticks\":\"\"}},\"coloraxis\":{\"colorbar\":{\"outlinewidth\":0,\"ticks\":\"\"}},\"colorscale\":{\"sequential\":[[0.0,\"#0d0887\"],[0.1111111111111111,\"#46039f\"],[0.2222222222222222,\"#7201a8\"],[0.3333333333333333,\"#9c179e\"],[0.4444444444444444,\"#bd3786\"],[0.5555555555555556,\"#d8576b\"],[0.6666666666666666,\"#ed7953\"],[0.7777777777777778,\"#fb9f3a\"],[0.8888888888888888,\"#fdca26\"],[1.0,\"#f0f921\"]],\"sequentialminus\":[[0.0,\"#0d0887\"],[0.1111111111111111,\"#46039f\"],[0.2222222222222222,\"#7201a8\"],[0.3333333333333333,\"#9c179e\"],[0.4444444444444444,\"#bd3786\"],[0.5555555555555556,\"#d8576b\"],[0.6666666666666666,\"#ed7953\"],[0.7777777777777778,\"#fb9f3a\"],[0.8888888888888888,\"#fdca26\"],[1.0,\"#f0f921\"]],\"diverging\":[[0,\"#8e0152\"],[0.1,\"#c51b7d\"],[0.2,\"#de77ae\"],[0.3,\"#f1b6da\"],[0.4,\"#fde0ef\"],[0.5,\"#f7f7f7\"],[0.6,\"#e6f5d0\"],[0.7,\"#b8e186\"],[0.8,\"#7fbc41\"],[0.9,\"#4d9221\"],[1,\"#276419\"]]},\"xaxis\":{\"gridcolor\":\"white\",\"linecolor\":\"white\",\"ticks\":\"\",\"title\":{\"standoff\":15},\"zerolinecolor\":\"white\",\"automargin\":true,\"zerolinewidth\":2},\"yaxis\":{\"gridcolor\":\"white\",\"linecolor\":\"white\",\"ticks\":\"\",\"title\":{\"standoff\":15},\"zerolinecolor\":\"white\",\"automargin\":true,\"zerolinewidth\":2},\"scene\":{\"xaxis\":{\"backgroundcolor\":\"#E5ECF6\",\"gridcolor\":\"white\",\"linecolor\":\"white\",\"showbackground\":true,\"ticks\":\"\",\"zerolinecolor\":\"white\",\"gridwidth\":2},\"yaxis\":{\"backgroundcolor\":\"#E5ECF6\",\"gridcolor\":\"white\",\"linecolor\":\"white\",\"showbackground\":true,\"ticks\":\"\",\"zerolinecolor\":\"white\",\"gridwidth\":2},\"zaxis\":{\"backgroundcolor\":\"#E5ECF6\",\"gridcolor\":\"white\",\"linecolor\":\"white\",\"showbackground\":true,\"ticks\":\"\",\"zerolinecolor\":\"white\",\"gridwidth\":2}},\"shapedefaults\":{\"line\":{\"color\":\"#2a3f5f\"}},\"annotationdefaults\":{\"arrowcolor\":\"#2a3f5f\",\"arrowhead\":0,\"arrowwidth\":1},\"geo\":{\"bgcolor\":\"white\",\"landcolor\":\"#E5ECF6\",\"subunitcolor\":\"white\",\"showland\":true,\"showlakes\":true,\"lakecolor\":\"white\"},\"title\":{\"x\":0.05},\"mapbox\":{\"style\":\"light\"}}},\"xaxis\":{\"anchor\":\"y\",\"domain\":[0.0,1.0],\"title\":{\"text\":\"degree\"}},\"yaxis\":{\"anchor\":\"x\",\"domain\":[0.0,1.0],\"title\":{\"text\":\"count\"}},\"legend\":{\"title\":{\"text\":\"variable\"},\"tracegroupgap\":0},\"title\":{\"text\":\"Degree distribution\"},\"barmode\":\"relative\",\"bargap\":0.2},                        {\"responsive\": true}                    ).then(function(){\n",
              "                            \n",
              "var gd = document.getElementById('d33b42a5-d339-4434-a49f-47c5bcad7c11');\n",
              "var x = new MutationObserver(function (mutations, observer) {{\n",
              "        var display = window.getComputedStyle(gd).display;\n",
              "        if (!display || display === 'none') {{\n",
              "            console.log([gd, 'removed!']);\n",
              "            Plotly.purge(gd);\n",
              "            observer.disconnect();\n",
              "        }}\n",
              "}});\n",
              "\n",
              "// Listen for the removal of the full notebook cells\n",
              "var notebookContainer = gd.closest('#notebook-container');\n",
              "if (notebookContainer) {{\n",
              "    x.observe(notebookContainer, {childList: true});\n",
              "}}\n",
              "\n",
              "// Listen for the clearing of the current output cell\n",
              "var outputEl = gd.closest('.output');\n",
              "if (outputEl) {{\n",
              "    x.observe(outputEl, {childList: true});\n",
              "}}\n",
              "\n",
              "                        })                };                            </script>        </div>\n",
              "</body>\n",
              "</html>"
            ]
          },
          "metadata": {}
        }
      ],
      "source": [
        "# Average degree and degree distribution\n",
        "print('\\nAverage degree:', np.mean(sorted_metrics.Degree))\n",
        "print('\\n-----------------------')\n",
        "fig = px.histogram(sorted_metrics.Degree,\n",
        "                   nbins = len(sorted_metrics.Degree.unique()),\n",
        "                   title = 'Degree distribution')\n",
        "fig.update_layout(xaxis_title = 'degree', yaxis_title = 'count', bargap = 0.2)\n",
        "fig.update_traces(marker_color = 'mediumslateblue')\n",
        "fig.show()"
      ]
    },
    {
      "cell_type": "markdown",
      "source": [
        "**(Da rivedere/sistemare/aggiungere)**\n",
        "\n",
        "The degree distribution in the PPI network follows a **scale-free model**: some proteins acts like *hubs* with very high number of interactions, while the majority of proteins interact with only a few others."
      ],
      "metadata": {
        "id": "GdKPTZ1z5akj"
      }
    },
    {
      "cell_type": "markdown",
      "metadata": {
        "id": "pCZ9GAfSlsjZ"
      },
      "source": [
        "### 1.3) Network visualization"
      ]
    },
    {
      "cell_type": "code",
      "execution_count": null,
      "metadata": {
        "id": "LagFIvcQlt2t"
      },
      "outputs": [],
      "source": [
        "# Plot the PPI Largest Connected Component -> troppo grande?\n",
        "pos = nx.spring_layout(LCC_ppi, seed=42)\n",
        "\n",
        "plt.clf()\n",
        "plt.figure(figsize = (14, 10))\n",
        "nx.draw(LCC_ppi, pos, with_labels = True, node_color = 'violet', node_size = 1000,\n",
        "        edge_color = 'gray', linewidths = 1, font_size = 16)\n",
        "\n",
        "plt.title(\"PPI Largest connected Component Network\", fontweight = 'bold')\n",
        "plt.show()"
      ]
    },
    {
      "cell_type": "code",
      "execution_count": null,
      "metadata": {
        "id": "sVs22oralyUp"
      },
      "outputs": [],
      "source": [
        "# CAREFUL\n",
        "# Takes a while to plot\n",
        "plt.figure(figsize = (9, 7))\n",
        "nx.draw_spring(LCC_ppi, node_size = 30, arrows = False, node_color = 'mediumslateblue')\n",
        "plt.title('Protein-Protein Interaction Network')\n",
        "plt.show()"
      ]
    },
    {
      "cell_type": "markdown",
      "metadata": {
        "id": "4D1P24jHsxCl"
      },
      "source": [
        "${TO-DO:}$ it still takes too much to run. Try to run it in Colab with the GPU."
      ]
    },
    {
      "cell_type": "code",
      "source": [
        "# Visualize only a subgraph of the network with fewer nodes for faster rendering\n",
        "subgraph = LCC_ppi.subgraph(list(LCC_ppi.nodes)[:150])  # Take only a portion of the graph for visualization\n",
        "pos = nx.spring_layout(subgraph, seed = 42)\n",
        "nx.draw(subgraph, pos, with_labels = True, node_color ='lightblue', edge_color ='gray', node_size = 500, font_size = 8)\n",
        "\n",
        "plt.title(\"Protein-Protein Interaction Subgraph\")\n",
        "plt.show()"
      ],
      "metadata": {
        "colab": {
          "base_uri": "https://localhost:8080/",
          "height": 539
        },
        "id": "RJ9l1ktu4LAv",
        "outputId": "37cf21dc-4212-448c-bda2-50f923af21b8"
      },
      "execution_count": 38,
      "outputs": [
        {
          "output_type": "display_data",
          "data": {
            "text/plain": [
              "<Figure size 640x480 with 1 Axes>"
            ],
            "image/png": "[encoded data removed]"
          },
          "metadata": {}
        }
      ]
    },
    {
      "cell_type": "markdown",
      "metadata": {
        "id": "sYYpxVHelZxb"
      },
      "source": [
        "## 2) Community detection\n",
        "\n",
        "**(Da rivedere/sistemare/aggiungere)**\n",
        "\n",
        "We experimented with clustering algorithms for community detection based on the **disease module hypothesis**. This hypothesis assumes that topological communities overlap with functional and disease modules and that the disease phenotype can be described by their breakdown.\n",
        "\n",
        "In this context, we compared the outcomes of three algorithms that align with this assumption:\n",
        "\n",
        "- **Kwik Cluster (or Pivot) Algorithm**\n",
        "- **Markov Clustering (MCL) Algorithm**\n",
        "- **Louvain Algorithm**"
      ]
    },
    {
      "cell_type": "markdown",
      "source": [
        "### Clustering Coefficient and Modularity"
      ],
      "metadata": {
        "id": "_xn-XVctXqlJ"
      }
    },
    {
      "cell_type": "markdown",
      "source": [
        "**(Da rivedere/sistemare/aggiungere)**\n",
        "\n",
        "Proteins tend to form groups or modules, similar to how people in a social network form communities. Each module represents a set of related biological processes, as proteins involved in similar metabolic pathways are strongly interconnected."
      ],
      "metadata": {
        "id": "GJY28Swz8D5l"
      }
    },
    {
      "cell_type": "code",
      "source": [
        "clustering_coeff = nx.average_clustering(LCC_ppi)\n",
        "print(f\"PPI Network Clustering Coeffcient: {clustering_coeff}\")"
      ],
      "metadata": {
        "colab": {
          "base_uri": "https://localhost:8080/"
        },
        "id": "9i3g3U7n6BFK",
        "outputId": "50d9b3df-b5c9-4b20-ef35-c3fefefd6550"
      },
      "execution_count": 36,
      "outputs": [
        {
          "output_type": "stream",
          "name": "stdout",
          "text": [
            "PPI Network Clustering Coeffcient: 0.05285528299003698\n"
          ]
        }
      ]
    },
    {
      "cell_type": "markdown",
      "source": [
        "In protein-protein interaction (PPI) networks, it is common to observe relatively low global clustering coefficients. This is because protein interactions are often sparse, and not all proteins directly interact with each other."
      ],
      "metadata": {
        "id": "kIShp6DB6Gka"
      }
    },
    {
      "cell_type": "markdown",
      "metadata": {
        "id": "KzbtNx7Doh6a"
      },
      "source": [
        "### 2.1) KWIKCLUSTER (or PIVOT) Algorithm"
      ]
    },
    {
      "cell_type": "code",
      "execution_count": null,
      "metadata": {
        "id": "FhR5678HlaBl"
      },
      "outputs": [],
      "source": []
    },
    {
      "cell_type": "markdown",
      "metadata": {
        "id": "et2KpRjjoows"
      },
      "source": [
        "### 2.2) Markov Cluster Algorithm"
      ]
    },
    {
      "cell_type": "markdown",
      "source": [
        "The Markov Clustering (MCL) algorithm detects clusters by simulating **random flow** through a graph.  It essentially performs matrix multiplication on the adjacency matrix of the graph to propagate the flow between nodes."
      ],
      "metadata": {
        "id": "ItWzLkvzbH8d"
      }
    },
    {
      "cell_type": "code",
      "source": [
        "# Convert the LCC_ppi network to a suitable format for MCL algorithm\n",
        "matrix = nx.to_scipy_sparse_array(LCC_ppi)\n",
        "matrix = csr_matrix(matrix)\n",
        "matrix.shape"
      ],
      "metadata": {
        "colab": {
          "base_uri": "https://localhost:8080/"
        },
        "id": "tELNSKCxVqzB",
        "outputId": "b15309bb-992d-40f2-85bb-dc1b16157dc5"
      },
      "execution_count": 214,
      "outputs": [
        {
          "output_type": "execute_result",
          "data": {
            "text/plain": [
              "(8086, 8086)"
            ]
          },
          "metadata": {},
          "execution_count": 214
        }
      ]
    },
    {
      "cell_type": "markdown",
      "source": [
        "\n",
        "The **inflation parameter** controls the granularity of clustering:\n",
        "\n",
        "- Inflation > 1: increases the tendency to form smaller and more distinct clusters, resulting in a greater number of clusters.\n",
        "- Inflation < 1: increases the tendency to form larger and more general clusters, resulsing in fewer clusters as the algorithm becomes less aggressive in clustering."
      ],
      "metadata": {
        "id": "fQU5q-xlaw08"
      }
    },
    {
      "cell_type": "code",
      "source": [
        "# Run the MCL algorithm with inflaction = 1.8\n",
        "result = mc.run_mcl(matrix, inflation = 1.8)\n",
        "clusters = mc.get_clusters(result)"
      ],
      "metadata": {
        "id": "JRu9SfxbQ_SC"
      },
      "execution_count": 245,
      "outputs": []
    },
    {
      "cell_type": "code",
      "source": [
        "#select communities with a number of nodes between 100 and 1000\n",
        "MCL_clusters_filtered = [cluster for cluster in clusters if 300 <= len(cluster) <= 1000]\n",
        "print(\"Number of filtered MCL clusters: \", len(MCL_clusters_filtered))"
      ],
      "metadata": {
        "colab": {
          "base_uri": "https://localhost:8080/"
        },
        "id": "s0psZJbbcHG5",
        "outputId": "7234d8cf-63f2-4a7a-9ce2-cb56762cff8d"
      },
      "execution_count": 246,
      "outputs": [
        {
          "output_type": "stream",
          "name": "stdout",
          "text": [
            "Number of filtered MCL clusters:  5\n"
          ]
        }
      ]
    },
    {
      "cell_type": "code",
      "source": [
        "for i, cluster in enumerate(MCL_clusters_filtered):\n",
        "  print(f\"Number of proteins in MCL Cluster {i + 1}: {len(cluster)}\")"
      ],
      "metadata": {
        "colab": {
          "base_uri": "https://localhost:8080/"
        },
        "id": "kMsvq2aURGCr",
        "outputId": "541aac75-7569-4497-cd79-7b5c2b37cc89"
      },
      "execution_count": 247,
      "outputs": [
        {
          "output_type": "stream",
          "name": "stdout",
          "text": [
            "Number of proteins in MCL Cluster 1: 569\n",
            "Number of proteins in MCL Cluster 2: 336\n",
            "Number of proteins in MCL Cluster 3: 557\n",
            "Number of proteins in MCL Cluster 4: 354\n",
            "Number of proteins in MCL Cluster 5: 318\n"
          ]
        }
      ]
    },
    {
      "cell_type": "code",
      "source": [
        "nodes = np.array(LCC_ppi.nodes())\n",
        "MCL_clusters_filtered_2 = []\n",
        "for cluster in MCL_clusters_filtered:\n",
        "  cluster_names = [nodes[index] for index in cluster]\n",
        "  MCL_clusters_filtered_2.append(cluster_names)"
      ],
      "metadata": {
        "id": "0W7yuzCKlRcB"
      },
      "execution_count": 248,
      "outputs": []
    },
    {
      "cell_type": "code",
      "source": [
        "# positions = nx.spring_layout(LCC_ppi)\n",
        "# mc.draw_graph(matrix, clusters, pos = positions, node_size = 50, with_labels = False, edge_color = \"silver\")"
      ],
      "metadata": {
        "id": "4JiGsdzuZAOL"
      },
      "execution_count": 249,
      "outputs": []
    },
    {
      "cell_type": "markdown",
      "metadata": {
        "id": "fJJVsOCHosR2"
      },
      "source": [
        "### 2.3) Louvain Algorithm"
      ]
    },
    {
      "cell_type": "markdown",
      "source": [
        "Louvain algorithm optimizes modularity by iteratively merging nodes into communities to maximize the **modularity score**.\n",
        "\n",
        "The **resolution parameter** adjusts the scale of the communities detected:\n",
        "\n",
        "- By increasing the sensitivity to modularity variations, the algorithm tends to identify smaller and more numerous communities.\n",
        "\n",
        "- By decreasing the sensitivity to modularity variations, the algorithm tends to identify larger and fewer communities."
      ],
      "metadata": {
        "id": "cYPnKWyccEr7"
      }
    },
    {
      "cell_type": "code",
      "execution_count": 263,
      "metadata": {
        "id": "DpDLiiJbovUq"
      },
      "outputs": [],
      "source": [
        "# Run the Louvain algorithm with gamma = 1.3\n",
        "louvain_communities = nx.community.louvain_communities(LCC_ppi, weight = 'weight', resolution = 1, seed = 42)"
      ]
    },
    {
      "cell_type": "code",
      "source": [
        "#select communities with a number of nodes between 300 and 1000 ?\n",
        "louvain_communities_filtered = [community for community in louvain_communities if 300 <= len(community) <= 1000]\n",
        "print(\"Number of filtered Louvain communities: \", len(louvain_communities_filtered))"
      ],
      "metadata": {
        "colab": {
          "base_uri": "https://localhost:8080/"
        },
        "id": "BltR9AyjgwlN",
        "outputId": "654c9651-a9b4-45c1-d396-a54dbd2f21b3"
      },
      "execution_count": 264,
      "outputs": [
        {
          "output_type": "stream",
          "name": "stdout",
          "text": [
            "Number of filtered Louvain communities:  5\n"
          ]
        }
      ]
    },
    {
      "cell_type": "code",
      "execution_count": 265,
      "metadata": {
        "colab": {
          "base_uri": "https://localhost:8080/"
        },
        "id": "Ipwef_X-p4MO",
        "outputId": "0c081a72-d58b-47ce-c913-cf91ad03c516"
      },
      "outputs": [
        {
          "output_type": "stream",
          "name": "stdout",
          "text": [
            "Number of proteins in Louvain Community 1: 512\n",
            "Number of proteins in Louvain Community 2: 460\n",
            "Number of proteins in Louvain Community 3: 656\n",
            "Number of proteins in Louvain Community 4: 523\n",
            "Number of proteins in Louvain Community 5: 845\n"
          ]
        }
      ],
      "source": [
        "for i, community in enumerate(louvain_communities_filtered):\n",
        "  print(f\"Number of proteins in Louvain Community {i + 1}: {len(community)}\")"
      ]
    },
    {
      "cell_type": "markdown",
      "source": [
        "### Comparison"
      ],
      "metadata": {
        "id": "nZyIoQOpld1k"
      }
    },
    {
      "cell_type": "markdown",
      "source": [
        "**Rendendo i clusters per entrambi i due algoritmi molto specifici, riusciamo ad ottenere una sovrapposizione più \"elevata\" tra i cluster formati dai due algoritmi. Rimane da capire se va bene così o provare altre opzioni**"
      ],
      "metadata": {
        "id": "z5vUw2y7lysi"
      }
    },
    {
      "cell_type": "code",
      "source": [
        "set(MCL_clusters_filtered_2[0]).intersection(louvain_communities_filtered[0])"
      ],
      "metadata": {
        "colab": {
          "base_uri": "https://localhost:8080/"
        },
        "id": "8eWBCwn9ls3e",
        "outputId": "90f76f8d-8416-4394-fa36-3b830517bbae"
      },
      "execution_count": 267,
      "outputs": [
        {
          "output_type": "execute_result",
          "data": {
            "text/plain": [
              "{'AES',\n",
              " 'AGO3',\n",
              " 'CCAR1',\n",
              " 'CCDC6',\n",
              " 'CDC42EP3',\n",
              " 'CDC5L',\n",
              " 'CDK5RAP2',\n",
              " 'CGN',\n",
              " 'CTR9',\n",
              " 'DHX16',\n",
              " 'EPS15L1',\n",
              " 'EYA3',\n",
              " 'FGFR1OP',\n",
              " 'FN3KRP',\n",
              " 'FRG1',\n",
              " 'GABPA',\n",
              " 'HGH1',\n",
              " 'IRS2',\n",
              " 'KLF16',\n",
              " 'LPIN1',\n",
              " 'LSM14A',\n",
              " 'MAP2K4',\n",
              " 'MED8',\n",
              " 'METAP2',\n",
              " 'MRRF',\n",
              " 'MVB12A',\n",
              " 'NOL7',\n",
              " 'NSFL1C',\n",
              " 'NSRP1',\n",
              " 'PDE4DIP',\n",
              " 'PRPF4B',\n",
              " 'PSRC1',\n",
              " 'SRSF11',\n",
              " 'THOC2',\n",
              " 'THOC3',\n",
              " 'TLE1',\n",
              " 'WIPF2'}"
            ]
          },
          "metadata": {},
          "execution_count": 267
        }
      ]
    },
    {
      "cell_type": "code",
      "source": [
        "print(len(set(MCL_clusters_filtered_2[4]).intersection(louvain_communities_filtered[1])))\n",
        "print(len(set(MCL_clusters_filtered_2[2]).intersection(louvain_communities_filtered[2])))\n",
        "print(len(set(MCL_clusters_filtered_2[1]).intersection(louvain_communities_filtered[3])))\n",
        "print(len(set(MCL_clusters_filtered_2[3]).intersection(louvain_communities_filtered[4])))"
      ],
      "metadata": {
        "colab": {
          "base_uri": "https://localhost:8080/"
        },
        "id": "JERx_QYYnFzm",
        "outputId": "25aff9ba-01c9-45fd-8a5c-20f7704bb5eb"
      },
      "execution_count": 293,
      "outputs": [
        {
          "output_type": "stream",
          "name": "stdout",
          "text": [
            "12\n",
            "338\n",
            "192\n",
            "12\n"
          ]
        }
      ]
    },
    {
      "cell_type": "markdown",
      "metadata": {
        "id": "CDCT5m4rlap-"
      },
      "source": [
        "## 3) Link Prediction with Graph Neural Networks (GNNs)"
      ]
    },
    {
      "cell_type": "code",
      "execution_count": null,
      "metadata": {
        "id": "W3t4ww-nldCz"
      },
      "outputs": [],
      "source": []
    },
    {
      "cell_type": "markdown",
      "metadata": {
        "id": "cVrj68zuldhB"
      },
      "source": [
        " ### 3.1) Exploring different models to perform the prediction task\n",
        "\n",
        " GAT, GCN, etc.\n",
        "\n",
        " Transformers?"
      ]
    },
    {
      "cell_type": "code",
      "execution_count": null,
      "metadata": {
        "id": "5sbp4PM0lfGI"
      },
      "outputs": [],
      "source": []
    },
    {
      "cell_type": "markdown",
      "metadata": {
        "id": "ER8B0MdWlhgN"
      },
      "source": [
        "### 3.2) Evaluation of results\n",
        "\n",
        "(using metrics such as confusion matrix, accuracy, precision, recall, F1 score, hits@k, etc.)"
      ]
    },
    {
      "cell_type": "code",
      "execution_count": null,
      "metadata": {
        "id": "yfGQUkZKlhrN"
      },
      "outputs": [],
      "source": []
    },
    {
      "cell_type": "markdown",
      "metadata": {
        "id": "tKm8Ivarljd8"
      },
      "source": [
        "## [Optional: Influence and Homophily?]\n",
        "\n",
        "For any experiment in this area, we can take into consideration the Organism Interactor name as the \"class\" to which the proteins belong. Remember that in this dataset every row represent an interaction between two proteins, and we have both names of their organisms. We might need to build a new graph containing this information (the one we use for community detection just contains the protein names)."
      ]
    },
    {
      "cell_type": "code",
      "execution_count": null,
      "metadata": {
        "id": "9ZCDdowLljqv"
      },
      "outputs": [],
      "source": []
    },
    {
      "cell_type": "markdown",
      "metadata": {
        "id": "DZfD5MIIll4V"
      },
      "source": [
        "## 4) Conclusions"
      ]
    },
    {
      "cell_type": "code",
      "execution_count": null,
      "metadata": {
        "id": "ST6odSIulmCe"
      },
      "outputs": [],
      "source": []
    }
  ],
  "metadata": {
    "colab": {
      "provenance": [],
      "toc_visible": true
    },
    "kernelspec": {
      "display_name": "Python 3",
      "name": "python3"
    },
    "language_info": {
      "codemirror_mode": {
        "name": "ipython",
        "version": 3
      },
      "file_extension": ".py",
      "mimetype": "text/x-python",
      "name": "python",
      "nbconvert_exporter": "python",
      "pygments_lexer": "ipython3",
      "version": "3.9.15"
    }
  },
  "nbformat": 4,
  "nbformat_minor": 0
}